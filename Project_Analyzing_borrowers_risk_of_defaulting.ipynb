{
 "cells": [
  {
   "cell_type": "markdown",
   "metadata": {},
   "source": [
    "# Analyzing borrowers’ risk of defaulting\n",
    "\n",
    "## **Introduction** <a id='intro'></a>\n",
    "My project is a report for a bank’s loan division. We need to find out if a customer’s marital status, income level, loan purposes, and the number of children have an impact on whether they will default on a loan. The bank already has some data on customers’ creditworthiness.\n",
    "\n",
    "That report will be considered when building the **credit score** of a potential customer. The **credit score** is used to evaluate the ability of a potential borrower to repay their loan.\n",
    "\n",
    "\n",
    "### Goal: \n",
    "We should answer these questions:\n",
    "- Is there a connection between having kids and repaying a loan on time?\n",
    "- Is there a connection between marital status and repaying a loan on time?\n",
    "- Is there a connection between income level and repaying a loan on time?\n",
    "- How do different loan purposes affect on-time loan repayment?\n",
    "\n",
    "### Stages \n",
    "Data on customers behavior is stored in the file `/datasets/credit_scoring_eng.csv`. There is no information about the quality of the data, so we need to explore it before testing the hypotheses. \n",
    "\n",
    "First, evaluate the quality of the data and see whether its issues are significant. Then, during data preprocessing, try to account for the most critical problems.\n",
    " \n",
    "Project consist of four stages:\n",
    " 1. Data exploration\n",
    " 2. Data transformation\n",
    " 3. Restoring missing values\n",
    " 4. Categorization of data\n",
    " 5. Checking the Hypotheses\n",
    "\n",
    " \n",
    "[Back to Contents](#back)"
   ]
  },
  {
   "cell_type": "markdown",
   "metadata": {},
   "source": [
    "## **Open the data file and have a look at the general information.**\n",
    "\n",
    "Import `pandas`,read the file `credit_scoring_eng.csv` from the `/datasets/` folder and save it in the `df` variable:"
   ]
  },
  {
   "cell_type": "code",
   "execution_count": 133,
   "metadata": {},
   "outputs": [
    {
     "data": {
      "text/html": [
       "<div>\n",
       "<style scoped>\n",
       "    .dataframe tbody tr th:only-of-type {\n",
       "        vertical-align: middle;\n",
       "    }\n",
       "\n",
       "    .dataframe tbody tr th {\n",
       "        vertical-align: top;\n",
       "    }\n",
       "\n",
       "    .dataframe thead th {\n",
       "        text-align: right;\n",
       "    }\n",
       "</style>\n",
       "<table border=\"1\" class=\"dataframe\">\n",
       "  <thead>\n",
       "    <tr style=\"text-align: right;\">\n",
       "      <th></th>\n",
       "      <th>children</th>\n",
       "      <th>days_employed</th>\n",
       "      <th>dob_years</th>\n",
       "      <th>education_id</th>\n",
       "      <th>family_status_id</th>\n",
       "      <th>debt</th>\n",
       "      <th>total_income</th>\n",
       "    </tr>\n",
       "  </thead>\n",
       "  <tbody>\n",
       "    <tr>\n",
       "      <td>count</td>\n",
       "      <td>21525.000000</td>\n",
       "      <td>19351.000000</td>\n",
       "      <td>21525.000000</td>\n",
       "      <td>21525.000000</td>\n",
       "      <td>21525.000000</td>\n",
       "      <td>21525.000000</td>\n",
       "      <td>19351.000000</td>\n",
       "    </tr>\n",
       "    <tr>\n",
       "      <td>mean</td>\n",
       "      <td>0.538908</td>\n",
       "      <td>63046.497661</td>\n",
       "      <td>43.293380</td>\n",
       "      <td>0.817236</td>\n",
       "      <td>0.972544</td>\n",
       "      <td>0.080883</td>\n",
       "      <td>26787.568355</td>\n",
       "    </tr>\n",
       "    <tr>\n",
       "      <td>std</td>\n",
       "      <td>1.381587</td>\n",
       "      <td>140827.311974</td>\n",
       "      <td>12.574584</td>\n",
       "      <td>0.548138</td>\n",
       "      <td>1.420324</td>\n",
       "      <td>0.272661</td>\n",
       "      <td>16475.450632</td>\n",
       "    </tr>\n",
       "    <tr>\n",
       "      <td>min</td>\n",
       "      <td>-1.000000</td>\n",
       "      <td>-18388.949901</td>\n",
       "      <td>0.000000</td>\n",
       "      <td>0.000000</td>\n",
       "      <td>0.000000</td>\n",
       "      <td>0.000000</td>\n",
       "      <td>3306.762000</td>\n",
       "    </tr>\n",
       "    <tr>\n",
       "      <td>25%</td>\n",
       "      <td>0.000000</td>\n",
       "      <td>-2747.423625</td>\n",
       "      <td>33.000000</td>\n",
       "      <td>1.000000</td>\n",
       "      <td>0.000000</td>\n",
       "      <td>0.000000</td>\n",
       "      <td>16488.504500</td>\n",
       "    </tr>\n",
       "    <tr>\n",
       "      <td>50%</td>\n",
       "      <td>0.000000</td>\n",
       "      <td>-1203.369529</td>\n",
       "      <td>42.000000</td>\n",
       "      <td>1.000000</td>\n",
       "      <td>0.000000</td>\n",
       "      <td>0.000000</td>\n",
       "      <td>23202.870000</td>\n",
       "    </tr>\n",
       "    <tr>\n",
       "      <td>75%</td>\n",
       "      <td>1.000000</td>\n",
       "      <td>-291.095954</td>\n",
       "      <td>53.000000</td>\n",
       "      <td>1.000000</td>\n",
       "      <td>1.000000</td>\n",
       "      <td>0.000000</td>\n",
       "      <td>32549.611000</td>\n",
       "    </tr>\n",
       "    <tr>\n",
       "      <td>max</td>\n",
       "      <td>20.000000</td>\n",
       "      <td>401755.400475</td>\n",
       "      <td>75.000000</td>\n",
       "      <td>4.000000</td>\n",
       "      <td>4.000000</td>\n",
       "      <td>1.000000</td>\n",
       "      <td>362496.645000</td>\n",
       "    </tr>\n",
       "  </tbody>\n",
       "</table>\n",
       "</div>"
      ],
      "text/plain": [
       "           children  days_employed     dob_years  education_id  \\\n",
       "count  21525.000000   19351.000000  21525.000000  21525.000000   \n",
       "mean       0.538908   63046.497661     43.293380      0.817236   \n",
       "std        1.381587  140827.311974     12.574584      0.548138   \n",
       "min       -1.000000  -18388.949901      0.000000      0.000000   \n",
       "25%        0.000000   -2747.423625     33.000000      1.000000   \n",
       "50%        0.000000   -1203.369529     42.000000      1.000000   \n",
       "75%        1.000000    -291.095954     53.000000      1.000000   \n",
       "max       20.000000  401755.400475     75.000000      4.000000   \n",
       "\n",
       "       family_status_id          debt   total_income  \n",
       "count      21525.000000  21525.000000   19351.000000  \n",
       "mean           0.972544      0.080883   26787.568355  \n",
       "std            1.420324      0.272661   16475.450632  \n",
       "min            0.000000      0.000000    3306.762000  \n",
       "25%            0.000000      0.000000   16488.504500  \n",
       "50%            0.000000      0.000000   23202.870000  \n",
       "75%            1.000000      0.000000   32549.611000  \n",
       "max            4.000000      1.000000  362496.645000  "
      ]
     },
     "execution_count": 133,
     "metadata": {},
     "output_type": "execute_result"
    }
   ],
   "source": [
    "# Loading all the libraries\n",
    "import pandas as pd\n",
    "import numpy as np\n",
    "from nltk.stem import SnowballStemmer\n",
    "\n",
    "# Load the data\n",
    "df = pd.read_csv('/datasets/credit_scoring_eng.csv')\n",
    "df.describe()"
   ]
  },
  {
   "cell_type": "markdown",
   "metadata": {},
   "source": [
    "## **Data exploration**\n",
    "\n",
    "**Description of the data**\n",
    "- `children` - the number of children in the family\n",
    "- `days_employed` - work experience in days\n",
    "- `dob_years` - client's age in years\n",
    "- `education` - client's education\n",
    "- `education_id` - education identifier\n",
    "- `family_status` - marital status\n",
    "- `family_status_id` - marital status identifier\n",
    "- `gender` - gender of the client\n",
    "- `income_type` - type of employment\n",
    "- `debt` - was there any debt on loan repayment\n",
    "- `total_income` - monthly income\n",
    "- `purpose` - the purpose of obtaining a loan\n",
    "\n",
    "\n",
    "Print the dataset size and first 15 rows:"
   ]
  },
  {
   "cell_type": "code",
   "execution_count": 134,
   "metadata": {},
   "outputs": [
    {
     "data": {
      "text/plain": [
       "(21525, 12)"
      ]
     },
     "execution_count": 134,
     "metadata": {},
     "output_type": "execute_result"
    }
   ],
   "source": [
    "# Let's see how many rows and columns our dataset has\n",
    "df.shape\n"
   ]
  },
  {
   "cell_type": "code",
   "execution_count": 135,
   "metadata": {
    "scrolled": false
   },
   "outputs": [
    {
     "data": {
      "text/html": [
       "<div>\n",
       "<style scoped>\n",
       "    .dataframe tbody tr th:only-of-type {\n",
       "        vertical-align: middle;\n",
       "    }\n",
       "\n",
       "    .dataframe tbody tr th {\n",
       "        vertical-align: top;\n",
       "    }\n",
       "\n",
       "    .dataframe thead th {\n",
       "        text-align: right;\n",
       "    }\n",
       "</style>\n",
       "<table border=\"1\" class=\"dataframe\">\n",
       "  <thead>\n",
       "    <tr style=\"text-align: right;\">\n",
       "      <th></th>\n",
       "      <th>children</th>\n",
       "      <th>days_employed</th>\n",
       "      <th>dob_years</th>\n",
       "      <th>education</th>\n",
       "      <th>education_id</th>\n",
       "      <th>family_status</th>\n",
       "      <th>family_status_id</th>\n",
       "      <th>gender</th>\n",
       "      <th>income_type</th>\n",
       "      <th>debt</th>\n",
       "      <th>total_income</th>\n",
       "      <th>purpose</th>\n",
       "    </tr>\n",
       "  </thead>\n",
       "  <tbody>\n",
       "    <tr>\n",
       "      <td>0</td>\n",
       "      <td>1</td>\n",
       "      <td>-8437.673028</td>\n",
       "      <td>42</td>\n",
       "      <td>bachelor's degree</td>\n",
       "      <td>0</td>\n",
       "      <td>married</td>\n",
       "      <td>0</td>\n",
       "      <td>F</td>\n",
       "      <td>employee</td>\n",
       "      <td>0</td>\n",
       "      <td>40620.102</td>\n",
       "      <td>purchase of the house</td>\n",
       "    </tr>\n",
       "    <tr>\n",
       "      <td>1</td>\n",
       "      <td>1</td>\n",
       "      <td>-4024.803754</td>\n",
       "      <td>36</td>\n",
       "      <td>secondary education</td>\n",
       "      <td>1</td>\n",
       "      <td>married</td>\n",
       "      <td>0</td>\n",
       "      <td>F</td>\n",
       "      <td>employee</td>\n",
       "      <td>0</td>\n",
       "      <td>17932.802</td>\n",
       "      <td>car purchase</td>\n",
       "    </tr>\n",
       "    <tr>\n",
       "      <td>2</td>\n",
       "      <td>0</td>\n",
       "      <td>-5623.422610</td>\n",
       "      <td>33</td>\n",
       "      <td>Secondary Education</td>\n",
       "      <td>1</td>\n",
       "      <td>married</td>\n",
       "      <td>0</td>\n",
       "      <td>M</td>\n",
       "      <td>employee</td>\n",
       "      <td>0</td>\n",
       "      <td>23341.752</td>\n",
       "      <td>purchase of the house</td>\n",
       "    </tr>\n",
       "    <tr>\n",
       "      <td>3</td>\n",
       "      <td>3</td>\n",
       "      <td>-4124.747207</td>\n",
       "      <td>32</td>\n",
       "      <td>secondary education</td>\n",
       "      <td>1</td>\n",
       "      <td>married</td>\n",
       "      <td>0</td>\n",
       "      <td>M</td>\n",
       "      <td>employee</td>\n",
       "      <td>0</td>\n",
       "      <td>42820.568</td>\n",
       "      <td>supplementary education</td>\n",
       "    </tr>\n",
       "    <tr>\n",
       "      <td>4</td>\n",
       "      <td>0</td>\n",
       "      <td>340266.072047</td>\n",
       "      <td>53</td>\n",
       "      <td>secondary education</td>\n",
       "      <td>1</td>\n",
       "      <td>civil partnership</td>\n",
       "      <td>1</td>\n",
       "      <td>F</td>\n",
       "      <td>retiree</td>\n",
       "      <td>0</td>\n",
       "      <td>25378.572</td>\n",
       "      <td>to have a wedding</td>\n",
       "    </tr>\n",
       "    <tr>\n",
       "      <td>5</td>\n",
       "      <td>0</td>\n",
       "      <td>-926.185831</td>\n",
       "      <td>27</td>\n",
       "      <td>bachelor's degree</td>\n",
       "      <td>0</td>\n",
       "      <td>civil partnership</td>\n",
       "      <td>1</td>\n",
       "      <td>M</td>\n",
       "      <td>business</td>\n",
       "      <td>0</td>\n",
       "      <td>40922.170</td>\n",
       "      <td>purchase of the house</td>\n",
       "    </tr>\n",
       "    <tr>\n",
       "      <td>6</td>\n",
       "      <td>0</td>\n",
       "      <td>-2879.202052</td>\n",
       "      <td>43</td>\n",
       "      <td>bachelor's degree</td>\n",
       "      <td>0</td>\n",
       "      <td>married</td>\n",
       "      <td>0</td>\n",
       "      <td>F</td>\n",
       "      <td>business</td>\n",
       "      <td>0</td>\n",
       "      <td>38484.156</td>\n",
       "      <td>housing transactions</td>\n",
       "    </tr>\n",
       "    <tr>\n",
       "      <td>7</td>\n",
       "      <td>0</td>\n",
       "      <td>-152.779569</td>\n",
       "      <td>50</td>\n",
       "      <td>SECONDARY EDUCATION</td>\n",
       "      <td>1</td>\n",
       "      <td>married</td>\n",
       "      <td>0</td>\n",
       "      <td>M</td>\n",
       "      <td>employee</td>\n",
       "      <td>0</td>\n",
       "      <td>21731.829</td>\n",
       "      <td>education</td>\n",
       "    </tr>\n",
       "    <tr>\n",
       "      <td>8</td>\n",
       "      <td>2</td>\n",
       "      <td>-6929.865299</td>\n",
       "      <td>35</td>\n",
       "      <td>BACHELOR'S DEGREE</td>\n",
       "      <td>0</td>\n",
       "      <td>civil partnership</td>\n",
       "      <td>1</td>\n",
       "      <td>F</td>\n",
       "      <td>employee</td>\n",
       "      <td>0</td>\n",
       "      <td>15337.093</td>\n",
       "      <td>having a wedding</td>\n",
       "    </tr>\n",
       "    <tr>\n",
       "      <td>9</td>\n",
       "      <td>0</td>\n",
       "      <td>-2188.756445</td>\n",
       "      <td>41</td>\n",
       "      <td>secondary education</td>\n",
       "      <td>1</td>\n",
       "      <td>married</td>\n",
       "      <td>0</td>\n",
       "      <td>M</td>\n",
       "      <td>employee</td>\n",
       "      <td>0</td>\n",
       "      <td>23108.150</td>\n",
       "      <td>purchase of the house for my family</td>\n",
       "    </tr>\n",
       "    <tr>\n",
       "      <td>10</td>\n",
       "      <td>2</td>\n",
       "      <td>-4171.483647</td>\n",
       "      <td>36</td>\n",
       "      <td>bachelor's degree</td>\n",
       "      <td>0</td>\n",
       "      <td>married</td>\n",
       "      <td>0</td>\n",
       "      <td>M</td>\n",
       "      <td>business</td>\n",
       "      <td>0</td>\n",
       "      <td>18230.959</td>\n",
       "      <td>buy real estate</td>\n",
       "    </tr>\n",
       "    <tr>\n",
       "      <td>11</td>\n",
       "      <td>0</td>\n",
       "      <td>-792.701887</td>\n",
       "      <td>40</td>\n",
       "      <td>secondary education</td>\n",
       "      <td>1</td>\n",
       "      <td>married</td>\n",
       "      <td>0</td>\n",
       "      <td>F</td>\n",
       "      <td>employee</td>\n",
       "      <td>0</td>\n",
       "      <td>12331.077</td>\n",
       "      <td>buy commercial real estate</td>\n",
       "    </tr>\n",
       "    <tr>\n",
       "      <td>12</td>\n",
       "      <td>0</td>\n",
       "      <td>NaN</td>\n",
       "      <td>65</td>\n",
       "      <td>secondary education</td>\n",
       "      <td>1</td>\n",
       "      <td>civil partnership</td>\n",
       "      <td>1</td>\n",
       "      <td>M</td>\n",
       "      <td>retiree</td>\n",
       "      <td>0</td>\n",
       "      <td>NaN</td>\n",
       "      <td>to have a wedding</td>\n",
       "    </tr>\n",
       "    <tr>\n",
       "      <td>13</td>\n",
       "      <td>0</td>\n",
       "      <td>-1846.641941</td>\n",
       "      <td>54</td>\n",
       "      <td>some college</td>\n",
       "      <td>2</td>\n",
       "      <td>married</td>\n",
       "      <td>0</td>\n",
       "      <td>F</td>\n",
       "      <td>employee</td>\n",
       "      <td>0</td>\n",
       "      <td>20873.317</td>\n",
       "      <td>car purchase</td>\n",
       "    </tr>\n",
       "    <tr>\n",
       "      <td>14</td>\n",
       "      <td>0</td>\n",
       "      <td>-1844.956182</td>\n",
       "      <td>56</td>\n",
       "      <td>bachelor's degree</td>\n",
       "      <td>0</td>\n",
       "      <td>civil partnership</td>\n",
       "      <td>1</td>\n",
       "      <td>F</td>\n",
       "      <td>business</td>\n",
       "      <td>1</td>\n",
       "      <td>26420.466</td>\n",
       "      <td>buy residential real estate</td>\n",
       "    </tr>\n",
       "  </tbody>\n",
       "</table>\n",
       "</div>"
      ],
      "text/plain": [
       "    children  days_employed  dob_years            education  education_id  \\\n",
       "0          1   -8437.673028         42    bachelor's degree             0   \n",
       "1          1   -4024.803754         36  secondary education             1   \n",
       "2          0   -5623.422610         33  Secondary Education             1   \n",
       "3          3   -4124.747207         32  secondary education             1   \n",
       "4          0  340266.072047         53  secondary education             1   \n",
       "5          0    -926.185831         27    bachelor's degree             0   \n",
       "6          0   -2879.202052         43    bachelor's degree             0   \n",
       "7          0    -152.779569         50  SECONDARY EDUCATION             1   \n",
       "8          2   -6929.865299         35    BACHELOR'S DEGREE             0   \n",
       "9          0   -2188.756445         41  secondary education             1   \n",
       "10         2   -4171.483647         36    bachelor's degree             0   \n",
       "11         0    -792.701887         40  secondary education             1   \n",
       "12         0            NaN         65  secondary education             1   \n",
       "13         0   -1846.641941         54         some college             2   \n",
       "14         0   -1844.956182         56    bachelor's degree             0   \n",
       "\n",
       "        family_status  family_status_id gender income_type  debt  \\\n",
       "0             married                 0      F    employee     0   \n",
       "1             married                 0      F    employee     0   \n",
       "2             married                 0      M    employee     0   \n",
       "3             married                 0      M    employee     0   \n",
       "4   civil partnership                 1      F     retiree     0   \n",
       "5   civil partnership                 1      M    business     0   \n",
       "6             married                 0      F    business     0   \n",
       "7             married                 0      M    employee     0   \n",
       "8   civil partnership                 1      F    employee     0   \n",
       "9             married                 0      M    employee     0   \n",
       "10            married                 0      M    business     0   \n",
       "11            married                 0      F    employee     0   \n",
       "12  civil partnership                 1      M     retiree     0   \n",
       "13            married                 0      F    employee     0   \n",
       "14  civil partnership                 1      F    business     1   \n",
       "\n",
       "    total_income                              purpose  \n",
       "0      40620.102                purchase of the house  \n",
       "1      17932.802                         car purchase  \n",
       "2      23341.752                purchase of the house  \n",
       "3      42820.568              supplementary education  \n",
       "4      25378.572                    to have a wedding  \n",
       "5      40922.170                purchase of the house  \n",
       "6      38484.156                 housing transactions  \n",
       "7      21731.829                            education  \n",
       "8      15337.093                     having a wedding  \n",
       "9      23108.150  purchase of the house for my family  \n",
       "10     18230.959                      buy real estate  \n",
       "11     12331.077           buy commercial real estate  \n",
       "12           NaN                    to have a wedding  \n",
       "13     20873.317                         car purchase  \n",
       "14     26420.466          buy residential real estate  "
      ]
     },
     "execution_count": 135,
     "metadata": {},
     "output_type": "execute_result"
    }
   ],
   "source": [
    "# let's print the first 15 rows\n",
    "df.head(15)\n"
   ]
  },
  {
   "cell_type": "markdown",
   "metadata": {},
   "source": [
    "The dataset contains unrealistic data, implicit duplicates, and missing values. That may affect all future operations with data. All issues should be fixed. \n",
    "\n",
    "Obtaining the general information about the table with one command:"
   ]
  },
  {
   "cell_type": "code",
   "execution_count": 136,
   "metadata": {
    "scrolled": false
   },
   "outputs": [
    {
     "name": "stdout",
     "output_type": "stream",
     "text": [
      "<class 'pandas.core.frame.DataFrame'>\n",
      "RangeIndex: 21525 entries, 0 to 21524\n",
      "Data columns (total 12 columns):\n",
      "children            21525 non-null int64\n",
      "days_employed       19351 non-null float64\n",
      "dob_years           21525 non-null int64\n",
      "education           21525 non-null object\n",
      "education_id        21525 non-null int64\n",
      "family_status       21525 non-null object\n",
      "family_status_id    21525 non-null int64\n",
      "gender              21525 non-null object\n",
      "income_type         21525 non-null object\n",
      "debt                21525 non-null int64\n",
      "total_income        19351 non-null float64\n",
      "purpose             21525 non-null object\n",
      "dtypes: float64(2), int64(5), object(5)\n",
      "memory usage: 2.0+ MB\n"
     ]
    }
   ],
   "source": [
    "# Get info on data\n",
    "df.info()"
   ]
  },
  {
   "cell_type": "markdown",
   "metadata": {},
   "source": [
    "As we can see above, only two columns contain missing values: `'days_employed'` and `'total_income'`. Also, both columns are float data types. Due to specific data purposes, I assume it should be an integer.\n",
    "\n",
    "Print the filtered table with missing values for `'days_employed'` column:"
   ]
  },
  {
   "cell_type": "code",
   "execution_count": 137,
   "metadata": {
    "scrolled": true
   },
   "outputs": [
    {
     "name": "stdout",
     "output_type": "stream",
     "text": [
      " NaN            2174\n",
      "-1645.463049       1\n",
      "-6620.396473       1\n",
      "-1238.560080       1\n",
      "-3047.519891       1\n",
      "                ... \n",
      "-2849.351119       1\n",
      "-5619.328204       1\n",
      "-448.829898        1\n",
      "-1687.038672       1\n",
      "-206.107342        1\n",
      "Name: days_employed, Length: 19352, dtype: int64\n"
     ]
    }
   ],
   "source": [
    "# Let's look at the filtered table with missing values in the the first column with missing data\n",
    "\n",
    "print(df['days_employed'].value_counts(dropna=False))\n"
   ]
  },
  {
   "cell_type": "markdown",
   "metadata": {},
   "source": [
    "Print the filtered table with missing values for `'total_income'` column:"
   ]
  },
  {
   "cell_type": "code",
   "execution_count": 138,
   "metadata": {},
   "outputs": [
    {
     "name": "stdout",
     "output_type": "stream",
     "text": [
      "NaN          2174\n",
      "17312.717       2\n",
      "31791.384       2\n",
      "42413.096       2\n",
      "26935.722       1\n",
      "             ... \n",
      "48796.341       1\n",
      "34774.610       1\n",
      "15710.698       1\n",
      "19232.334       1\n",
      "29653.643       1\n",
      "Name: total_income, Length: 19349, dtype: int64\n"
     ]
    }
   ],
   "source": [
    "print(df['total_income'].value_counts(dropna=False))"
   ]
  },
  {
   "cell_type": "markdown",
   "metadata": {},
   "source": [
    "Missing values seem symmetric. Even so,  if those groups have unrealistic data (e.g. large numbers in the `'days_employed'` column), then we treat that data as missing values which, probably, may change symmetry. However, symmetry may indicate that our missing values are nonrandom."
   ]
  },
  {
   "cell_type": "code",
   "execution_count": 139,
   "metadata": {},
   "outputs": [
    {
     "name": "stdout",
     "output_type": "stream",
     "text": [
      "days_employed    2174\n",
      "total_income     2174\n",
      "dtype: int64\n"
     ]
    }
   ],
   "source": [
    "# Let's apply multiple conditions for filtering data and look at the number of rows in the filtered table.\n",
    "\n",
    "print(df[['days_employed', 'total_income']].isna().sum())"
   ]
  },
  {
   "cell_type": "markdown",
   "metadata": {},
   "source": [
    "Calculate the percentage of the missing values"
   ]
  },
  {
   "cell_type": "code",
   "execution_count": 140,
   "metadata": {},
   "outputs": [
    {
     "data": {
      "text/plain": [
       "days_employed    10.099884\n",
       "total_income     10.099884\n",
       "dtype: float64"
      ]
     },
     "execution_count": 140,
     "metadata": {},
     "output_type": "execute_result"
    }
   ],
   "source": [
    "df[['days_employed', 'total_income']].isna().sum()/df.shape[0]*100"
   ]
  },
  {
   "cell_type": "markdown",
   "metadata": {},
   "source": [
    "**Intermediate conclusion**\n",
    "\n",
    "The number of rows in the filtered table matches the number of missing values. That means both those columns have quantitative missing values.\n",
    "\n",
    "The percentage of the missing values compared to the whole dataset is 10.1%. It is a considerably big piece of data. Due to the quantitive type of missing values, we can't drop them or replace them with 0. That may change distribution.\n",
    "The best way to deal with missing values is:\n",
    "- Consider whether the missing data could be due to the specific client characteristic. Decide which characteristic might be the reason. \n",
    "- Check whether there's any dependence missing values have on the value of other indicators with the columns with identified specific client characteristic.\n",
    "- Check distribution and, based on that data, choose the value for replacing missing values.\n",
    "\n",
    "Let's guess that data was missed due to employment status. \n",
    "- First, create a new dataset `'df_missing'` with all rows from the original dataset which contains at least one missed value, and print filtered by employment status table. Remove columns `'days_employed'` and `'total_income'`\n",
    "- Second, checking distribution (in %). That will show the percentage of missing values for each employment type in the original dataset.\n"
   ]
  },
  {
   "cell_type": "code",
   "execution_count": 141,
   "metadata": {},
   "outputs": [
    {
     "name": "stdout",
     "output_type": "stream",
     "text": [
      "employee         1105\n",
      "business          508\n",
      "retiree           413\n",
      "civil servant     147\n",
      "entrepreneur        1\n",
      "Name: income_type, dtype: int64\n",
      "\n",
      "employee                       11119\n",
      "business                        5085\n",
      "retiree                         3856\n",
      "civil servant                   1459\n",
      "entrepreneur                       2\n",
      "unemployed                         2\n",
      "student                            1\n",
      "paternity / maternity leave        1\n",
      "Name: income_type, dtype: int64\n"
     ]
    }
   ],
   "source": [
    "# Let's investigate clients who do not have data on identified characteristic and the column with the missing values\n",
    "\n",
    "df_missing = df[df.isna().any(axis=1)]\n",
    "df_missing = df_missing.drop(columns = ['days_employed','total_income'])\n",
    "\n",
    "print(df_missing['income_type'].value_counts())\n",
    "print()\n",
    "print(df['income_type'].value_counts())\n"
   ]
  },
  {
   "cell_type": "code",
   "execution_count": 142,
   "metadata": {},
   "outputs": [
    {
     "name": "stdout",
     "output_type": "stream",
     "text": [
      "employee                       51.656214\n",
      "business                       23.623693\n",
      "retiree                        17.914053\n",
      "civil servant                   6.778165\n",
      "entrepreneur                    0.009292\n",
      "unemployed                      0.009292\n",
      "student                         0.004646\n",
      "paternity / maternity leave     0.004646\n",
      "Name: income_type, dtype: float64\n",
      "\n",
      "business                        9.990167\n",
      "civil servant                  10.075394\n",
      "employee                        9.937944\n",
      "entrepreneur                   50.000000\n",
      "paternity / maternity leave          NaN\n",
      "retiree                        10.710581\n",
      "student                              NaN\n",
      "unemployed                           NaN\n",
      "Name: income_type, dtype: float64\n"
     ]
    }
   ],
   "source": [
    "# Checking distribution\n",
    "#NaN will show that there is no missing values for that employment type\n",
    "print(df['income_type'].value_counts() / df.shape[0]*100)\n",
    "print()\n",
    "print(df_missing['income_type'].value_counts()/df['income_type'].value_counts()*100)\n"
   ]
  },
  {
   "cell_type": "markdown",
   "metadata": {},
   "source": [
    "For employment type which quantity is less than 1% data can be neglected. Therefore, there is no evidence of the relation between missed values and employment type.\n",
    "\n",
    "**Possible reasons for missing values in data**\n",
    "\n",
    "Values might be missed randomly due to technical issues or might have a specific pattern. \n",
    "There are some examples:\n",
    "- When the couple takes a loan together that means one person signer and another person co-signer. There is no need to know the co-signer's salary if the signer has enough income to make the bank feel safe. \n",
    "- Customer didn't return his loan and hide his income.\n",
    "\n",
    "Another reason can be the time when data was entered. It is impossible to check due to a lack of data.\n",
    "\n",
    "\n",
    "Checking the distribution in the whole dataset:"
   ]
  },
  {
   "cell_type": "code",
   "execution_count": 143,
   "metadata": {
    "scrolled": false
   },
   "outputs": [
    {
     "name": "stdout",
     "output_type": "stream",
     "text": [
      " 0     65.732869\n",
      " 1     22.383275\n",
      " 2      9.547038\n",
      " 3      1.533101\n",
      " 20     0.353078\n",
      "-1      0.218351\n",
      " 4      0.190476\n",
      " 5      0.041812\n",
      "Name: children, dtype: float64\n",
      "\n",
      "-1      6.382979\n",
      " 0     10.170330\n",
      " 1      9.858863\n",
      " 2      9.927007\n",
      " 3     10.909091\n",
      " 4     17.073171\n",
      " 5     11.111111\n",
      " 20    11.842105\n",
      "Name: children, dtype: float64\n",
      "\n",
      "35    2.866434\n",
      "40    2.829268\n",
      "41    2.819977\n",
      "34    2.801394\n",
      "38    2.778165\n",
      "42    2.773519\n",
      "33    2.699187\n",
      "39    2.662021\n",
      "31    2.601626\n",
      "36    2.578397\n",
      "44    2.541231\n",
      "29    2.531940\n",
      "30    2.508711\n",
      "48    2.499419\n",
      "37    2.494774\n",
      "50    2.387921\n",
      "43    2.383275\n",
      "32    2.369338\n",
      "49    2.360046\n",
      "28    2.336818\n",
      "45    2.308943\n",
      "27    2.290360\n",
      "56    2.262485\n",
      "52    2.248548\n",
      "47    2.229965\n",
      "54    2.225319\n",
      "46    2.206736\n",
      "58    2.141696\n",
      "57    2.137050\n",
      "53    2.132404\n",
      "51    2.081301\n",
      "59    2.062718\n",
      "55    2.058072\n",
      "26    1.895470\n",
      "60    1.751452\n",
      "25    1.658537\n",
      "61    1.649245\n",
      "62    1.635308\n",
      "63    1.249710\n",
      "64    1.231127\n",
      "24    1.226481\n",
      "23    1.180023\n",
      "65    0.901278\n",
      "66    0.850174\n",
      "22    0.850174\n",
      "67    0.775842\n",
      "21    0.515679\n",
      "0     0.469222\n",
      "68    0.459930\n",
      "69    0.394890\n",
      "70    0.301974\n",
      "71    0.269454\n",
      "20    0.236934\n",
      "72    0.153310\n",
      "19    0.065041\n",
      "73    0.037166\n",
      "74    0.027875\n",
      "75    0.004646\n",
      "Name: dob_years, dtype: float64\n",
      "\n",
      "0      9.900990\n",
      "19     7.142857\n",
      "20     9.803922\n",
      "21    16.216216\n",
      "22     9.289617\n",
      "23    14.173228\n",
      "24     7.954545\n",
      "25     6.442577\n",
      "26     8.578431\n",
      "27     7.302231\n",
      "28    11.332008\n",
      "29     9.174312\n",
      "30    10.740741\n",
      "31    11.607143\n",
      "32     7.254902\n",
      "33     8.777969\n",
      "34    11.442786\n",
      "35    10.372771\n",
      "36    11.351351\n",
      "37     9.869646\n",
      "38     9.030100\n",
      "39     8.900524\n",
      "40    10.837438\n",
      "41     9.719934\n",
      "42    10.887772\n",
      "43     9.746589\n",
      "44     8.043876\n",
      "45    10.060362\n",
      "46    10.105263\n",
      "47    12.291667\n",
      "48     8.550186\n",
      "49     9.842520\n",
      "50     9.922179\n",
      "51    11.160714\n",
      "52    10.950413\n",
      "53     9.586057\n",
      "54    11.482255\n",
      "55    10.835214\n",
      "56    11.088296\n",
      "57    12.173913\n",
      "58    12.147505\n",
      "59     7.657658\n",
      "60    10.344828\n",
      "61    10.704225\n",
      "62    10.795455\n",
      "63    10.780669\n",
      "64    13.962264\n",
      "65    10.309278\n",
      "66    10.928962\n",
      "67     9.580838\n",
      "68     9.090909\n",
      "69     5.882353\n",
      "70     4.615385\n",
      "71     8.620690\n",
      "72     6.060606\n",
      "73    12.500000\n",
      "74          NaN\n",
      "75          NaN\n",
      "Name: dob_years, dtype: float64\n",
      "\n",
      "secondary education    63.879210\n",
      "bachelor's degree      21.918699\n",
      "SECONDARY EDUCATION     3.586527\n",
      "Secondary Education     3.303136\n",
      "some college            3.103368\n",
      "BACHELOR'S DEGREE       1.272938\n",
      "Bachelor's Degree       1.245064\n",
      "primary education       1.161440\n",
      "Some College            0.218351\n",
      "SOME COLLEGE            0.134727\n",
      "PRIMARY EDUCATION       0.078978\n",
      "Primary Education       0.069686\n",
      "graduate degree         0.018583\n",
      "GRADUATE DEGREE         0.004646\n",
      "Graduate Degree         0.004646\n",
      "Name: education, dtype: float64\n",
      "\n",
      "BACHELOR'S DEGREE       8.394161\n",
      "Bachelor's Degree       9.328358\n",
      "GRADUATE DEGREE              NaN\n",
      "Graduate Degree              NaN\n",
      "PRIMARY EDUCATION       5.882353\n",
      "Primary Education       6.666667\n",
      "SECONDARY EDUCATION     8.678756\n",
      "SOME COLLEGE           24.137931\n",
      "Secondary Education     9.142053\n",
      "Some College           14.893617\n",
      "bachelor's degree      10.512929\n",
      "graduate degree              NaN\n",
      "primary education       7.600000\n",
      "secondary education    10.240000\n",
      "some college            8.233533\n",
      "Name: education, dtype: float64\n",
      "\n",
      "1    70.768873\n",
      "0    24.436702\n",
      "2     3.456446\n",
      "3     1.310105\n",
      "4     0.027875\n",
      "Name: education_id, dtype: float64\n",
      "\n",
      "0    10.342205\n",
      "1    10.109630\n",
      "2     9.274194\n",
      "3     7.446809\n",
      "4          NaN\n",
      "Name: education_id, dtype: float64\n",
      "\n",
      "married              57.514518\n",
      "civil partnership    19.405343\n",
      "unmarried            13.068525\n",
      "divorced              5.551684\n",
      "widow / widower       4.459930\n",
      "Name: family_status, dtype: float64\n",
      "\n",
      "married               9.991922\n",
      "civil partnership    10.581757\n",
      "unmarried            10.238180\n",
      "divorced              9.372385\n",
      "widow / widower       9.895833\n",
      "Name: family_status, dtype: float64\n",
      "\n",
      "0    57.514518\n",
      "1    19.405343\n",
      "4    13.068525\n",
      "3     5.551684\n",
      "2     4.459930\n",
      "Name: family_status_id, dtype: float64\n",
      "\n",
      "0     9.991922\n",
      "1    10.581757\n",
      "4    10.238180\n",
      "3     9.372385\n",
      "2     9.895833\n",
      "Name: family_status_id, dtype: float64\n",
      "\n",
      "F      66.137050\n",
      "M      33.858304\n",
      "XNA     0.004646\n",
      "Name: gender, dtype: float64\n",
      "\n",
      "F      10.424276\n",
      "M       9.467618\n",
      "XNA          NaN\n",
      "Name: gender, dtype: float64\n",
      "\n",
      "employee                       51.656214\n",
      "business                       23.623693\n",
      "retiree                        17.914053\n",
      "civil servant                   6.778165\n",
      "entrepreneur                    0.009292\n",
      "unemployed                      0.009292\n",
      "student                         0.004646\n",
      "paternity / maternity leave     0.004646\n",
      "Name: income_type, dtype: float64\n",
      "\n",
      "business                        9.990167\n",
      "civil servant                  10.075394\n",
      "employee                        9.937944\n",
      "entrepreneur                   50.000000\n",
      "paternity / maternity leave          NaN\n",
      "retiree                        10.710581\n",
      "student                              NaN\n",
      "unemployed                           NaN\n",
      "Name: income_type, dtype: float64\n",
      "\n",
      "0    91.911731\n",
      "1     8.088269\n",
      "Name: debt, dtype: float64\n",
      "\n",
      "0    10.129397\n",
      "1     9.764503\n",
      "Name: debt, dtype: float64\n",
      "\n",
      "wedding ceremony                            3.702671\n",
      "having a wedding                            3.609756\n",
      "to have a wedding                           3.595819\n",
      "real estate transactions                    3.140534\n",
      "buy commercial real estate                  3.084785\n",
      "housing transactions                        3.033682\n",
      "buying property for renting out             3.033682\n",
      "transactions with commercial real estate    3.024390\n",
      "housing                                     3.005807\n",
      "purchase of the house                       3.005807\n",
      "purchase of the house for my family         2.977933\n",
      "construction of own property                2.950058\n",
      "property                                    2.945412\n",
      "transactions with my real estate            2.926829\n",
      "building a real estate                      2.908246\n",
      "buy real estate                             2.898955\n",
      "purchase of my own house                    2.880372\n",
      "building a property                         2.880372\n",
      "housing renovation                          2.843206\n",
      "buy residential real estate                 2.819977\n",
      "buying my own car                           2.346109\n",
      "going to university                         2.304297\n",
      "car                                         2.299652\n",
      "second-hand car purchase                    2.271777\n",
      "to own a car                                2.229965\n",
      "buying a second-hand car                    2.225319\n",
      "cars                                        2.220674\n",
      "to buy a car                                2.192799\n",
      "car purchase                                2.146341\n",
      "supplementary education                     2.146341\n",
      "purchase of a car                           2.113821\n",
      "university education                        2.104530\n",
      "to get a supplementary education            2.076655\n",
      "education                                   2.076655\n",
      "getting an education                        2.058072\n",
      "profile education                           2.025552\n",
      "getting higher education                    1.979094\n",
      "to become educated                          1.914053\n",
      "Name: purpose, dtype: float64\n",
      "\n",
      "building a property                          9.516129\n",
      "building a real estate                       7.348243\n",
      "buy commercial real estate                  10.090361\n",
      "buy real estate                             11.538462\n",
      "buy residential real estate                 10.049423\n",
      "buying a second-hand car                     8.768267\n",
      "buying my own car                           10.495050\n",
      "buying property for renting out              9.954058\n",
      "car                                          8.282828\n",
      "car purchase                                 9.307359\n",
      "cars                                        11.924686\n",
      "construction of own property                11.811024\n",
      "education                                    9.395973\n",
      "getting an education                        11.286682\n",
      "getting higher education                     8.450704\n",
      "going to university                         11.290323\n",
      "having a wedding                            11.840412\n",
      "housing                                      9.273570\n",
      "housing renovation                          11.437908\n",
      "housing transactions                        11.332312\n",
      "profile education                           10.779817\n",
      "property                                     9.779180\n",
      "purchase of a car                           10.109890\n",
      "purchase of my own house                     7.419355\n",
      "purchase of the house                        8.037094\n",
      "purchase of the house for my family         11.076443\n",
      "real estate transactions                     9.023669\n",
      "second-hand car purchase                    11.042945\n",
      "supplementary education                     10.389610\n",
      "to become educated                          13.349515\n",
      "to buy a car                                 6.355932\n",
      "to get a supplementary education            11.409396\n",
      "to have a wedding                           10.465116\n",
      "to own a car                                10.833333\n",
      "transactions with commercial real estate    10.752688\n",
      "transactions with my real estate            11.269841\n",
      "university education                         8.830022\n",
      "wedding ceremony                             9.535759\n",
      "Name: purpose, dtype: float64\n",
      "\n"
     ]
    }
   ],
   "source": [
    "# Checking the distribution in the whole dataset\n",
    "\n",
    "for col in df_missing.columns:\n",
    "    print(df[col].value_counts() / df.shape[0]*100)\n",
    "    print()\n",
    "    print(df_missing[col].value_counts()/df[col].value_counts()*100)\n",
    "    print()"
   ]
  },
  {
   "cell_type": "markdown",
   "metadata": {},
   "source": [
    "**Conclusions**\n",
    "\n",
    "\n",
    "There is no patterns in distribution. The missing values are random for columns `'total_income'` and  `'days_employed'`.\n",
    "\n",
    "Current Data Frame contains a lot of problematic data. Such as:\n",
    "- Obvious and implicit duplicates\n",
    "- Different registres\n",
    "- Incorrect artifacts\n",
    "- Incorrect data type\n",
    "- Negative numbers \n",
    "- Missing values\n",
    "\n",
    "All of that types of issues should be fixed."
   ]
  },
  {
   "cell_type": "markdown",
   "metadata": {},
   "source": [
    "## **Data transformation**\n",
    "\n",
    "### Cleaning the `education` column\n",
    "\n",
    "Checking the data in the `education` column. Remove implicit duplicates and fixing educational information if needed."
   ]
  },
  {
   "cell_type": "code",
   "execution_count": 144,
   "metadata": {},
   "outputs": [
    {
     "name": "stdout",
     "output_type": "stream",
     "text": [
      "[\"BACHELOR'S DEGREE\" \"Bachelor's Degree\" 'GRADUATE DEGREE'\n",
      " 'Graduate Degree' 'PRIMARY EDUCATION' 'Primary Education'\n",
      " 'SECONDARY EDUCATION' 'SOME COLLEGE' 'Secondary Education' 'Some College'\n",
      " \"bachelor's degree\" 'graduate degree' 'primary education'\n",
      " 'secondary education' 'some college']\n"
     ]
    }
   ],
   "source": [
    "# Let's see all values in education column to check if and what spellings will need to be fixed\n",
    "print(df['education'].sort_values().unique())"
   ]
  },
  {
   "cell_type": "code",
   "execution_count": 145,
   "metadata": {
    "scrolled": true
   },
   "outputs": [],
   "source": [
    "# Fix the registers if required\n",
    "df['education'] =df['education'].str.lower()"
   ]
  },
  {
   "cell_type": "code",
   "execution_count": 146,
   "metadata": {},
   "outputs": [
    {
     "name": "stdout",
     "output_type": "stream",
     "text": [
      "[\"bachelor's degree\" 'graduate degree' 'primary education'\n",
      " 'secondary education' 'some college']\n"
     ]
    }
   ],
   "source": [
    "# Checking all the values in the column to make sure we fixed them\n",
    "\n",
    "print(df['education'].sort_values().unique())"
   ]
  },
  {
   "cell_type": "markdown",
   "metadata": {},
   "source": [
    "### Cleaning the `children` column\n",
    "\n",
    "Checking the data in the `children` column:"
   ]
  },
  {
   "cell_type": "code",
   "execution_count": 147,
   "metadata": {},
   "outputs": [
    {
     "name": "stdout",
     "output_type": "stream",
     "text": [
      " 0     65.732869\n",
      " 1     22.383275\n",
      " 2      9.547038\n",
      " 3      1.533101\n",
      " 20     0.353078\n",
      "-1      0.218351\n",
      " 4      0.190476\n",
      " 5      0.041812\n",
      "Name: children, dtype: float64\n"
     ]
    }
   ],
   "source": [
    "# Let's see the distribution of values in the `children` column\n",
    "print(df['children'].value_counts() / df.shape[0]*100)"
   ]
  },
  {
   "cell_type": "markdown",
   "metadata": {},
   "source": [
    "In our data frame column `children` numbers, -1 and 20 look unrealistic. The percentage are 0,2 and 0,4,respectively. Incorrect negative values should be replaced with absolute values. 20 should be replaced with the quantile (80% quantile due to large numbers). All values must be natural numbers."
   ]
  },
  {
   "cell_type": "code",
   "execution_count": 148,
   "metadata": {},
   "outputs": [],
   "source": [
    "# [fix the data based on your decision]\n",
    "df['children'] = df['children'].abs()#replace negative numbers\n",
    "df.loc[df['children'] == 20, 'children'] = df['children'].quantile(0.8)#replace large number with quantile\n",
    "df['children'] = df['children'].astype('int')#all values should be int"
   ]
  },
  {
   "cell_type": "code",
   "execution_count": 149,
   "metadata": {},
   "outputs": [
    {
     "name": "stdout",
     "output_type": "stream",
     "text": [
      "0    14149\n",
      "1     4941\n",
      "2     2055\n",
      "3      330\n",
      "4       41\n",
      "5        9\n",
      "Name: children, dtype: int64\n"
     ]
    }
   ],
   "source": [
    "# Checking the `children` column again to make sure it's all fixed\n",
    "\n",
    "print(df['children'].value_counts())"
   ]
  },
  {
   "cell_type": "markdown",
   "metadata": {},
   "source": [
    "### Cleaning the `days_employed` column\n",
    "\n",
    "Checking the data in the `days_employed` column. \n",
    "That type of values should be natural number and should not exceed 18250 (50 years)."
   ]
  },
  {
   "cell_type": "code",
   "execution_count": 150,
   "metadata": {},
   "outputs": [
    {
     "name": "stdout",
     "output_type": "stream",
     "text": [
      "89.90011614401858\n"
     ]
    }
   ],
   "source": [
    "# Find problematic data in `days_employed`, if they exist, and calculate the percentage\n",
    "\n",
    "print(df['days_employed'][(df['days_employed'] > 18250) | (df['days_employed'] < 0)].count()/df.shape[0]*100)"
   ]
  },
  {
   "cell_type": "markdown",
   "metadata": {},
   "source": [
    "The amount of problematic data is very high, it could've been due to some technical issues or wrong data entry. `days_employed` contains negative float numbers, and error outliers. Change negative `days_employed` values with absolute values. All data greater than 18250 (50 years) is unrealistic. Those values should be replaced with the quantile (80% quantile because large numbers should be replaced). `days_employed` should contain integer numbers. Due to missing values the best way to change data type after missing values replacing."
   ]
  },
  {
   "cell_type": "code",
   "execution_count": 151,
   "metadata": {},
   "outputs": [],
   "source": [
    "# Address the problematic values, if they exist\n",
    "df['days_employed'] = df['days_employed'].abs()#replace negative values with absolute\n",
    "df.loc[df['days_employed'] > 18250, 'days_employed'] = df['days_employed'].quantile(q=0.8)#replace large numbers\n"
   ]
  },
  {
   "cell_type": "code",
   "execution_count": 152,
   "metadata": {},
   "outputs": [
    {
     "name": "stdout",
     "output_type": "stream",
     "text": [
      "0\n"
     ]
    }
   ],
   "source": [
    "# Check the result - make sure it's fixed\n",
    "print(df['days_employed'][(df['days_employed'] > 18250) | (df['days_employed'] < 0)].count())"
   ]
  },
  {
   "cell_type": "markdown",
   "metadata": {},
   "source": [
    "### Cleaning the `dob_years` column\n",
    "\n",
    "Checking the `dob_years` column. \n",
    "Possible issues might be missed values or unreal values. The client's age can't be less than 18 for any type of income type, and the minimum age for retirement income type is 62. "
   ]
  },
  {
   "cell_type": "code",
   "execution_count": 153,
   "metadata": {},
   "outputs": [
    {
     "name": "stdout",
     "output_type": "stream",
     "text": [
      "11.549361207897793\n"
     ]
    }
   ],
   "source": [
    "# Check the `dob_years` for suspicious values and count the percentage\n",
    "\n",
    "print(df.loc[((df['dob_years'] > 18) & (df['dob_years'] < 62) & (df['income_type'] == 'retiree')) | ((df['dob_years'] < 18)),'dob_years'].count()/df.shape[0]*100)"
   ]
  },
  {
   "cell_type": "markdown",
   "metadata": {},
   "source": [
    "Due to a large number of problematic values, it should be replaced. All values less than 18 should be replaced with the second quantile (50% quantile) based on each type of income.  All values less than 62 with the `retiree` type of income should be replaced with the quantile (80% quantile) based on each type of income. "
   ]
  },
  {
   "cell_type": "code",
   "execution_count": 154,
   "metadata": {},
   "outputs": [],
   "source": [
    "# Address the issues in the `dob_years` column, if they exist\n",
    "def replace_wrong_ages(income_types): #create function\n",
    "    for income_type in income_types: \n",
    "        if income_type =='retiree':#for retiree type of income age can't be less than 62\n",
    "            df.loc[((df['dob_years'] < 62) & (df['income_type'] == income_type)),'dob_years'] = int(df.loc[((df['dob_years'] > 62) & (df['income_type'] == income_type)),['income_type','dob_years']].quantile(0.8)) \n",
    "        else:#for other types of income age can't be less than 18\n",
    "            df.loc[((df['dob_years'] < 18) & (df['income_type'] == income_type)),'dob_years'] = int(df.loc[((df['dob_years'] > 18) & (df['income_type'] == income_type)),['income_type','dob_years']].quantile(0.5)) \n",
    "income_types=['business','civil servant','employee','retiree']\n",
    "replace_wrong_ages(income_types)#call function\n",
    "df['dob_years'] = df['dob_years'].astype('int')#all values should be int"
   ]
  },
  {
   "cell_type": "code",
   "execution_count": 155,
   "metadata": {},
   "outputs": [
    {
     "name": "stdout",
     "output_type": "stream",
     "text": [
      "0\n"
     ]
    }
   ],
   "source": [
    "# Check the result - make sure it's fixed\n",
    "\n",
    "print(df.loc[((df['dob_years'] > 18) & (df['dob_years'] < 62) & (df['income_type'] == 'retiree')) | ((df['dob_years'] < 18)),'dob_years'].count())"
   ]
  },
  {
   "cell_type": "markdown",
   "metadata": {},
   "source": [
    "### Cleaning the `family_status` column\n",
    "\n",
    "Checking the `family_status` column. It is categorical column which may have several problems: spaces, uppercase characters. Remove unnecessary spaces, make all characters lowercase if necessary."
   ]
  },
  {
   "cell_type": "code",
   "execution_count": 156,
   "metadata": {},
   "outputs": [
    {
     "name": "stdout",
     "output_type": "stream",
     "text": [
      "married              12380\n",
      "civil partnership     4177\n",
      "unmarried             2813\n",
      "divorced              1195\n",
      "widow / widower        960\n",
      "Name: family_status, dtype: int64\n"
     ]
    }
   ],
   "source": [
    "# Let's see the values for the column\n",
    "\n",
    "print(df['family_status'].value_counts())"
   ]
  },
  {
   "cell_type": "code",
   "execution_count": 157,
   "metadata": {},
   "outputs": [],
   "source": [
    "# Address the problematic values in `family_status`, if they exist\n",
    "\n",
    "df['family_status'] = df['family_status'].replace(\"widow / widower\",'widow/widower')"
   ]
  },
  {
   "cell_type": "code",
   "execution_count": 158,
   "metadata": {},
   "outputs": [
    {
     "name": "stdout",
     "output_type": "stream",
     "text": [
      "married              12380\n",
      "civil partnership     4177\n",
      "unmarried             2813\n",
      "divorced              1195\n",
      "widow/widower          960\n",
      "Name: family_status, dtype: int64\n"
     ]
    }
   ],
   "source": [
    "# Check the result - make sure it's fixed\n",
    "\n",
    "print(df['family_status'].value_counts())"
   ]
  },
  {
   "cell_type": "markdown",
   "metadata": {},
   "source": [
    "### Cleaning the `gender` column\n",
    "\n",
    "Check the `gender` column. Missing values should be replaced with the common value."
   ]
  },
  {
   "cell_type": "code",
   "execution_count": 159,
   "metadata": {},
   "outputs": [
    {
     "name": "stdout",
     "output_type": "stream",
     "text": [
      "F      14236\n",
      "M       7288\n",
      "XNA        1\n",
      "Name: gender, dtype: int64\n"
     ]
    }
   ],
   "source": [
    "# Let's see the values in the column\n",
    "\n",
    "print(df['gender'].value_counts())"
   ]
  },
  {
   "cell_type": "code",
   "execution_count": 160,
   "metadata": {},
   "outputs": [],
   "source": [
    "# Address the problematic values, if they exist\n",
    "\n",
    "#df['gender'][(df['gender'] == 'XNA')] = df['gender'].mode()\n",
    "df.loc[df[\"gender\"] == \"XNA\", \"gender\"] = 'F'"
   ]
  },
  {
   "cell_type": "code",
   "execution_count": 161,
   "metadata": {},
   "outputs": [
    {
     "name": "stdout",
     "output_type": "stream",
     "text": [
      "F    14237\n",
      "M     7288\n",
      "Name: gender, dtype: int64\n"
     ]
    }
   ],
   "source": [
    "# Check the result - make sure it's fixed\n",
    "\n",
    "print(df['gender'].value_counts())"
   ]
  },
  {
   "cell_type": "markdown",
   "metadata": {},
   "source": [
    "### Cleaning the `income_type` column\n",
    "\n",
    "Check the `income_type` column.  It is categorical column which may have several problems: spaces, uppercase characters. Remove unnecessary spaces, make all characters lowercase if necessary."
   ]
  },
  {
   "cell_type": "code",
   "execution_count": 162,
   "metadata": {},
   "outputs": [
    {
     "name": "stdout",
     "output_type": "stream",
     "text": [
      "employee                       11119\n",
      "business                        5085\n",
      "retiree                         3856\n",
      "civil servant                   1459\n",
      "entrepreneur                       2\n",
      "unemployed                         2\n",
      "student                            1\n",
      "paternity / maternity leave        1\n",
      "Name: income_type, dtype: int64\n"
     ]
    }
   ],
   "source": [
    "# Let's see the values in the column\n",
    "\n",
    "print(df['income_type'].value_counts())"
   ]
  },
  {
   "cell_type": "code",
   "execution_count": 163,
   "metadata": {},
   "outputs": [],
   "source": [
    "# Address the problematic values, if they exist\n",
    "\n",
    "df['income_type'] = df['income_type'].replace(\"paternity / maternity leave\",'paternity/maternity leave')"
   ]
  },
  {
   "cell_type": "code",
   "execution_count": 164,
   "metadata": {},
   "outputs": [
    {
     "name": "stdout",
     "output_type": "stream",
     "text": [
      "employee                     11119\n",
      "business                      5085\n",
      "retiree                       3856\n",
      "civil servant                 1459\n",
      "entrepreneur                     2\n",
      "unemployed                       2\n",
      "student                          1\n",
      "paternity/maternity leave        1\n",
      "Name: income_type, dtype: int64\n"
     ]
    }
   ],
   "source": [
    "# Check the result - make sure it's fixed\n",
    "\n",
    "print(df['income_type'].value_counts())"
   ]
  },
  {
   "cell_type": "markdown",
   "metadata": {},
   "source": [
    "## **Working with missing values**"
   ]
  },
  {
   "cell_type": "markdown",
   "metadata": {},
   "source": [
    "To speed up working with some data, check processing time for two options: \n",
    "- `fillna`-`groupby`-`transform` \n",
    "- and `groupby`-`apply`-`fillna`"
   ]
  },
  {
   "cell_type": "code",
   "execution_count": 165,
   "metadata": {},
   "outputs": [],
   "source": [
    "# Find the optimum decision\n",
    "\n",
    "#%timeit df['total_income'].fillna(df.groupby(['education','dob_years'])['total_income'].transform('mean'))\n",
    "\n",
    "#%timeit df.groupby(['education','dob_years'])['total_income'].apply(lambda x: x.fillna(x.mean()))"
   ]
  },
  {
   "cell_type": "markdown",
   "metadata": {},
   "source": [
    "`fillna`-`groupby`-`transform` option is the best choice."
   ]
  },
  {
   "cell_type": "markdown",
   "metadata": {},
   "source": [
    "### Restoring missing values in `total_income`"
   ]
  },
  {
   "cell_type": "markdown",
   "metadata": {},
   "source": [
    "The best way to replace missing values in `total_income` column is using mean or median value of small groups with unique combination of `age`, `education`, and `income type`. The smaller the groups, the more detail provided, and the harder data is to interpret but it provides more accurate values to replace with.  \n",
    "First, create new column with assigned age groups. Group people by decade (20s, 30s, etc.). Every group, except the first and last groups, should be the same size. For age data, it is common that older ages be placed in 60+ or 70+ categories. Since the minimum age is 18, we don't need a 0-18 age group. First age group contains clients between 18 and 29. Last age group contains clients 70 and older."
   ]
  },
  {
   "cell_type": "code",
   "execution_count": 166,
   "metadata": {},
   "outputs": [],
   "source": [
    "# Let's write a function that calculates the age category\n",
    "\n",
    "def assign_age_group(age):\n",
    "    \n",
    "    if age < 30:\n",
    "        return '18-29'#1st age group: people 18yo to 29yo\n",
    "    elif age < 40:\n",
    "        return '30-39'#2nd age group: people 30yo to 39yo\n",
    "    elif age < 50:\n",
    "        return '40-49'#3rd age group: people 40yo to 49yo\n",
    "    elif age < 60:\n",
    "        return '50-59'#4th age group: people 50yo to 59yo\n",
    "    elif age < 70:\n",
    "        return '60-69'#5th age group: people 60yo to 69yo\n",
    "    else: \n",
    "        return '70+'#6th age group: 70+ seniors    \n",
    "    "
   ]
  },
  {
   "cell_type": "code",
   "execution_count": 167,
   "metadata": {},
   "outputs": [
    {
     "name": "stdout",
     "output_type": "stream",
     "text": [
      "18-29\n",
      "\n",
      "50-59\n",
      "\n",
      "70+\n"
     ]
    }
   ],
   "source": [
    "# Test if the function works\n",
    "\n",
    "#Test function on 26 (should be 18-29)\n",
    "print(assign_age_group(26))\n",
    "print()\n",
    "#Test function on 51 (should be 50-59)\n",
    "print(assign_age_group(51))\n",
    "print()\n",
    "#Test function on 70 (should be 70+)\n",
    "print(assign_age_group(70))"
   ]
  },
  {
   "cell_type": "code",
   "execution_count": 168,
   "metadata": {},
   "outputs": [],
   "source": [
    "# Creating new column based on function\n",
    "\n",
    "df['age_group']=df['dob_years'].apply(assign_age_group)"
   ]
  },
  {
   "cell_type": "code",
   "execution_count": 169,
   "metadata": {},
   "outputs": [
    {
     "data": {
      "text/html": [
       "<div>\n",
       "<style scoped>\n",
       "    .dataframe tbody tr th:only-of-type {\n",
       "        vertical-align: middle;\n",
       "    }\n",
       "\n",
       "    .dataframe tbody tr th {\n",
       "        vertical-align: top;\n",
       "    }\n",
       "\n",
       "    .dataframe thead th {\n",
       "        text-align: right;\n",
       "    }\n",
       "</style>\n",
       "<table border=\"1\" class=\"dataframe\">\n",
       "  <thead>\n",
       "    <tr style=\"text-align: right;\">\n",
       "      <th></th>\n",
       "      <th>dob_years</th>\n",
       "      <th>age_group</th>\n",
       "    </tr>\n",
       "  </thead>\n",
       "  <tbody>\n",
       "    <tr>\n",
       "      <td>0</td>\n",
       "      <td>42</td>\n",
       "      <td>40-49</td>\n",
       "    </tr>\n",
       "    <tr>\n",
       "      <td>1</td>\n",
       "      <td>36</td>\n",
       "      <td>30-39</td>\n",
       "    </tr>\n",
       "    <tr>\n",
       "      <td>2</td>\n",
       "      <td>33</td>\n",
       "      <td>30-39</td>\n",
       "    </tr>\n",
       "    <tr>\n",
       "      <td>3</td>\n",
       "      <td>32</td>\n",
       "      <td>30-39</td>\n",
       "    </tr>\n",
       "    <tr>\n",
       "      <td>4</td>\n",
       "      <td>68</td>\n",
       "      <td>60-69</td>\n",
       "    </tr>\n",
       "  </tbody>\n",
       "</table>\n",
       "</div>"
      ],
      "text/plain": [
       "   dob_years age_group\n",
       "0         42     40-49\n",
       "1         36     30-39\n",
       "2         33     30-39\n",
       "3         32     30-39\n",
       "4         68     60-69"
      ]
     },
     "execution_count": 169,
     "metadata": {},
     "output_type": "execute_result"
    }
   ],
   "source": [
    "# Checking how values in the new column\n",
    "\n",
    "df[['dob_years', 'age_group']].head()"
   ]
  },
  {
   "cell_type": "markdown",
   "metadata": {},
   "source": [
    "Income depends on many factors such as:\n",
    "- Skills\n",
    "- Education\n",
    "- Income type \n",
    "- Age group\n",
    "- Common trends\n",
    "\n",
    "Due to the impossibility and inaccessibility of presenting `common trends` and `skills` in numbers, we have to use `age group`, `education`, and `income type` as factors on which the `total income` values depend."
   ]
  },
  {
   "cell_type": "markdown",
   "metadata": {},
   "source": [
    "Create a table that only has data without missing values. This data will be used to restore the missing values"
   ]
  },
  {
   "cell_type": "code",
   "execution_count": 170,
   "metadata": {},
   "outputs": [
    {
     "data": {
      "text/html": [
       "<div>\n",
       "<style scoped>\n",
       "    .dataframe tbody tr th:only-of-type {\n",
       "        vertical-align: middle;\n",
       "    }\n",
       "\n",
       "    .dataframe tbody tr th {\n",
       "        vertical-align: top;\n",
       "    }\n",
       "\n",
       "    .dataframe thead th {\n",
       "        text-align: right;\n",
       "    }\n",
       "</style>\n",
       "<table border=\"1\" class=\"dataframe\">\n",
       "  <thead>\n",
       "    <tr style=\"text-align: right;\">\n",
       "      <th></th>\n",
       "      <th>days_employed</th>\n",
       "      <th>education</th>\n",
       "      <th>income_type</th>\n",
       "      <th>total_income</th>\n",
       "      <th>age_group</th>\n",
       "    </tr>\n",
       "  </thead>\n",
       "  <tbody>\n",
       "    <tr>\n",
       "      <td>0</td>\n",
       "      <td>8437.673028</td>\n",
       "      <td>bachelor's degree</td>\n",
       "      <td>employee</td>\n",
       "      <td>40620.102</td>\n",
       "      <td>40-49</td>\n",
       "    </tr>\n",
       "    <tr>\n",
       "      <td>1</td>\n",
       "      <td>4024.803754</td>\n",
       "      <td>secondary education</td>\n",
       "      <td>employee</td>\n",
       "      <td>17932.802</td>\n",
       "      <td>30-39</td>\n",
       "    </tr>\n",
       "    <tr>\n",
       "      <td>2</td>\n",
       "      <td>5623.422610</td>\n",
       "      <td>secondary education</td>\n",
       "      <td>employee</td>\n",
       "      <td>23341.752</td>\n",
       "      <td>30-39</td>\n",
       "    </tr>\n",
       "    <tr>\n",
       "      <td>3</td>\n",
       "      <td>4124.747207</td>\n",
       "      <td>secondary education</td>\n",
       "      <td>employee</td>\n",
       "      <td>42820.568</td>\n",
       "      <td>30-39</td>\n",
       "    </tr>\n",
       "    <tr>\n",
       "      <td>4</td>\n",
       "      <td>8795.549101</td>\n",
       "      <td>secondary education</td>\n",
       "      <td>retiree</td>\n",
       "      <td>25378.572</td>\n",
       "      <td>60-69</td>\n",
       "    </tr>\n",
       "    <tr>\n",
       "      <td>5</td>\n",
       "      <td>926.185831</td>\n",
       "      <td>bachelor's degree</td>\n",
       "      <td>business</td>\n",
       "      <td>40922.170</td>\n",
       "      <td>18-29</td>\n",
       "    </tr>\n",
       "    <tr>\n",
       "      <td>6</td>\n",
       "      <td>2879.202052</td>\n",
       "      <td>bachelor's degree</td>\n",
       "      <td>business</td>\n",
       "      <td>38484.156</td>\n",
       "      <td>40-49</td>\n",
       "    </tr>\n",
       "    <tr>\n",
       "      <td>7</td>\n",
       "      <td>152.779569</td>\n",
       "      <td>secondary education</td>\n",
       "      <td>employee</td>\n",
       "      <td>21731.829</td>\n",
       "      <td>50-59</td>\n",
       "    </tr>\n",
       "    <tr>\n",
       "      <td>8</td>\n",
       "      <td>6929.865299</td>\n",
       "      <td>bachelor's degree</td>\n",
       "      <td>employee</td>\n",
       "      <td>15337.093</td>\n",
       "      <td>30-39</td>\n",
       "    </tr>\n",
       "    <tr>\n",
       "      <td>9</td>\n",
       "      <td>2188.756445</td>\n",
       "      <td>secondary education</td>\n",
       "      <td>employee</td>\n",
       "      <td>23108.150</td>\n",
       "      <td>40-49</td>\n",
       "    </tr>\n",
       "    <tr>\n",
       "      <td>10</td>\n",
       "      <td>4171.483647</td>\n",
       "      <td>bachelor's degree</td>\n",
       "      <td>business</td>\n",
       "      <td>18230.959</td>\n",
       "      <td>30-39</td>\n",
       "    </tr>\n",
       "    <tr>\n",
       "      <td>11</td>\n",
       "      <td>792.701887</td>\n",
       "      <td>secondary education</td>\n",
       "      <td>employee</td>\n",
       "      <td>12331.077</td>\n",
       "      <td>40-49</td>\n",
       "    </tr>\n",
       "    <tr>\n",
       "      <td>13</td>\n",
       "      <td>1846.641941</td>\n",
       "      <td>some college</td>\n",
       "      <td>employee</td>\n",
       "      <td>20873.317</td>\n",
       "      <td>50-59</td>\n",
       "    </tr>\n",
       "    <tr>\n",
       "      <td>14</td>\n",
       "      <td>1844.956182</td>\n",
       "      <td>bachelor's degree</td>\n",
       "      <td>business</td>\n",
       "      <td>26420.466</td>\n",
       "      <td>50-59</td>\n",
       "    </tr>\n",
       "    <tr>\n",
       "      <td>15</td>\n",
       "      <td>972.364419</td>\n",
       "      <td>secondary education</td>\n",
       "      <td>employee</td>\n",
       "      <td>18691.345</td>\n",
       "      <td>18-29</td>\n",
       "    </tr>\n",
       "    <tr>\n",
       "      <td>16</td>\n",
       "      <td>1719.934226</td>\n",
       "      <td>secondary education</td>\n",
       "      <td>employee</td>\n",
       "      <td>46272.433</td>\n",
       "      <td>30-39</td>\n",
       "    </tr>\n",
       "    <tr>\n",
       "      <td>17</td>\n",
       "      <td>2369.999720</td>\n",
       "      <td>bachelor's degree</td>\n",
       "      <td>employee</td>\n",
       "      <td>14465.694</td>\n",
       "      <td>30-39</td>\n",
       "    </tr>\n",
       "    <tr>\n",
       "      <td>18</td>\n",
       "      <td>8795.549101</td>\n",
       "      <td>secondary education</td>\n",
       "      <td>retiree</td>\n",
       "      <td>9091.804</td>\n",
       "      <td>60-69</td>\n",
       "    </tr>\n",
       "    <tr>\n",
       "      <td>19</td>\n",
       "      <td>10038.818549</td>\n",
       "      <td>secondary education</td>\n",
       "      <td>employee</td>\n",
       "      <td>38852.977</td>\n",
       "      <td>40-49</td>\n",
       "    </tr>\n",
       "    <tr>\n",
       "      <td>20</td>\n",
       "      <td>1311.604166</td>\n",
       "      <td>secondary education</td>\n",
       "      <td>employee</td>\n",
       "      <td>33528.423</td>\n",
       "      <td>30-39</td>\n",
       "    </tr>\n",
       "  </tbody>\n",
       "</table>\n",
       "</div>"
      ],
      "text/plain": [
       "    days_employed            education income_type  total_income age_group\n",
       "0     8437.673028    bachelor's degree    employee     40620.102     40-49\n",
       "1     4024.803754  secondary education    employee     17932.802     30-39\n",
       "2     5623.422610  secondary education    employee     23341.752     30-39\n",
       "3     4124.747207  secondary education    employee     42820.568     30-39\n",
       "4     8795.549101  secondary education     retiree     25378.572     60-69\n",
       "5      926.185831    bachelor's degree    business     40922.170     18-29\n",
       "6     2879.202052    bachelor's degree    business     38484.156     40-49\n",
       "7      152.779569  secondary education    employee     21731.829     50-59\n",
       "8     6929.865299    bachelor's degree    employee     15337.093     30-39\n",
       "9     2188.756445  secondary education    employee     23108.150     40-49\n",
       "10    4171.483647    bachelor's degree    business     18230.959     30-39\n",
       "11     792.701887  secondary education    employee     12331.077     40-49\n",
       "13    1846.641941         some college    employee     20873.317     50-59\n",
       "14    1844.956182    bachelor's degree    business     26420.466     50-59\n",
       "15     972.364419  secondary education    employee     18691.345     18-29\n",
       "16    1719.934226  secondary education    employee     46272.433     30-39\n",
       "17    2369.999720    bachelor's degree    employee     14465.694     30-39\n",
       "18    8795.549101  secondary education     retiree      9091.804     60-69\n",
       "19   10038.818549  secondary education    employee     38852.977     40-49\n",
       "20    1311.604166  secondary education    employee     33528.423     30-39"
      ]
     },
     "execution_count": 170,
     "metadata": {},
     "output_type": "execute_result"
    }
   ],
   "source": [
    "# Create a table without missing values and print a few of its rows to make sure it looks fine\n",
    "\n",
    "df_ref1 = df.dropna()\n",
    "df_ref1[['days_employed', 'education', 'income_type','total_income', 'age_group']].head(20)"
   ]
  },
  {
   "cell_type": "code",
   "execution_count": 171,
   "metadata": {
    "scrolled": false
   },
   "outputs": [
    {
     "data": {
      "text/html": [
       "<div>\n",
       "<style scoped>\n",
       "    .dataframe tbody tr th:only-of-type {\n",
       "        vertical-align: middle;\n",
       "    }\n",
       "\n",
       "    .dataframe tbody tr th {\n",
       "        vertical-align: top;\n",
       "    }\n",
       "\n",
       "    .dataframe thead th {\n",
       "        text-align: right;\n",
       "    }\n",
       "</style>\n",
       "<table border=\"1\" class=\"dataframe\">\n",
       "  <thead>\n",
       "    <tr style=\"text-align: right;\">\n",
       "      <th></th>\n",
       "      <th>income_type</th>\n",
       "      <th>business</th>\n",
       "      <th>civil servant</th>\n",
       "      <th>employee</th>\n",
       "      <th>entrepreneur</th>\n",
       "      <th>paternity/maternity leave</th>\n",
       "      <th>retiree</th>\n",
       "      <th>student</th>\n",
       "      <th>unemployed</th>\n",
       "    </tr>\n",
       "    <tr>\n",
       "      <th>age_group</th>\n",
       "      <th>education</th>\n",
       "      <th></th>\n",
       "      <th></th>\n",
       "      <th></th>\n",
       "      <th></th>\n",
       "      <th></th>\n",
       "      <th></th>\n",
       "      <th></th>\n",
       "      <th></th>\n",
       "    </tr>\n",
       "  </thead>\n",
       "  <tbody>\n",
       "    <tr>\n",
       "      <td rowspan=\"4\" valign=\"top\">18-29</td>\n",
       "      <td>bachelor's degree</td>\n",
       "      <td>28250.2840</td>\n",
       "      <td>24617.5440</td>\n",
       "      <td>24030.5850</td>\n",
       "      <td>79866.103</td>\n",
       "      <td>NaN</td>\n",
       "      <td>NaN</td>\n",
       "      <td>15712.26</td>\n",
       "      <td>NaN</td>\n",
       "    </tr>\n",
       "    <tr>\n",
       "      <td>primary education</td>\n",
       "      <td>24210.1960</td>\n",
       "      <td>30563.3830</td>\n",
       "      <td>24583.5965</td>\n",
       "      <td>NaN</td>\n",
       "      <td>NaN</td>\n",
       "      <td>NaN</td>\n",
       "      <td>NaN</td>\n",
       "      <td>NaN</td>\n",
       "    </tr>\n",
       "    <tr>\n",
       "      <td>secondary education</td>\n",
       "      <td>23798.6260</td>\n",
       "      <td>21361.7300</td>\n",
       "      <td>20189.5580</td>\n",
       "      <td>NaN</td>\n",
       "      <td>NaN</td>\n",
       "      <td>NaN</td>\n",
       "      <td>NaN</td>\n",
       "      <td>NaN</td>\n",
       "    </tr>\n",
       "    <tr>\n",
       "      <td>some college</td>\n",
       "      <td>25570.8550</td>\n",
       "      <td>21297.7030</td>\n",
       "      <td>21783.0890</td>\n",
       "      <td>NaN</td>\n",
       "      <td>NaN</td>\n",
       "      <td>NaN</td>\n",
       "      <td>NaN</td>\n",
       "      <td>NaN</td>\n",
       "    </tr>\n",
       "    <tr>\n",
       "      <td rowspan=\"5\" valign=\"top\">30-39</td>\n",
       "      <td>bachelor's degree</td>\n",
       "      <td>32658.5990</td>\n",
       "      <td>27956.2445</td>\n",
       "      <td>26587.4230</td>\n",
       "      <td>NaN</td>\n",
       "      <td>NaN</td>\n",
       "      <td>NaN</td>\n",
       "      <td>NaN</td>\n",
       "      <td>NaN</td>\n",
       "    </tr>\n",
       "    <tr>\n",
       "      <td>graduate degree</td>\n",
       "      <td>NaN</td>\n",
       "      <td>17822.7570</td>\n",
       "      <td>18551.8460</td>\n",
       "      <td>NaN</td>\n",
       "      <td>NaN</td>\n",
       "      <td>NaN</td>\n",
       "      <td>NaN</td>\n",
       "      <td>NaN</td>\n",
       "    </tr>\n",
       "    <tr>\n",
       "      <td>primary education</td>\n",
       "      <td>20030.2260</td>\n",
       "      <td>21150.6960</td>\n",
       "      <td>19546.3410</td>\n",
       "      <td>NaN</td>\n",
       "      <td>NaN</td>\n",
       "      <td>NaN</td>\n",
       "      <td>NaN</td>\n",
       "      <td>NaN</td>\n",
       "    </tr>\n",
       "    <tr>\n",
       "      <td>secondary education</td>\n",
       "      <td>26292.5770</td>\n",
       "      <td>20870.9730</td>\n",
       "      <td>22079.6140</td>\n",
       "      <td>NaN</td>\n",
       "      <td>8612.661</td>\n",
       "      <td>NaN</td>\n",
       "      <td>NaN</td>\n",
       "      <td>9593.119</td>\n",
       "    </tr>\n",
       "    <tr>\n",
       "      <td>some college</td>\n",
       "      <td>29814.5275</td>\n",
       "      <td>30672.7180</td>\n",
       "      <td>26913.8230</td>\n",
       "      <td>NaN</td>\n",
       "      <td>NaN</td>\n",
       "      <td>NaN</td>\n",
       "      <td>NaN</td>\n",
       "      <td>NaN</td>\n",
       "    </tr>\n",
       "    <tr>\n",
       "      <td rowspan=\"5\" valign=\"top\">40-49</td>\n",
       "      <td>bachelor's degree</td>\n",
       "      <td>34592.0450</td>\n",
       "      <td>28425.4810</td>\n",
       "      <td>27427.6640</td>\n",
       "      <td>NaN</td>\n",
       "      <td>NaN</td>\n",
       "      <td>NaN</td>\n",
       "      <td>NaN</td>\n",
       "      <td>32435.602</td>\n",
       "    </tr>\n",
       "    <tr>\n",
       "      <td>graduate degree</td>\n",
       "      <td>NaN</td>\n",
       "      <td>NaN</td>\n",
       "      <td>31771.3210</td>\n",
       "      <td>NaN</td>\n",
       "      <td>NaN</td>\n",
       "      <td>NaN</td>\n",
       "      <td>NaN</td>\n",
       "      <td>NaN</td>\n",
       "    </tr>\n",
       "    <tr>\n",
       "      <td>primary education</td>\n",
       "      <td>27929.0980</td>\n",
       "      <td>78410.7740</td>\n",
       "      <td>21132.3895</td>\n",
       "      <td>NaN</td>\n",
       "      <td>NaN</td>\n",
       "      <td>NaN</td>\n",
       "      <td>NaN</td>\n",
       "      <td>NaN</td>\n",
       "    </tr>\n",
       "    <tr>\n",
       "      <td>secondary education</td>\n",
       "      <td>26115.6660</td>\n",
       "      <td>22349.0400</td>\n",
       "      <td>22217.0090</td>\n",
       "      <td>NaN</td>\n",
       "      <td>NaN</td>\n",
       "      <td>NaN</td>\n",
       "      <td>NaN</td>\n",
       "      <td>NaN</td>\n",
       "    </tr>\n",
       "    <tr>\n",
       "      <td>some college</td>\n",
       "      <td>35282.0940</td>\n",
       "      <td>26587.6740</td>\n",
       "      <td>26846.2815</td>\n",
       "      <td>NaN</td>\n",
       "      <td>NaN</td>\n",
       "      <td>NaN</td>\n",
       "      <td>NaN</td>\n",
       "      <td>NaN</td>\n",
       "    </tr>\n",
       "    <tr>\n",
       "      <td rowspan=\"5\" valign=\"top\">50-59</td>\n",
       "      <td>bachelor's degree</td>\n",
       "      <td>35379.3990</td>\n",
       "      <td>28366.5680</td>\n",
       "      <td>27503.5590</td>\n",
       "      <td>NaN</td>\n",
       "      <td>NaN</td>\n",
       "      <td>NaN</td>\n",
       "      <td>NaN</td>\n",
       "      <td>NaN</td>\n",
       "    </tr>\n",
       "    <tr>\n",
       "      <td>graduate degree</td>\n",
       "      <td>NaN</td>\n",
       "      <td>NaN</td>\n",
       "      <td>42945.7940</td>\n",
       "      <td>NaN</td>\n",
       "      <td>NaN</td>\n",
       "      <td>NaN</td>\n",
       "      <td>NaN</td>\n",
       "      <td>NaN</td>\n",
       "    </tr>\n",
       "    <tr>\n",
       "      <td>primary education</td>\n",
       "      <td>23066.1310</td>\n",
       "      <td>12709.2755</td>\n",
       "      <td>14599.2580</td>\n",
       "      <td>NaN</td>\n",
       "      <td>NaN</td>\n",
       "      <td>NaN</td>\n",
       "      <td>NaN</td>\n",
       "      <td>NaN</td>\n",
       "    </tr>\n",
       "    <tr>\n",
       "      <td>secondary education</td>\n",
       "      <td>24461.0155</td>\n",
       "      <td>21417.6660</td>\n",
       "      <td>21831.2455</td>\n",
       "      <td>NaN</td>\n",
       "      <td>NaN</td>\n",
       "      <td>NaN</td>\n",
       "      <td>NaN</td>\n",
       "      <td>NaN</td>\n",
       "    </tr>\n",
       "    <tr>\n",
       "      <td>some college</td>\n",
       "      <td>33073.7630</td>\n",
       "      <td>NaN</td>\n",
       "      <td>22644.3135</td>\n",
       "      <td>NaN</td>\n",
       "      <td>NaN</td>\n",
       "      <td>NaN</td>\n",
       "      <td>NaN</td>\n",
       "      <td>NaN</td>\n",
       "    </tr>\n",
       "    <tr>\n",
       "      <td rowspan=\"5\" valign=\"top\">60-69</td>\n",
       "      <td>bachelor's degree</td>\n",
       "      <td>30849.5425</td>\n",
       "      <td>27117.8410</td>\n",
       "      <td>27969.0405</td>\n",
       "      <td>NaN</td>\n",
       "      <td>NaN</td>\n",
       "      <td>23126.799</td>\n",
       "      <td>NaN</td>\n",
       "      <td>NaN</td>\n",
       "    </tr>\n",
       "    <tr>\n",
       "      <td>graduate degree</td>\n",
       "      <td>NaN</td>\n",
       "      <td>NaN</td>\n",
       "      <td>NaN</td>\n",
       "      <td>NaN</td>\n",
       "      <td>NaN</td>\n",
       "      <td>28334.215</td>\n",
       "      <td>NaN</td>\n",
       "      <td>NaN</td>\n",
       "    </tr>\n",
       "    <tr>\n",
       "      <td>primary education</td>\n",
       "      <td>NaN</td>\n",
       "      <td>NaN</td>\n",
       "      <td>26188.2420</td>\n",
       "      <td>NaN</td>\n",
       "      <td>NaN</td>\n",
       "      <td>16856.471</td>\n",
       "      <td>NaN</td>\n",
       "      <td>NaN</td>\n",
       "    </tr>\n",
       "    <tr>\n",
       "      <td>secondary education</td>\n",
       "      <td>27142.1265</td>\n",
       "      <td>22756.9360</td>\n",
       "      <td>21311.4815</td>\n",
       "      <td>NaN</td>\n",
       "      <td>NaN</td>\n",
       "      <td>18414.666</td>\n",
       "      <td>NaN</td>\n",
       "      <td>NaN</td>\n",
       "    </tr>\n",
       "    <tr>\n",
       "      <td>some college</td>\n",
       "      <td>37146.5350</td>\n",
       "      <td>NaN</td>\n",
       "      <td>32844.1030</td>\n",
       "      <td>NaN</td>\n",
       "      <td>NaN</td>\n",
       "      <td>19427.489</td>\n",
       "      <td>NaN</td>\n",
       "      <td>NaN</td>\n",
       "    </tr>\n",
       "    <tr>\n",
       "      <td rowspan=\"4\" valign=\"top\">70+</td>\n",
       "      <td>bachelor's degree</td>\n",
       "      <td>36808.9680</td>\n",
       "      <td>57508.0320</td>\n",
       "      <td>NaN</td>\n",
       "      <td>NaN</td>\n",
       "      <td>NaN</td>\n",
       "      <td>22009.315</td>\n",
       "      <td>NaN</td>\n",
       "      <td>NaN</td>\n",
       "    </tr>\n",
       "    <tr>\n",
       "      <td>primary education</td>\n",
       "      <td>NaN</td>\n",
       "      <td>NaN</td>\n",
       "      <td>NaN</td>\n",
       "      <td>NaN</td>\n",
       "      <td>NaN</td>\n",
       "      <td>15013.505</td>\n",
       "      <td>NaN</td>\n",
       "      <td>NaN</td>\n",
       "    </tr>\n",
       "    <tr>\n",
       "      <td>secondary education</td>\n",
       "      <td>24259.6870</td>\n",
       "      <td>19530.6775</td>\n",
       "      <td>24660.9010</td>\n",
       "      <td>NaN</td>\n",
       "      <td>NaN</td>\n",
       "      <td>17543.248</td>\n",
       "      <td>NaN</td>\n",
       "      <td>NaN</td>\n",
       "    </tr>\n",
       "    <tr>\n",
       "      <td>some college</td>\n",
       "      <td>NaN</td>\n",
       "      <td>NaN</td>\n",
       "      <td>NaN</td>\n",
       "      <td>NaN</td>\n",
       "      <td>NaN</td>\n",
       "      <td>14479.193</td>\n",
       "      <td>NaN</td>\n",
       "      <td>NaN</td>\n",
       "    </tr>\n",
       "  </tbody>\n",
       "</table>\n",
       "</div>"
      ],
      "text/plain": [
       "income_type                      business  civil servant    employee  \\\n",
       "age_group education                                                    \n",
       "18-29     bachelor's degree    28250.2840     24617.5440  24030.5850   \n",
       "          primary education    24210.1960     30563.3830  24583.5965   \n",
       "          secondary education  23798.6260     21361.7300  20189.5580   \n",
       "          some college         25570.8550     21297.7030  21783.0890   \n",
       "30-39     bachelor's degree    32658.5990     27956.2445  26587.4230   \n",
       "          graduate degree             NaN     17822.7570  18551.8460   \n",
       "          primary education    20030.2260     21150.6960  19546.3410   \n",
       "          secondary education  26292.5770     20870.9730  22079.6140   \n",
       "          some college         29814.5275     30672.7180  26913.8230   \n",
       "40-49     bachelor's degree    34592.0450     28425.4810  27427.6640   \n",
       "          graduate degree             NaN            NaN  31771.3210   \n",
       "          primary education    27929.0980     78410.7740  21132.3895   \n",
       "          secondary education  26115.6660     22349.0400  22217.0090   \n",
       "          some college         35282.0940     26587.6740  26846.2815   \n",
       "50-59     bachelor's degree    35379.3990     28366.5680  27503.5590   \n",
       "          graduate degree             NaN            NaN  42945.7940   \n",
       "          primary education    23066.1310     12709.2755  14599.2580   \n",
       "          secondary education  24461.0155     21417.6660  21831.2455   \n",
       "          some college         33073.7630            NaN  22644.3135   \n",
       "60-69     bachelor's degree    30849.5425     27117.8410  27969.0405   \n",
       "          graduate degree             NaN            NaN         NaN   \n",
       "          primary education           NaN            NaN  26188.2420   \n",
       "          secondary education  27142.1265     22756.9360  21311.4815   \n",
       "          some college         37146.5350            NaN  32844.1030   \n",
       "70+       bachelor's degree    36808.9680     57508.0320         NaN   \n",
       "          primary education           NaN            NaN         NaN   \n",
       "          secondary education  24259.6870     19530.6775  24660.9010   \n",
       "          some college                NaN            NaN         NaN   \n",
       "\n",
       "income_type                    entrepreneur  paternity/maternity leave  \\\n",
       "age_group education                                                      \n",
       "18-29     bachelor's degree       79866.103                        NaN   \n",
       "          primary education             NaN                        NaN   \n",
       "          secondary education           NaN                        NaN   \n",
       "          some college                  NaN                        NaN   \n",
       "30-39     bachelor's degree             NaN                        NaN   \n",
       "          graduate degree               NaN                        NaN   \n",
       "          primary education             NaN                        NaN   \n",
       "          secondary education           NaN                   8612.661   \n",
       "          some college                  NaN                        NaN   \n",
       "40-49     bachelor's degree             NaN                        NaN   \n",
       "          graduate degree               NaN                        NaN   \n",
       "          primary education             NaN                        NaN   \n",
       "          secondary education           NaN                        NaN   \n",
       "          some college                  NaN                        NaN   \n",
       "50-59     bachelor's degree             NaN                        NaN   \n",
       "          graduate degree               NaN                        NaN   \n",
       "          primary education             NaN                        NaN   \n",
       "          secondary education           NaN                        NaN   \n",
       "          some college                  NaN                        NaN   \n",
       "60-69     bachelor's degree             NaN                        NaN   \n",
       "          graduate degree               NaN                        NaN   \n",
       "          primary education             NaN                        NaN   \n",
       "          secondary education           NaN                        NaN   \n",
       "          some college                  NaN                        NaN   \n",
       "70+       bachelor's degree             NaN                        NaN   \n",
       "          primary education             NaN                        NaN   \n",
       "          secondary education           NaN                        NaN   \n",
       "          some college                  NaN                        NaN   \n",
       "\n",
       "income_type                      retiree   student  unemployed  \n",
       "age_group education                                             \n",
       "18-29     bachelor's degree          NaN  15712.26         NaN  \n",
       "          primary education          NaN       NaN         NaN  \n",
       "          secondary education        NaN       NaN         NaN  \n",
       "          some college               NaN       NaN         NaN  \n",
       "30-39     bachelor's degree          NaN       NaN         NaN  \n",
       "          graduate degree            NaN       NaN         NaN  \n",
       "          primary education          NaN       NaN         NaN  \n",
       "          secondary education        NaN       NaN    9593.119  \n",
       "          some college               NaN       NaN         NaN  \n",
       "40-49     bachelor's degree          NaN       NaN   32435.602  \n",
       "          graduate degree            NaN       NaN         NaN  \n",
       "          primary education          NaN       NaN         NaN  \n",
       "          secondary education        NaN       NaN         NaN  \n",
       "          some college               NaN       NaN         NaN  \n",
       "50-59     bachelor's degree          NaN       NaN         NaN  \n",
       "          graduate degree            NaN       NaN         NaN  \n",
       "          primary education          NaN       NaN         NaN  \n",
       "          secondary education        NaN       NaN         NaN  \n",
       "          some college               NaN       NaN         NaN  \n",
       "60-69     bachelor's degree    23126.799       NaN         NaN  \n",
       "          graduate degree      28334.215       NaN         NaN  \n",
       "          primary education    16856.471       NaN         NaN  \n",
       "          secondary education  18414.666       NaN         NaN  \n",
       "          some college         19427.489       NaN         NaN  \n",
       "70+       bachelor's degree    22009.315       NaN         NaN  \n",
       "          primary education    15013.505       NaN         NaN  \n",
       "          secondary education  17543.248       NaN         NaN  \n",
       "          some college         14479.193       NaN         NaN  "
      ]
     },
     "execution_count": 171,
     "metadata": {},
     "output_type": "execute_result"
    }
   ],
   "source": [
    "# Look at the mean values for income based on your identified factors\n",
    "\n",
    "data_pivot = df_ref1.pivot_table(\n",
    "    index=['age_group', 'education'],\n",
    "    columns='income_type',\n",
    "    values='total_income',\n",
    "    aggfunc='median',\n",
    ")\n",
    "data_pivot"
   ]
  },
  {
   "cell_type": "code",
   "execution_count": 172,
   "metadata": {
    "scrolled": false
   },
   "outputs": [
    {
     "data": {
      "text/html": [
       "<div>\n",
       "<style scoped>\n",
       "    .dataframe tbody tr th:only-of-type {\n",
       "        vertical-align: middle;\n",
       "    }\n",
       "\n",
       "    .dataframe tbody tr th {\n",
       "        vertical-align: top;\n",
       "    }\n",
       "\n",
       "    .dataframe thead th {\n",
       "        text-align: right;\n",
       "    }\n",
       "</style>\n",
       "<table border=\"1\" class=\"dataframe\">\n",
       "  <thead>\n",
       "    <tr style=\"text-align: right;\">\n",
       "      <th></th>\n",
       "      <th>income_type</th>\n",
       "      <th>business</th>\n",
       "      <th>civil servant</th>\n",
       "      <th>employee</th>\n",
       "      <th>entrepreneur</th>\n",
       "      <th>paternity/maternity leave</th>\n",
       "      <th>retiree</th>\n",
       "      <th>student</th>\n",
       "      <th>unemployed</th>\n",
       "    </tr>\n",
       "    <tr>\n",
       "      <th>age_group</th>\n",
       "      <th>education</th>\n",
       "      <th></th>\n",
       "      <th></th>\n",
       "      <th></th>\n",
       "      <th></th>\n",
       "      <th></th>\n",
       "      <th></th>\n",
       "      <th></th>\n",
       "      <th></th>\n",
       "    </tr>\n",
       "  </thead>\n",
       "  <tbody>\n",
       "    <tr>\n",
       "      <td rowspan=\"4\" valign=\"top\">18-29</td>\n",
       "      <td>bachelor's degree</td>\n",
       "      <td>28250.2840</td>\n",
       "      <td>24617.5440</td>\n",
       "      <td>24030.5850</td>\n",
       "      <td>79866.103</td>\n",
       "      <td>NaN</td>\n",
       "      <td>NaN</td>\n",
       "      <td>15712.26</td>\n",
       "      <td>NaN</td>\n",
       "    </tr>\n",
       "    <tr>\n",
       "      <td>primary education</td>\n",
       "      <td>24210.1960</td>\n",
       "      <td>30563.3830</td>\n",
       "      <td>24583.5965</td>\n",
       "      <td>NaN</td>\n",
       "      <td>NaN</td>\n",
       "      <td>NaN</td>\n",
       "      <td>NaN</td>\n",
       "      <td>NaN</td>\n",
       "    </tr>\n",
       "    <tr>\n",
       "      <td>secondary education</td>\n",
       "      <td>23798.6260</td>\n",
       "      <td>21361.7300</td>\n",
       "      <td>20189.5580</td>\n",
       "      <td>NaN</td>\n",
       "      <td>NaN</td>\n",
       "      <td>NaN</td>\n",
       "      <td>NaN</td>\n",
       "      <td>NaN</td>\n",
       "    </tr>\n",
       "    <tr>\n",
       "      <td>some college</td>\n",
       "      <td>25570.8550</td>\n",
       "      <td>21297.7030</td>\n",
       "      <td>21783.0890</td>\n",
       "      <td>NaN</td>\n",
       "      <td>NaN</td>\n",
       "      <td>NaN</td>\n",
       "      <td>NaN</td>\n",
       "      <td>NaN</td>\n",
       "    </tr>\n",
       "    <tr>\n",
       "      <td rowspan=\"5\" valign=\"top\">30-39</td>\n",
       "      <td>bachelor's degree</td>\n",
       "      <td>32658.5990</td>\n",
       "      <td>27956.2445</td>\n",
       "      <td>26587.4230</td>\n",
       "      <td>NaN</td>\n",
       "      <td>NaN</td>\n",
       "      <td>NaN</td>\n",
       "      <td>NaN</td>\n",
       "      <td>NaN</td>\n",
       "    </tr>\n",
       "    <tr>\n",
       "      <td>graduate degree</td>\n",
       "      <td>NaN</td>\n",
       "      <td>17822.7570</td>\n",
       "      <td>18551.8460</td>\n",
       "      <td>NaN</td>\n",
       "      <td>NaN</td>\n",
       "      <td>NaN</td>\n",
       "      <td>NaN</td>\n",
       "      <td>NaN</td>\n",
       "    </tr>\n",
       "    <tr>\n",
       "      <td>primary education</td>\n",
       "      <td>20030.2260</td>\n",
       "      <td>21150.6960</td>\n",
       "      <td>19546.3410</td>\n",
       "      <td>NaN</td>\n",
       "      <td>NaN</td>\n",
       "      <td>NaN</td>\n",
       "      <td>NaN</td>\n",
       "      <td>NaN</td>\n",
       "    </tr>\n",
       "    <tr>\n",
       "      <td>secondary education</td>\n",
       "      <td>26292.5770</td>\n",
       "      <td>20870.9730</td>\n",
       "      <td>22079.6140</td>\n",
       "      <td>NaN</td>\n",
       "      <td>8612.661</td>\n",
       "      <td>NaN</td>\n",
       "      <td>NaN</td>\n",
       "      <td>9593.119</td>\n",
       "    </tr>\n",
       "    <tr>\n",
       "      <td>some college</td>\n",
       "      <td>29814.5275</td>\n",
       "      <td>30672.7180</td>\n",
       "      <td>26913.8230</td>\n",
       "      <td>NaN</td>\n",
       "      <td>NaN</td>\n",
       "      <td>NaN</td>\n",
       "      <td>NaN</td>\n",
       "      <td>NaN</td>\n",
       "    </tr>\n",
       "    <tr>\n",
       "      <td rowspan=\"5\" valign=\"top\">40-49</td>\n",
       "      <td>bachelor's degree</td>\n",
       "      <td>34592.0450</td>\n",
       "      <td>28425.4810</td>\n",
       "      <td>27427.6640</td>\n",
       "      <td>NaN</td>\n",
       "      <td>NaN</td>\n",
       "      <td>NaN</td>\n",
       "      <td>NaN</td>\n",
       "      <td>32435.602</td>\n",
       "    </tr>\n",
       "    <tr>\n",
       "      <td>graduate degree</td>\n",
       "      <td>NaN</td>\n",
       "      <td>NaN</td>\n",
       "      <td>31771.3210</td>\n",
       "      <td>NaN</td>\n",
       "      <td>NaN</td>\n",
       "      <td>NaN</td>\n",
       "      <td>NaN</td>\n",
       "      <td>NaN</td>\n",
       "    </tr>\n",
       "    <tr>\n",
       "      <td>primary education</td>\n",
       "      <td>27929.0980</td>\n",
       "      <td>78410.7740</td>\n",
       "      <td>21132.3895</td>\n",
       "      <td>NaN</td>\n",
       "      <td>NaN</td>\n",
       "      <td>NaN</td>\n",
       "      <td>NaN</td>\n",
       "      <td>NaN</td>\n",
       "    </tr>\n",
       "    <tr>\n",
       "      <td>secondary education</td>\n",
       "      <td>26115.6660</td>\n",
       "      <td>22349.0400</td>\n",
       "      <td>22217.0090</td>\n",
       "      <td>NaN</td>\n",
       "      <td>NaN</td>\n",
       "      <td>NaN</td>\n",
       "      <td>NaN</td>\n",
       "      <td>NaN</td>\n",
       "    </tr>\n",
       "    <tr>\n",
       "      <td>some college</td>\n",
       "      <td>35282.0940</td>\n",
       "      <td>26587.6740</td>\n",
       "      <td>26846.2815</td>\n",
       "      <td>NaN</td>\n",
       "      <td>NaN</td>\n",
       "      <td>NaN</td>\n",
       "      <td>NaN</td>\n",
       "      <td>NaN</td>\n",
       "    </tr>\n",
       "    <tr>\n",
       "      <td rowspan=\"5\" valign=\"top\">50-59</td>\n",
       "      <td>bachelor's degree</td>\n",
       "      <td>35379.3990</td>\n",
       "      <td>28366.5680</td>\n",
       "      <td>27503.5590</td>\n",
       "      <td>NaN</td>\n",
       "      <td>NaN</td>\n",
       "      <td>NaN</td>\n",
       "      <td>NaN</td>\n",
       "      <td>NaN</td>\n",
       "    </tr>\n",
       "    <tr>\n",
       "      <td>graduate degree</td>\n",
       "      <td>NaN</td>\n",
       "      <td>NaN</td>\n",
       "      <td>42945.7940</td>\n",
       "      <td>NaN</td>\n",
       "      <td>NaN</td>\n",
       "      <td>NaN</td>\n",
       "      <td>NaN</td>\n",
       "      <td>NaN</td>\n",
       "    </tr>\n",
       "    <tr>\n",
       "      <td>primary education</td>\n",
       "      <td>23066.1310</td>\n",
       "      <td>12709.2755</td>\n",
       "      <td>14599.2580</td>\n",
       "      <td>NaN</td>\n",
       "      <td>NaN</td>\n",
       "      <td>NaN</td>\n",
       "      <td>NaN</td>\n",
       "      <td>NaN</td>\n",
       "    </tr>\n",
       "    <tr>\n",
       "      <td>secondary education</td>\n",
       "      <td>24461.0155</td>\n",
       "      <td>21417.6660</td>\n",
       "      <td>21831.2455</td>\n",
       "      <td>NaN</td>\n",
       "      <td>NaN</td>\n",
       "      <td>NaN</td>\n",
       "      <td>NaN</td>\n",
       "      <td>NaN</td>\n",
       "    </tr>\n",
       "    <tr>\n",
       "      <td>some college</td>\n",
       "      <td>33073.7630</td>\n",
       "      <td>NaN</td>\n",
       "      <td>22644.3135</td>\n",
       "      <td>NaN</td>\n",
       "      <td>NaN</td>\n",
       "      <td>NaN</td>\n",
       "      <td>NaN</td>\n",
       "      <td>NaN</td>\n",
       "    </tr>\n",
       "    <tr>\n",
       "      <td rowspan=\"5\" valign=\"top\">60-69</td>\n",
       "      <td>bachelor's degree</td>\n",
       "      <td>30849.5425</td>\n",
       "      <td>27117.8410</td>\n",
       "      <td>27969.0405</td>\n",
       "      <td>NaN</td>\n",
       "      <td>NaN</td>\n",
       "      <td>23126.799</td>\n",
       "      <td>NaN</td>\n",
       "      <td>NaN</td>\n",
       "    </tr>\n",
       "    <tr>\n",
       "      <td>graduate degree</td>\n",
       "      <td>NaN</td>\n",
       "      <td>NaN</td>\n",
       "      <td>NaN</td>\n",
       "      <td>NaN</td>\n",
       "      <td>NaN</td>\n",
       "      <td>28334.215</td>\n",
       "      <td>NaN</td>\n",
       "      <td>NaN</td>\n",
       "    </tr>\n",
       "    <tr>\n",
       "      <td>primary education</td>\n",
       "      <td>NaN</td>\n",
       "      <td>NaN</td>\n",
       "      <td>26188.2420</td>\n",
       "      <td>NaN</td>\n",
       "      <td>NaN</td>\n",
       "      <td>16856.471</td>\n",
       "      <td>NaN</td>\n",
       "      <td>NaN</td>\n",
       "    </tr>\n",
       "    <tr>\n",
       "      <td>secondary education</td>\n",
       "      <td>27142.1265</td>\n",
       "      <td>22756.9360</td>\n",
       "      <td>21311.4815</td>\n",
       "      <td>NaN</td>\n",
       "      <td>NaN</td>\n",
       "      <td>18414.666</td>\n",
       "      <td>NaN</td>\n",
       "      <td>NaN</td>\n",
       "    </tr>\n",
       "    <tr>\n",
       "      <td>some college</td>\n",
       "      <td>37146.5350</td>\n",
       "      <td>NaN</td>\n",
       "      <td>32844.1030</td>\n",
       "      <td>NaN</td>\n",
       "      <td>NaN</td>\n",
       "      <td>19427.489</td>\n",
       "      <td>NaN</td>\n",
       "      <td>NaN</td>\n",
       "    </tr>\n",
       "    <tr>\n",
       "      <td rowspan=\"4\" valign=\"top\">70+</td>\n",
       "      <td>bachelor's degree</td>\n",
       "      <td>36808.9680</td>\n",
       "      <td>57508.0320</td>\n",
       "      <td>NaN</td>\n",
       "      <td>NaN</td>\n",
       "      <td>NaN</td>\n",
       "      <td>22009.315</td>\n",
       "      <td>NaN</td>\n",
       "      <td>NaN</td>\n",
       "    </tr>\n",
       "    <tr>\n",
       "      <td>primary education</td>\n",
       "      <td>NaN</td>\n",
       "      <td>NaN</td>\n",
       "      <td>NaN</td>\n",
       "      <td>NaN</td>\n",
       "      <td>NaN</td>\n",
       "      <td>15013.505</td>\n",
       "      <td>NaN</td>\n",
       "      <td>NaN</td>\n",
       "    </tr>\n",
       "    <tr>\n",
       "      <td>secondary education</td>\n",
       "      <td>24259.6870</td>\n",
       "      <td>19530.6775</td>\n",
       "      <td>24660.9010</td>\n",
       "      <td>NaN</td>\n",
       "      <td>NaN</td>\n",
       "      <td>17543.248</td>\n",
       "      <td>NaN</td>\n",
       "      <td>NaN</td>\n",
       "    </tr>\n",
       "    <tr>\n",
       "      <td>some college</td>\n",
       "      <td>NaN</td>\n",
       "      <td>NaN</td>\n",
       "      <td>NaN</td>\n",
       "      <td>NaN</td>\n",
       "      <td>NaN</td>\n",
       "      <td>14479.193</td>\n",
       "      <td>NaN</td>\n",
       "      <td>NaN</td>\n",
       "    </tr>\n",
       "  </tbody>\n",
       "</table>\n",
       "</div>"
      ],
      "text/plain": [
       "income_type                      business  civil servant    employee  \\\n",
       "age_group education                                                    \n",
       "18-29     bachelor's degree    28250.2840     24617.5440  24030.5850   \n",
       "          primary education    24210.1960     30563.3830  24583.5965   \n",
       "          secondary education  23798.6260     21361.7300  20189.5580   \n",
       "          some college         25570.8550     21297.7030  21783.0890   \n",
       "30-39     bachelor's degree    32658.5990     27956.2445  26587.4230   \n",
       "          graduate degree             NaN     17822.7570  18551.8460   \n",
       "          primary education    20030.2260     21150.6960  19546.3410   \n",
       "          secondary education  26292.5770     20870.9730  22079.6140   \n",
       "          some college         29814.5275     30672.7180  26913.8230   \n",
       "40-49     bachelor's degree    34592.0450     28425.4810  27427.6640   \n",
       "          graduate degree             NaN            NaN  31771.3210   \n",
       "          primary education    27929.0980     78410.7740  21132.3895   \n",
       "          secondary education  26115.6660     22349.0400  22217.0090   \n",
       "          some college         35282.0940     26587.6740  26846.2815   \n",
       "50-59     bachelor's degree    35379.3990     28366.5680  27503.5590   \n",
       "          graduate degree             NaN            NaN  42945.7940   \n",
       "          primary education    23066.1310     12709.2755  14599.2580   \n",
       "          secondary education  24461.0155     21417.6660  21831.2455   \n",
       "          some college         33073.7630            NaN  22644.3135   \n",
       "60-69     bachelor's degree    30849.5425     27117.8410  27969.0405   \n",
       "          graduate degree             NaN            NaN         NaN   \n",
       "          primary education           NaN            NaN  26188.2420   \n",
       "          secondary education  27142.1265     22756.9360  21311.4815   \n",
       "          some college         37146.5350            NaN  32844.1030   \n",
       "70+       bachelor's degree    36808.9680     57508.0320         NaN   \n",
       "          primary education           NaN            NaN         NaN   \n",
       "          secondary education  24259.6870     19530.6775  24660.9010   \n",
       "          some college                NaN            NaN         NaN   \n",
       "\n",
       "income_type                    entrepreneur  paternity/maternity leave  \\\n",
       "age_group education                                                      \n",
       "18-29     bachelor's degree       79866.103                        NaN   \n",
       "          primary education             NaN                        NaN   \n",
       "          secondary education           NaN                        NaN   \n",
       "          some college                  NaN                        NaN   \n",
       "30-39     bachelor's degree             NaN                        NaN   \n",
       "          graduate degree               NaN                        NaN   \n",
       "          primary education             NaN                        NaN   \n",
       "          secondary education           NaN                   8612.661   \n",
       "          some college                  NaN                        NaN   \n",
       "40-49     bachelor's degree             NaN                        NaN   \n",
       "          graduate degree               NaN                        NaN   \n",
       "          primary education             NaN                        NaN   \n",
       "          secondary education           NaN                        NaN   \n",
       "          some college                  NaN                        NaN   \n",
       "50-59     bachelor's degree             NaN                        NaN   \n",
       "          graduate degree               NaN                        NaN   \n",
       "          primary education             NaN                        NaN   \n",
       "          secondary education           NaN                        NaN   \n",
       "          some college                  NaN                        NaN   \n",
       "60-69     bachelor's degree             NaN                        NaN   \n",
       "          graduate degree               NaN                        NaN   \n",
       "          primary education             NaN                        NaN   \n",
       "          secondary education           NaN                        NaN   \n",
       "          some college                  NaN                        NaN   \n",
       "70+       bachelor's degree             NaN                        NaN   \n",
       "          primary education             NaN                        NaN   \n",
       "          secondary education           NaN                        NaN   \n",
       "          some college                  NaN                        NaN   \n",
       "\n",
       "income_type                      retiree   student  unemployed  \n",
       "age_group education                                             \n",
       "18-29     bachelor's degree          NaN  15712.26         NaN  \n",
       "          primary education          NaN       NaN         NaN  \n",
       "          secondary education        NaN       NaN         NaN  \n",
       "          some college               NaN       NaN         NaN  \n",
       "30-39     bachelor's degree          NaN       NaN         NaN  \n",
       "          graduate degree            NaN       NaN         NaN  \n",
       "          primary education          NaN       NaN         NaN  \n",
       "          secondary education        NaN       NaN    9593.119  \n",
       "          some college               NaN       NaN         NaN  \n",
       "40-49     bachelor's degree          NaN       NaN   32435.602  \n",
       "          graduate degree            NaN       NaN         NaN  \n",
       "          primary education          NaN       NaN         NaN  \n",
       "          secondary education        NaN       NaN         NaN  \n",
       "          some college               NaN       NaN         NaN  \n",
       "50-59     bachelor's degree          NaN       NaN         NaN  \n",
       "          graduate degree            NaN       NaN         NaN  \n",
       "          primary education          NaN       NaN         NaN  \n",
       "          secondary education        NaN       NaN         NaN  \n",
       "          some college               NaN       NaN         NaN  \n",
       "60-69     bachelor's degree    23126.799       NaN         NaN  \n",
       "          graduate degree      28334.215       NaN         NaN  \n",
       "          primary education    16856.471       NaN         NaN  \n",
       "          secondary education  18414.666       NaN         NaN  \n",
       "          some college         19427.489       NaN         NaN  \n",
       "70+       bachelor's degree    22009.315       NaN         NaN  \n",
       "          primary education    15013.505       NaN         NaN  \n",
       "          secondary education  17543.248       NaN         NaN  \n",
       "          some college         14479.193       NaN         NaN  "
      ]
     },
     "execution_count": 172,
     "metadata": {},
     "output_type": "execute_result"
    }
   ],
   "source": [
    "# Look at the median values for income based on your identified factors\n",
    "\n",
    "data_pivot1 = df_ref1.pivot_table(\n",
    "    index=['age_group', 'education'],\n",
    "    columns='income_type',\n",
    "    values='total_income',\n",
    "    aggfunc='median',\n",
    ")\n",
    "data_pivot1"
   ]
  },
  {
   "cell_type": "markdown",
   "metadata": {},
   "source": [
    "The imputation method should be decided after considering the distribution of data: normal distribution and skewed distribution (be it right-skewed or left-skewed). Mean imputation works better if the distribution is normally-distributed or has a Gaussian distribution, while median imputation is preferable for skewed distribution(be it right or left). As we can see in pivot tables mean values are greater than median values. That means the data are skewed to the left, and we have to use the median to replace missing values."
   ]
  },
  {
   "cell_type": "code",
   "execution_count": 173,
   "metadata": {},
   "outputs": [],
   "source": [
    "#  Write a function that we will use for filling in missing values\n",
    "\n",
    "def filling_missing_values(column, factors, function):\n",
    "    df[column] = df[column].fillna(df.groupby(factors)[column].transform(function))\n",
    "    return"
   ]
  },
  {
   "cell_type": "code",
   "execution_count": 174,
   "metadata": {},
   "outputs": [
    {
     "data": {
      "text/html": [
       "<div>\n",
       "<style scoped>\n",
       "    .dataframe tbody tr th:only-of-type {\n",
       "        vertical-align: middle;\n",
       "    }\n",
       "\n",
       "    .dataframe tbody tr th {\n",
       "        vertical-align: top;\n",
       "    }\n",
       "\n",
       "    .dataframe thead th {\n",
       "        text-align: right;\n",
       "    }\n",
       "</style>\n",
       "<table border=\"1\" class=\"dataframe\">\n",
       "  <thead>\n",
       "    <tr style=\"text-align: right;\">\n",
       "      <th></th>\n",
       "      <th>days_employed</th>\n",
       "      <th>education</th>\n",
       "      <th>income_type</th>\n",
       "      <th>total_income</th>\n",
       "      <th>age_group</th>\n",
       "    </tr>\n",
       "  </thead>\n",
       "  <tbody>\n",
       "    <tr>\n",
       "      <td>0</td>\n",
       "      <td>8437.673028</td>\n",
       "      <td>bachelor's degree</td>\n",
       "      <td>employee</td>\n",
       "      <td>40620.102</td>\n",
       "      <td>40-49</td>\n",
       "    </tr>\n",
       "    <tr>\n",
       "      <td>1</td>\n",
       "      <td>4024.803754</td>\n",
       "      <td>secondary education</td>\n",
       "      <td>employee</td>\n",
       "      <td>17932.802</td>\n",
       "      <td>30-39</td>\n",
       "    </tr>\n",
       "    <tr>\n",
       "      <td>2</td>\n",
       "      <td>5623.422610</td>\n",
       "      <td>secondary education</td>\n",
       "      <td>employee</td>\n",
       "      <td>23341.752</td>\n",
       "      <td>30-39</td>\n",
       "    </tr>\n",
       "    <tr>\n",
       "      <td>3</td>\n",
       "      <td>4124.747207</td>\n",
       "      <td>secondary education</td>\n",
       "      <td>employee</td>\n",
       "      <td>42820.568</td>\n",
       "      <td>30-39</td>\n",
       "    </tr>\n",
       "    <tr>\n",
       "      <td>4</td>\n",
       "      <td>8795.549101</td>\n",
       "      <td>secondary education</td>\n",
       "      <td>retiree</td>\n",
       "      <td>25378.572</td>\n",
       "      <td>60-69</td>\n",
       "    </tr>\n",
       "    <tr>\n",
       "      <td>5</td>\n",
       "      <td>926.185831</td>\n",
       "      <td>bachelor's degree</td>\n",
       "      <td>business</td>\n",
       "      <td>40922.170</td>\n",
       "      <td>18-29</td>\n",
       "    </tr>\n",
       "    <tr>\n",
       "      <td>6</td>\n",
       "      <td>2879.202052</td>\n",
       "      <td>bachelor's degree</td>\n",
       "      <td>business</td>\n",
       "      <td>38484.156</td>\n",
       "      <td>40-49</td>\n",
       "    </tr>\n",
       "    <tr>\n",
       "      <td>7</td>\n",
       "      <td>152.779569</td>\n",
       "      <td>secondary education</td>\n",
       "      <td>employee</td>\n",
       "      <td>21731.829</td>\n",
       "      <td>50-59</td>\n",
       "    </tr>\n",
       "    <tr>\n",
       "      <td>8</td>\n",
       "      <td>6929.865299</td>\n",
       "      <td>bachelor's degree</td>\n",
       "      <td>employee</td>\n",
       "      <td>15337.093</td>\n",
       "      <td>30-39</td>\n",
       "    </tr>\n",
       "    <tr>\n",
       "      <td>9</td>\n",
       "      <td>2188.756445</td>\n",
       "      <td>secondary education</td>\n",
       "      <td>employee</td>\n",
       "      <td>23108.150</td>\n",
       "      <td>40-49</td>\n",
       "    </tr>\n",
       "    <tr>\n",
       "      <td>10</td>\n",
       "      <td>4171.483647</td>\n",
       "      <td>bachelor's degree</td>\n",
       "      <td>business</td>\n",
       "      <td>18230.959</td>\n",
       "      <td>30-39</td>\n",
       "    </tr>\n",
       "    <tr>\n",
       "      <td>11</td>\n",
       "      <td>792.701887</td>\n",
       "      <td>secondary education</td>\n",
       "      <td>employee</td>\n",
       "      <td>12331.077</td>\n",
       "      <td>40-49</td>\n",
       "    </tr>\n",
       "    <tr>\n",
       "      <td>12</td>\n",
       "      <td>NaN</td>\n",
       "      <td>secondary education</td>\n",
       "      <td>retiree</td>\n",
       "      <td>18414.666</td>\n",
       "      <td>60-69</td>\n",
       "    </tr>\n",
       "    <tr>\n",
       "      <td>13</td>\n",
       "      <td>1846.641941</td>\n",
       "      <td>some college</td>\n",
       "      <td>employee</td>\n",
       "      <td>20873.317</td>\n",
       "      <td>50-59</td>\n",
       "    </tr>\n",
       "    <tr>\n",
       "      <td>14</td>\n",
       "      <td>1844.956182</td>\n",
       "      <td>bachelor's degree</td>\n",
       "      <td>business</td>\n",
       "      <td>26420.466</td>\n",
       "      <td>50-59</td>\n",
       "    </tr>\n",
       "    <tr>\n",
       "      <td>15</td>\n",
       "      <td>972.364419</td>\n",
       "      <td>secondary education</td>\n",
       "      <td>employee</td>\n",
       "      <td>18691.345</td>\n",
       "      <td>18-29</td>\n",
       "    </tr>\n",
       "    <tr>\n",
       "      <td>16</td>\n",
       "      <td>1719.934226</td>\n",
       "      <td>secondary education</td>\n",
       "      <td>employee</td>\n",
       "      <td>46272.433</td>\n",
       "      <td>30-39</td>\n",
       "    </tr>\n",
       "    <tr>\n",
       "      <td>17</td>\n",
       "      <td>2369.999720</td>\n",
       "      <td>bachelor's degree</td>\n",
       "      <td>employee</td>\n",
       "      <td>14465.694</td>\n",
       "      <td>30-39</td>\n",
       "    </tr>\n",
       "    <tr>\n",
       "      <td>18</td>\n",
       "      <td>8795.549101</td>\n",
       "      <td>secondary education</td>\n",
       "      <td>retiree</td>\n",
       "      <td>9091.804</td>\n",
       "      <td>60-69</td>\n",
       "    </tr>\n",
       "    <tr>\n",
       "      <td>19</td>\n",
       "      <td>10038.818549</td>\n",
       "      <td>secondary education</td>\n",
       "      <td>employee</td>\n",
       "      <td>38852.977</td>\n",
       "      <td>40-49</td>\n",
       "    </tr>\n",
       "    <tr>\n",
       "      <td>20</td>\n",
       "      <td>1311.604166</td>\n",
       "      <td>secondary education</td>\n",
       "      <td>employee</td>\n",
       "      <td>33528.423</td>\n",
       "      <td>30-39</td>\n",
       "    </tr>\n",
       "    <tr>\n",
       "      <td>21</td>\n",
       "      <td>253.685166</td>\n",
       "      <td>secondary education</td>\n",
       "      <td>employee</td>\n",
       "      <td>21089.953</td>\n",
       "      <td>30-39</td>\n",
       "    </tr>\n",
       "    <tr>\n",
       "      <td>22</td>\n",
       "      <td>1766.644138</td>\n",
       "      <td>secondary education</td>\n",
       "      <td>employee</td>\n",
       "      <td>23948.983</td>\n",
       "      <td>18-29</td>\n",
       "    </tr>\n",
       "    <tr>\n",
       "      <td>23</td>\n",
       "      <td>272.981385</td>\n",
       "      <td>bachelor's degree</td>\n",
       "      <td>employee</td>\n",
       "      <td>20522.515</td>\n",
       "      <td>18-29</td>\n",
       "    </tr>\n",
       "    <tr>\n",
       "      <td>24</td>\n",
       "      <td>8795.549101</td>\n",
       "      <td>secondary education</td>\n",
       "      <td>retiree</td>\n",
       "      <td>46487.558</td>\n",
       "      <td>60-69</td>\n",
       "    </tr>\n",
       "    <tr>\n",
       "      <td>25</td>\n",
       "      <td>8795.549101</td>\n",
       "      <td>secondary education</td>\n",
       "      <td>retiree</td>\n",
       "      <td>8818.041</td>\n",
       "      <td>60-69</td>\n",
       "    </tr>\n",
       "    <tr>\n",
       "      <td>26</td>\n",
       "      <td>NaN</td>\n",
       "      <td>secondary education</td>\n",
       "      <td>civil servant</td>\n",
       "      <td>22349.040</td>\n",
       "      <td>40-49</td>\n",
       "    </tr>\n",
       "    <tr>\n",
       "      <td>27</td>\n",
       "      <td>529.191635</td>\n",
       "      <td>bachelor's degree</td>\n",
       "      <td>employee</td>\n",
       "      <td>49415.837</td>\n",
       "      <td>18-29</td>\n",
       "    </tr>\n",
       "    <tr>\n",
       "      <td>28</td>\n",
       "      <td>717.274324</td>\n",
       "      <td>bachelor's degree</td>\n",
       "      <td>employee</td>\n",
       "      <td>30058.118</td>\n",
       "      <td>18-29</td>\n",
       "    </tr>\n",
       "    <tr>\n",
       "      <td>29</td>\n",
       "      <td>NaN</td>\n",
       "      <td>secondary education</td>\n",
       "      <td>retiree</td>\n",
       "      <td>18414.666</td>\n",
       "      <td>60-69</td>\n",
       "    </tr>\n",
       "  </tbody>\n",
       "</table>\n",
       "</div>"
      ],
      "text/plain": [
       "    days_employed            education    income_type  total_income age_group\n",
       "0     8437.673028    bachelor's degree       employee     40620.102     40-49\n",
       "1     4024.803754  secondary education       employee     17932.802     30-39\n",
       "2     5623.422610  secondary education       employee     23341.752     30-39\n",
       "3     4124.747207  secondary education       employee     42820.568     30-39\n",
       "4     8795.549101  secondary education        retiree     25378.572     60-69\n",
       "5      926.185831    bachelor's degree       business     40922.170     18-29\n",
       "6     2879.202052    bachelor's degree       business     38484.156     40-49\n",
       "7      152.779569  secondary education       employee     21731.829     50-59\n",
       "8     6929.865299    bachelor's degree       employee     15337.093     30-39\n",
       "9     2188.756445  secondary education       employee     23108.150     40-49\n",
       "10    4171.483647    bachelor's degree       business     18230.959     30-39\n",
       "11     792.701887  secondary education       employee     12331.077     40-49\n",
       "12            NaN  secondary education        retiree     18414.666     60-69\n",
       "13    1846.641941         some college       employee     20873.317     50-59\n",
       "14    1844.956182    bachelor's degree       business     26420.466     50-59\n",
       "15     972.364419  secondary education       employee     18691.345     18-29\n",
       "16    1719.934226  secondary education       employee     46272.433     30-39\n",
       "17    2369.999720    bachelor's degree       employee     14465.694     30-39\n",
       "18    8795.549101  secondary education        retiree      9091.804     60-69\n",
       "19   10038.818549  secondary education       employee     38852.977     40-49\n",
       "20    1311.604166  secondary education       employee     33528.423     30-39\n",
       "21     253.685166  secondary education       employee     21089.953     30-39\n",
       "22    1766.644138  secondary education       employee     23948.983     18-29\n",
       "23     272.981385    bachelor's degree       employee     20522.515     18-29\n",
       "24    8795.549101  secondary education        retiree     46487.558     60-69\n",
       "25    8795.549101  secondary education        retiree      8818.041     60-69\n",
       "26            NaN  secondary education  civil servant     22349.040     40-49\n",
       "27     529.191635    bachelor's degree       employee     49415.837     18-29\n",
       "28     717.274324    bachelor's degree       employee     30058.118     18-29\n",
       "29            NaN  secondary education        retiree     18414.666     60-69"
      ]
     },
     "execution_count": 174,
     "metadata": {},
     "output_type": "execute_result"
    }
   ],
   "source": [
    "# Check if it works\n",
    "\n",
    "filling_missing_values('total_income', ['education','age_group', 'income_type'], 'median')\n",
    "df[['days_employed', 'education', 'income_type', 'total_income', 'age_group']].head(30)"
   ]
  },
  {
   "cell_type": "code",
   "execution_count": 175,
   "metadata": {},
   "outputs": [],
   "source": [
    "# Apply it to every row\n",
    "\n",
    "column='total_income'\n",
    "factors=['education','age_group', 'income_type']\n",
    "function= 'median'\n",
    "filling_missing_values(column, factors, function)"
   ]
  },
  {
   "cell_type": "code",
   "execution_count": 176,
   "metadata": {},
   "outputs": [
    {
     "data": {
      "text/html": [
       "<div>\n",
       "<style scoped>\n",
       "    .dataframe tbody tr th:only-of-type {\n",
       "        vertical-align: middle;\n",
       "    }\n",
       "\n",
       "    .dataframe tbody tr th {\n",
       "        vertical-align: top;\n",
       "    }\n",
       "\n",
       "    .dataframe thead th {\n",
       "        text-align: right;\n",
       "    }\n",
       "</style>\n",
       "<table border=\"1\" class=\"dataframe\">\n",
       "  <thead>\n",
       "    <tr style=\"text-align: right;\">\n",
       "      <th></th>\n",
       "      <th>children</th>\n",
       "      <th>days_employed</th>\n",
       "      <th>dob_years</th>\n",
       "      <th>education</th>\n",
       "      <th>education_id</th>\n",
       "      <th>family_status</th>\n",
       "      <th>family_status_id</th>\n",
       "      <th>gender</th>\n",
       "      <th>income_type</th>\n",
       "      <th>debt</th>\n",
       "      <th>total_income</th>\n",
       "      <th>purpose</th>\n",
       "      <th>age_group</th>\n",
       "    </tr>\n",
       "  </thead>\n",
       "  <tbody>\n",
       "    <tr>\n",
       "      <td>1303</td>\n",
       "      <td>1</td>\n",
       "      <td>NaN</td>\n",
       "      <td>70</td>\n",
       "      <td>primary education</td>\n",
       "      <td>3</td>\n",
       "      <td>civil partnership</td>\n",
       "      <td>1</td>\n",
       "      <td>F</td>\n",
       "      <td>employee</td>\n",
       "      <td>0</td>\n",
       "      <td>NaN</td>\n",
       "      <td>transactions with commercial real estate</td>\n",
       "      <td>70+</td>\n",
       "    </tr>\n",
       "    <tr>\n",
       "      <td>5936</td>\n",
       "      <td>0</td>\n",
       "      <td>NaN</td>\n",
       "      <td>58</td>\n",
       "      <td>bachelor's degree</td>\n",
       "      <td>0</td>\n",
       "      <td>married</td>\n",
       "      <td>0</td>\n",
       "      <td>M</td>\n",
       "      <td>entrepreneur</td>\n",
       "      <td>0</td>\n",
       "      <td>NaN</td>\n",
       "      <td>buy residential real estate</td>\n",
       "      <td>50-59</td>\n",
       "    </tr>\n",
       "    <tr>\n",
       "      <td>8142</td>\n",
       "      <td>0</td>\n",
       "      <td>NaN</td>\n",
       "      <td>64</td>\n",
       "      <td>primary education</td>\n",
       "      <td>3</td>\n",
       "      <td>civil partnership</td>\n",
       "      <td>1</td>\n",
       "      <td>F</td>\n",
       "      <td>civil servant</td>\n",
       "      <td>0</td>\n",
       "      <td>NaN</td>\n",
       "      <td>to have a wedding</td>\n",
       "      <td>60-69</td>\n",
       "    </tr>\n",
       "  </tbody>\n",
       "</table>\n",
       "</div>"
      ],
      "text/plain": [
       "      children  days_employed  dob_years          education  education_id  \\\n",
       "1303         1            NaN         70  primary education             3   \n",
       "5936         0            NaN         58  bachelor's degree             0   \n",
       "8142         0            NaN         64  primary education             3   \n",
       "\n",
       "          family_status  family_status_id gender    income_type  debt  \\\n",
       "1303  civil partnership                 1      F       employee     0   \n",
       "5936            married                 0      M   entrepreneur     0   \n",
       "8142  civil partnership                 1      F  civil servant     0   \n",
       "\n",
       "      total_income                                   purpose age_group  \n",
       "1303           NaN  transactions with commercial real estate       70+  \n",
       "5936           NaN               buy residential real estate     50-59  \n",
       "8142           NaN                         to have a wedding     60-69  "
      ]
     },
     "execution_count": 176,
     "metadata": {},
     "output_type": "execute_result"
    }
   ],
   "source": [
    "# Check if we got any errors\n",
    "\n",
    "df[df['total_income'].isna()]"
   ]
  },
  {
   "cell_type": "markdown",
   "metadata": {},
   "source": [
    "We still have missing values because it was not enougth data for those specific combinations. In pivot table we may notice that we have enough information to find median in `age group` - `education` combination. That data should be used to replase the remaining missing values."
   ]
  },
  {
   "cell_type": "code",
   "execution_count": 177,
   "metadata": {},
   "outputs": [],
   "source": [
    "# Replacing missing values if there are any errors\n",
    "\n",
    "df['total_income'] = df['total_income'].fillna(df.groupby(['education','age_group'])['total_income'].transform('median'))"
   ]
  },
  {
   "cell_type": "markdown",
   "metadata": {},
   "source": [
    "Obtaining the general information of dataset to check the number of rows in `total_income` column:"
   ]
  },
  {
   "cell_type": "code",
   "execution_count": 178,
   "metadata": {},
   "outputs": [
    {
     "name": "stdout",
     "output_type": "stream",
     "text": [
      "<class 'pandas.core.frame.DataFrame'>\n",
      "RangeIndex: 21525 entries, 0 to 21524\n",
      "Data columns (total 13 columns):\n",
      "children            21525 non-null int64\n",
      "days_employed       19351 non-null float64\n",
      "dob_years           21525 non-null int64\n",
      "education           21525 non-null object\n",
      "education_id        21525 non-null int64\n",
      "family_status       21525 non-null object\n",
      "family_status_id    21525 non-null int64\n",
      "gender              21525 non-null object\n",
      "income_type         21525 non-null object\n",
      "debt                21525 non-null int64\n",
      "total_income        21525 non-null float64\n",
      "purpose             21525 non-null object\n",
      "age_group           21525 non-null object\n",
      "dtypes: float64(2), int64(5), object(6)\n",
      "memory usage: 2.1+ MB\n"
     ]
    }
   ],
   "source": [
    "# Checking the number of entries in the columns\n",
    "\n",
    "df.info()"
   ]
  },
  {
   "cell_type": "markdown",
   "metadata": {},
   "source": [
    "###  Restoring values in `days_employed`"
   ]
  },
  {
   "cell_type": "markdown",
   "metadata": {},
   "source": [
    "The amount of emploed days as an income depends on many factors such as:\n",
    "- Education \n",
    "- Age group\n",
    "- Common trends\n",
    "- Economic situation in the world or/and country\n",
    "\n",
    "Due to the impossibility and inaccessibility of presenting `common trends` and `Economic situation` in current Data Frame, we have to use `age group` and `education` as factors on which the `days_employed` values depend."
   ]
  },
  {
   "cell_type": "code",
   "execution_count": 179,
   "metadata": {
    "pycharm": {
     "name": "#%%\n"
    }
   },
   "outputs": [
    {
     "data": {
      "text/html": [
       "<div>\n",
       "<style scoped>\n",
       "    .dataframe tbody tr th:only-of-type {\n",
       "        vertical-align: middle;\n",
       "    }\n",
       "\n",
       "    .dataframe tbody tr th {\n",
       "        vertical-align: top;\n",
       "    }\n",
       "\n",
       "    .dataframe thead th {\n",
       "        text-align: right;\n",
       "    }\n",
       "</style>\n",
       "<table border=\"1\" class=\"dataframe\">\n",
       "  <thead>\n",
       "    <tr style=\"text-align: right;\">\n",
       "      <th></th>\n",
       "      <th></th>\n",
       "      <th>days_employed</th>\n",
       "    </tr>\n",
       "    <tr>\n",
       "      <th>age_group</th>\n",
       "      <th>education</th>\n",
       "      <th></th>\n",
       "    </tr>\n",
       "  </thead>\n",
       "  <tbody>\n",
       "    <tr>\n",
       "      <td rowspan=\"4\" valign=\"top\">18-29</td>\n",
       "      <td>bachelor's degree</td>\n",
       "      <td>1005.389899</td>\n",
       "    </tr>\n",
       "    <tr>\n",
       "      <td>primary education</td>\n",
       "      <td>1030.219648</td>\n",
       "    </tr>\n",
       "    <tr>\n",
       "      <td>secondary education</td>\n",
       "      <td>1013.920085</td>\n",
       "    </tr>\n",
       "    <tr>\n",
       "      <td>some college</td>\n",
       "      <td>885.268574</td>\n",
       "    </tr>\n",
       "    <tr>\n",
       "      <td rowspan=\"5\" valign=\"top\">30-39</td>\n",
       "      <td>bachelor's degree</td>\n",
       "      <td>1588.713712</td>\n",
       "    </tr>\n",
       "    <tr>\n",
       "      <td>graduate degree</td>\n",
       "      <td>4159.753909</td>\n",
       "    </tr>\n",
       "    <tr>\n",
       "      <td>primary education</td>\n",
       "      <td>1089.565214</td>\n",
       "    </tr>\n",
       "    <tr>\n",
       "      <td>secondary education</td>\n",
       "      <td>1623.096078</td>\n",
       "    </tr>\n",
       "    <tr>\n",
       "      <td>some college</td>\n",
       "      <td>1203.830172</td>\n",
       "    </tr>\n",
       "    <tr>\n",
       "      <td rowspan=\"5\" valign=\"top\">40-49</td>\n",
       "      <td>bachelor's degree</td>\n",
       "      <td>2036.307491</td>\n",
       "    </tr>\n",
       "    <tr>\n",
       "      <td>graduate degree</td>\n",
       "      <td>409.200149</td>\n",
       "    </tr>\n",
       "    <tr>\n",
       "      <td>primary education</td>\n",
       "      <td>1040.381892</td>\n",
       "    </tr>\n",
       "    <tr>\n",
       "      <td>secondary education</td>\n",
       "      <td>2034.017486</td>\n",
       "    </tr>\n",
       "    <tr>\n",
       "      <td>some college</td>\n",
       "      <td>2019.735237</td>\n",
       "    </tr>\n",
       "    <tr>\n",
       "      <td rowspan=\"5\" valign=\"top\">50-59</td>\n",
       "      <td>bachelor's degree</td>\n",
       "      <td>2375.776732</td>\n",
       "    </tr>\n",
       "    <tr>\n",
       "      <td>graduate degree</td>\n",
       "      <td>5352.038180</td>\n",
       "    </tr>\n",
       "    <tr>\n",
       "      <td>primary education</td>\n",
       "      <td>2265.784893</td>\n",
       "    </tr>\n",
       "    <tr>\n",
       "      <td>secondary education</td>\n",
       "      <td>2241.409985</td>\n",
       "    </tr>\n",
       "    <tr>\n",
       "      <td>some college</td>\n",
       "      <td>1898.186430</td>\n",
       "    </tr>\n",
       "    <tr>\n",
       "      <td rowspan=\"5\" valign=\"top\">60-69</td>\n",
       "      <td>bachelor's degree</td>\n",
       "      <td>8795.549101</td>\n",
       "    </tr>\n",
       "    <tr>\n",
       "      <td>graduate degree</td>\n",
       "      <td>8795.549101</td>\n",
       "    </tr>\n",
       "    <tr>\n",
       "      <td>primary education</td>\n",
       "      <td>8795.549101</td>\n",
       "    </tr>\n",
       "    <tr>\n",
       "      <td>secondary education</td>\n",
       "      <td>8795.549101</td>\n",
       "    </tr>\n",
       "    <tr>\n",
       "      <td>some college</td>\n",
       "      <td>8795.549101</td>\n",
       "    </tr>\n",
       "    <tr>\n",
       "      <td rowspan=\"4\" valign=\"top\">70+</td>\n",
       "      <td>bachelor's degree</td>\n",
       "      <td>8795.549101</td>\n",
       "    </tr>\n",
       "    <tr>\n",
       "      <td>primary education</td>\n",
       "      <td>8795.549101</td>\n",
       "    </tr>\n",
       "    <tr>\n",
       "      <td>secondary education</td>\n",
       "      <td>8795.549101</td>\n",
       "    </tr>\n",
       "    <tr>\n",
       "      <td>some college</td>\n",
       "      <td>8795.549101</td>\n",
       "    </tr>\n",
       "  </tbody>\n",
       "</table>\n",
       "</div>"
      ],
      "text/plain": [
       "                               days_employed\n",
       "age_group education                         \n",
       "18-29     bachelor's degree      1005.389899\n",
       "          primary education      1030.219648\n",
       "          secondary education    1013.920085\n",
       "          some college            885.268574\n",
       "30-39     bachelor's degree      1588.713712\n",
       "          graduate degree        4159.753909\n",
       "          primary education      1089.565214\n",
       "          secondary education    1623.096078\n",
       "          some college           1203.830172\n",
       "40-49     bachelor's degree      2036.307491\n",
       "          graduate degree         409.200149\n",
       "          primary education      1040.381892\n",
       "          secondary education    2034.017486\n",
       "          some college           2019.735237\n",
       "50-59     bachelor's degree      2375.776732\n",
       "          graduate degree        5352.038180\n",
       "          primary education      2265.784893\n",
       "          secondary education    2241.409985\n",
       "          some college           1898.186430\n",
       "60-69     bachelor's degree      8795.549101\n",
       "          graduate degree        8795.549101\n",
       "          primary education      8795.549101\n",
       "          secondary education    8795.549101\n",
       "          some college           8795.549101\n",
       "70+       bachelor's degree      8795.549101\n",
       "          primary education      8795.549101\n",
       "          secondary education    8795.549101\n",
       "          some college           8795.549101"
      ]
     },
     "execution_count": 179,
     "metadata": {},
     "output_type": "execute_result"
    }
   ],
   "source": [
    "# Distribution of `days_employed` medians based on your identified parameters\n",
    "\n",
    "data_pivot1 = df_ref1.pivot_table(\n",
    "    index=['age_group', 'education'],\n",
    "    values='days_employed',\n",
    "    aggfunc='median',\n",
    ")\n",
    "\n",
    "data_pivot1"
   ]
  },
  {
   "cell_type": "code",
   "execution_count": 180,
   "metadata": {},
   "outputs": [
    {
     "data": {
      "text/html": [
       "<div>\n",
       "<style scoped>\n",
       "    .dataframe tbody tr th:only-of-type {\n",
       "        vertical-align: middle;\n",
       "    }\n",
       "\n",
       "    .dataframe tbody tr th {\n",
       "        vertical-align: top;\n",
       "    }\n",
       "\n",
       "    .dataframe thead th {\n",
       "        text-align: right;\n",
       "    }\n",
       "</style>\n",
       "<table border=\"1\" class=\"dataframe\">\n",
       "  <thead>\n",
       "    <tr style=\"text-align: right;\">\n",
       "      <th></th>\n",
       "      <th></th>\n",
       "      <th>days_employed</th>\n",
       "    </tr>\n",
       "    <tr>\n",
       "      <th>age_group</th>\n",
       "      <th>education</th>\n",
       "      <th></th>\n",
       "    </tr>\n",
       "  </thead>\n",
       "  <tbody>\n",
       "    <tr>\n",
       "      <td rowspan=\"4\" valign=\"top\">18-29</td>\n",
       "      <td>bachelor's degree</td>\n",
       "      <td>1225.819806</td>\n",
       "    </tr>\n",
       "    <tr>\n",
       "      <td>primary education</td>\n",
       "      <td>1236.562385</td>\n",
       "    </tr>\n",
       "    <tr>\n",
       "      <td>secondary education</td>\n",
       "      <td>1228.268849</td>\n",
       "    </tr>\n",
       "    <tr>\n",
       "      <td>some college</td>\n",
       "      <td>1045.216936</td>\n",
       "    </tr>\n",
       "    <tr>\n",
       "      <td rowspan=\"5\" valign=\"top\">30-39</td>\n",
       "      <td>bachelor's degree</td>\n",
       "      <td>2020.202275</td>\n",
       "    </tr>\n",
       "    <tr>\n",
       "      <td>graduate degree</td>\n",
       "      <td>4159.753909</td>\n",
       "    </tr>\n",
       "    <tr>\n",
       "      <td>primary education</td>\n",
       "      <td>1711.383434</td>\n",
       "    </tr>\n",
       "    <tr>\n",
       "      <td>secondary education</td>\n",
       "      <td>2062.472022</td>\n",
       "    </tr>\n",
       "    <tr>\n",
       "      <td>some college</td>\n",
       "      <td>1562.183882</td>\n",
       "    </tr>\n",
       "    <tr>\n",
       "      <td rowspan=\"5\" valign=\"top\">40-49</td>\n",
       "      <td>bachelor's degree</td>\n",
       "      <td>2719.149072</td>\n",
       "    </tr>\n",
       "    <tr>\n",
       "      <td>graduate degree</td>\n",
       "      <td>409.200149</td>\n",
       "    </tr>\n",
       "    <tr>\n",
       "      <td>primary education</td>\n",
       "      <td>1793.631404</td>\n",
       "    </tr>\n",
       "    <tr>\n",
       "      <td>secondary education</td>\n",
       "      <td>2766.541153</td>\n",
       "    </tr>\n",
       "    <tr>\n",
       "      <td>some college</td>\n",
       "      <td>2451.018995</td>\n",
       "    </tr>\n",
       "    <tr>\n",
       "      <td rowspan=\"5\" valign=\"top\">50-59</td>\n",
       "      <td>bachelor's degree</td>\n",
       "      <td>3306.590162</td>\n",
       "    </tr>\n",
       "    <tr>\n",
       "      <td>graduate degree</td>\n",
       "      <td>5352.038180</td>\n",
       "    </tr>\n",
       "    <tr>\n",
       "      <td>primary education</td>\n",
       "      <td>3132.947220</td>\n",
       "    </tr>\n",
       "    <tr>\n",
       "      <td>secondary education</td>\n",
       "      <td>3259.390951</td>\n",
       "    </tr>\n",
       "    <tr>\n",
       "      <td>some college</td>\n",
       "      <td>2665.876064</td>\n",
       "    </tr>\n",
       "    <tr>\n",
       "      <td rowspan=\"5\" valign=\"top\">60-69</td>\n",
       "      <td>bachelor's degree</td>\n",
       "      <td>7842.726726</td>\n",
       "    </tr>\n",
       "    <tr>\n",
       "      <td>graduate degree</td>\n",
       "      <td>8795.549101</td>\n",
       "    </tr>\n",
       "    <tr>\n",
       "      <td>primary education</td>\n",
       "      <td>8411.921496</td>\n",
       "    </tr>\n",
       "    <tr>\n",
       "      <td>secondary education</td>\n",
       "      <td>8245.987859</td>\n",
       "    </tr>\n",
       "    <tr>\n",
       "      <td>some college</td>\n",
       "      <td>7512.882571</td>\n",
       "    </tr>\n",
       "    <tr>\n",
       "      <td rowspan=\"4\" valign=\"top\">70+</td>\n",
       "      <td>bachelor's degree</td>\n",
       "      <td>8946.682133</td>\n",
       "    </tr>\n",
       "    <tr>\n",
       "      <td>primary education</td>\n",
       "      <td>8795.549101</td>\n",
       "    </tr>\n",
       "    <tr>\n",
       "      <td>secondary education</td>\n",
       "      <td>8048.691910</td>\n",
       "    </tr>\n",
       "    <tr>\n",
       "      <td>some college</td>\n",
       "      <td>8795.549101</td>\n",
       "    </tr>\n",
       "  </tbody>\n",
       "</table>\n",
       "</div>"
      ],
      "text/plain": [
       "                               days_employed\n",
       "age_group education                         \n",
       "18-29     bachelor's degree      1225.819806\n",
       "          primary education      1236.562385\n",
       "          secondary education    1228.268849\n",
       "          some college           1045.216936\n",
       "30-39     bachelor's degree      2020.202275\n",
       "          graduate degree        4159.753909\n",
       "          primary education      1711.383434\n",
       "          secondary education    2062.472022\n",
       "          some college           1562.183882\n",
       "40-49     bachelor's degree      2719.149072\n",
       "          graduate degree         409.200149\n",
       "          primary education      1793.631404\n",
       "          secondary education    2766.541153\n",
       "          some college           2451.018995\n",
       "50-59     bachelor's degree      3306.590162\n",
       "          graduate degree        5352.038180\n",
       "          primary education      3132.947220\n",
       "          secondary education    3259.390951\n",
       "          some college           2665.876064\n",
       "60-69     bachelor's degree      7842.726726\n",
       "          graduate degree        8795.549101\n",
       "          primary education      8411.921496\n",
       "          secondary education    8245.987859\n",
       "          some college           7512.882571\n",
       "70+       bachelor's degree      8946.682133\n",
       "          primary education      8795.549101\n",
       "          secondary education    8048.691910\n",
       "          some college           8795.549101"
      ]
     },
     "execution_count": 180,
     "metadata": {},
     "output_type": "execute_result"
    }
   ],
   "source": [
    "# Distribution of `days_employed` means based on your identified parameters\n",
    "\n",
    "data_pivot = df_ref1.pivot_table(\n",
    "    index=['age_group', 'education'],\n",
    "    values='days_employed',\n",
    "    aggfunc='mean',\n",
    ")\n",
    "\n",
    "data_pivot"
   ]
  },
  {
   "cell_type": "markdown",
   "metadata": {},
   "source": [
    "As we can see in pivot tables mean values are greater than median values. That means the data are skewed to the left, and we have to use the median to replace missing values using `filling_missing_values` function with correct domains."
   ]
  },
  {
   "cell_type": "code",
   "execution_count": 181,
   "metadata": {},
   "outputs": [],
   "source": [
    "# Apply function to the days_employed\n",
    "\n",
    "column='days_employed'\n",
    "factors=['age_group', 'education']\n",
    "function= 'median'\n",
    "filling_missing_values(column, factors, function)"
   ]
  },
  {
   "cell_type": "code",
   "execution_count": 182,
   "metadata": {
    "scrolled": false
   },
   "outputs": [
    {
     "data": {
      "text/html": [
       "<div>\n",
       "<style scoped>\n",
       "    .dataframe tbody tr th:only-of-type {\n",
       "        vertical-align: middle;\n",
       "    }\n",
       "\n",
       "    .dataframe tbody tr th {\n",
       "        vertical-align: top;\n",
       "    }\n",
       "\n",
       "    .dataframe thead th {\n",
       "        text-align: right;\n",
       "    }\n",
       "</style>\n",
       "<table border=\"1\" class=\"dataframe\">\n",
       "  <thead>\n",
       "    <tr style=\"text-align: right;\">\n",
       "      <th></th>\n",
       "      <th>children</th>\n",
       "      <th>days_employed</th>\n",
       "      <th>dob_years</th>\n",
       "      <th>education</th>\n",
       "      <th>education_id</th>\n",
       "      <th>family_status</th>\n",
       "      <th>family_status_id</th>\n",
       "      <th>gender</th>\n",
       "      <th>income_type</th>\n",
       "      <th>debt</th>\n",
       "      <th>total_income</th>\n",
       "      <th>purpose</th>\n",
       "      <th>age_group</th>\n",
       "    </tr>\n",
       "  </thead>\n",
       "  <tbody>\n",
       "  </tbody>\n",
       "</table>\n",
       "</div>"
      ],
      "text/plain": [
       "Empty DataFrame\n",
       "Columns: [children, days_employed, dob_years, education, education_id, family_status, family_status_id, gender, income_type, debt, total_income, purpose, age_group]\n",
       "Index: []"
      ]
     },
     "execution_count": 182,
     "metadata": {},
     "output_type": "execute_result"
    }
   ],
   "source": [
    "# Check if function worked\n",
    "\n",
    "df[df['days_employed'].isna()]"
   ]
  },
  {
   "cell_type": "code",
   "execution_count": 183,
   "metadata": {},
   "outputs": [
    {
     "name": "stdout",
     "output_type": "stream",
     "text": [
      "<class 'pandas.core.frame.DataFrame'>\n",
      "RangeIndex: 21525 entries, 0 to 21524\n",
      "Data columns (total 13 columns):\n",
      "children            21525 non-null int64\n",
      "days_employed       21525 non-null float64\n",
      "dob_years           21525 non-null int64\n",
      "education           21525 non-null object\n",
      "education_id        21525 non-null int64\n",
      "family_status       21525 non-null object\n",
      "family_status_id    21525 non-null int64\n",
      "gender              21525 non-null object\n",
      "income_type         21525 non-null object\n",
      "debt                21525 non-null int64\n",
      "total_income        21525 non-null float64\n",
      "purpose             21525 non-null object\n",
      "age_group           21525 non-null object\n",
      "dtypes: float64(2), int64(5), object(6)\n",
      "memory usage: 2.1+ MB\n"
     ]
    }
   ],
   "source": [
    "# Check the entries in all columns - make sure we fixed all missing values\n",
    "\n",
    "df.info()"
   ]
  },
  {
   "cell_type": "markdown",
   "metadata": {},
   "source": [
    "### Checking duplicates\n",
    "\n",
    "Find the number of obvious duplicates in the table. If they are exist call the `pandas` method for getting rid of obvious duplicates, then count obvious duplicates once more to make duplicates have been removed."
   ]
  },
  {
   "cell_type": "code",
   "execution_count": 184,
   "metadata": {},
   "outputs": [
    {
     "name": "stdout",
     "output_type": "stream",
     "text": [
      "147\n",
      "\n",
      "0.6829268292682927\n"
     ]
    }
   ],
   "source": [
    "# Checking duplicates\n",
    "\n",
    "print(df.duplicated().sum()) # counting clear duplicates\n",
    "print()\n",
    "print(df.duplicated().sum()/df.shape[0]*100) # counting the percentage of clear duplicates"
   ]
  },
  {
   "cell_type": "code",
   "execution_count": 185,
   "metadata": {},
   "outputs": [],
   "source": [
    "# Address the duplicates, if they exist\n",
    "\n",
    "df = df.drop_duplicates() # removing obvious duplicates"
   ]
  },
  {
   "cell_type": "code",
   "execution_count": 186,
   "metadata": {},
   "outputs": [
    {
     "name": "stdout",
     "output_type": "stream",
     "text": [
      "0\n"
     ]
    }
   ],
   "source": [
    "# Last check whether we have any duplicates\n",
    "\n",
    "print(df.duplicated().sum())"
   ]
  },
  {
   "cell_type": "code",
   "execution_count": 187,
   "metadata": {},
   "outputs": [
    {
     "name": "stdout",
     "output_type": "stream",
     "text": [
      "<class 'pandas.core.frame.DataFrame'>\n",
      "Int64Index: 21378 entries, 0 to 21524\n",
      "Data columns (total 13 columns):\n",
      "children            21378 non-null int64\n",
      "days_employed       21378 non-null float64\n",
      "dob_years           21378 non-null int64\n",
      "education           21378 non-null object\n",
      "education_id        21378 non-null int64\n",
      "family_status       21378 non-null object\n",
      "family_status_id    21378 non-null int64\n",
      "gender              21378 non-null object\n",
      "income_type         21378 non-null object\n",
      "debt                21378 non-null int64\n",
      "total_income        21378 non-null float64\n",
      "purpose             21378 non-null object\n",
      "age_group           21378 non-null object\n",
      "dtypes: float64(2), int64(5), object(6)\n",
      "memory usage: 2.3+ MB\n",
      "\n",
      "children            0.0\n",
      "days_employed       0.0\n",
      "dob_years           0.0\n",
      "education           0.0\n",
      "education_id        0.0\n",
      "family_status       0.0\n",
      "family_status_id    0.0\n",
      "gender              0.0\n",
      "income_type         0.0\n",
      "debt                0.0\n",
      "total_income        0.0\n",
      "purpose             0.0\n",
      "age_group           0.0\n",
      "dtype: float64\n"
     ]
    }
   ],
   "source": [
    "# Check the size of the dataset that you now have after your first manipulations with it\n",
    "\n",
    "df.info()\n",
    "print()\n",
    "print(df.isna().sum()/df.shape[0]*100) #check the percentage of missing values"
   ]
  },
  {
   "cell_type": "markdown",
   "metadata": {},
   "source": [
    "The amount of clear duplicates compared to the whole dataset is less than 1%. "
   ]
  },
  {
   "cell_type": "markdown",
   "metadata": {},
   "source": [
    "## **Categorization of data**\n",
    "\n",
    "To answer the questions and test the hypotheses, we have to work with categorized data. Three columns should be categorized: `'children'`, `'total_income'`, and `'purpose'`.\n",
    "\n",
    "\n",
    "1. The `'children_id'` column data needs to be turned into following categories:\n",
    "    - `'no_kids'`  - client doesn't have any kids\n",
    "    - `'has kids'`  - client has one or more kids\n",
    "\n",
    "2. The `'purpose_category'` column data needs to be turned into following categories:\n",
    "    - `'real estate'`\n",
    "    - `'vehile'`\n",
    "    - `'wedding'`\n",
    "    - `'education'`\n",
    "\n",
    "3. The `'income_level'` column data contains following categories:\n",
    "    - `'low'`  - below 25% quantile\n",
    "    - `'medium'`  - from 25% to 75% quantile\n",
    "    - `'high'`  - above 75% quantile\n",
    "\n",
    "For `'children'` categorization we should:\n",
    "- Check the unique values in `'children'` column\n",
    "- Create the `'assign_children_id'` function to assign clients for two categories: clients who have kids and clients who don't have kids, because exact kids quantity doesn't matter for further investigation\n",
    "- create a new `'children_id'` column that contains new categories."
   ]
  },
  {
   "cell_type": "code",
   "execution_count": 188,
   "metadata": {
    "scrolled": true
   },
   "outputs": [
    {
     "name": "stdout",
     "output_type": "stream",
     "text": [
      "[1 0 3 2 4 5]\n"
     ]
    }
   ],
   "source": [
    "# Check the unique values in 'children' column\n",
    "\n",
    "print(df.children.unique())"
   ]
  },
  {
   "cell_type": "code",
   "execution_count": 189,
   "metadata": {},
   "outputs": [],
   "source": [
    "# Let's write a function to categorize the data in 'children' column\n",
    "\n",
    "def assign_children_id(children):\n",
    "    if children > 0:\n",
    "        return 'has kids' #has kids\n",
    "    else: \n",
    "        return 'no kids' #no kids"
   ]
  },
  {
   "cell_type": "code",
   "execution_count": 190,
   "metadata": {},
   "outputs": [
    {
     "name": "stdout",
     "output_type": "stream",
     "text": [
      "has kids\n",
      "\n",
      "no kids\n",
      "\n",
      "has kids\n"
     ]
    }
   ],
   "source": [
    "# Test if the function works\n",
    "\n",
    "#Test function on 2 (should be 'has kids')\n",
    "print(assign_children_id(2))\n",
    "print()\n",
    "#Test function on 0 (should be 'no kids')\n",
    "print(assign_children_id(0))\n",
    "print()\n",
    "#Test function on 5 (should be 'has kids')\n",
    "print(assign_children_id(5))"
   ]
  },
  {
   "cell_type": "code",
   "execution_count": 191,
   "metadata": {},
   "outputs": [
    {
     "data": {
      "text/plain": [
       "no kids     14015\n",
       "has kids     7363\n",
       "Name: children_id, dtype: int64"
      ]
     },
     "execution_count": 191,
     "metadata": {},
     "output_type": "execute_result"
    }
   ],
   "source": [
    "# Creating new column based on function\n",
    "\n",
    "df['children_id']=df['children'].apply(assign_children_id)\n",
    "df['children_id'].value_counts()"
   ]
  },
  {
   "cell_type": "markdown",
   "metadata": {},
   "source": [
    "For `'total_income'` categorization we should:\n",
    "- generate descriptive statistics to get exact numbers for 25, 50, and 70 percent quantile.\n",
    "- create `assign_income_lvl` function to assign clients for three categories: \n",
    "    - `'low'`, \n",
    "    - `'medium'`, and\n",
    "    - `'high'`.\n",
    "- create `income_lvl` column with new categories"
   ]
  },
  {
   "cell_type": "code",
   "execution_count": 192,
   "metadata": {},
   "outputs": [
    {
     "data": {
      "text/html": [
       "<div>\n",
       "<style scoped>\n",
       "    .dataframe tbody tr th:only-of-type {\n",
       "        vertical-align: middle;\n",
       "    }\n",
       "\n",
       "    .dataframe tbody tr th {\n",
       "        vertical-align: top;\n",
       "    }\n",
       "\n",
       "    .dataframe thead th {\n",
       "        text-align: right;\n",
       "    }\n",
       "</style>\n",
       "<table border=\"1\" class=\"dataframe\">\n",
       "  <thead>\n",
       "    <tr style=\"text-align: right;\">\n",
       "      <th></th>\n",
       "      <th>children</th>\n",
       "      <th>days_employed</th>\n",
       "      <th>dob_years</th>\n",
       "      <th>education_id</th>\n",
       "      <th>family_status_id</th>\n",
       "      <th>debt</th>\n",
       "      <th>total_income</th>\n",
       "    </tr>\n",
       "  </thead>\n",
       "  <tbody>\n",
       "    <tr>\n",
       "      <td>count</td>\n",
       "      <td>21378.000000</td>\n",
       "      <td>21378.000000</td>\n",
       "      <td>21378.000000</td>\n",
       "      <td>21378.000000</td>\n",
       "      <td>21378.000000</td>\n",
       "      <td>21378.000000</td>\n",
       "      <td>21378.000000</td>\n",
       "    </tr>\n",
       "    <tr>\n",
       "      <td>mean</td>\n",
       "      <td>0.478716</td>\n",
       "      <td>3455.756000</td>\n",
       "      <td>44.756245</td>\n",
       "      <td>0.816540</td>\n",
       "      <td>0.975021</td>\n",
       "      <td>0.081299</td>\n",
       "      <td>26499.994040</td>\n",
       "    </tr>\n",
       "    <tr>\n",
       "      <td>std</td>\n",
       "      <td>0.752063</td>\n",
       "      <td>3190.377617</td>\n",
       "      <td>13.923677</td>\n",
       "      <td>0.549486</td>\n",
       "      <td>1.422536</td>\n",
       "      <td>0.273299</td>\n",
       "      <td>15750.680051</td>\n",
       "    </tr>\n",
       "    <tr>\n",
       "      <td>min</td>\n",
       "      <td>0.000000</td>\n",
       "      <td>24.141633</td>\n",
       "      <td>19.000000</td>\n",
       "      <td>0.000000</td>\n",
       "      <td>0.000000</td>\n",
       "      <td>0.000000</td>\n",
       "      <td>3306.762000</td>\n",
       "    </tr>\n",
       "    <tr>\n",
       "      <td>25%</td>\n",
       "      <td>0.000000</td>\n",
       "      <td>1005.389899</td>\n",
       "      <td>33.000000</td>\n",
       "      <td>1.000000</td>\n",
       "      <td>0.000000</td>\n",
       "      <td>0.000000</td>\n",
       "      <td>17166.389500</td>\n",
       "    </tr>\n",
       "    <tr>\n",
       "      <td>50%</td>\n",
       "      <td>0.000000</td>\n",
       "      <td>2053.869341</td>\n",
       "      <td>43.000000</td>\n",
       "      <td>1.000000</td>\n",
       "      <td>0.000000</td>\n",
       "      <td>0.000000</td>\n",
       "      <td>23022.711000</td>\n",
       "    </tr>\n",
       "    <tr>\n",
       "      <td>75%</td>\n",
       "      <td>1.000000</td>\n",
       "      <td>5335.833813</td>\n",
       "      <td>55.000000</td>\n",
       "      <td>1.000000</td>\n",
       "      <td>1.000000</td>\n",
       "      <td>0.000000</td>\n",
       "      <td>31714.888000</td>\n",
       "    </tr>\n",
       "    <tr>\n",
       "      <td>max</td>\n",
       "      <td>5.000000</td>\n",
       "      <td>17615.563266</td>\n",
       "      <td>75.000000</td>\n",
       "      <td>4.000000</td>\n",
       "      <td>4.000000</td>\n",
       "      <td>1.000000</td>\n",
       "      <td>362496.645000</td>\n",
       "    </tr>\n",
       "  </tbody>\n",
       "</table>\n",
       "</div>"
      ],
      "text/plain": [
       "           children  days_employed     dob_years  education_id  \\\n",
       "count  21378.000000   21378.000000  21378.000000  21378.000000   \n",
       "mean       0.478716    3455.756000     44.756245      0.816540   \n",
       "std        0.752063    3190.377617     13.923677      0.549486   \n",
       "min        0.000000      24.141633     19.000000      0.000000   \n",
       "25%        0.000000    1005.389899     33.000000      1.000000   \n",
       "50%        0.000000    2053.869341     43.000000      1.000000   \n",
       "75%        1.000000    5335.833813     55.000000      1.000000   \n",
       "max        5.000000   17615.563266     75.000000      4.000000   \n",
       "\n",
       "       family_status_id          debt   total_income  \n",
       "count      21378.000000  21378.000000   21378.000000  \n",
       "mean           0.975021      0.081299   26499.994040  \n",
       "std            1.422536      0.273299   15750.680051  \n",
       "min            0.000000      0.000000    3306.762000  \n",
       "25%            0.000000      0.000000   17166.389500  \n",
       "50%            0.000000      0.000000   23022.711000  \n",
       "75%            1.000000      0.000000   31714.888000  \n",
       "max            4.000000      1.000000  362496.645000  "
      ]
     },
     "execution_count": 192,
     "metadata": {},
     "output_type": "execute_result"
    }
   ],
   "source": [
    "#Generate descriptive statistics\n",
    "\n",
    "df.describe()"
   ]
  },
  {
   "cell_type": "code",
   "execution_count": 193,
   "metadata": {},
   "outputs": [],
   "source": [
    "# Let's write a function to categorize the data in 'total_income' column\n",
    "\n",
    "def assign_income_lvl(total_income):\n",
    "    \n",
    "    if total_income < df['total_income'].quantile(0.25):\n",
    "        return 'low' #low income\n",
    "    elif total_income > df['total_income'].quantile(0.75):\n",
    "        return 'high' #high income\n",
    "    else: \n",
    "        return 'medium' #medium income"
   ]
  },
  {
   "cell_type": "code",
   "execution_count": 194,
   "metadata": {},
   "outputs": [
    {
     "name": "stdout",
     "output_type": "stream",
     "text": [
      "high\n",
      "\n",
      "low\n",
      "\n",
      "medium\n"
     ]
    }
   ],
   "source": [
    "# Test if the function works\n",
    "\n",
    "#Test function on 50000 (should be 'high')\n",
    "print(assign_income_lvl(50000))\n",
    "print()\n",
    "#Test function on 15000 (should be 'low')\n",
    "print(assign_income_lvl(15000))\n",
    "print()\n",
    "#Test function on 29000 (should be 'medium')\n",
    "print(assign_income_lvl(29000))"
   ]
  },
  {
   "cell_type": "code",
   "execution_count": null,
   "metadata": {},
   "outputs": [],
   "source": [
    "# Creating new column based on function\n",
    "\n",
    "df['income_lvl']=df['total_income'].apply(assign_income_lvl)\n",
    "df['income_lvl'].value_counts()"
   ]
  },
  {
   "cell_type": "markdown",
   "metadata": {},
   "source": [
    "For `'purpose'` categorization we should:\n",
    "- check the unique values in `'purpose'` column\n",
    "- import all libraries and packages for lemmatization \n",
    "- create list of words for all unique values in purposes column and count each unique value\n",
    "- create list of keywords for each category\n",
    "- create the `'lemmatization_func'` function to assign clients for four categories: \n",
    "    - `'real estate'`\n",
    "    - `'vehile'`\n",
    "    - `'wedding'`\n",
    "    - `'education'`\n",
    "- create a new `'purpose_category'` column that contains new categories."
   ]
  },
  {
   "cell_type": "code",
   "execution_count": null,
   "metadata": {},
   "outputs": [],
   "source": [
    "print(df['purpose'].sort_values().unique())"
   ]
  },
  {
   "cell_type": "code",
   "execution_count": null,
   "metadata": {},
   "outputs": [],
   "source": [
    "#import all libraries and packages for lemmatization \n",
    "\n",
    "from pymystem3 import Mystem\n",
    "from collections import Counter\n",
    "m = Mystem()\n",
    "# importing WordNet Lemmatizer:\n",
    "import nltk\n",
    "from nltk.stem import WordNetLemmatizer\n",
    "wordnet_lemma = WordNetLemmatizer()\n",
    "nltk.download('punkt')\n",
    "nltk.download('wordnet')\n",
    "nltk.download('omw-1.4')"
   ]
  },
  {
   "cell_type": "code",
   "execution_count": null,
   "metadata": {},
   "outputs": [],
   "source": [
    "lemmas_list_all = []\n",
    "\n",
    "for purpose in df['purpose'].unique():\n",
    "    words = nltk.word_tokenize(purpose)\n",
    "    lemmas = [wordnet_lemma.lemmatize(w, pos = 'n') for w in words]\n",
    "    for i in lemmas:\n",
    "        lemmas_list_all.append(i)\n",
    "        \n",
    "Counter(lemmas_list_all)"
   ]
  },
  {
   "cell_type": "code",
   "execution_count": null,
   "metadata": {},
   "outputs": [],
   "source": [
    "#create categories with keywords\n",
    "\n",
    "real_estate_category=['house','housing','estate','property','building']\n",
    "vehile_category=['car']\n",
    "wedding_category=['wedding','ceremony']\n",
    "education_category=['education','educated','university']"
   ]
  },
  {
   "cell_type": "code",
   "execution_count": null,
   "metadata": {},
   "outputs": [],
   "source": [
    "# Let's write a function to categorize the data based on common topics\n",
    "    \n",
    "def lemmatization_func(purpose):\n",
    "  \n",
    "    words = nltk.word_tokenize(purpose)\n",
    "    lemmas = [wordnet_lemma.lemmatize(w, pos = 'n') for w in words]\n",
    "    \n",
    "    if any(word in lemmas for word in real_estate_category):\n",
    "        return 'real estate'\n",
    "    elif  any(word in lemmas for word in vehile_category):\n",
    "        return 'vehile'\n",
    "    elif  any(word in lemmas for word in wedding_category):\n",
    "        return 'wedding'\n",
    "    elif  any(word in lemmas for word in education_category):\n",
    "        return 'education'\n",
    "    else:\n",
    "        \n",
    "        return 'other'\n"
   ]
  },
  {
   "cell_type": "code",
   "execution_count": null,
   "metadata": {},
   "outputs": [],
   "source": [
    "# Create a column with the categories and count the values for them\n",
    "\n",
    "df['purpose_category']=df['purpose'].apply(lemmatization_func)\n",
    "df['purpose_category'].value_counts()"
   ]
  },
  {
   "cell_type": "markdown",
   "metadata": {},
   "source": [
    "## **Checking the Hypotheses**\n"
   ]
  },
  {
   "cell_type": "markdown",
   "metadata": {},
   "source": [
    "### Is there a correlation between having children and paying back on time?"
   ]
  },
  {
   "cell_type": "code",
   "execution_count": null,
   "metadata": {},
   "outputs": [],
   "source": [
    "# Check the children data and paying back on time\n",
    "\n",
    "print('Distribution of clients with and without kids')\n",
    "print()\n",
    "print(df['children_id'].value_counts(dropna=False)/df.shape[0]*100)\n",
    "print()\n",
    "print('Distribution of clients who paid off the loan and who have a debt.')\n",
    "print()\n",
    "print(df['debt'].value_counts(dropna=False)/df.shape[0]*100)\n",
    "print()\n",
    "\n",
    "# Calculating default-rate based on the number of children\n",
    "\n",
    "print('Default-rate based on the having children')\n",
    "print()\n",
    "print(df.groupby('children_id')['debt'].apply(lambda x: x.sum()/x.count()*100).round(1).sort_values())\n",
    "\n",
    "#in case if we need default-rate based on the exact number of children\n",
    "#print(df.groupby('children')['debt'].apply(lambda x: x.sum()/x.count()*100).round(1))"
   ]
  },
  {
   "cell_type": "markdown",
   "metadata": {},
   "source": [
    "**Conclusion**\n",
    "\n",
    "The data reveal differences in default rate:\n",
    "- People without kids more often don't have any debts than people with kids. However, the difference is less than 2% and the representation of both groups is not equal, which allows us to neglect those data and conclude lack of evidence dependence default-rate on the number of children."
   ]
  },
  {
   "cell_type": "markdown",
   "metadata": {},
   "source": [
    "### Is there a correlation between family status and paying back on time?"
   ]
  },
  {
   "cell_type": "code",
   "execution_count": null,
   "metadata": {},
   "outputs": [],
   "source": [
    "# Check the family status data and paying back on time\n",
    "\n",
    "print('Distribution of clients with different marital status')\n",
    "print()\n",
    "print(df['family_status'].value_counts(dropna=False)/df.shape[0]*100)\n",
    "print()\n",
    "\n",
    "# Calculating default-rate based on family status\n",
    "\n",
    "print('Calculating default-rate based on family status')\n",
    "print()\n",
    "print(df.groupby('family_status')['debt'].apply(lambda x: x.sum()/x.count()*100).round(1).sort_values())\n"
   ]
  },
  {
   "cell_type": "markdown",
   "metadata": {},
   "source": [
    "**Conclusion**\n",
    "\n",
    "The data reveal differences in default rate:\n",
    "\n",
    "- We can see slight linear dependence between different marital statuses and default rates. The widow/widower marital status group has the lowest default rate the unmarried marital status group has the highest default rate. The difference between the maximum and minimum default rates is 3.2%. However, representation of Widow/widower marital status group is less than 5%, and representation of an unmarried marital status group is 13%, which allows us to neglect those data and conclude lack of evidence dependence default-rate on the marital status."
   ]
  },
  {
   "cell_type": "markdown",
   "metadata": {},
   "source": [
    "### Is there a correlation between income level and paying back on time?"
   ]
  },
  {
   "cell_type": "code",
   "execution_count": null,
   "metadata": {},
   "outputs": [],
   "source": [
    "# Check the income level data and paying back on time\n",
    "\n",
    "print('Distribution of clients with different income level')\n",
    "print()\n",
    "print(df['income_lvl'].value_counts(dropna=False)/df.shape[0]*100)\n",
    "print()\n",
    "\n",
    "# Calculating default-rate based on income level\n",
    "\n",
    "print('Calculating default-rate based on income level')\n",
    "print()\n",
    "print(df.groupby('income_lvl')['debt'].apply(lambda x: x.sum()/x.count()*100).round(1).sort_values())"
   ]
  },
  {
   "cell_type": "markdown",
   "metadata": {},
   "source": [
    "**Conclusion**\n",
    "\n",
    "The data reveal differences in default rate:\n",
    "\n",
    "- We can see almost no linear dependency between different income levels and default rates. Clients with high-income levels have the lowest default rate, clients with medium income levels have the highest default rate. The difference between the maximum and minimum default rates is 0.2%. However, the difference is so small which allows us to neglect those data and conclude lack of evidence dependence default-rate on the income level."
   ]
  },
  {
   "cell_type": "markdown",
   "metadata": {},
   "source": [
    "### How does credit purpose affect the default rate?"
   ]
  },
  {
   "cell_type": "code",
   "execution_count": null,
   "metadata": {},
   "outputs": [],
   "source": [
    "# Check the income level data and paying back on time\n",
    "\n",
    "print('Distribution of clients with different credit purpose')\n",
    "print()\n",
    "print(df['purpose_category'].value_counts(dropna=False)/df.shape[0]*100)\n",
    "print()\n",
    "\n",
    "# Check the percentages for default rate for each credit purpose and analyze them\n",
    "\n",
    "print('Calculating default-rate based on credit purpose')\n",
    "print()\n",
    "print(df.groupby('purpose_category')['debt'].apply(lambda x: x.sum()/x.count()*100).round(1).sort_values())"
   ]
  },
  {
   "cell_type": "markdown",
   "metadata": {},
   "source": [
    "**Conclusion**\n",
    "\n",
    "The data reveal differences in default rate:\n",
    "\n",
    "- We can see slight linear dependence between purpose category and default rates. The real estate purpose group has the lowest default rate, the vehile purpose group has the highest default rate. The difference between the maximum and minimum default rates is 2.1%. However, representation of groups is not equal, which allows us to neglect those data and conclude lack of evidence dependence default-rate on the credit purpose."
   ]
  },
  {
   "cell_type": "markdown",
   "metadata": {},
   "source": [
    "## **General Conclusion** \n",
    "\n",
    "My project was a report prepared for a bank’s loan division. We needed to find out if a customer’s marital status, income level, loan purposes, and the number of children have an impact on whether they will default on a loan.\n",
    "\n",
    "Original Data Frame contained:\n",
    "- Different registres\n",
    "- Incorrect artifacts\n",
    "- Incorrect data types\n",
    "- Negative numbers\n",
    "- Over 10% of quantitative missing values in `'total_income'` and `'days_employed'` columns\n",
    "\n",
    "During the **` Data exploration`** process we didn't find any patterns in distribution. Based on this, we concluded that missing values are random for both columns. \n",
    "\n",
    "Then, during the **` Data transformation`** process we fixed all artifacts, registers, and incorrect data types which happened due to technical issues. That task prepared our Data Frame for missing values restoration.\n",
    "\n",
    "During **`Missing values restoration`** process we categorized the client's age into 6 age groups:\n",
    "- `18-29`\n",
    "- `30-39`\n",
    "- `40-49` \n",
    "- `50-59`\n",
    "- `60-69`\n",
    "- `70+`  \n",
    "For the `'total_income'` column we checked mean and median values for small groups with a unique combination of `age group`, `education`, and `income type`. As we saw in pivot tables mean values were greater than median values. That means the data are skewed to the left, and missing values should be replaced with median values.\n",
    "\n",
    "For the `'days_employed'` column we checked mean and median values for small groups with a unique combination of `age group` and `education`. As we saw in pivot tables mean values were greater than median values. That means the data are skewed to the left, and missing values should be replaced with median values.\n",
    "\n",
    "After the restoration process, our Data Frame was ready to be used in our investigation. \n",
    "\n",
    "We had 4 questions:\n",
    "- Is there a connection between having kids and repaying a loan on time?\n",
    "- Is there a connection between marital status and repaying a loan on time?\n",
    "- Is there a connection between income level and repaying a loan on time?\n",
    "- How do different loan purposes affect on-time loan repayment?\n",
    "The best way to answer those questions was data categorization. That lets us get the most accurate data representation.\n",
    "During **`Data categorisation`** process we've got 3 new columns:\n",
    "1. The `'children_id'` column contains following categories:\n",
    "    - `'no_kids'`  - client doesn't have any kids\n",
    "    - `'has kids'`  - client has one or more kids\n",
    "\n",
    "2. The `'purpose_category'` column data contains following categories:\n",
    "    - `'real estate'`\n",
    "    - `'vehile'`\n",
    "    - `'wedding'`\n",
    "    - `'education'`\n",
    "\n",
    "3. The `'income_level'` column data contains following categories:\n",
    "    - `'low'`  - below 25% quantile\n",
    "    - `'medium'`  - from 25% to 75% quantile\n",
    "    - `'high'`  - above 75% quantile\n",
    "\n",
    "During our final investigation we've got 4 important conclusions:\n",
    "- People without kids more often don't have any debts than people with kids. However, the difference is less than 2% and the representation of both groups is not equal, which allows us to neglect those data and conclude lack of evidence dependence default-rate on the number of children.\n",
    "- We can see slight linear dependence between different marital statuses and default rates. The widow/widower marital status group has the lowest default rate the unmarried marital status group has the highest default rate. The difference between the maximum and minimum default rates is 3.2%. However, representation of Widow/widower marital status group is less than 5%, and representation of an unmarried marital status group is 13%, which allows us to neglect those data and conclude lack of evidence dependence default-rate on the marital status.\n",
    "- We can see almost no linear dependency between different income levels and default rates. Clients with high-income levels have the lowest default rate, clients with medium income levels have the highest default rate. The difference between the maximum and minimum default rates is 0.2%. However, the difference is so small which allows us to neglect those data and conclude lack of evidence dependence default-rate on the income level.\n",
    "- We can see slight linear dependence between purpose category and default rates. The real estate purpose group has the lowest default rate, the vehicle purpose group has the highest default rate. The difference between the maximum and minimum default rates is 2.1%. However, the representation of groups is not equal, which allows us to neglect those data and conclude lack of evidence dependence default-rate on the credit purpose."
   ]
  }
 ],
 "metadata": {
  "ExecuteTimeLog": [
   {
    "duration": 2741,
    "start_time": "2021-10-21T01:08:49.480Z"
   },
   {
    "duration": 52,
    "start_time": "2021-10-21T01:08:53.315Z"
   },
   {
    "duration": 49,
    "start_time": "2021-10-21T01:08:57.432Z"
   },
   {
    "duration": 70,
    "start_time": "2021-10-21T01:09:07.706Z"
   },
   {
    "duration": 1242,
    "start_time": "2022-01-24T04:48:25.353Z"
   },
   {
    "duration": 14,
    "start_time": "2022-01-24T04:48:26.597Z"
   },
   {
    "duration": 11,
    "start_time": "2022-01-24T04:48:26.613Z"
   },
   {
    "duration": 348,
    "start_time": "2022-01-24T04:51:47.711Z"
   },
   {
    "duration": 4,
    "start_time": "2022-01-24T04:51:54.062Z"
   },
   {
    "duration": 10,
    "start_time": "2022-01-24T04:52:23.543Z"
   },
   {
    "duration": 7,
    "start_time": "2022-01-24T04:59:04.176Z"
   },
   {
    "duration": 12,
    "start_time": "2022-01-24T05:06:46.612Z"
   },
   {
    "duration": 9,
    "start_time": "2022-01-24T05:06:59.178Z"
   },
   {
    "duration": 7,
    "start_time": "2022-01-24T05:35:11.089Z"
   },
   {
    "duration": 8,
    "start_time": "2022-01-24T05:44:08.687Z"
   },
   {
    "duration": 7,
    "start_time": "2022-01-24T05:44:10.522Z"
   },
   {
    "duration": 8,
    "start_time": "2022-01-24T15:47:03.008Z"
   },
   {
    "duration": 77476,
    "start_time": "2022-01-24T15:59:02.872Z"
   },
   {
    "duration": 76,
    "start_time": "2022-01-24T16:00:27.414Z"
   },
   {
    "duration": 3,
    "start_time": "2022-01-24T16:00:27.492Z"
   },
   {
    "duration": 13,
    "start_time": "2022-01-24T16:00:27.497Z"
   },
   {
    "duration": 19,
    "start_time": "2022-01-24T16:00:27.511Z"
   },
   {
    "duration": 9,
    "start_time": "2022-01-24T16:00:27.531Z"
   },
   {
    "duration": 5972,
    "start_time": "2022-01-24T16:00:36.029Z"
   },
   {
    "duration": 7,
    "start_time": "2022-01-24T16:02:52.212Z"
   },
   {
    "duration": 7,
    "start_time": "2022-01-24T16:02:56.334Z"
   },
   {
    "duration": 19,
    "start_time": "2022-01-24T16:03:58.602Z"
   },
   {
    "duration": 260,
    "start_time": "2022-01-24T16:11:18.198Z"
   },
   {
    "duration": 307,
    "start_time": "2022-01-24T16:14:17.208Z"
   },
   {
    "duration": 261,
    "start_time": "2022-01-24T16:15:08.805Z"
   },
   {
    "duration": 244,
    "start_time": "2022-01-24T16:16:24.349Z"
   },
   {
    "duration": 262,
    "start_time": "2022-01-24T16:19:46.456Z"
   },
   {
    "duration": 9,
    "start_time": "2022-01-24T16:20:01.895Z"
   },
   {
    "duration": 251,
    "start_time": "2022-01-24T16:21:15.600Z"
   },
   {
    "duration": 76,
    "start_time": "2022-01-24T16:21:19.546Z"
   },
   {
    "duration": 3,
    "start_time": "2022-01-24T16:21:19.625Z"
   },
   {
    "duration": 15,
    "start_time": "2022-01-24T16:21:19.630Z"
   },
   {
    "duration": 26,
    "start_time": "2022-01-24T16:21:19.647Z"
   },
   {
    "duration": 274,
    "start_time": "2022-01-24T16:21:19.676Z"
   },
   {
    "duration": 8,
    "start_time": "2022-01-24T16:24:41.918Z"
   },
   {
    "duration": 7,
    "start_time": "2022-01-24T16:24:46.009Z"
   },
   {
    "duration": 251,
    "start_time": "2022-01-24T16:26:56.049Z"
   },
   {
    "duration": 6,
    "start_time": "2022-01-24T16:28:46.890Z"
   },
   {
    "duration": 15,
    "start_time": "2022-01-24T16:33:04.752Z"
   },
   {
    "duration": 71,
    "start_time": "2022-01-24T16:36:07.977Z"
   },
   {
    "duration": 4,
    "start_time": "2022-01-24T16:36:08.050Z"
   },
   {
    "duration": 31,
    "start_time": "2022-01-24T16:36:08.056Z"
   },
   {
    "duration": 40,
    "start_time": "2022-01-24T16:36:08.089Z"
   },
   {
    "duration": 51,
    "start_time": "2022-01-24T16:36:08.131Z"
   },
   {
    "duration": 32,
    "start_time": "2022-01-24T16:36:08.184Z"
   },
   {
    "duration": 43,
    "start_time": "2022-01-24T16:36:08.218Z"
   },
   {
    "duration": 41,
    "start_time": "2022-01-24T16:36:08.263Z"
   },
   {
    "duration": 73,
    "start_time": "2022-01-24T16:36:08.305Z"
   },
   {
    "duration": 17,
    "start_time": "2022-01-24T16:37:03.854Z"
   },
   {
    "duration": 85,
    "start_time": "2022-01-24T16:38:41.552Z"
   },
   {
    "duration": 70,
    "start_time": "2022-01-24T17:01:47.431Z"
   },
   {
    "duration": 5,
    "start_time": "2022-01-24T17:01:47.504Z"
   },
   {
    "duration": 9,
    "start_time": "2022-01-24T17:01:47.512Z"
   },
   {
    "duration": 12,
    "start_time": "2022-01-24T17:01:47.523Z"
   },
   {
    "duration": 27,
    "start_time": "2022-01-24T17:01:47.537Z"
   },
   {
    "duration": 11,
    "start_time": "2022-01-24T17:01:47.566Z"
   },
   {
    "duration": 7,
    "start_time": "2022-01-24T17:01:47.578Z"
   },
   {
    "duration": 8,
    "start_time": "2022-01-24T17:01:47.587Z"
   },
   {
    "duration": 20,
    "start_time": "2022-01-24T17:01:47.597Z"
   },
   {
    "duration": 14,
    "start_time": "2022-01-24T17:01:47.619Z"
   },
   {
    "duration": 85,
    "start_time": "2022-01-24T17:01:47.635Z"
   },
   {
    "duration": 2,
    "start_time": "2022-01-24T17:01:47.722Z"
   },
   {
    "duration": 19,
    "start_time": "2022-01-24T17:01:47.726Z"
   },
   {
    "duration": 25,
    "start_time": "2022-01-24T17:01:47.747Z"
   },
   {
    "duration": 33,
    "start_time": "2022-01-24T17:01:47.774Z"
   },
   {
    "duration": 18,
    "start_time": "2022-01-24T17:01:57.452Z"
   },
   {
    "duration": 6,
    "start_time": "2022-01-24T17:03:36.710Z"
   },
   {
    "duration": 12,
    "start_time": "2022-01-24T17:05:37.774Z"
   },
   {
    "duration": 6,
    "start_time": "2022-01-24T17:05:38.810Z"
   },
   {
    "duration": 11,
    "start_time": "2022-01-24T17:11:15.379Z"
   },
   {
    "duration": 7,
    "start_time": "2022-01-24T17:33:35.114Z"
   },
   {
    "duration": 13,
    "start_time": "2022-01-24T17:34:38.159Z"
   },
   {
    "duration": 253,
    "start_time": "2022-01-24T17:35:03.481Z"
   },
   {
    "duration": 13,
    "start_time": "2022-01-24T17:35:13.456Z"
   },
   {
    "duration": 14,
    "start_time": "2022-01-24T18:21:21.443Z"
   },
   {
    "duration": 6,
    "start_time": "2022-01-24T18:21:57.820Z"
   },
   {
    "duration": 9,
    "start_time": "2022-01-24T18:22:30.587Z"
   },
   {
    "duration": 268,
    "start_time": "2022-01-24T18:25:30.830Z"
   },
   {
    "duration": 252,
    "start_time": "2022-01-24T18:25:39.831Z"
   },
   {
    "duration": 9,
    "start_time": "2022-01-24T18:25:51.201Z"
   },
   {
    "duration": 271,
    "start_time": "2022-01-24T18:26:04.210Z"
   },
   {
    "duration": 10,
    "start_time": "2022-01-24T18:27:11.554Z"
   },
   {
    "duration": 8,
    "start_time": "2022-01-24T18:30:30.793Z"
   },
   {
    "duration": 6,
    "start_time": "2022-01-24T18:30:49.228Z"
   },
   {
    "duration": 21,
    "start_time": "2022-01-24T19:13:20.813Z"
   },
   {
    "duration": 9,
    "start_time": "2022-01-24T19:16:56.779Z"
   },
   {
    "duration": 8,
    "start_time": "2022-01-24T19:18:19.300Z"
   },
   {
    "duration": 8,
    "start_time": "2022-01-24T19:18:59.458Z"
   },
   {
    "duration": 11,
    "start_time": "2022-01-24T19:19:22.879Z"
   },
   {
    "duration": 10,
    "start_time": "2022-01-24T19:20:08.183Z"
   },
   {
    "duration": 8,
    "start_time": "2022-01-24T19:21:36.909Z"
   },
   {
    "duration": 10,
    "start_time": "2022-01-24T19:35:10.573Z"
   },
   {
    "duration": 7,
    "start_time": "2022-01-24T19:47:48.191Z"
   },
   {
    "duration": 8,
    "start_time": "2022-01-24T19:48:16.724Z"
   },
   {
    "duration": 7,
    "start_time": "2022-01-24T19:52:31.218Z"
   },
   {
    "duration": 9,
    "start_time": "2022-01-24T19:53:15.850Z"
   },
   {
    "duration": 9,
    "start_time": "2022-01-24T19:54:23.195Z"
   },
   {
    "duration": 254,
    "start_time": "2022-01-24T19:54:50.664Z"
   },
   {
    "duration": 8,
    "start_time": "2022-01-24T19:54:59.934Z"
   },
   {
    "duration": 104,
    "start_time": "2022-01-24T19:58:25.480Z"
   },
   {
    "duration": 1260,
    "start_time": "2022-01-24T19:58:38.925Z"
   },
   {
    "duration": 11,
    "start_time": "2022-01-24T20:03:53.243Z"
   },
   {
    "duration": 12,
    "start_time": "2022-01-24T20:13:42.595Z"
   },
   {
    "duration": 4369,
    "start_time": "2022-01-24T20:14:06.194Z"
   },
   {
    "duration": 979,
    "start_time": "2022-01-24T20:14:32.564Z"
   },
   {
    "duration": 11,
    "start_time": "2022-01-24T20:15:18.086Z"
   },
   {
    "duration": 41,
    "start_time": "2022-01-24T20:30:49.000Z"
   },
   {
    "duration": 8,
    "start_time": "2022-01-24T20:31:02.985Z"
   },
   {
    "duration": 13,
    "start_time": "2022-01-24T20:55:21.463Z"
   },
   {
    "duration": 173,
    "start_time": "2022-01-24T20:55:31.230Z"
   },
   {
    "duration": 3,
    "start_time": "2022-01-24T20:55:31.406Z"
   },
   {
    "duration": 11,
    "start_time": "2022-01-24T20:55:31.411Z"
   },
   {
    "duration": 22,
    "start_time": "2022-01-24T20:55:31.424Z"
   },
   {
    "duration": 15,
    "start_time": "2022-01-24T20:55:31.448Z"
   },
   {
    "duration": 7,
    "start_time": "2022-01-24T20:55:31.464Z"
   },
   {
    "duration": 5,
    "start_time": "2022-01-24T20:55:31.472Z"
   },
   {
    "duration": 6,
    "start_time": "2022-01-24T20:55:31.480Z"
   },
   {
    "duration": 26,
    "start_time": "2022-01-24T20:55:31.488Z"
   },
   {
    "duration": 11,
    "start_time": "2022-01-24T20:55:31.516Z"
   },
   {
    "duration": 97,
    "start_time": "2022-01-24T20:55:31.529Z"
   },
   {
    "duration": 2,
    "start_time": "2022-01-24T20:55:31.628Z"
   },
   {
    "duration": 7,
    "start_time": "2022-01-24T20:55:31.632Z"
   },
   {
    "duration": 30,
    "start_time": "2022-01-24T20:55:31.641Z"
   },
   {
    "duration": 11,
    "start_time": "2022-01-24T20:55:31.672Z"
   },
   {
    "duration": 24,
    "start_time": "2022-01-24T20:55:31.685Z"
   },
   {
    "duration": 6,
    "start_time": "2022-01-24T20:55:31.710Z"
   },
   {
    "duration": 8,
    "start_time": "2022-01-24T20:55:31.718Z"
   },
   {
    "duration": 37,
    "start_time": "2022-01-24T20:55:31.728Z"
   },
   {
    "duration": 15,
    "start_time": "2022-01-24T20:55:31.766Z"
   },
   {
    "duration": 18,
    "start_time": "2022-01-24T20:55:31.782Z"
   },
   {
    "duration": 39,
    "start_time": "2022-01-24T20:55:31.802Z"
   },
   {
    "duration": 12,
    "start_time": "2022-01-24T20:55:36.972Z"
   },
   {
    "duration": 14,
    "start_time": "2022-01-24T21:03:30.522Z"
   },
   {
    "duration": 9,
    "start_time": "2022-01-24T21:04:36.730Z"
   },
   {
    "duration": 39,
    "start_time": "2022-01-24T21:06:21.789Z"
   },
   {
    "duration": 8,
    "start_time": "2022-01-24T21:06:43.160Z"
   },
   {
    "duration": 44,
    "start_time": "2022-01-24T21:07:23.722Z"
   },
   {
    "duration": 9,
    "start_time": "2022-01-24T21:07:24.494Z"
   },
   {
    "duration": 40,
    "start_time": "2022-01-24T21:13:42.651Z"
   },
   {
    "duration": 9,
    "start_time": "2022-01-24T21:13:45.542Z"
   },
   {
    "duration": 9,
    "start_time": "2022-01-24T21:22:29.589Z"
   },
   {
    "duration": 69,
    "start_time": "2022-01-24T21:22:37.274Z"
   },
   {
    "duration": 4,
    "start_time": "2022-01-24T21:22:37.345Z"
   },
   {
    "duration": 11,
    "start_time": "2022-01-24T21:22:37.351Z"
   },
   {
    "duration": 17,
    "start_time": "2022-01-24T21:22:37.364Z"
   },
   {
    "duration": 8,
    "start_time": "2022-01-24T21:22:37.383Z"
   },
   {
    "duration": 12,
    "start_time": "2022-01-24T21:22:37.393Z"
   },
   {
    "duration": 8,
    "start_time": "2022-01-24T21:22:37.406Z"
   },
   {
    "duration": 14,
    "start_time": "2022-01-24T21:22:37.416Z"
   },
   {
    "duration": 34,
    "start_time": "2022-01-24T21:22:37.432Z"
   },
   {
    "duration": 14,
    "start_time": "2022-01-24T21:22:37.467Z"
   },
   {
    "duration": 88,
    "start_time": "2022-01-24T21:22:37.483Z"
   },
   {
    "duration": 2,
    "start_time": "2022-01-24T21:22:37.573Z"
   },
   {
    "duration": 6,
    "start_time": "2022-01-24T21:22:37.576Z"
   },
   {
    "duration": 21,
    "start_time": "2022-01-24T21:22:37.584Z"
   },
   {
    "duration": 9,
    "start_time": "2022-01-24T21:22:37.607Z"
   },
   {
    "duration": 46,
    "start_time": "2022-01-24T21:22:37.618Z"
   },
   {
    "duration": 6,
    "start_time": "2022-01-24T21:22:37.665Z"
   },
   {
    "duration": 9,
    "start_time": "2022-01-24T21:22:37.673Z"
   },
   {
    "duration": 4,
    "start_time": "2022-01-24T21:22:37.683Z"
   },
   {
    "duration": 11,
    "start_time": "2022-01-24T21:22:37.689Z"
   },
   {
    "duration": 7,
    "start_time": "2022-01-24T21:22:37.702Z"
   },
   {
    "duration": 5,
    "start_time": "2022-01-24T21:22:37.711Z"
   },
   {
    "duration": 46,
    "start_time": "2022-01-24T21:22:37.719Z"
   },
   {
    "duration": 9,
    "start_time": "2022-01-24T21:36:28.679Z"
   },
   {
    "duration": 7,
    "start_time": "2022-01-24T21:36:32.385Z"
   },
   {
    "duration": 5,
    "start_time": "2022-01-24T21:36:32.807Z"
   },
   {
    "duration": 6,
    "start_time": "2022-01-24T21:36:33.433Z"
   },
   {
    "duration": 75,
    "start_time": "2022-01-24T21:36:39.942Z"
   },
   {
    "duration": 4,
    "start_time": "2022-01-24T21:36:40.020Z"
   },
   {
    "duration": 49,
    "start_time": "2022-01-24T21:36:40.026Z"
   },
   {
    "duration": 48,
    "start_time": "2022-01-24T21:36:40.077Z"
   },
   {
    "duration": 38,
    "start_time": "2022-01-24T21:36:40.127Z"
   },
   {
    "duration": 46,
    "start_time": "2022-01-24T21:36:40.166Z"
   },
   {
    "duration": 40,
    "start_time": "2022-01-24T21:36:40.214Z"
   },
   {
    "duration": 43,
    "start_time": "2022-01-24T21:36:40.257Z"
   },
   {
    "duration": 46,
    "start_time": "2022-01-24T21:36:40.302Z"
   },
   {
    "duration": 41,
    "start_time": "2022-01-24T21:36:40.350Z"
   },
   {
    "duration": 93,
    "start_time": "2022-01-24T21:36:40.393Z"
   },
   {
    "duration": 2,
    "start_time": "2022-01-24T21:36:40.488Z"
   },
   {
    "duration": 38,
    "start_time": "2022-01-24T21:36:40.492Z"
   },
   {
    "duration": 57,
    "start_time": "2022-01-24T21:36:40.532Z"
   },
   {
    "duration": 42,
    "start_time": "2022-01-24T21:36:40.591Z"
   },
   {
    "duration": 62,
    "start_time": "2022-01-24T21:36:40.636Z"
   },
   {
    "duration": 32,
    "start_time": "2022-01-24T21:36:40.700Z"
   },
   {
    "duration": 30,
    "start_time": "2022-01-24T21:36:40.734Z"
   },
   {
    "duration": 51,
    "start_time": "2022-01-24T21:36:40.765Z"
   },
   {
    "duration": 39,
    "start_time": "2022-01-24T21:36:40.817Z"
   },
   {
    "duration": 38,
    "start_time": "2022-01-24T21:36:40.858Z"
   },
   {
    "duration": 32,
    "start_time": "2022-01-24T21:36:40.898Z"
   },
   {
    "duration": 34,
    "start_time": "2022-01-24T21:36:40.934Z"
   },
   {
    "duration": 67,
    "start_time": "2022-01-24T21:36:40.970Z"
   },
   {
    "duration": 43,
    "start_time": "2022-01-24T21:36:41.039Z"
   },
   {
    "duration": 42,
    "start_time": "2022-01-24T21:36:41.083Z"
   },
   {
    "duration": 36,
    "start_time": "2022-01-24T21:36:41.126Z"
   },
   {
    "duration": 39,
    "start_time": "2022-01-24T21:36:41.163Z"
   },
   {
    "duration": 37,
    "start_time": "2022-01-24T21:36:41.204Z"
   },
   {
    "duration": 38,
    "start_time": "2022-01-24T21:36:41.243Z"
   },
   {
    "duration": 38,
    "start_time": "2022-01-24T21:36:41.282Z"
   },
   {
    "duration": 35,
    "start_time": "2022-01-24T21:36:41.322Z"
   },
   {
    "duration": 35,
    "start_time": "2022-01-24T21:36:41.359Z"
   },
   {
    "duration": 33,
    "start_time": "2022-01-24T21:36:41.396Z"
   },
   {
    "duration": 71,
    "start_time": "2022-01-24T21:36:41.430Z"
   },
   {
    "duration": 22,
    "start_time": "2022-01-24T21:36:41.503Z"
   },
   {
    "duration": 33,
    "start_time": "2022-01-24T21:36:41.526Z"
   },
   {
    "duration": 41,
    "start_time": "2022-01-24T21:36:41.561Z"
   },
   {
    "duration": 27,
    "start_time": "2022-01-24T22:05:19.664Z"
   },
   {
    "duration": 17,
    "start_time": "2022-01-24T22:05:21.988Z"
   },
   {
    "duration": 17,
    "start_time": "2022-01-24T22:05:22.634Z"
   },
   {
    "duration": 19,
    "start_time": "2022-01-24T22:05:23.673Z"
   },
   {
    "duration": 72,
    "start_time": "2022-01-24T22:05:28.640Z"
   },
   {
    "duration": 4,
    "start_time": "2022-01-24T22:05:28.714Z"
   },
   {
    "duration": 10,
    "start_time": "2022-01-24T22:05:28.720Z"
   },
   {
    "duration": 33,
    "start_time": "2022-01-24T22:05:28.732Z"
   },
   {
    "duration": 6,
    "start_time": "2022-01-24T22:05:28.766Z"
   },
   {
    "duration": 7,
    "start_time": "2022-01-24T22:05:28.774Z"
   },
   {
    "duration": 7,
    "start_time": "2022-01-24T22:05:28.783Z"
   },
   {
    "duration": 10,
    "start_time": "2022-01-24T22:05:28.792Z"
   },
   {
    "duration": 19,
    "start_time": "2022-01-24T22:05:28.803Z"
   },
   {
    "duration": 43,
    "start_time": "2022-01-24T22:05:28.824Z"
   },
   {
    "duration": 77,
    "start_time": "2022-01-24T22:05:28.869Z"
   },
   {
    "duration": 14,
    "start_time": "2022-01-24T22:05:28.947Z"
   },
   {
    "duration": 6,
    "start_time": "2022-01-24T22:05:28.963Z"
   },
   {
    "duration": 21,
    "start_time": "2022-01-24T22:05:28.971Z"
   },
   {
    "duration": 13,
    "start_time": "2022-01-24T22:05:28.994Z"
   },
   {
    "duration": 27,
    "start_time": "2022-01-24T22:05:29.009Z"
   },
   {
    "duration": 6,
    "start_time": "2022-01-24T22:05:29.038Z"
   },
   {
    "duration": 20,
    "start_time": "2022-01-24T22:05:29.046Z"
   },
   {
    "duration": 10,
    "start_time": "2022-01-24T22:05:29.068Z"
   },
   {
    "duration": 13,
    "start_time": "2022-01-24T22:05:29.080Z"
   },
   {
    "duration": 9,
    "start_time": "2022-01-24T22:05:29.094Z"
   },
   {
    "duration": 8,
    "start_time": "2022-01-24T22:05:29.105Z"
   },
   {
    "duration": 16,
    "start_time": "2022-01-24T22:05:29.116Z"
   },
   {
    "duration": 60,
    "start_time": "2022-01-24T22:05:29.134Z"
   },
   {
    "duration": 9,
    "start_time": "2022-01-24T22:05:29.196Z"
   },
   {
    "duration": 9,
    "start_time": "2022-01-24T22:05:29.207Z"
   },
   {
    "duration": 10,
    "start_time": "2022-01-24T22:05:29.217Z"
   },
   {
    "duration": 28,
    "start_time": "2022-01-24T22:05:29.228Z"
   },
   {
    "duration": 31,
    "start_time": "2022-01-24T22:05:29.257Z"
   },
   {
    "duration": 24,
    "start_time": "2022-01-24T22:05:29.290Z"
   },
   {
    "duration": 33,
    "start_time": "2022-01-24T22:05:29.315Z"
   },
   {
    "duration": 38,
    "start_time": "2022-01-24T22:05:29.349Z"
   },
   {
    "duration": 32,
    "start_time": "2022-01-24T22:05:29.389Z"
   },
   {
    "duration": 26,
    "start_time": "2022-01-24T22:05:29.423Z"
   },
   {
    "duration": 44,
    "start_time": "2022-01-24T22:05:29.450Z"
   },
   {
    "duration": 16,
    "start_time": "2022-01-24T22:05:29.495Z"
   },
   {
    "duration": 21,
    "start_time": "2022-01-24T22:05:29.512Z"
   },
   {
    "duration": 23,
    "start_time": "2022-01-24T22:05:29.535Z"
   },
   {
    "duration": 5,
    "start_time": "2022-01-24T22:19:13.166Z"
   },
   {
    "duration": 6,
    "start_time": "2022-01-24T22:19:43.356Z"
   },
   {
    "duration": 6,
    "start_time": "2022-01-24T22:21:02.870Z"
   },
   {
    "duration": 10,
    "start_time": "2022-01-24T22:22:11.225Z"
   },
   {
    "duration": 7,
    "start_time": "2022-01-24T22:22:17.505Z"
   },
   {
    "duration": 7,
    "start_time": "2022-01-24T22:22:18.504Z"
   },
   {
    "duration": 8,
    "start_time": "2022-01-24T22:29:14.413Z"
   },
   {
    "duration": 6,
    "start_time": "2022-01-24T22:29:16.368Z"
   },
   {
    "duration": 70,
    "start_time": "2022-01-24T22:29:25.958Z"
   },
   {
    "duration": 3,
    "start_time": "2022-01-24T22:29:26.030Z"
   },
   {
    "duration": 27,
    "start_time": "2022-01-24T22:29:26.035Z"
   },
   {
    "duration": 30,
    "start_time": "2022-01-24T22:29:26.064Z"
   },
   {
    "duration": 19,
    "start_time": "2022-01-24T22:29:26.096Z"
   },
   {
    "duration": 22,
    "start_time": "2022-01-24T22:29:26.116Z"
   },
   {
    "duration": 11,
    "start_time": "2022-01-24T22:29:26.139Z"
   },
   {
    "duration": 33,
    "start_time": "2022-01-24T22:29:26.153Z"
   },
   {
    "duration": 24,
    "start_time": "2022-01-24T22:29:26.187Z"
   },
   {
    "duration": 29,
    "start_time": "2022-01-24T22:29:26.212Z"
   },
   {
    "duration": 108,
    "start_time": "2022-01-24T22:29:26.242Z"
   },
   {
    "duration": 2,
    "start_time": "2022-01-24T22:29:26.360Z"
   },
   {
    "duration": 12,
    "start_time": "2022-01-24T22:29:26.364Z"
   },
   {
    "duration": 41,
    "start_time": "2022-01-24T22:29:26.378Z"
   },
   {
    "duration": 29,
    "start_time": "2022-01-24T22:29:26.421Z"
   },
   {
    "duration": 28,
    "start_time": "2022-01-24T22:29:26.451Z"
   },
   {
    "duration": 22,
    "start_time": "2022-01-24T22:29:26.481Z"
   },
   {
    "duration": 18,
    "start_time": "2022-01-24T22:29:26.505Z"
   },
   {
    "duration": 14,
    "start_time": "2022-01-24T22:29:26.524Z"
   },
   {
    "duration": 21,
    "start_time": "2022-01-24T22:29:26.540Z"
   },
   {
    "duration": 15,
    "start_time": "2022-01-24T22:29:26.563Z"
   },
   {
    "duration": 22,
    "start_time": "2022-01-24T22:29:26.580Z"
   },
   {
    "duration": 17,
    "start_time": "2022-01-24T22:29:26.605Z"
   },
   {
    "duration": 48,
    "start_time": "2022-01-24T22:29:26.624Z"
   },
   {
    "duration": 18,
    "start_time": "2022-01-24T22:29:26.673Z"
   },
   {
    "duration": 14,
    "start_time": "2022-01-24T22:29:26.693Z"
   },
   {
    "duration": 28,
    "start_time": "2022-01-24T22:29:26.709Z"
   },
   {
    "duration": 18,
    "start_time": "2022-01-24T22:29:26.738Z"
   },
   {
    "duration": 7,
    "start_time": "2022-01-24T22:29:29.576Z"
   },
   {
    "duration": 9,
    "start_time": "2022-01-24T22:29:30.810Z"
   },
   {
    "duration": 7,
    "start_time": "2022-01-24T22:29:31.922Z"
   },
   {
    "duration": 9,
    "start_time": "2022-01-24T22:31:10.511Z"
   },
   {
    "duration": 7,
    "start_time": "2022-01-24T22:31:11.185Z"
   },
   {
    "duration": 7,
    "start_time": "2022-01-24T22:31:12.995Z"
   },
   {
    "duration": 4,
    "start_time": "2022-01-24T22:31:18.630Z"
   },
   {
    "duration": 7,
    "start_time": "2022-01-24T22:31:19.127Z"
   },
   {
    "duration": 27,
    "start_time": "2022-01-24T22:31:20.105Z"
   },
   {
    "duration": 16,
    "start_time": "2022-01-24T22:31:20.526Z"
   },
   {
    "duration": 16,
    "start_time": "2022-01-24T22:31:22.111Z"
   },
   {
    "duration": 6,
    "start_time": "2022-01-24T22:33:17.795Z"
   },
   {
    "duration": 6,
    "start_time": "2022-01-24T22:33:39.219Z"
   },
   {
    "duration": 246,
    "start_time": "2022-01-24T22:33:50.696Z"
   },
   {
    "duration": 6,
    "start_time": "2022-01-24T22:34:02.524Z"
   },
   {
    "duration": 7,
    "start_time": "2022-01-24T22:36:25.068Z"
   },
   {
    "duration": 69,
    "start_time": "2022-01-24T22:36:43.781Z"
   },
   {
    "duration": 3,
    "start_time": "2022-01-24T22:36:43.852Z"
   },
   {
    "duration": 38,
    "start_time": "2022-01-24T22:36:43.857Z"
   },
   {
    "duration": 28,
    "start_time": "2022-01-24T22:36:43.897Z"
   },
   {
    "duration": 27,
    "start_time": "2022-01-24T22:36:43.926Z"
   },
   {
    "duration": 34,
    "start_time": "2022-01-24T22:36:43.954Z"
   },
   {
    "duration": 21,
    "start_time": "2022-01-24T22:36:43.990Z"
   },
   {
    "duration": 25,
    "start_time": "2022-01-24T22:36:44.013Z"
   },
   {
    "duration": 46,
    "start_time": "2022-01-24T22:36:44.041Z"
   },
   {
    "duration": 17,
    "start_time": "2022-01-24T22:36:44.090Z"
   },
   {
    "duration": 97,
    "start_time": "2022-01-24T22:36:44.109Z"
   },
   {
    "duration": 2,
    "start_time": "2022-01-24T22:36:44.207Z"
   },
   {
    "duration": 42,
    "start_time": "2022-01-24T22:36:44.211Z"
   },
   {
    "duration": 43,
    "start_time": "2022-01-24T22:36:44.254Z"
   },
   {
    "duration": 35,
    "start_time": "2022-01-24T22:36:44.299Z"
   },
   {
    "duration": 47,
    "start_time": "2022-01-24T22:36:44.335Z"
   },
   {
    "duration": 9,
    "start_time": "2022-01-24T22:36:44.384Z"
   },
   {
    "duration": 35,
    "start_time": "2022-01-24T22:36:44.395Z"
   },
   {
    "duration": 22,
    "start_time": "2022-01-24T22:36:44.432Z"
   },
   {
    "duration": 23,
    "start_time": "2022-01-24T22:36:44.456Z"
   },
   {
    "duration": 31,
    "start_time": "2022-01-24T22:36:44.481Z"
   },
   {
    "duration": 24,
    "start_time": "2022-01-24T22:36:44.514Z"
   },
   {
    "duration": 38,
    "start_time": "2022-01-24T22:36:44.540Z"
   },
   {
    "duration": 77,
    "start_time": "2022-01-24T22:36:44.580Z"
   },
   {
    "duration": 9,
    "start_time": "2022-01-24T22:36:44.659Z"
   },
   {
    "duration": 35,
    "start_time": "2022-01-24T22:36:44.669Z"
   },
   {
    "duration": 30,
    "start_time": "2022-01-24T22:36:44.707Z"
   },
   {
    "duration": 37,
    "start_time": "2022-01-24T22:36:44.739Z"
   },
   {
    "duration": 34,
    "start_time": "2022-01-24T22:36:44.778Z"
   },
   {
    "duration": 6,
    "start_time": "2022-01-24T22:36:47.815Z"
   },
   {
    "duration": 6,
    "start_time": "2022-01-24T22:36:49.043Z"
   },
   {
    "duration": 9,
    "start_time": "2022-01-24T22:37:15.124Z"
   },
   {
    "duration": 9,
    "start_time": "2022-01-24T22:37:31.808Z"
   },
   {
    "duration": 8,
    "start_time": "2022-01-24T22:44:28.070Z"
   },
   {
    "duration": 7,
    "start_time": "2022-01-24T22:44:29.684Z"
   },
   {
    "duration": 70,
    "start_time": "2022-01-24T22:44:50.854Z"
   },
   {
    "duration": 4,
    "start_time": "2022-01-24T22:44:50.925Z"
   },
   {
    "duration": 23,
    "start_time": "2022-01-24T22:44:50.930Z"
   },
   {
    "duration": 17,
    "start_time": "2022-01-24T22:44:50.960Z"
   },
   {
    "duration": 18,
    "start_time": "2022-01-24T22:44:50.979Z"
   },
   {
    "duration": 14,
    "start_time": "2022-01-24T22:44:50.999Z"
   },
   {
    "duration": 26,
    "start_time": "2022-01-24T22:44:51.014Z"
   },
   {
    "duration": 16,
    "start_time": "2022-01-24T22:44:51.042Z"
   },
   {
    "duration": 39,
    "start_time": "2022-01-24T22:44:51.060Z"
   },
   {
    "duration": 11,
    "start_time": "2022-01-24T22:44:51.101Z"
   },
   {
    "duration": 83,
    "start_time": "2022-01-24T22:44:51.113Z"
   },
   {
    "duration": 2,
    "start_time": "2022-01-24T22:44:51.198Z"
   },
   {
    "duration": 15,
    "start_time": "2022-01-24T22:44:51.201Z"
   },
   {
    "duration": 31,
    "start_time": "2022-01-24T22:44:51.217Z"
   },
   {
    "duration": 30,
    "start_time": "2022-01-24T22:44:51.250Z"
   },
   {
    "duration": 36,
    "start_time": "2022-01-24T22:44:51.281Z"
   },
   {
    "duration": 20,
    "start_time": "2022-01-24T22:44:51.319Z"
   },
   {
    "duration": 12,
    "start_time": "2022-01-24T22:44:51.341Z"
   },
   {
    "duration": 24,
    "start_time": "2022-01-24T22:44:51.355Z"
   },
   {
    "duration": 19,
    "start_time": "2022-01-24T22:44:51.381Z"
   },
   {
    "duration": 10,
    "start_time": "2022-01-24T22:44:51.402Z"
   },
   {
    "duration": 22,
    "start_time": "2022-01-24T22:44:51.413Z"
   },
   {
    "duration": 21,
    "start_time": "2022-01-24T22:44:51.437Z"
   },
   {
    "duration": 43,
    "start_time": "2022-01-24T22:44:51.460Z"
   },
   {
    "duration": 8,
    "start_time": "2022-01-24T22:44:51.504Z"
   },
   {
    "duration": 23,
    "start_time": "2022-01-24T22:44:51.513Z"
   },
   {
    "duration": 16,
    "start_time": "2022-01-24T22:44:51.537Z"
   },
   {
    "duration": 23,
    "start_time": "2022-01-24T22:44:51.554Z"
   },
   {
    "duration": 38,
    "start_time": "2022-01-24T22:44:51.579Z"
   },
   {
    "duration": 23,
    "start_time": "2022-01-24T22:44:51.619Z"
   },
   {
    "duration": 23,
    "start_time": "2022-01-24T22:44:51.644Z"
   },
   {
    "duration": 7,
    "start_time": "2022-01-24T22:45:07.602Z"
   },
   {
    "duration": 7,
    "start_time": "2022-01-24T22:45:08.633Z"
   },
   {
    "duration": 69,
    "start_time": "2022-01-24T22:45:13.229Z"
   },
   {
    "duration": 3,
    "start_time": "2022-01-24T22:45:13.300Z"
   },
   {
    "duration": 11,
    "start_time": "2022-01-24T22:45:13.305Z"
   },
   {
    "duration": 12,
    "start_time": "2022-01-24T22:45:13.317Z"
   },
   {
    "duration": 32,
    "start_time": "2022-01-24T22:45:13.330Z"
   },
   {
    "duration": 6,
    "start_time": "2022-01-24T22:45:13.363Z"
   },
   {
    "duration": 4,
    "start_time": "2022-01-24T22:45:13.371Z"
   },
   {
    "duration": 8,
    "start_time": "2022-01-24T22:45:13.377Z"
   },
   {
    "duration": 14,
    "start_time": "2022-01-24T22:45:13.388Z"
   },
   {
    "duration": 12,
    "start_time": "2022-01-24T22:45:13.404Z"
   },
   {
    "duration": 107,
    "start_time": "2022-01-24T22:45:13.417Z"
   },
   {
    "duration": 3,
    "start_time": "2022-01-24T22:45:13.525Z"
   },
   {
    "duration": 6,
    "start_time": "2022-01-24T22:45:13.529Z"
   },
   {
    "duration": 29,
    "start_time": "2022-01-24T22:45:13.536Z"
   },
   {
    "duration": 10,
    "start_time": "2022-01-24T22:45:13.566Z"
   },
   {
    "duration": 27,
    "start_time": "2022-01-24T22:45:13.578Z"
   },
   {
    "duration": 5,
    "start_time": "2022-01-24T22:45:13.607Z"
   },
   {
    "duration": 11,
    "start_time": "2022-01-24T22:45:13.614Z"
   },
   {
    "duration": 5,
    "start_time": "2022-01-24T22:45:13.627Z"
   },
   {
    "duration": 34,
    "start_time": "2022-01-24T22:45:13.633Z"
   },
   {
    "duration": 7,
    "start_time": "2022-01-24T22:45:13.669Z"
   },
   {
    "duration": 7,
    "start_time": "2022-01-24T22:45:13.678Z"
   },
   {
    "duration": 10,
    "start_time": "2022-01-24T22:45:13.687Z"
   },
   {
    "duration": 63,
    "start_time": "2022-01-24T22:45:13.698Z"
   },
   {
    "duration": 8,
    "start_time": "2022-01-24T22:45:13.763Z"
   },
   {
    "duration": 15,
    "start_time": "2022-01-24T22:45:13.773Z"
   },
   {
    "duration": 22,
    "start_time": "2022-01-24T22:45:13.791Z"
   },
   {
    "duration": 34,
    "start_time": "2022-01-24T22:45:13.815Z"
   },
   {
    "duration": 36,
    "start_time": "2022-01-24T22:45:13.851Z"
   },
   {
    "duration": 25,
    "start_time": "2022-01-24T22:45:13.888Z"
   },
   {
    "duration": 31,
    "start_time": "2022-01-24T22:45:13.914Z"
   },
   {
    "duration": 7,
    "start_time": "2022-01-24T22:47:02.198Z"
   },
   {
    "duration": 7,
    "start_time": "2022-01-24T22:47:07.526Z"
   },
   {
    "duration": 4,
    "start_time": "2022-01-24T22:47:18.328Z"
   },
   {
    "duration": 6,
    "start_time": "2022-01-24T22:47:22.279Z"
   },
   {
    "duration": 27,
    "start_time": "2022-01-24T22:47:25.802Z"
   },
   {
    "duration": 15,
    "start_time": "2022-01-24T22:47:37.254Z"
   },
   {
    "duration": 15,
    "start_time": "2022-01-24T22:47:38.218Z"
   },
   {
    "duration": 17,
    "start_time": "2022-01-24T22:54:52.468Z"
   },
   {
    "duration": 8702,
    "start_time": "2022-01-24T22:58:02.291Z"
   },
   {
    "duration": 8656,
    "start_time": "2022-01-24T22:58:21.261Z"
   },
   {
    "duration": 8,
    "start_time": "2022-01-25T02:04:29.757Z"
   },
   {
    "duration": 68,
    "start_time": "2022-01-25T02:04:37.213Z"
   },
   {
    "duration": 3,
    "start_time": "2022-01-25T02:04:37.283Z"
   },
   {
    "duration": 8,
    "start_time": "2022-01-25T02:04:37.288Z"
   },
   {
    "duration": 12,
    "start_time": "2022-01-25T02:04:37.298Z"
   },
   {
    "duration": 7,
    "start_time": "2022-01-25T02:04:37.311Z"
   },
   {
    "duration": 6,
    "start_time": "2022-01-25T02:04:37.319Z"
   },
   {
    "duration": 36,
    "start_time": "2022-01-25T02:04:37.326Z"
   },
   {
    "duration": 8,
    "start_time": "2022-01-25T02:04:37.364Z"
   },
   {
    "duration": 15,
    "start_time": "2022-01-25T02:04:37.374Z"
   },
   {
    "duration": 11,
    "start_time": "2022-01-25T02:04:37.391Z"
   },
   {
    "duration": 96,
    "start_time": "2022-01-25T02:04:37.404Z"
   },
   {
    "duration": 2,
    "start_time": "2022-01-25T02:04:37.502Z"
   },
   {
    "duration": 17,
    "start_time": "2022-01-25T02:04:37.505Z"
   },
   {
    "duration": 44,
    "start_time": "2022-01-25T02:04:37.523Z"
   },
   {
    "duration": 31,
    "start_time": "2022-01-25T02:04:37.569Z"
   },
   {
    "duration": 33,
    "start_time": "2022-01-25T02:04:37.602Z"
   },
   {
    "duration": 15,
    "start_time": "2022-01-25T02:04:37.637Z"
   },
   {
    "duration": 26,
    "start_time": "2022-01-25T02:04:37.653Z"
   },
   {
    "duration": 27,
    "start_time": "2022-01-25T02:04:37.681Z"
   },
   {
    "duration": 8,
    "start_time": "2022-01-25T02:04:42.432Z"
   },
   {
    "duration": 7,
    "start_time": "2022-01-25T02:05:44.700Z"
   },
   {
    "duration": 68,
    "start_time": "2022-01-25T02:08:58.011Z"
   },
   {
    "duration": 3,
    "start_time": "2022-01-25T02:08:58.081Z"
   },
   {
    "duration": 10,
    "start_time": "2022-01-25T02:08:58.086Z"
   },
   {
    "duration": 10,
    "start_time": "2022-01-25T02:08:58.098Z"
   },
   {
    "duration": 7,
    "start_time": "2022-01-25T02:08:58.110Z"
   },
   {
    "duration": 6,
    "start_time": "2022-01-25T02:08:58.119Z"
   },
   {
    "duration": 38,
    "start_time": "2022-01-25T02:08:58.127Z"
   },
   {
    "duration": 7,
    "start_time": "2022-01-25T02:08:58.167Z"
   },
   {
    "duration": 16,
    "start_time": "2022-01-25T02:08:58.176Z"
   },
   {
    "duration": 11,
    "start_time": "2022-01-25T02:08:58.194Z"
   },
   {
    "duration": 90,
    "start_time": "2022-01-25T02:08:58.206Z"
   },
   {
    "duration": 2,
    "start_time": "2022-01-25T02:08:58.298Z"
   },
   {
    "duration": 6,
    "start_time": "2022-01-25T02:08:58.301Z"
   },
   {
    "duration": 15,
    "start_time": "2022-01-25T02:08:58.309Z"
   },
   {
    "duration": 8,
    "start_time": "2022-01-25T02:08:58.326Z"
   },
   {
    "duration": 41,
    "start_time": "2022-01-25T02:08:58.335Z"
   },
   {
    "duration": 5,
    "start_time": "2022-01-25T02:08:58.377Z"
   },
   {
    "duration": 10,
    "start_time": "2022-01-25T02:08:58.384Z"
   },
   {
    "duration": 5,
    "start_time": "2022-01-25T02:08:58.396Z"
   },
   {
    "duration": 5,
    "start_time": "2022-01-25T02:08:58.403Z"
   },
   {
    "duration": 10,
    "start_time": "2022-01-25T02:08:58.409Z"
   },
   {
    "duration": 4,
    "start_time": "2022-01-25T02:08:58.421Z"
   },
   {
    "duration": 36,
    "start_time": "2022-01-25T02:08:58.428Z"
   },
   {
    "duration": 40,
    "start_time": "2022-01-25T02:08:58.465Z"
   },
   {
    "duration": 7,
    "start_time": "2022-01-25T02:08:58.507Z"
   },
   {
    "duration": 6,
    "start_time": "2022-01-25T02:08:58.516Z"
   },
   {
    "duration": 11,
    "start_time": "2022-01-25T02:08:58.523Z"
   },
   {
    "duration": 26,
    "start_time": "2022-01-25T02:08:58.535Z"
   },
   {
    "duration": 15,
    "start_time": "2022-01-25T02:08:58.563Z"
   },
   {
    "duration": 13,
    "start_time": "2022-01-25T02:08:58.580Z"
   },
   {
    "duration": 9,
    "start_time": "2022-01-25T02:08:58.595Z"
   },
   {
    "duration": 8,
    "start_time": "2022-01-25T02:08:58.606Z"
   },
   {
    "duration": 5,
    "start_time": "2022-01-25T02:08:58.616Z"
   },
   {
    "duration": 7,
    "start_time": "2022-01-25T02:08:58.623Z"
   },
   {
    "duration": 45,
    "start_time": "2022-01-25T02:08:58.632Z"
   },
   {
    "duration": 16,
    "start_time": "2022-01-25T02:08:58.679Z"
   },
   {
    "duration": 15,
    "start_time": "2022-01-25T02:08:58.696Z"
   },
   {
    "duration": 17,
    "start_time": "2022-01-25T02:08:58.712Z"
   },
   {
    "duration": 8933,
    "start_time": "2022-01-25T02:08:58.730Z"
   },
   {
    "duration": 3,
    "start_time": "2022-01-25T02:20:20.701Z"
   },
   {
    "duration": 5,
    "start_time": "2022-01-25T02:20:22.267Z"
   },
   {
    "duration": 5,
    "start_time": "2022-01-25T02:20:57.569Z"
   },
   {
    "duration": 10,
    "start_time": "2022-01-25T02:21:01.342Z"
   },
   {
    "duration": 14,
    "start_time": "2022-01-25T02:21:02.581Z"
   },
   {
    "duration": 11,
    "start_time": "2022-01-25T03:02:09.683Z"
   },
   {
    "duration": 9,
    "start_time": "2022-01-25T03:03:35.303Z"
   },
   {
    "duration": 20,
    "start_time": "2022-01-25T03:18:39.024Z"
   },
   {
    "duration": 12,
    "start_time": "2022-01-25T03:20:24.473Z"
   },
   {
    "duration": 14,
    "start_time": "2022-01-25T03:20:37.602Z"
   },
   {
    "duration": 279,
    "start_time": "2022-01-25T03:22:12.780Z"
   },
   {
    "duration": 16,
    "start_time": "2022-01-25T03:30:21.169Z"
   },
   {
    "duration": 17,
    "start_time": "2022-01-25T03:30:35.369Z"
   },
   {
    "duration": 9,
    "start_time": "2022-01-25T03:34:50.658Z"
   },
   {
    "duration": 82,
    "start_time": "2022-01-25T03:41:42.676Z"
   },
   {
    "duration": 34,
    "start_time": "2022-01-25T03:42:13.670Z"
   },
   {
    "duration": 22,
    "start_time": "2022-01-25T03:43:28.819Z"
   },
   {
    "duration": 21,
    "start_time": "2022-01-25T03:48:08.266Z"
   },
   {
    "duration": 23,
    "start_time": "2022-01-25T03:51:25.608Z"
   },
   {
    "duration": 15,
    "start_time": "2022-01-25T05:07:53.979Z"
   },
   {
    "duration": 85,
    "start_time": "2022-01-25T05:27:00.165Z"
   },
   {
    "duration": 10,
    "start_time": "2022-01-25T05:27:20.641Z"
   },
   {
    "duration": 14,
    "start_time": "2022-01-25T05:49:55.627Z"
   },
   {
    "duration": 3245,
    "start_time": "2022-01-25T05:53:21.299Z"
   },
   {
    "duration": 3182,
    "start_time": "2022-01-25T05:54:04.730Z"
   },
   {
    "duration": 3318,
    "start_time": "2022-01-25T06:00:37.603Z"
   },
   {
    "duration": 3457,
    "start_time": "2022-01-25T06:01:20.309Z"
   },
   {
    "duration": 56,
    "start_time": "2022-01-25T06:07:14.995Z"
   },
   {
    "duration": 307,
    "start_time": "2022-01-25T06:07:59.967Z"
   },
   {
    "duration": 377,
    "start_time": "2022-01-25T06:32:08.521Z"
   },
   {
    "duration": 3,
    "start_time": "2022-01-25T06:33:04.776Z"
   },
   {
    "duration": 325,
    "start_time": "2022-01-25T06:33:39.348Z"
   },
   {
    "duration": 256,
    "start_time": "2022-01-25T06:35:37.251Z"
   },
   {
    "duration": 263,
    "start_time": "2022-01-25T06:36:25.071Z"
   },
   {
    "duration": 302,
    "start_time": "2022-01-25T06:36:35.677Z"
   },
   {
    "duration": 252,
    "start_time": "2022-01-25T06:39:47.712Z"
   },
   {
    "duration": 74,
    "start_time": "2022-01-25T06:40:34.037Z"
   },
   {
    "duration": 5,
    "start_time": "2022-01-25T06:40:34.113Z"
   },
   {
    "duration": 10,
    "start_time": "2022-01-25T06:40:34.120Z"
   },
   {
    "duration": 14,
    "start_time": "2022-01-25T06:40:34.162Z"
   },
   {
    "duration": 7,
    "start_time": "2022-01-25T06:40:34.178Z"
   },
   {
    "duration": 8,
    "start_time": "2022-01-25T06:40:34.188Z"
   },
   {
    "duration": 5,
    "start_time": "2022-01-25T06:40:34.198Z"
   },
   {
    "duration": 57,
    "start_time": "2022-01-25T06:40:34.205Z"
   },
   {
    "duration": 15,
    "start_time": "2022-01-25T06:40:34.264Z"
   },
   {
    "duration": 11,
    "start_time": "2022-01-25T06:40:34.281Z"
   },
   {
    "duration": 97,
    "start_time": "2022-01-25T06:40:34.294Z"
   },
   {
    "duration": 2,
    "start_time": "2022-01-25T06:40:34.393Z"
   },
   {
    "duration": 5,
    "start_time": "2022-01-25T06:40:34.397Z"
   },
   {
    "duration": 25,
    "start_time": "2022-01-25T06:40:34.404Z"
   },
   {
    "duration": 11,
    "start_time": "2022-01-25T06:40:34.431Z"
   },
   {
    "duration": 27,
    "start_time": "2022-01-25T06:40:34.461Z"
   },
   {
    "duration": 9,
    "start_time": "2022-01-25T06:40:34.490Z"
   },
   {
    "duration": 12,
    "start_time": "2022-01-25T06:40:34.501Z"
   },
   {
    "duration": 5,
    "start_time": "2022-01-25T06:40:34.515Z"
   },
   {
    "duration": 27,
    "start_time": "2022-01-25T06:40:34.521Z"
   },
   {
    "duration": 22,
    "start_time": "2022-01-25T06:40:34.550Z"
   },
   {
    "duration": 14,
    "start_time": "2022-01-25T06:40:34.573Z"
   },
   {
    "duration": 26,
    "start_time": "2022-01-25T06:40:34.591Z"
   },
   {
    "duration": 40,
    "start_time": "2022-01-25T06:40:34.620Z"
   },
   {
    "duration": 7,
    "start_time": "2022-01-25T06:40:34.662Z"
   },
   {
    "duration": 38,
    "start_time": "2022-01-25T06:40:34.671Z"
   },
   {
    "duration": 15,
    "start_time": "2022-01-25T06:40:34.711Z"
   },
   {
    "duration": 27,
    "start_time": "2022-01-25T06:40:34.728Z"
   },
   {
    "duration": 27,
    "start_time": "2022-01-25T06:40:34.756Z"
   },
   {
    "duration": 41,
    "start_time": "2022-01-25T06:40:34.785Z"
   },
   {
    "duration": 27,
    "start_time": "2022-01-25T06:40:34.828Z"
   },
   {
    "duration": 33,
    "start_time": "2022-01-25T06:40:34.857Z"
   },
   {
    "duration": 39,
    "start_time": "2022-01-25T06:40:34.892Z"
   },
   {
    "duration": 32,
    "start_time": "2022-01-25T06:40:34.933Z"
   },
   {
    "duration": 59,
    "start_time": "2022-01-25T06:40:34.967Z"
   },
   {
    "duration": 20,
    "start_time": "2022-01-25T06:40:35.028Z"
   },
   {
    "duration": 20,
    "start_time": "2022-01-25T06:40:35.050Z"
   },
   {
    "duration": 33,
    "start_time": "2022-01-25T06:40:35.071Z"
   },
   {
    "duration": 9133,
    "start_time": "2022-01-25T06:40:35.106Z"
   },
   {
    "duration": 3,
    "start_time": "2022-01-25T06:40:44.241Z"
   },
   {
    "duration": 46,
    "start_time": "2022-01-25T06:40:44.246Z"
   },
   {
    "duration": 38,
    "start_time": "2022-01-25T06:40:44.294Z"
   },
   {
    "duration": 55,
    "start_time": "2022-01-25T06:40:44.334Z"
   },
   {
    "duration": 46,
    "start_time": "2022-01-25T06:40:44.391Z"
   },
   {
    "duration": 33,
    "start_time": "2022-01-25T06:40:44.439Z"
   },
   {
    "duration": 32,
    "start_time": "2022-01-25T06:40:44.474Z"
   },
   {
    "duration": 48,
    "start_time": "2022-01-25T06:40:49.087Z"
   },
   {
    "duration": 256,
    "start_time": "2022-01-25T06:42:59.082Z"
   },
   {
    "duration": 73,
    "start_time": "2022-01-25T06:43:04.581Z"
   },
   {
    "duration": 3,
    "start_time": "2022-01-25T06:43:04.656Z"
   },
   {
    "duration": 26,
    "start_time": "2022-01-25T06:43:04.661Z"
   },
   {
    "duration": 26,
    "start_time": "2022-01-25T06:43:04.689Z"
   },
   {
    "duration": 24,
    "start_time": "2022-01-25T06:43:04.716Z"
   },
   {
    "duration": 23,
    "start_time": "2022-01-25T06:43:04.742Z"
   },
   {
    "duration": 20,
    "start_time": "2022-01-25T06:43:04.767Z"
   },
   {
    "duration": 33,
    "start_time": "2022-01-25T06:43:04.789Z"
   },
   {
    "duration": 30,
    "start_time": "2022-01-25T06:43:04.824Z"
   },
   {
    "duration": 14,
    "start_time": "2022-01-25T06:43:04.856Z"
   },
   {
    "duration": 95,
    "start_time": "2022-01-25T06:43:04.871Z"
   },
   {
    "duration": 2,
    "start_time": "2022-01-25T06:43:04.968Z"
   },
   {
    "duration": 42,
    "start_time": "2022-01-25T06:43:04.972Z"
   },
   {
    "duration": 49,
    "start_time": "2022-01-25T06:43:05.016Z"
   },
   {
    "duration": 12,
    "start_time": "2022-01-25T06:43:05.067Z"
   },
   {
    "duration": 45,
    "start_time": "2022-01-25T06:43:05.080Z"
   },
   {
    "duration": 28,
    "start_time": "2022-01-25T06:43:05.127Z"
   },
   {
    "duration": 29,
    "start_time": "2022-01-25T06:43:05.157Z"
   },
   {
    "duration": 28,
    "start_time": "2022-01-25T06:43:05.187Z"
   },
   {
    "duration": 23,
    "start_time": "2022-01-25T06:43:05.217Z"
   },
   {
    "duration": 34,
    "start_time": "2022-01-25T06:43:05.241Z"
   },
   {
    "duration": 11,
    "start_time": "2022-01-25T06:43:05.277Z"
   },
   {
    "duration": 32,
    "start_time": "2022-01-25T06:43:05.292Z"
   },
   {
    "duration": 42,
    "start_time": "2022-01-25T06:43:05.327Z"
   },
   {
    "duration": 7,
    "start_time": "2022-01-25T06:43:05.371Z"
   },
   {
    "duration": 27,
    "start_time": "2022-01-25T06:43:05.379Z"
   },
   {
    "duration": 34,
    "start_time": "2022-01-25T06:43:05.408Z"
   },
   {
    "duration": 21,
    "start_time": "2022-01-25T06:43:05.444Z"
   },
   {
    "duration": 25,
    "start_time": "2022-01-25T06:43:05.467Z"
   },
   {
    "duration": 23,
    "start_time": "2022-01-25T06:43:05.494Z"
   },
   {
    "duration": 28,
    "start_time": "2022-01-25T06:43:05.519Z"
   },
   {
    "duration": 33,
    "start_time": "2022-01-25T06:43:05.549Z"
   },
   {
    "duration": 25,
    "start_time": "2022-01-25T06:43:05.583Z"
   },
   {
    "duration": 26,
    "start_time": "2022-01-25T06:43:05.610Z"
   },
   {
    "duration": 49,
    "start_time": "2022-01-25T06:43:05.638Z"
   },
   {
    "duration": 20,
    "start_time": "2022-01-25T06:43:05.689Z"
   },
   {
    "duration": 19,
    "start_time": "2022-01-25T06:43:05.710Z"
   },
   {
    "duration": 36,
    "start_time": "2022-01-25T06:43:05.730Z"
   },
   {
    "duration": 9298,
    "start_time": "2022-01-25T06:43:05.768Z"
   },
   {
    "duration": 4,
    "start_time": "2022-01-25T06:43:15.067Z"
   },
   {
    "duration": 20,
    "start_time": "2022-01-25T06:43:15.073Z"
   },
   {
    "duration": 19,
    "start_time": "2022-01-25T06:43:15.095Z"
   },
   {
    "duration": 28,
    "start_time": "2022-01-25T06:43:15.115Z"
   },
   {
    "duration": 36,
    "start_time": "2022-01-25T06:43:15.145Z"
   },
   {
    "duration": 31,
    "start_time": "2022-01-25T06:43:15.184Z"
   },
   {
    "duration": 35,
    "start_time": "2022-01-25T06:43:15.217Z"
   },
   {
    "duration": 266,
    "start_time": "2022-01-25T06:43:15.254Z"
   },
   {
    "duration": 245,
    "start_time": "2022-01-25T06:43:26.298Z"
   },
   {
    "duration": 41,
    "start_time": "2022-01-25T06:43:39.896Z"
   },
   {
    "duration": 10,
    "start_time": "2022-01-25T06:44:36.688Z"
   },
   {
    "duration": 73,
    "start_time": "2022-01-25T06:44:55.084Z"
   },
   {
    "duration": 4,
    "start_time": "2022-01-25T06:44:55.160Z"
   },
   {
    "duration": 16,
    "start_time": "2022-01-25T06:44:55.167Z"
   },
   {
    "duration": 37,
    "start_time": "2022-01-25T06:44:55.185Z"
   },
   {
    "duration": 22,
    "start_time": "2022-01-25T06:44:55.224Z"
   },
   {
    "duration": 33,
    "start_time": "2022-01-25T06:44:55.248Z"
   },
   {
    "duration": 29,
    "start_time": "2022-01-25T06:44:55.282Z"
   },
   {
    "duration": 14,
    "start_time": "2022-01-25T06:44:55.314Z"
   },
   {
    "duration": 28,
    "start_time": "2022-01-25T06:44:55.330Z"
   },
   {
    "duration": 27,
    "start_time": "2022-01-25T06:44:55.360Z"
   },
   {
    "duration": 80,
    "start_time": "2022-01-25T06:44:55.389Z"
   },
   {
    "duration": 2,
    "start_time": "2022-01-25T06:44:55.471Z"
   },
   {
    "duration": 24,
    "start_time": "2022-01-25T06:44:55.474Z"
   },
   {
    "duration": 32,
    "start_time": "2022-01-25T06:44:55.499Z"
   },
   {
    "duration": 35,
    "start_time": "2022-01-25T06:44:55.533Z"
   },
   {
    "duration": 41,
    "start_time": "2022-01-25T06:44:55.570Z"
   },
   {
    "duration": 21,
    "start_time": "2022-01-25T06:44:55.613Z"
   },
   {
    "duration": 27,
    "start_time": "2022-01-25T06:44:55.636Z"
   },
   {
    "duration": 30,
    "start_time": "2022-01-25T06:44:55.665Z"
   },
   {
    "duration": 23,
    "start_time": "2022-01-25T06:44:55.697Z"
   },
   {
    "duration": 31,
    "start_time": "2022-01-25T06:44:55.722Z"
   },
   {
    "duration": 26,
    "start_time": "2022-01-25T06:44:55.755Z"
   },
   {
    "duration": 36,
    "start_time": "2022-01-25T06:44:55.784Z"
   },
   {
    "duration": 59,
    "start_time": "2022-01-25T06:44:55.822Z"
   },
   {
    "duration": 10,
    "start_time": "2022-01-25T06:44:55.883Z"
   },
   {
    "duration": 31,
    "start_time": "2022-01-25T06:44:55.895Z"
   },
   {
    "duration": 39,
    "start_time": "2022-01-25T06:44:55.928Z"
   },
   {
    "duration": 17,
    "start_time": "2022-01-25T06:44:55.969Z"
   },
   {
    "duration": 47,
    "start_time": "2022-01-25T06:44:55.987Z"
   },
   {
    "duration": 23,
    "start_time": "2022-01-25T06:44:56.036Z"
   },
   {
    "duration": 45,
    "start_time": "2022-01-25T06:44:56.060Z"
   },
   {
    "duration": 38,
    "start_time": "2022-01-25T06:44:56.107Z"
   },
   {
    "duration": 42,
    "start_time": "2022-01-25T06:44:56.147Z"
   },
   {
    "duration": 38,
    "start_time": "2022-01-25T06:44:56.191Z"
   },
   {
    "duration": 61,
    "start_time": "2022-01-25T06:44:56.231Z"
   },
   {
    "duration": 22,
    "start_time": "2022-01-25T06:44:56.293Z"
   },
   {
    "duration": 42,
    "start_time": "2022-01-25T06:44:56.317Z"
   },
   {
    "duration": 54,
    "start_time": "2022-01-25T06:44:56.361Z"
   },
   {
    "duration": 9403,
    "start_time": "2022-01-25T06:44:56.417Z"
   },
   {
    "duration": 4,
    "start_time": "2022-01-25T06:45:05.823Z"
   },
   {
    "duration": 22,
    "start_time": "2022-01-25T06:45:05.829Z"
   },
   {
    "duration": 16,
    "start_time": "2022-01-25T06:45:05.853Z"
   },
   {
    "duration": 12,
    "start_time": "2022-01-25T06:45:05.871Z"
   },
   {
    "duration": 25,
    "start_time": "2022-01-25T06:45:05.885Z"
   },
   {
    "duration": 22,
    "start_time": "2022-01-25T06:45:05.912Z"
   },
   {
    "duration": 35,
    "start_time": "2022-01-25T06:45:05.935Z"
   },
   {
    "duration": 38,
    "start_time": "2022-01-25T06:45:05.971Z"
   },
   {
    "duration": 37,
    "start_time": "2022-01-25T06:45:16.924Z"
   },
   {
    "duration": 10,
    "start_time": "2022-01-25T06:45:22.218Z"
   },
   {
    "duration": 77,
    "start_time": "2022-01-25T13:49:03.500Z"
   },
   {
    "duration": 4,
    "start_time": "2022-01-25T13:49:03.579Z"
   },
   {
    "duration": 12,
    "start_time": "2022-01-25T13:49:03.586Z"
   },
   {
    "duration": 13,
    "start_time": "2022-01-25T13:49:03.600Z"
   },
   {
    "duration": 6,
    "start_time": "2022-01-25T13:49:03.615Z"
   },
   {
    "duration": 39,
    "start_time": "2022-01-25T13:49:03.623Z"
   },
   {
    "duration": 6,
    "start_time": "2022-01-25T13:49:03.664Z"
   },
   {
    "duration": 10,
    "start_time": "2022-01-25T13:49:03.672Z"
   },
   {
    "duration": 17,
    "start_time": "2022-01-25T13:49:03.684Z"
   },
   {
    "duration": 13,
    "start_time": "2022-01-25T13:49:03.703Z"
   },
   {
    "duration": 107,
    "start_time": "2022-01-25T13:49:03.718Z"
   },
   {
    "duration": 2,
    "start_time": "2022-01-25T13:49:03.826Z"
   },
   {
    "duration": 7,
    "start_time": "2022-01-25T13:49:03.830Z"
   },
   {
    "duration": 36,
    "start_time": "2022-01-25T13:49:03.838Z"
   },
   {
    "duration": 20,
    "start_time": "2022-01-25T13:49:03.876Z"
   },
   {
    "duration": 26,
    "start_time": "2022-01-25T13:49:03.898Z"
   },
   {
    "duration": 9,
    "start_time": "2022-01-25T13:49:03.926Z"
   },
   {
    "duration": 23,
    "start_time": "2022-01-25T13:49:03.938Z"
   },
   {
    "duration": 6,
    "start_time": "2022-01-25T13:49:03.963Z"
   },
   {
    "duration": 8,
    "start_time": "2022-01-25T13:49:03.971Z"
   },
   {
    "duration": 9,
    "start_time": "2022-01-25T13:49:03.981Z"
   },
   {
    "duration": 7,
    "start_time": "2022-01-25T13:49:03.991Z"
   },
   {
    "duration": 14,
    "start_time": "2022-01-25T13:49:04.002Z"
   },
   {
    "duration": 70,
    "start_time": "2022-01-25T13:49:04.018Z"
   },
   {
    "duration": 8,
    "start_time": "2022-01-25T13:49:04.090Z"
   },
   {
    "duration": 11,
    "start_time": "2022-01-25T13:49:04.100Z"
   },
   {
    "duration": 9,
    "start_time": "2022-01-25T13:49:04.115Z"
   },
   {
    "duration": 8,
    "start_time": "2022-01-25T13:49:04.126Z"
   },
   {
    "duration": 25,
    "start_time": "2022-01-25T13:49:04.135Z"
   },
   {
    "duration": 6,
    "start_time": "2022-01-25T13:49:04.163Z"
   },
   {
    "duration": 9,
    "start_time": "2022-01-25T13:49:04.171Z"
   },
   {
    "duration": 11,
    "start_time": "2022-01-25T13:49:04.181Z"
   },
   {
    "duration": 6,
    "start_time": "2022-01-25T13:49:04.194Z"
   },
   {
    "duration": 8,
    "start_time": "2022-01-25T13:49:04.201Z"
   },
   {
    "duration": 50,
    "start_time": "2022-01-25T13:49:04.211Z"
   },
   {
    "duration": 17,
    "start_time": "2022-01-25T13:49:04.262Z"
   },
   {
    "duration": 15,
    "start_time": "2022-01-25T13:49:04.281Z"
   },
   {
    "duration": 18,
    "start_time": "2022-01-25T13:49:04.297Z"
   },
   {
    "duration": 9007,
    "start_time": "2022-01-25T13:49:04.316Z"
   },
   {
    "duration": 4,
    "start_time": "2022-01-25T13:49:13.325Z"
   },
   {
    "duration": 11,
    "start_time": "2022-01-25T13:49:13.331Z"
   },
   {
    "duration": 17,
    "start_time": "2022-01-25T13:49:13.343Z"
   },
   {
    "duration": 9,
    "start_time": "2022-01-25T13:49:13.362Z"
   },
   {
    "duration": 21,
    "start_time": "2022-01-25T13:49:13.373Z"
   },
   {
    "duration": 20,
    "start_time": "2022-01-25T13:49:13.395Z"
   },
   {
    "duration": 46,
    "start_time": "2022-01-25T13:49:13.417Z"
   },
   {
    "duration": 36,
    "start_time": "2022-01-25T13:49:13.465Z"
   },
   {
    "duration": 13,
    "start_time": "2022-01-25T13:52:39.536Z"
   },
   {
    "duration": 74,
    "start_time": "2022-01-26T09:58:28.257Z"
   },
   {
    "duration": 4,
    "start_time": "2022-01-26T09:58:28.332Z"
   },
   {
    "duration": 26,
    "start_time": "2022-01-26T09:58:28.338Z"
   },
   {
    "duration": 37,
    "start_time": "2022-01-26T09:58:28.366Z"
   },
   {
    "duration": 22,
    "start_time": "2022-01-26T09:58:28.405Z"
   },
   {
    "duration": 34,
    "start_time": "2022-01-26T09:58:28.429Z"
   },
   {
    "duration": 35,
    "start_time": "2022-01-26T09:58:28.464Z"
   },
   {
    "duration": 21,
    "start_time": "2022-01-26T09:58:28.502Z"
   },
   {
    "duration": 35,
    "start_time": "2022-01-26T09:58:28.526Z"
   },
   {
    "duration": 26,
    "start_time": "2022-01-26T09:58:28.563Z"
   },
   {
    "duration": 105,
    "start_time": "2022-01-26T09:58:28.590Z"
   },
   {
    "duration": 2,
    "start_time": "2022-01-26T09:58:28.697Z"
   },
   {
    "duration": 12,
    "start_time": "2022-01-26T09:58:28.701Z"
   },
   {
    "duration": 39,
    "start_time": "2022-01-26T09:58:28.715Z"
   },
   {
    "duration": 19,
    "start_time": "2022-01-26T09:58:28.757Z"
   },
   {
    "duration": 44,
    "start_time": "2022-01-26T09:58:28.778Z"
   },
   {
    "duration": 32,
    "start_time": "2022-01-26T09:58:28.824Z"
   },
   {
    "duration": 28,
    "start_time": "2022-01-26T09:58:28.858Z"
   },
   {
    "duration": 10,
    "start_time": "2022-01-26T09:58:28.888Z"
   },
   {
    "duration": 48,
    "start_time": "2022-01-26T09:58:28.900Z"
   },
   {
    "duration": 33,
    "start_time": "2022-01-26T09:58:28.950Z"
   },
   {
    "duration": 16,
    "start_time": "2022-01-26T09:58:28.984Z"
   },
   {
    "duration": 27,
    "start_time": "2022-01-26T09:58:29.004Z"
   },
   {
    "duration": 61,
    "start_time": "2022-01-26T09:58:29.034Z"
   },
   {
    "duration": 11,
    "start_time": "2022-01-26T09:58:29.097Z"
   },
   {
    "duration": 21,
    "start_time": "2022-01-26T09:58:29.110Z"
   },
   {
    "duration": 40,
    "start_time": "2022-01-26T09:58:29.133Z"
   },
   {
    "duration": 33,
    "start_time": "2022-01-26T09:58:29.175Z"
   },
   {
    "duration": 22,
    "start_time": "2022-01-26T09:58:29.211Z"
   },
   {
    "duration": 41,
    "start_time": "2022-01-26T09:58:29.235Z"
   },
   {
    "duration": 33,
    "start_time": "2022-01-26T09:58:29.278Z"
   },
   {
    "duration": 32,
    "start_time": "2022-01-26T09:58:29.313Z"
   },
   {
    "duration": 22,
    "start_time": "2022-01-26T09:58:29.347Z"
   },
   {
    "duration": 22,
    "start_time": "2022-01-26T09:58:29.371Z"
   },
   {
    "duration": 55,
    "start_time": "2022-01-26T09:58:29.395Z"
   },
   {
    "duration": 16,
    "start_time": "2022-01-26T09:58:29.451Z"
   },
   {
    "duration": 26,
    "start_time": "2022-01-26T09:58:29.469Z"
   },
   {
    "duration": 36,
    "start_time": "2022-01-26T09:58:29.497Z"
   },
   {
    "duration": 9689,
    "start_time": "2022-01-26T09:58:29.535Z"
   },
   {
    "duration": 3,
    "start_time": "2022-01-26T09:58:39.226Z"
   },
   {
    "duration": 27,
    "start_time": "2022-01-26T09:58:39.231Z"
   },
   {
    "duration": 39,
    "start_time": "2022-01-26T09:58:39.259Z"
   },
   {
    "duration": 33,
    "start_time": "2022-01-26T09:58:39.300Z"
   },
   {
    "duration": 58,
    "start_time": "2022-01-26T09:58:39.335Z"
   },
   {
    "duration": 55,
    "start_time": "2022-01-26T09:58:39.394Z"
   },
   {
    "duration": 23,
    "start_time": "2022-01-26T09:58:39.451Z"
   },
   {
    "duration": 13,
    "start_time": "2022-01-26T09:58:51.666Z"
   },
   {
    "duration": 10,
    "start_time": "2022-01-26T09:58:56.518Z"
   },
   {
    "duration": 38,
    "start_time": "2022-01-26T10:00:14.751Z"
   },
   {
    "duration": 10,
    "start_time": "2022-01-26T10:00:16.458Z"
   },
   {
    "duration": 77,
    "start_time": "2022-01-26T10:00:29.949Z"
   },
   {
    "duration": 4,
    "start_time": "2022-01-26T10:00:30.028Z"
   },
   {
    "duration": 38,
    "start_time": "2022-01-26T10:00:30.034Z"
   },
   {
    "duration": 15,
    "start_time": "2022-01-26T10:00:30.074Z"
   },
   {
    "duration": 7,
    "start_time": "2022-01-26T10:00:30.091Z"
   },
   {
    "duration": 7,
    "start_time": "2022-01-26T10:00:30.100Z"
   },
   {
    "duration": 12,
    "start_time": "2022-01-26T10:00:30.108Z"
   },
   {
    "duration": 22,
    "start_time": "2022-01-26T10:00:30.122Z"
   },
   {
    "duration": 17,
    "start_time": "2022-01-26T10:00:30.162Z"
   },
   {
    "duration": 13,
    "start_time": "2022-01-26T10:00:30.181Z"
   },
   {
    "duration": 105,
    "start_time": "2022-01-26T10:00:30.196Z"
   },
   {
    "duration": 2,
    "start_time": "2022-01-26T10:00:30.303Z"
   },
   {
    "duration": 26,
    "start_time": "2022-01-26T10:00:30.307Z"
   },
   {
    "duration": 34,
    "start_time": "2022-01-26T10:00:30.335Z"
   },
   {
    "duration": 24,
    "start_time": "2022-01-26T10:00:30.372Z"
   },
   {
    "duration": 44,
    "start_time": "2022-01-26T10:00:30.398Z"
   },
   {
    "duration": 14,
    "start_time": "2022-01-26T10:00:30.444Z"
   },
   {
    "duration": 16,
    "start_time": "2022-01-26T10:00:30.460Z"
   },
   {
    "duration": 21,
    "start_time": "2022-01-26T10:00:30.478Z"
   },
   {
    "duration": 36,
    "start_time": "2022-01-26T10:00:30.501Z"
   },
   {
    "duration": 17,
    "start_time": "2022-01-26T10:00:30.539Z"
   },
   {
    "duration": 29,
    "start_time": "2022-01-26T10:00:30.558Z"
   },
   {
    "duration": 22,
    "start_time": "2022-01-26T10:00:30.591Z"
   },
   {
    "duration": 53,
    "start_time": "2022-01-26T10:00:30.616Z"
   },
   {
    "duration": 10,
    "start_time": "2022-01-26T10:00:30.671Z"
   },
   {
    "duration": 47,
    "start_time": "2022-01-26T10:00:30.683Z"
   },
   {
    "duration": 34,
    "start_time": "2022-01-26T10:00:30.733Z"
   },
   {
    "duration": 49,
    "start_time": "2022-01-26T10:00:30.769Z"
   },
   {
    "duration": 28,
    "start_time": "2022-01-26T10:00:30.820Z"
   },
   {
    "duration": 40,
    "start_time": "2022-01-26T10:00:30.849Z"
   },
   {
    "duration": 60,
    "start_time": "2022-01-26T10:00:30.892Z"
   },
   {
    "duration": 72,
    "start_time": "2022-01-26T10:00:30.955Z"
   },
   {
    "duration": 37,
    "start_time": "2022-01-26T10:00:31.030Z"
   },
   {
    "duration": 41,
    "start_time": "2022-01-26T10:00:31.069Z"
   },
   {
    "duration": 52,
    "start_time": "2022-01-26T10:00:31.112Z"
   },
   {
    "duration": 31,
    "start_time": "2022-01-26T10:00:31.165Z"
   },
   {
    "duration": 30,
    "start_time": "2022-01-26T10:00:31.198Z"
   },
   {
    "duration": 28,
    "start_time": "2022-01-26T10:00:31.230Z"
   },
   {
    "duration": 9525,
    "start_time": "2022-01-26T10:00:31.260Z"
   },
   {
    "duration": 3,
    "start_time": "2022-01-26T10:00:40.787Z"
   },
   {
    "duration": 43,
    "start_time": "2022-01-26T10:00:40.792Z"
   },
   {
    "duration": 32,
    "start_time": "2022-01-26T10:00:40.837Z"
   },
   {
    "duration": 30,
    "start_time": "2022-01-26T10:00:40.871Z"
   },
   {
    "duration": 35,
    "start_time": "2022-01-26T10:00:40.903Z"
   },
   {
    "duration": 23,
    "start_time": "2022-01-26T10:00:40.940Z"
   },
   {
    "duration": 29,
    "start_time": "2022-01-26T10:00:40.965Z"
   },
   {
    "duration": 40,
    "start_time": "2022-01-26T10:00:40.996Z"
   },
   {
    "duration": 40,
    "start_time": "2022-01-26T10:01:11.192Z"
   },
   {
    "duration": 10,
    "start_time": "2022-01-26T10:01:13.037Z"
   },
   {
    "duration": 79,
    "start_time": "2022-01-26T10:02:02.288Z"
   },
   {
    "duration": 18,
    "start_time": "2022-01-26T10:02:02.369Z"
   },
   {
    "duration": 44,
    "start_time": "2022-01-26T10:02:02.389Z"
   },
   {
    "duration": 32,
    "start_time": "2022-01-26T10:02:02.436Z"
   },
   {
    "duration": 25,
    "start_time": "2022-01-26T10:02:02.470Z"
   },
   {
    "duration": 78,
    "start_time": "2022-01-26T10:02:02.497Z"
   },
   {
    "duration": 10,
    "start_time": "2022-01-26T10:02:02.577Z"
   },
   {
    "duration": 44,
    "start_time": "2022-01-26T10:02:02.590Z"
   },
   {
    "duration": 41,
    "start_time": "2022-01-26T10:02:02.637Z"
   },
   {
    "duration": 14,
    "start_time": "2022-01-26T10:02:02.680Z"
   },
   {
    "duration": 128,
    "start_time": "2022-01-26T10:02:02.696Z"
   },
   {
    "duration": 2,
    "start_time": "2022-01-26T10:02:02.826Z"
   },
   {
    "duration": 55,
    "start_time": "2022-01-26T10:02:02.830Z"
   },
   {
    "duration": 36,
    "start_time": "2022-01-26T10:02:02.888Z"
   },
   {
    "duration": 21,
    "start_time": "2022-01-26T10:02:02.926Z"
   },
   {
    "duration": 56,
    "start_time": "2022-01-26T10:02:02.949Z"
   },
   {
    "duration": 45,
    "start_time": "2022-01-26T10:02:03.007Z"
   },
   {
    "duration": 57,
    "start_time": "2022-01-26T10:02:03.054Z"
   },
   {
    "duration": 38,
    "start_time": "2022-01-26T10:02:03.113Z"
   },
   {
    "duration": 87,
    "start_time": "2022-01-26T10:02:03.153Z"
   },
   {
    "duration": 67,
    "start_time": "2022-01-26T10:02:03.242Z"
   },
   {
    "duration": 58,
    "start_time": "2022-01-26T10:02:03.311Z"
   },
   {
    "duration": 78,
    "start_time": "2022-01-26T10:02:03.373Z"
   },
   {
    "duration": 122,
    "start_time": "2022-01-26T10:02:03.453Z"
   },
   {
    "duration": 11,
    "start_time": "2022-01-26T10:02:03.577Z"
   },
   {
    "duration": 41,
    "start_time": "2022-01-26T10:02:03.590Z"
   },
   {
    "duration": 39,
    "start_time": "2022-01-26T10:02:03.633Z"
   },
   {
    "duration": 47,
    "start_time": "2022-01-26T10:02:03.674Z"
   },
   {
    "duration": 46,
    "start_time": "2022-01-26T10:02:03.723Z"
   },
   {
    "duration": 27,
    "start_time": "2022-01-26T10:02:03.771Z"
   },
   {
    "duration": 49,
    "start_time": "2022-01-26T10:02:03.800Z"
   },
   {
    "duration": 41,
    "start_time": "2022-01-26T10:02:03.851Z"
   },
   {
    "duration": 23,
    "start_time": "2022-01-26T10:02:03.894Z"
   },
   {
    "duration": 13,
    "start_time": "2022-01-26T10:02:03.919Z"
   },
   {
    "duration": 39,
    "start_time": "2022-01-26T10:02:03.935Z"
   },
   {
    "duration": 19,
    "start_time": "2022-01-26T10:02:03.977Z"
   },
   {
    "duration": 15,
    "start_time": "2022-01-26T10:02:03.998Z"
   },
   {
    "duration": 47,
    "start_time": "2022-01-26T10:02:04.015Z"
   },
   {
    "duration": 8970,
    "start_time": "2022-01-26T10:02:04.064Z"
   },
   {
    "duration": 3,
    "start_time": "2022-01-26T10:02:13.036Z"
   },
   {
    "duration": 236,
    "start_time": "2022-01-26T10:02:13.041Z"
   },
   {
    "duration": 158,
    "start_time": "2022-01-26T10:02:13.278Z"
   },
   {
    "duration": 97,
    "start_time": "2022-01-26T10:02:13.439Z"
   },
   {
    "duration": 61,
    "start_time": "2022-01-26T10:02:13.538Z"
   },
   {
    "duration": 68,
    "start_time": "2022-01-26T10:02:13.601Z"
   },
   {
    "duration": 56,
    "start_time": "2022-01-26T10:02:13.671Z"
   },
   {
    "duration": 72,
    "start_time": "2022-01-26T10:20:47.811Z"
   },
   {
    "duration": 3,
    "start_time": "2022-01-26T10:20:47.885Z"
   },
   {
    "duration": 14,
    "start_time": "2022-01-26T10:20:47.890Z"
   },
   {
    "duration": 21,
    "start_time": "2022-01-26T10:20:47.906Z"
   },
   {
    "duration": 15,
    "start_time": "2022-01-26T10:20:47.929Z"
   },
   {
    "duration": 8,
    "start_time": "2022-01-26T10:20:47.960Z"
   },
   {
    "duration": 16,
    "start_time": "2022-01-26T10:20:47.969Z"
   },
   {
    "duration": 14,
    "start_time": "2022-01-26T10:20:47.987Z"
   },
   {
    "duration": 28,
    "start_time": "2022-01-26T10:20:48.003Z"
   },
   {
    "duration": 13,
    "start_time": "2022-01-26T10:20:48.032Z"
   },
   {
    "duration": 71,
    "start_time": "2022-01-26T10:20:48.060Z"
   },
   {
    "duration": 2,
    "start_time": "2022-01-26T10:20:48.133Z"
   },
   {
    "duration": 25,
    "start_time": "2022-01-26T10:20:48.136Z"
   },
   {
    "duration": 34,
    "start_time": "2022-01-26T10:20:48.164Z"
   },
   {
    "duration": 11,
    "start_time": "2022-01-26T10:20:48.200Z"
   },
   {
    "duration": 32,
    "start_time": "2022-01-26T10:20:48.212Z"
   },
   {
    "duration": 15,
    "start_time": "2022-01-26T10:20:48.246Z"
   },
   {
    "duration": 15,
    "start_time": "2022-01-26T10:20:48.263Z"
   },
   {
    "duration": 8,
    "start_time": "2022-01-26T10:20:48.280Z"
   },
   {
    "duration": 8,
    "start_time": "2022-01-26T10:20:48.290Z"
   },
   {
    "duration": 11,
    "start_time": "2022-01-26T10:20:48.299Z"
   },
   {
    "duration": 12,
    "start_time": "2022-01-26T10:20:48.312Z"
   },
   {
    "duration": 9,
    "start_time": "2022-01-26T10:20:48.328Z"
   },
   {
    "duration": 52,
    "start_time": "2022-01-26T10:20:48.339Z"
   },
   {
    "duration": 7,
    "start_time": "2022-01-26T10:20:48.393Z"
   },
   {
    "duration": 12,
    "start_time": "2022-01-26T10:20:48.402Z"
   },
   {
    "duration": 12,
    "start_time": "2022-01-26T10:20:48.416Z"
   },
   {
    "duration": 10,
    "start_time": "2022-01-26T10:20:48.430Z"
   },
   {
    "duration": 20,
    "start_time": "2022-01-26T10:20:48.442Z"
   },
   {
    "duration": 8,
    "start_time": "2022-01-26T10:20:48.464Z"
   },
   {
    "duration": 12,
    "start_time": "2022-01-26T10:20:48.474Z"
   },
   {
    "duration": 11,
    "start_time": "2022-01-26T10:20:48.488Z"
   },
   {
    "duration": 7,
    "start_time": "2022-01-26T10:20:48.501Z"
   },
   {
    "duration": 16,
    "start_time": "2022-01-26T10:20:48.509Z"
   },
   {
    "duration": 47,
    "start_time": "2022-01-26T10:20:48.527Z"
   },
   {
    "duration": 17,
    "start_time": "2022-01-26T10:20:48.576Z"
   },
   {
    "duration": 15,
    "start_time": "2022-01-26T10:20:48.595Z"
   },
   {
    "duration": 18,
    "start_time": "2022-01-26T10:20:48.612Z"
   },
   {
    "duration": 9522,
    "start_time": "2022-01-26T10:20:48.632Z"
   },
   {
    "duration": 5,
    "start_time": "2022-01-26T10:20:58.156Z"
   },
   {
    "duration": 27,
    "start_time": "2022-01-26T10:20:58.163Z"
   },
   {
    "duration": 33,
    "start_time": "2022-01-26T10:20:58.192Z"
   },
   {
    "duration": 27,
    "start_time": "2022-01-26T10:20:58.227Z"
   },
   {
    "duration": 39,
    "start_time": "2022-01-26T10:20:58.256Z"
   },
   {
    "duration": 23,
    "start_time": "2022-01-26T10:20:58.297Z"
   },
   {
    "duration": 30,
    "start_time": "2022-01-26T10:20:58.322Z"
   },
   {
    "duration": 6954,
    "start_time": "2022-01-26T10:21:16.894Z"
   },
   {
    "duration": 85,
    "start_time": "2022-01-26T10:21:57.841Z"
   },
   {
    "duration": 12,
    "start_time": "2022-01-26T10:22:34.012Z"
   },
   {
    "duration": 11,
    "start_time": "2022-01-26T10:22:38.146Z"
   },
   {
    "duration": 38,
    "start_time": "2022-01-26T10:23:48.089Z"
   },
   {
    "duration": 10,
    "start_time": "2022-01-26T10:23:50.206Z"
   },
   {
    "duration": 75,
    "start_time": "2022-01-26T10:24:01.719Z"
   },
   {
    "duration": 4,
    "start_time": "2022-01-26T10:24:01.797Z"
   },
   {
    "duration": 48,
    "start_time": "2022-01-26T10:24:01.803Z"
   },
   {
    "duration": 78,
    "start_time": "2022-01-26T10:24:01.854Z"
   },
   {
    "duration": 64,
    "start_time": "2022-01-26T10:24:01.935Z"
   },
   {
    "duration": 42,
    "start_time": "2022-01-26T10:24:02.001Z"
   },
   {
    "duration": 28,
    "start_time": "2022-01-26T10:24:02.044Z"
   },
   {
    "duration": 27,
    "start_time": "2022-01-26T10:24:02.075Z"
   },
   {
    "duration": 44,
    "start_time": "2022-01-26T10:24:02.105Z"
   },
   {
    "duration": 50,
    "start_time": "2022-01-26T10:24:02.150Z"
   },
   {
    "duration": 95,
    "start_time": "2022-01-26T10:24:02.202Z"
   },
   {
    "duration": 3,
    "start_time": "2022-01-26T10:24:02.299Z"
   },
   {
    "duration": 50,
    "start_time": "2022-01-26T10:24:02.303Z"
   },
   {
    "duration": 34,
    "start_time": "2022-01-26T10:24:02.355Z"
   },
   {
    "duration": 28,
    "start_time": "2022-01-26T10:24:02.390Z"
   },
   {
    "duration": 37,
    "start_time": "2022-01-26T10:24:02.420Z"
   },
   {
    "duration": 42,
    "start_time": "2022-01-26T10:24:02.459Z"
   },
   {
    "duration": 20,
    "start_time": "2022-01-26T10:24:02.502Z"
   },
   {
    "duration": 21,
    "start_time": "2022-01-26T10:24:02.523Z"
   },
   {
    "duration": 34,
    "start_time": "2022-01-26T10:24:02.546Z"
   },
   {
    "duration": 33,
    "start_time": "2022-01-26T10:24:02.582Z"
   },
   {
    "duration": 24,
    "start_time": "2022-01-26T10:24:02.617Z"
   },
   {
    "duration": 28,
    "start_time": "2022-01-26T10:24:02.645Z"
   },
   {
    "duration": 52,
    "start_time": "2022-01-26T10:24:02.676Z"
   },
   {
    "duration": 9,
    "start_time": "2022-01-26T10:24:02.730Z"
   },
   {
    "duration": 33,
    "start_time": "2022-01-26T10:24:02.741Z"
   },
   {
    "duration": 34,
    "start_time": "2022-01-26T10:24:02.776Z"
   },
   {
    "duration": 39,
    "start_time": "2022-01-26T10:24:02.812Z"
   },
   {
    "duration": 27,
    "start_time": "2022-01-26T10:24:02.854Z"
   },
   {
    "duration": 30,
    "start_time": "2022-01-26T10:24:02.883Z"
   },
   {
    "duration": 20,
    "start_time": "2022-01-26T10:24:02.915Z"
   },
   {
    "duration": 25,
    "start_time": "2022-01-26T10:24:02.937Z"
   },
   {
    "duration": 20,
    "start_time": "2022-01-26T10:24:02.965Z"
   },
   {
    "duration": 20,
    "start_time": "2022-01-26T10:24:02.987Z"
   },
   {
    "duration": 185,
    "start_time": "2022-01-26T10:24:03.008Z"
   },
   {
    "duration": 17,
    "start_time": "2022-01-26T10:24:03.195Z"
   },
   {
    "duration": 15,
    "start_time": "2022-01-26T10:24:03.214Z"
   },
   {
    "duration": 42,
    "start_time": "2022-01-26T10:24:03.230Z"
   },
   {
    "duration": 10571,
    "start_time": "2022-01-26T10:24:03.274Z"
   },
   {
    "duration": 3,
    "start_time": "2022-01-26T10:24:13.847Z"
   },
   {
    "duration": 32,
    "start_time": "2022-01-26T10:24:13.861Z"
   },
   {
    "duration": 20,
    "start_time": "2022-01-26T10:24:13.895Z"
   },
   {
    "duration": 34,
    "start_time": "2022-01-26T10:24:13.917Z"
   },
   {
    "duration": 34,
    "start_time": "2022-01-26T10:24:13.953Z"
   },
   {
    "duration": 29,
    "start_time": "2022-01-26T10:24:13.988Z"
   },
   {
    "duration": 24,
    "start_time": "2022-01-26T10:24:14.019Z"
   },
   {
    "duration": 38,
    "start_time": "2022-01-26T10:24:54.364Z"
   },
   {
    "duration": 11,
    "start_time": "2022-01-26T10:24:55.597Z"
   },
   {
    "duration": 13,
    "start_time": "2022-01-26T12:10:42.419Z"
   },
   {
    "duration": 69,
    "start_time": "2022-01-26T13:19:09.620Z"
   },
   {
    "duration": 3,
    "start_time": "2022-01-26T13:19:09.691Z"
   },
   {
    "duration": 32,
    "start_time": "2022-01-26T13:19:09.696Z"
   },
   {
    "duration": 45,
    "start_time": "2022-01-26T13:19:09.730Z"
   },
   {
    "duration": 34,
    "start_time": "2022-01-26T13:19:09.777Z"
   },
   {
    "duration": 27,
    "start_time": "2022-01-26T13:19:09.813Z"
   },
   {
    "duration": 30,
    "start_time": "2022-01-26T13:19:09.842Z"
   },
   {
    "duration": 30,
    "start_time": "2022-01-26T13:19:09.874Z"
   },
   {
    "duration": 43,
    "start_time": "2022-01-26T13:19:09.906Z"
   },
   {
    "duration": 22,
    "start_time": "2022-01-26T13:19:09.951Z"
   },
   {
    "duration": 105,
    "start_time": "2022-01-26T13:19:09.975Z"
   },
   {
    "duration": 2,
    "start_time": "2022-01-26T13:19:10.082Z"
   },
   {
    "duration": 14,
    "start_time": "2022-01-26T13:19:10.086Z"
   },
   {
    "duration": 44,
    "start_time": "2022-01-26T13:19:10.102Z"
   },
   {
    "duration": 31,
    "start_time": "2022-01-26T13:19:10.148Z"
   },
   {
    "duration": 50,
    "start_time": "2022-01-26T13:19:10.181Z"
   },
   {
    "duration": 24,
    "start_time": "2022-01-26T13:19:10.233Z"
   },
   {
    "duration": 19,
    "start_time": "2022-01-26T13:19:10.258Z"
   },
   {
    "duration": 27,
    "start_time": "2022-01-26T13:19:10.278Z"
   },
   {
    "duration": 19,
    "start_time": "2022-01-26T13:19:10.307Z"
   },
   {
    "duration": 33,
    "start_time": "2022-01-26T13:19:10.327Z"
   },
   {
    "duration": 20,
    "start_time": "2022-01-26T13:19:10.362Z"
   },
   {
    "duration": 18,
    "start_time": "2022-01-26T13:19:10.386Z"
   },
   {
    "duration": 64,
    "start_time": "2022-01-26T13:19:10.406Z"
   },
   {
    "duration": 15,
    "start_time": "2022-01-26T13:19:10.472Z"
   },
   {
    "duration": 22,
    "start_time": "2022-01-26T13:19:10.488Z"
   },
   {
    "duration": 31,
    "start_time": "2022-01-26T13:19:10.511Z"
   },
   {
    "duration": 24,
    "start_time": "2022-01-26T13:19:10.544Z"
   },
   {
    "duration": 35,
    "start_time": "2022-01-26T13:19:10.569Z"
   },
   {
    "duration": 30,
    "start_time": "2022-01-26T13:19:10.606Z"
   },
   {
    "duration": 27,
    "start_time": "2022-01-26T13:19:10.638Z"
   },
   {
    "duration": 40,
    "start_time": "2022-01-26T13:19:10.667Z"
   },
   {
    "duration": 31,
    "start_time": "2022-01-26T13:19:10.709Z"
   },
   {
    "duration": 22,
    "start_time": "2022-01-26T13:19:10.742Z"
   },
   {
    "duration": 65,
    "start_time": "2022-01-26T13:19:10.766Z"
   },
   {
    "duration": 31,
    "start_time": "2022-01-26T13:19:10.833Z"
   },
   {
    "duration": 14,
    "start_time": "2022-01-26T13:19:10.865Z"
   },
   {
    "duration": 29,
    "start_time": "2022-01-26T13:19:10.881Z"
   },
   {
    "duration": 9390,
    "start_time": "2022-01-26T13:19:10.912Z"
   },
   {
    "duration": 3,
    "start_time": "2022-01-26T13:19:20.304Z"
   },
   {
    "duration": 7,
    "start_time": "2022-01-26T13:19:20.308Z"
   },
   {
    "duration": 24,
    "start_time": "2022-01-26T13:19:20.316Z"
   },
   {
    "duration": 25,
    "start_time": "2022-01-26T13:19:20.342Z"
   },
   {
    "duration": 35,
    "start_time": "2022-01-26T13:19:20.368Z"
   },
   {
    "duration": 30,
    "start_time": "2022-01-26T13:19:20.404Z"
   },
   {
    "duration": 21,
    "start_time": "2022-01-26T13:19:20.436Z"
   },
   {
    "duration": 3,
    "start_time": "2022-01-26T13:19:26.543Z"
   },
   {
    "duration": 6442,
    "start_time": "2022-01-26T13:20:05.326Z"
   },
   {
    "duration": 4,
    "start_time": "2022-01-26T13:22:35.742Z"
   },
   {
    "duration": 6380,
    "start_time": "2022-01-26T13:22:37.644Z"
   },
   {
    "duration": 244,
    "start_time": "2022-01-26T13:23:46.581Z"
   },
   {
    "duration": 7,
    "start_time": "2022-01-26T13:23:56.484Z"
   },
   {
    "duration": 6559,
    "start_time": "2022-01-26T13:23:57.296Z"
   },
   {
    "duration": 4,
    "start_time": "2022-01-26T13:24:28.093Z"
   },
   {
    "duration": 6281,
    "start_time": "2022-01-26T13:24:29.061Z"
   },
   {
    "duration": 4,
    "start_time": "2022-01-26T13:30:42.554Z"
   },
   {
    "duration": 257,
    "start_time": "2022-01-26T13:30:45.370Z"
   },
   {
    "duration": 85,
    "start_time": "2022-01-26T16:11:06.112Z"
   },
   {
    "duration": 4,
    "start_time": "2022-01-26T16:11:06.198Z"
   },
   {
    "duration": 10,
    "start_time": "2022-01-26T16:11:06.204Z"
   },
   {
    "duration": 21,
    "start_time": "2022-01-26T16:11:06.216Z"
   },
   {
    "duration": 6,
    "start_time": "2022-01-26T16:11:06.239Z"
   },
   {
    "duration": 55,
    "start_time": "2022-01-26T16:11:06.246Z"
   },
   {
    "duration": 15,
    "start_time": "2022-01-26T16:11:06.302Z"
   },
   {
    "duration": 8,
    "start_time": "2022-01-26T16:11:06.319Z"
   },
   {
    "duration": 15,
    "start_time": "2022-01-26T16:11:06.329Z"
   },
   {
    "duration": 11,
    "start_time": "2022-01-26T16:11:06.346Z"
   },
   {
    "duration": 81,
    "start_time": "2022-01-26T16:11:06.359Z"
   },
   {
    "duration": 2,
    "start_time": "2022-01-26T16:11:06.442Z"
   },
   {
    "duration": 25,
    "start_time": "2022-01-26T16:11:06.445Z"
   },
   {
    "duration": 39,
    "start_time": "2022-01-26T16:11:06.472Z"
   },
   {
    "duration": 21,
    "start_time": "2022-01-26T16:11:06.512Z"
   },
   {
    "duration": 61,
    "start_time": "2022-01-26T16:11:06.535Z"
   },
   {
    "duration": 15,
    "start_time": "2022-01-26T16:11:06.598Z"
   },
   {
    "duration": 21,
    "start_time": "2022-01-26T16:11:06.615Z"
   },
   {
    "duration": 22,
    "start_time": "2022-01-26T16:11:06.637Z"
   },
   {
    "duration": 34,
    "start_time": "2022-01-26T16:11:06.661Z"
   },
   {
    "duration": 19,
    "start_time": "2022-01-26T16:11:06.698Z"
   },
   {
    "duration": 13,
    "start_time": "2022-01-26T16:11:06.719Z"
   },
   {
    "duration": 7,
    "start_time": "2022-01-26T16:11:06.736Z"
   },
   {
    "duration": 66,
    "start_time": "2022-01-26T16:11:06.746Z"
   },
   {
    "duration": 9,
    "start_time": "2022-01-26T16:11:06.814Z"
   },
   {
    "duration": 9,
    "start_time": "2022-01-26T16:11:06.825Z"
   },
   {
    "duration": 7,
    "start_time": "2022-01-26T16:11:06.837Z"
   },
   {
    "duration": 26,
    "start_time": "2022-01-26T16:11:06.846Z"
   },
   {
    "duration": 9,
    "start_time": "2022-01-26T16:11:06.875Z"
   },
   {
    "duration": 9,
    "start_time": "2022-01-26T16:11:06.886Z"
   },
   {
    "duration": 10,
    "start_time": "2022-01-26T16:11:06.897Z"
   },
   {
    "duration": 14,
    "start_time": "2022-01-26T16:11:06.908Z"
   },
   {
    "duration": 7,
    "start_time": "2022-01-26T16:11:06.924Z"
   },
   {
    "duration": 10,
    "start_time": "2022-01-26T16:11:06.933Z"
   },
   {
    "duration": 49,
    "start_time": "2022-01-26T16:11:06.944Z"
   },
   {
    "duration": 17,
    "start_time": "2022-01-26T16:11:06.995Z"
   },
   {
    "duration": 17,
    "start_time": "2022-01-26T16:11:07.013Z"
   },
   {
    "duration": 61,
    "start_time": "2022-01-26T16:11:07.032Z"
   },
   {
    "duration": 10311,
    "start_time": "2022-01-26T16:11:07.095Z"
   },
   {
    "duration": 4,
    "start_time": "2022-01-26T16:11:17.408Z"
   },
   {
    "duration": 11,
    "start_time": "2022-01-26T16:11:17.414Z"
   },
   {
    "duration": 13,
    "start_time": "2022-01-26T16:11:17.427Z"
   },
   {
    "duration": 22,
    "start_time": "2022-01-26T16:11:17.442Z"
   },
   {
    "duration": 23,
    "start_time": "2022-01-26T16:11:17.467Z"
   },
   {
    "duration": 26,
    "start_time": "2022-01-26T16:11:17.492Z"
   },
   {
    "duration": 62,
    "start_time": "2022-01-26T16:11:17.520Z"
   },
   {
    "duration": 4,
    "start_time": "2022-01-26T16:11:22.308Z"
   },
   {
    "duration": 6917,
    "start_time": "2022-01-26T16:11:49.138Z"
   },
   {
    "duration": 12,
    "start_time": "2022-01-26T16:12:37.716Z"
   },
   {
    "duration": 29,
    "start_time": "2022-01-26T16:12:52.853Z"
   },
   {
    "duration": 3,
    "start_time": "2022-01-26T16:14:18.420Z"
   },
   {
    "duration": 32,
    "start_time": "2022-01-26T16:15:17.357Z"
   },
   {
    "duration": 13,
    "start_time": "2022-01-26T16:15:27.701Z"
   },
   {
    "duration": 11,
    "start_time": "2022-01-26T16:15:34.610Z"
   },
   {
    "duration": 14,
    "start_time": "2022-01-26T16:15:35.171Z"
   },
   {
    "duration": 67,
    "start_time": "2022-01-26T16:16:27.787Z"
   },
   {
    "duration": 4,
    "start_time": "2022-01-26T16:16:27.856Z"
   },
   {
    "duration": 23,
    "start_time": "2022-01-26T16:16:27.862Z"
   },
   {
    "duration": 11,
    "start_time": "2022-01-26T16:16:27.887Z"
   },
   {
    "duration": 7,
    "start_time": "2022-01-26T16:16:27.900Z"
   },
   {
    "duration": 7,
    "start_time": "2022-01-26T16:16:27.909Z"
   },
   {
    "duration": 12,
    "start_time": "2022-01-26T16:16:27.918Z"
   },
   {
    "duration": 8,
    "start_time": "2022-01-26T16:16:27.932Z"
   },
   {
    "duration": 20,
    "start_time": "2022-01-26T16:16:27.962Z"
   },
   {
    "duration": 12,
    "start_time": "2022-01-26T16:16:27.985Z"
   },
   {
    "duration": 99,
    "start_time": "2022-01-26T16:16:27.998Z"
   },
   {
    "duration": 3,
    "start_time": "2022-01-26T16:16:28.098Z"
   },
   {
    "duration": 5,
    "start_time": "2022-01-26T16:16:28.102Z"
   },
   {
    "duration": 16,
    "start_time": "2022-01-26T16:16:28.109Z"
   },
   {
    "duration": 9,
    "start_time": "2022-01-26T16:16:28.127Z"
   },
   {
    "duration": 50,
    "start_time": "2022-01-26T16:16:28.137Z"
   },
   {
    "duration": 5,
    "start_time": "2022-01-26T16:16:28.189Z"
   },
   {
    "duration": 9,
    "start_time": "2022-01-26T16:16:28.196Z"
   },
   {
    "duration": 6,
    "start_time": "2022-01-26T16:16:28.207Z"
   },
   {
    "duration": 7,
    "start_time": "2022-01-26T16:16:28.214Z"
   },
   {
    "duration": 7,
    "start_time": "2022-01-26T16:16:28.222Z"
   },
   {
    "duration": 39,
    "start_time": "2022-01-26T16:16:28.231Z"
   },
   {
    "duration": 17,
    "start_time": "2022-01-26T16:16:28.273Z"
   },
   {
    "duration": 40,
    "start_time": "2022-01-26T16:16:28.292Z"
   },
   {
    "duration": 7,
    "start_time": "2022-01-26T16:16:28.334Z"
   },
   {
    "duration": 31,
    "start_time": "2022-01-26T16:16:28.343Z"
   },
   {
    "duration": 4,
    "start_time": "2022-01-26T16:16:28.379Z"
   },
   {
    "duration": 8,
    "start_time": "2022-01-26T16:16:28.386Z"
   },
   {
    "duration": 8,
    "start_time": "2022-01-26T16:16:28.396Z"
   },
   {
    "duration": 9,
    "start_time": "2022-01-26T16:16:28.406Z"
   },
   {
    "duration": 8,
    "start_time": "2022-01-26T16:16:28.416Z"
   },
   {
    "duration": 50,
    "start_time": "2022-01-26T16:16:28.426Z"
   },
   {
    "duration": 5,
    "start_time": "2022-01-26T16:16:28.478Z"
   },
   {
    "duration": 12,
    "start_time": "2022-01-26T16:16:28.484Z"
   },
   {
    "duration": 30,
    "start_time": "2022-01-26T16:16:28.498Z"
   },
   {
    "duration": 36,
    "start_time": "2022-01-26T16:16:28.530Z"
   },
   {
    "duration": 19,
    "start_time": "2022-01-26T16:16:28.569Z"
   },
   {
    "duration": 18,
    "start_time": "2022-01-26T16:16:28.590Z"
   },
   {
    "duration": 10280,
    "start_time": "2022-01-26T16:16:28.610Z"
   },
   {
    "duration": 3,
    "start_time": "2022-01-26T16:16:38.891Z"
   },
   {
    "duration": 7,
    "start_time": "2022-01-26T16:16:38.896Z"
   },
   {
    "duration": 13,
    "start_time": "2022-01-26T16:16:38.904Z"
   },
   {
    "duration": 11,
    "start_time": "2022-01-26T16:16:38.918Z"
   },
   {
    "duration": 44,
    "start_time": "2022-01-26T16:16:38.931Z"
   },
   {
    "duration": 23,
    "start_time": "2022-01-26T16:16:38.977Z"
   },
   {
    "duration": 20,
    "start_time": "2022-01-26T16:16:39.002Z"
   },
   {
    "duration": 3,
    "start_time": "2022-01-26T16:16:44.253Z"
   },
   {
    "duration": 20,
    "start_time": "2022-01-26T16:16:49.724Z"
   },
   {
    "duration": 12,
    "start_time": "2022-01-26T16:17:31.541Z"
   },
   {
    "duration": 13,
    "start_time": "2022-01-26T16:17:34.286Z"
   },
   {
    "duration": 3,
    "start_time": "2022-01-26T16:17:57.914Z"
   },
   {
    "duration": 19,
    "start_time": "2022-01-26T16:17:59.128Z"
   },
   {
    "duration": 89,
    "start_time": "2022-01-26T16:18:07.060Z"
   },
   {
    "duration": 14,
    "start_time": "2022-01-26T16:18:07.151Z"
   },
   {
    "duration": 23,
    "start_time": "2022-01-26T16:18:07.168Z"
   },
   {
    "duration": 13,
    "start_time": "2022-01-26T16:18:07.193Z"
   },
   {
    "duration": 10,
    "start_time": "2022-01-26T16:18:07.207Z"
   },
   {
    "duration": 7,
    "start_time": "2022-01-26T16:18:07.219Z"
   },
   {
    "duration": 5,
    "start_time": "2022-01-26T16:18:07.227Z"
   },
   {
    "duration": 36,
    "start_time": "2022-01-26T16:18:07.234Z"
   },
   {
    "duration": 16,
    "start_time": "2022-01-26T16:18:07.278Z"
   },
   {
    "duration": 11,
    "start_time": "2022-01-26T16:18:07.297Z"
   },
   {
    "duration": 100,
    "start_time": "2022-01-26T16:18:07.309Z"
   },
   {
    "duration": 2,
    "start_time": "2022-01-26T16:18:07.411Z"
   },
   {
    "duration": 5,
    "start_time": "2022-01-26T16:18:07.415Z"
   },
   {
    "duration": 17,
    "start_time": "2022-01-26T16:18:07.421Z"
   },
   {
    "duration": 38,
    "start_time": "2022-01-26T16:18:07.440Z"
   },
   {
    "duration": 23,
    "start_time": "2022-01-26T16:18:07.480Z"
   },
   {
    "duration": 7,
    "start_time": "2022-01-26T16:18:07.505Z"
   },
   {
    "duration": 9,
    "start_time": "2022-01-26T16:18:07.514Z"
   },
   {
    "duration": 5,
    "start_time": "2022-01-26T16:18:07.525Z"
   },
   {
    "duration": 16,
    "start_time": "2022-01-26T16:18:07.561Z"
   },
   {
    "duration": 10,
    "start_time": "2022-01-26T16:18:07.579Z"
   },
   {
    "duration": 6,
    "start_time": "2022-01-26T16:18:07.591Z"
   },
   {
    "duration": 9,
    "start_time": "2022-01-26T16:18:07.599Z"
   },
   {
    "duration": 77,
    "start_time": "2022-01-26T16:18:07.610Z"
   },
   {
    "duration": 8,
    "start_time": "2022-01-26T16:18:07.690Z"
   },
   {
    "duration": 9,
    "start_time": "2022-01-26T16:18:07.700Z"
   },
   {
    "duration": 5,
    "start_time": "2022-01-26T16:18:07.713Z"
   },
   {
    "duration": 9,
    "start_time": "2022-01-26T16:18:07.720Z"
   },
   {
    "duration": 45,
    "start_time": "2022-01-26T16:18:07.731Z"
   },
   {
    "duration": 9,
    "start_time": "2022-01-26T16:18:07.780Z"
   },
   {
    "duration": 8,
    "start_time": "2022-01-26T16:18:07.790Z"
   },
   {
    "duration": 9,
    "start_time": "2022-01-26T16:18:07.800Z"
   },
   {
    "duration": 6,
    "start_time": "2022-01-26T16:18:07.811Z"
   },
   {
    "duration": 8,
    "start_time": "2022-01-26T16:18:07.818Z"
   },
   {
    "duration": 62,
    "start_time": "2022-01-26T16:18:07.828Z"
   },
   {
    "duration": 17,
    "start_time": "2022-01-26T16:18:07.892Z"
   },
   {
    "duration": 17,
    "start_time": "2022-01-26T16:18:07.911Z"
   },
   {
    "duration": 51,
    "start_time": "2022-01-26T16:18:07.930Z"
   },
   {
    "duration": 10691,
    "start_time": "2022-01-26T16:18:07.983Z"
   },
   {
    "duration": 3,
    "start_time": "2022-01-26T16:18:18.677Z"
   },
   {
    "duration": 6,
    "start_time": "2022-01-26T16:18:18.683Z"
   },
   {
    "duration": 13,
    "start_time": "2022-01-26T16:18:18.691Z"
   },
   {
    "duration": 9,
    "start_time": "2022-01-26T16:18:18.706Z"
   },
   {
    "duration": 50,
    "start_time": "2022-01-26T16:18:18.717Z"
   },
   {
    "duration": 30,
    "start_time": "2022-01-26T16:18:18.770Z"
   },
   {
    "duration": 25,
    "start_time": "2022-01-26T16:18:18.803Z"
   },
   {
    "duration": 4,
    "start_time": "2022-01-26T16:18:22.896Z"
   },
   {
    "duration": 24,
    "start_time": "2022-01-26T16:18:29.551Z"
   },
   {
    "duration": 12,
    "start_time": "2022-01-26T16:18:42.414Z"
   },
   {
    "duration": 14,
    "start_time": "2022-01-26T16:18:45.484Z"
   },
   {
    "duration": 73,
    "start_time": "2022-01-26T16:57:55.354Z"
   },
   {
    "duration": 3,
    "start_time": "2022-01-26T16:57:55.429Z"
   },
   {
    "duration": 39,
    "start_time": "2022-01-26T16:57:55.434Z"
   },
   {
    "duration": 20,
    "start_time": "2022-01-26T16:57:55.476Z"
   },
   {
    "duration": 11,
    "start_time": "2022-01-26T16:57:55.497Z"
   },
   {
    "duration": 16,
    "start_time": "2022-01-26T16:57:55.509Z"
   },
   {
    "duration": 18,
    "start_time": "2022-01-26T16:57:55.527Z"
   },
   {
    "duration": 31,
    "start_time": "2022-01-26T16:57:55.548Z"
   },
   {
    "duration": 29,
    "start_time": "2022-01-26T16:57:55.581Z"
   },
   {
    "duration": 12,
    "start_time": "2022-01-26T16:57:55.612Z"
   },
   {
    "duration": 95,
    "start_time": "2022-01-26T16:57:55.627Z"
   },
   {
    "duration": 2,
    "start_time": "2022-01-26T16:57:55.724Z"
   },
   {
    "duration": 16,
    "start_time": "2022-01-26T16:57:55.728Z"
   },
   {
    "duration": 57,
    "start_time": "2022-01-26T16:57:55.745Z"
   },
   {
    "duration": 20,
    "start_time": "2022-01-26T16:57:55.804Z"
   },
   {
    "duration": 53,
    "start_time": "2022-01-26T16:57:55.826Z"
   },
   {
    "duration": 9,
    "start_time": "2022-01-26T16:57:55.881Z"
   },
   {
    "duration": 14,
    "start_time": "2022-01-26T16:57:55.892Z"
   },
   {
    "duration": 12,
    "start_time": "2022-01-26T16:57:55.908Z"
   },
   {
    "duration": 23,
    "start_time": "2022-01-26T16:57:55.921Z"
   },
   {
    "duration": 27,
    "start_time": "2022-01-26T16:57:55.946Z"
   },
   {
    "duration": 8,
    "start_time": "2022-01-26T16:57:55.975Z"
   },
   {
    "duration": 7,
    "start_time": "2022-01-26T16:57:55.987Z"
   },
   {
    "duration": 58,
    "start_time": "2022-01-26T16:57:55.997Z"
   },
   {
    "duration": 11,
    "start_time": "2022-01-26T16:57:56.057Z"
   },
   {
    "duration": 44,
    "start_time": "2022-01-26T16:57:56.071Z"
   },
   {
    "duration": 30,
    "start_time": "2022-01-26T16:57:56.117Z"
   },
   {
    "duration": 32,
    "start_time": "2022-01-26T16:57:56.148Z"
   },
   {
    "duration": 43,
    "start_time": "2022-01-26T16:57:56.182Z"
   },
   {
    "duration": 34,
    "start_time": "2022-01-26T16:57:56.227Z"
   },
   {
    "duration": 29,
    "start_time": "2022-01-26T16:57:56.270Z"
   },
   {
    "duration": 39,
    "start_time": "2022-01-26T16:57:56.301Z"
   },
   {
    "duration": 30,
    "start_time": "2022-01-26T16:57:56.341Z"
   },
   {
    "duration": 35,
    "start_time": "2022-01-26T16:57:56.374Z"
   },
   {
    "duration": 71,
    "start_time": "2022-01-26T16:57:56.411Z"
   },
   {
    "duration": 45,
    "start_time": "2022-01-26T16:57:56.484Z"
   },
   {
    "duration": 65,
    "start_time": "2022-01-26T16:57:56.531Z"
   },
   {
    "duration": 41,
    "start_time": "2022-01-26T16:57:56.598Z"
   },
   {
    "duration": 10472,
    "start_time": "2022-01-26T16:57:56.641Z"
   },
   {
    "duration": 4,
    "start_time": "2022-01-26T16:58:07.115Z"
   },
   {
    "duration": 77,
    "start_time": "2022-01-26T16:58:07.121Z"
   },
   {
    "duration": 51,
    "start_time": "2022-01-26T16:58:07.200Z"
   },
   {
    "duration": 36,
    "start_time": "2022-01-26T16:58:07.253Z"
   },
   {
    "duration": 43,
    "start_time": "2022-01-26T16:58:07.291Z"
   },
   {
    "duration": 81,
    "start_time": "2022-01-26T16:58:07.336Z"
   },
   {
    "duration": 52,
    "start_time": "2022-01-26T16:58:07.419Z"
   },
   {
    "duration": 15,
    "start_time": "2022-01-26T16:58:07.475Z"
   },
   {
    "duration": 22,
    "start_time": "2022-01-26T16:58:14.723Z"
   },
   {
    "duration": 10,
    "start_time": "2022-01-26T16:58:25.123Z"
   },
   {
    "duration": 12,
    "start_time": "2022-01-26T16:58:26.372Z"
   },
   {
    "duration": 282,
    "start_time": "2022-01-26T17:05:51.707Z"
   },
   {
    "duration": 10,
    "start_time": "2022-01-26T17:06:04.378Z"
   },
   {
    "duration": 8,
    "start_time": "2022-01-26T17:07:10.442Z"
   },
   {
    "duration": 6364,
    "start_time": "2022-01-26T18:01:23.612Z"
   },
   {
    "duration": 13,
    "start_time": "2022-01-26T18:03:24.133Z"
   },
   {
    "duration": 12,
    "start_time": "2022-01-26T18:03:59.166Z"
   },
   {
    "duration": 14,
    "start_time": "2022-01-26T18:04:00.812Z"
   },
   {
    "duration": 70,
    "start_time": "2022-01-26T22:09:26.701Z"
   },
   {
    "duration": 4,
    "start_time": "2022-01-26T22:09:26.773Z"
   },
   {
    "duration": 11,
    "start_time": "2022-01-26T22:09:26.779Z"
   },
   {
    "duration": 18,
    "start_time": "2022-01-26T22:09:26.792Z"
   },
   {
    "duration": 11,
    "start_time": "2022-01-26T22:09:26.812Z"
   },
   {
    "duration": 39,
    "start_time": "2022-01-26T22:09:26.825Z"
   },
   {
    "duration": 6,
    "start_time": "2022-01-26T22:09:26.866Z"
   },
   {
    "duration": 23,
    "start_time": "2022-01-26T22:09:26.874Z"
   },
   {
    "duration": 43,
    "start_time": "2022-01-26T22:09:26.899Z"
   },
   {
    "duration": 31,
    "start_time": "2022-01-26T22:09:26.943Z"
   },
   {
    "duration": 91,
    "start_time": "2022-01-26T22:09:26.976Z"
   },
   {
    "duration": 2,
    "start_time": "2022-01-26T22:09:27.069Z"
   },
   {
    "duration": 18,
    "start_time": "2022-01-26T22:09:27.073Z"
   },
   {
    "duration": 35,
    "start_time": "2022-01-26T22:09:27.093Z"
   },
   {
    "duration": 35,
    "start_time": "2022-01-26T22:09:27.130Z"
   },
   {
    "duration": 33,
    "start_time": "2022-01-26T22:09:27.167Z"
   },
   {
    "duration": 35,
    "start_time": "2022-01-26T22:09:27.202Z"
   },
   {
    "duration": 32,
    "start_time": "2022-01-26T22:09:27.240Z"
   },
   {
    "duration": 42,
    "start_time": "2022-01-26T22:09:27.273Z"
   },
   {
    "duration": 18,
    "start_time": "2022-01-26T22:09:27.316Z"
   },
   {
    "duration": 8,
    "start_time": "2022-01-26T22:09:27.335Z"
   },
   {
    "duration": 5,
    "start_time": "2022-01-26T22:09:27.345Z"
   },
   {
    "duration": 8,
    "start_time": "2022-01-26T22:09:27.353Z"
   },
   {
    "duration": 37,
    "start_time": "2022-01-26T22:09:27.363Z"
   },
   {
    "duration": 8,
    "start_time": "2022-01-26T22:09:27.401Z"
   },
   {
    "duration": 7,
    "start_time": "2022-01-26T22:09:27.410Z"
   },
   {
    "duration": 6,
    "start_time": "2022-01-26T22:09:27.419Z"
   },
   {
    "duration": 8,
    "start_time": "2022-01-26T22:09:27.427Z"
   },
   {
    "duration": 30,
    "start_time": "2022-01-26T22:09:27.436Z"
   },
   {
    "duration": 10,
    "start_time": "2022-01-26T22:09:27.468Z"
   },
   {
    "duration": 7,
    "start_time": "2022-01-26T22:09:27.480Z"
   },
   {
    "duration": 7,
    "start_time": "2022-01-26T22:09:27.489Z"
   },
   {
    "duration": 5,
    "start_time": "2022-01-26T22:09:27.498Z"
   },
   {
    "duration": 7,
    "start_time": "2022-01-26T22:09:27.505Z"
   },
   {
    "duration": 61,
    "start_time": "2022-01-26T22:09:27.513Z"
   },
   {
    "duration": 15,
    "start_time": "2022-01-26T22:09:27.575Z"
   },
   {
    "duration": 14,
    "start_time": "2022-01-26T22:09:27.592Z"
   },
   {
    "duration": 18,
    "start_time": "2022-01-26T22:09:27.607Z"
   },
   {
    "duration": 9634,
    "start_time": "2022-01-26T22:09:27.626Z"
   },
   {
    "duration": 4,
    "start_time": "2022-01-26T22:09:37.262Z"
   },
   {
    "duration": 10,
    "start_time": "2022-01-26T22:09:37.267Z"
   },
   {
    "duration": 9,
    "start_time": "2022-01-26T22:09:37.278Z"
   },
   {
    "duration": 10,
    "start_time": "2022-01-26T22:09:37.289Z"
   },
   {
    "duration": 22,
    "start_time": "2022-01-26T22:09:37.301Z"
   },
   {
    "duration": 48,
    "start_time": "2022-01-26T22:09:37.324Z"
   },
   {
    "duration": 24,
    "start_time": "2022-01-26T22:09:37.374Z"
   },
   {
    "duration": 6,
    "start_time": "2022-01-26T22:09:37.400Z"
   },
   {
    "duration": 37,
    "start_time": "2022-01-26T22:09:37.408Z"
   },
   {
    "duration": 17,
    "start_time": "2022-01-26T22:09:37.447Z"
   },
   {
    "duration": 14,
    "start_time": "2022-01-26T22:09:37.466Z"
   },
   {
    "duration": 38,
    "start_time": "2022-01-26T22:09:37.482Z"
   },
   {
    "duration": 40,
    "start_time": "2022-01-26T22:09:37.522Z"
   },
   {
    "duration": 39,
    "start_time": "2022-01-26T22:09:37.564Z"
   },
   {
    "duration": 26,
    "start_time": "2022-01-26T22:10:24.415Z"
   },
   {
    "duration": 24,
    "start_time": "2022-01-26T22:10:37.511Z"
   },
   {
    "duration": 5982,
    "start_time": "2022-01-26T22:33:23.428Z"
   },
   {
    "duration": 6,
    "start_time": "2022-01-26T22:42:25.795Z"
   },
   {
    "duration": 72,
    "start_time": "2022-01-26T22:43:22.041Z"
   },
   {
    "duration": 4,
    "start_time": "2022-01-26T22:43:22.115Z"
   },
   {
    "duration": 31,
    "start_time": "2022-01-26T22:43:22.121Z"
   },
   {
    "duration": 30,
    "start_time": "2022-01-26T22:43:22.154Z"
   },
   {
    "duration": 7,
    "start_time": "2022-01-26T22:43:22.200Z"
   },
   {
    "duration": 12,
    "start_time": "2022-01-26T22:43:22.209Z"
   },
   {
    "duration": 9,
    "start_time": "2022-01-26T22:43:22.223Z"
   },
   {
    "duration": 38,
    "start_time": "2022-01-26T22:43:22.234Z"
   },
   {
    "duration": 39,
    "start_time": "2022-01-26T22:43:22.274Z"
   },
   {
    "duration": 14,
    "start_time": "2022-01-26T22:43:22.341Z"
   },
   {
    "duration": 110,
    "start_time": "2022-01-26T22:43:22.357Z"
   },
   {
    "duration": 3,
    "start_time": "2022-01-26T22:43:22.470Z"
   },
   {
    "duration": 19,
    "start_time": "2022-01-26T22:43:22.475Z"
   },
   {
    "duration": 35,
    "start_time": "2022-01-26T22:43:22.496Z"
   },
   {
    "duration": 27,
    "start_time": "2022-01-26T22:43:22.534Z"
   },
   {
    "duration": 43,
    "start_time": "2022-01-26T22:43:22.564Z"
   },
   {
    "duration": 25,
    "start_time": "2022-01-26T22:43:22.609Z"
   },
   {
    "duration": 46,
    "start_time": "2022-01-26T22:43:22.636Z"
   },
   {
    "duration": 9,
    "start_time": "2022-01-26T22:43:22.683Z"
   },
   {
    "duration": 26,
    "start_time": "2022-01-26T22:43:22.695Z"
   },
   {
    "duration": 12,
    "start_time": "2022-01-26T22:43:22.723Z"
   },
   {
    "duration": 12,
    "start_time": "2022-01-26T22:43:22.736Z"
   },
   {
    "duration": 19,
    "start_time": "2022-01-26T22:43:22.750Z"
   },
   {
    "duration": 38,
    "start_time": "2022-01-26T22:43:22.771Z"
   },
   {
    "duration": 7,
    "start_time": "2022-01-26T22:43:22.811Z"
   },
   {
    "duration": 16,
    "start_time": "2022-01-26T22:43:22.819Z"
   },
   {
    "duration": 35,
    "start_time": "2022-01-26T22:43:22.837Z"
   },
   {
    "duration": 34,
    "start_time": "2022-01-26T22:43:22.874Z"
   },
   {
    "duration": 50,
    "start_time": "2022-01-26T22:43:22.909Z"
   },
   {
    "duration": 33,
    "start_time": "2022-01-26T22:43:22.961Z"
   },
   {
    "duration": 51,
    "start_time": "2022-01-26T22:43:22.996Z"
   },
   {
    "duration": 35,
    "start_time": "2022-01-26T22:43:23.049Z"
   },
   {
    "duration": 26,
    "start_time": "2022-01-26T22:43:23.086Z"
   },
   {
    "duration": 39,
    "start_time": "2022-01-26T22:43:23.114Z"
   },
   {
    "duration": 64,
    "start_time": "2022-01-26T22:43:23.154Z"
   },
   {
    "duration": 15,
    "start_time": "2022-01-26T22:43:23.221Z"
   },
   {
    "duration": 22,
    "start_time": "2022-01-26T22:43:23.238Z"
   },
   {
    "duration": 39,
    "start_time": "2022-01-26T22:43:23.262Z"
   },
   {
    "duration": 9118,
    "start_time": "2022-01-26T22:43:23.303Z"
   },
   {
    "duration": 3,
    "start_time": "2022-01-26T22:43:32.423Z"
   },
   {
    "duration": 14,
    "start_time": "2022-01-26T22:43:32.427Z"
   },
   {
    "duration": 19,
    "start_time": "2022-01-26T22:43:32.443Z"
   },
   {
    "duration": 11,
    "start_time": "2022-01-26T22:43:32.464Z"
   },
   {
    "duration": 21,
    "start_time": "2022-01-26T22:43:32.476Z"
   },
   {
    "duration": 24,
    "start_time": "2022-01-26T22:43:32.499Z"
   },
   {
    "duration": 49,
    "start_time": "2022-01-26T22:43:32.525Z"
   },
   {
    "duration": 4,
    "start_time": "2022-01-26T22:43:32.576Z"
   },
   {
    "duration": 26,
    "start_time": "2022-01-26T22:43:32.582Z"
   },
   {
    "duration": 10,
    "start_time": "2022-01-26T22:43:32.610Z"
   },
   {
    "duration": 7,
    "start_time": "2022-01-26T22:43:32.622Z"
   },
   {
    "duration": 36,
    "start_time": "2022-01-26T22:43:32.631Z"
   },
   {
    "duration": 35,
    "start_time": "2022-01-26T22:43:32.668Z"
   },
   {
    "duration": 28,
    "start_time": "2022-01-26T22:43:32.705Z"
   },
   {
    "duration": 24,
    "start_time": "2022-01-26T22:43:32.734Z"
   },
   {
    "duration": 6481,
    "start_time": "2022-01-27T01:25:50.497Z"
   },
   {
    "duration": 18,
    "start_time": "2022-01-27T01:26:56.040Z"
   },
   {
    "duration": 20,
    "start_time": "2022-01-27T01:27:48.455Z"
   },
   {
    "duration": 68,
    "start_time": "2022-01-27T01:44:09.390Z"
   },
   {
    "duration": 4,
    "start_time": "2022-01-27T01:44:09.459Z"
   },
   {
    "duration": 22,
    "start_time": "2022-01-27T01:44:09.465Z"
   },
   {
    "duration": 23,
    "start_time": "2022-01-27T01:44:09.489Z"
   },
   {
    "duration": 28,
    "start_time": "2022-01-27T01:44:09.514Z"
   },
   {
    "duration": 26,
    "start_time": "2022-01-27T01:44:09.545Z"
   },
   {
    "duration": 10,
    "start_time": "2022-01-27T01:44:09.573Z"
   },
   {
    "duration": 11,
    "start_time": "2022-01-27T01:44:09.584Z"
   },
   {
    "duration": 19,
    "start_time": "2022-01-27T01:44:09.598Z"
   },
   {
    "duration": 13,
    "start_time": "2022-01-27T01:44:09.620Z"
   },
   {
    "duration": 91,
    "start_time": "2022-01-27T01:44:09.635Z"
   },
   {
    "duration": 2,
    "start_time": "2022-01-27T01:44:09.728Z"
   },
   {
    "duration": 5,
    "start_time": "2022-01-27T01:44:09.760Z"
   },
   {
    "duration": 19,
    "start_time": "2022-01-27T01:44:09.767Z"
   },
   {
    "duration": 10,
    "start_time": "2022-01-27T01:44:09.788Z"
   },
   {
    "duration": 25,
    "start_time": "2022-01-27T01:44:09.802Z"
   },
   {
    "duration": 6,
    "start_time": "2022-01-27T01:44:09.829Z"
   },
   {
    "duration": 9,
    "start_time": "2022-01-27T01:44:09.861Z"
   },
   {
    "duration": 4,
    "start_time": "2022-01-27T01:44:09.872Z"
   },
   {
    "duration": 7,
    "start_time": "2022-01-27T01:44:09.878Z"
   },
   {
    "duration": 9,
    "start_time": "2022-01-27T01:44:09.886Z"
   },
   {
    "duration": 7,
    "start_time": "2022-01-27T01:44:09.896Z"
   },
   {
    "duration": 8,
    "start_time": "2022-01-27T01:44:09.905Z"
   },
   {
    "duration": 83,
    "start_time": "2022-01-27T01:44:09.915Z"
   },
   {
    "duration": 9,
    "start_time": "2022-01-27T01:44:10.000Z"
   },
   {
    "duration": 7,
    "start_time": "2022-01-27T01:44:10.012Z"
   },
   {
    "duration": 8,
    "start_time": "2022-01-27T01:44:10.021Z"
   },
   {
    "duration": 31,
    "start_time": "2022-01-27T01:44:10.031Z"
   },
   {
    "duration": 21,
    "start_time": "2022-01-27T01:44:10.064Z"
   },
   {
    "duration": 18,
    "start_time": "2022-01-27T01:44:10.087Z"
   },
   {
    "duration": 20,
    "start_time": "2022-01-27T01:44:10.107Z"
   },
   {
    "duration": 9,
    "start_time": "2022-01-27T01:44:10.129Z"
   },
   {
    "duration": 5,
    "start_time": "2022-01-27T01:44:10.140Z"
   },
   {
    "duration": 9,
    "start_time": "2022-01-27T01:44:10.147Z"
   },
   {
    "duration": 27,
    "start_time": "2022-01-27T01:44:10.157Z"
   },
   {
    "duration": 16,
    "start_time": "2022-01-27T01:44:10.186Z"
   },
   {
    "duration": 14,
    "start_time": "2022-01-27T01:44:10.204Z"
   },
   {
    "duration": 43,
    "start_time": "2022-01-27T01:44:10.220Z"
   },
   {
    "duration": 9065,
    "start_time": "2022-01-27T01:44:10.265Z"
   },
   {
    "duration": 3,
    "start_time": "2022-01-27T01:44:19.332Z"
   },
   {
    "duration": 46,
    "start_time": "2022-01-27T01:44:19.337Z"
   },
   {
    "duration": 26,
    "start_time": "2022-01-27T01:44:19.384Z"
   },
   {
    "duration": 34,
    "start_time": "2022-01-27T01:44:19.412Z"
   },
   {
    "duration": 41,
    "start_time": "2022-01-27T01:44:19.448Z"
   },
   {
    "duration": 27,
    "start_time": "2022-01-27T01:44:19.491Z"
   },
   {
    "duration": 31,
    "start_time": "2022-01-27T01:44:19.520Z"
   },
   {
    "duration": 9,
    "start_time": "2022-01-27T01:44:19.553Z"
   },
   {
    "duration": 45,
    "start_time": "2022-01-27T01:44:19.564Z"
   },
   {
    "duration": 36,
    "start_time": "2022-01-27T01:44:19.611Z"
   },
   {
    "duration": 33,
    "start_time": "2022-01-27T01:44:19.649Z"
   },
   {
    "duration": 27,
    "start_time": "2022-01-27T01:44:19.684Z"
   },
   {
    "duration": 27,
    "start_time": "2022-01-27T01:44:19.713Z"
   },
   {
    "duration": 36,
    "start_time": "2022-01-27T01:44:19.742Z"
   },
   {
    "duration": 21,
    "start_time": "2022-01-27T01:44:19.780Z"
   },
   {
    "duration": 12,
    "start_time": "2022-01-27T01:44:19.803Z"
   },
   {
    "duration": 32,
    "start_time": "2022-01-27T01:44:19.816Z"
   },
   {
    "duration": 66,
    "start_time": "2022-01-27T01:55:39.689Z"
   },
   {
    "duration": 3,
    "start_time": "2022-01-27T01:55:39.757Z"
   },
   {
    "duration": 35,
    "start_time": "2022-01-27T01:55:39.762Z"
   },
   {
    "duration": 22,
    "start_time": "2022-01-27T01:55:39.799Z"
   },
   {
    "duration": 27,
    "start_time": "2022-01-27T01:55:39.823Z"
   },
   {
    "duration": 47,
    "start_time": "2022-01-27T01:55:39.852Z"
   },
   {
    "duration": 35,
    "start_time": "2022-01-27T01:55:39.901Z"
   },
   {
    "duration": 34,
    "start_time": "2022-01-27T01:55:39.938Z"
   },
   {
    "duration": 38,
    "start_time": "2022-01-27T01:55:39.974Z"
   },
   {
    "duration": 28,
    "start_time": "2022-01-27T01:55:40.014Z"
   },
   {
    "duration": 77,
    "start_time": "2022-01-27T01:55:40.045Z"
   },
   {
    "duration": 2,
    "start_time": "2022-01-27T01:55:40.124Z"
   },
   {
    "duration": 20,
    "start_time": "2022-01-27T01:55:40.129Z"
   },
   {
    "duration": 43,
    "start_time": "2022-01-27T01:55:40.150Z"
   },
   {
    "duration": 33,
    "start_time": "2022-01-27T01:55:40.194Z"
   },
   {
    "duration": 34,
    "start_time": "2022-01-27T01:55:40.228Z"
   },
   {
    "duration": 30,
    "start_time": "2022-01-27T01:55:40.264Z"
   },
   {
    "duration": 30,
    "start_time": "2022-01-27T01:55:40.295Z"
   },
   {
    "duration": 48,
    "start_time": "2022-01-27T01:55:40.326Z"
   },
   {
    "duration": 28,
    "start_time": "2022-01-27T01:55:40.375Z"
   },
   {
    "duration": 28,
    "start_time": "2022-01-27T01:55:40.405Z"
   },
   {
    "duration": 24,
    "start_time": "2022-01-27T01:55:40.435Z"
   },
   {
    "duration": 28,
    "start_time": "2022-01-27T01:55:40.462Z"
   },
   {
    "duration": 40,
    "start_time": "2022-01-27T01:55:40.492Z"
   },
   {
    "duration": 13,
    "start_time": "2022-01-27T01:55:40.533Z"
   },
   {
    "duration": 16,
    "start_time": "2022-01-27T01:55:40.548Z"
   },
   {
    "duration": 28,
    "start_time": "2022-01-27T01:55:40.565Z"
   },
   {
    "duration": 20,
    "start_time": "2022-01-27T01:55:40.595Z"
   },
   {
    "duration": 24,
    "start_time": "2022-01-27T01:55:40.617Z"
   },
   {
    "duration": 31,
    "start_time": "2022-01-27T01:55:40.642Z"
   },
   {
    "duration": 16,
    "start_time": "2022-01-27T01:55:40.675Z"
   },
   {
    "duration": 28,
    "start_time": "2022-01-27T01:55:40.693Z"
   },
   {
    "duration": 16,
    "start_time": "2022-01-27T01:55:40.722Z"
   },
   {
    "duration": 25,
    "start_time": "2022-01-27T01:55:40.739Z"
   },
   {
    "duration": 55,
    "start_time": "2022-01-27T01:55:40.766Z"
   },
   {
    "duration": 14,
    "start_time": "2022-01-27T01:55:40.823Z"
   },
   {
    "duration": 13,
    "start_time": "2022-01-27T01:55:40.839Z"
   },
   {
    "duration": 20,
    "start_time": "2022-01-27T01:55:40.854Z"
   },
   {
    "duration": 8573,
    "start_time": "2022-01-27T01:55:40.875Z"
   },
   {
    "duration": 10,
    "start_time": "2022-01-27T01:55:49.450Z"
   },
   {
    "duration": 29,
    "start_time": "2022-01-27T01:55:49.462Z"
   },
   {
    "duration": 42,
    "start_time": "2022-01-27T01:55:49.493Z"
   },
   {
    "duration": 29,
    "start_time": "2022-01-27T01:55:49.537Z"
   },
   {
    "duration": 44,
    "start_time": "2022-01-27T01:55:49.568Z"
   },
   {
    "duration": 36,
    "start_time": "2022-01-27T01:55:49.614Z"
   },
   {
    "duration": 39,
    "start_time": "2022-01-27T01:55:49.652Z"
   },
   {
    "duration": 12,
    "start_time": "2022-01-27T01:55:49.693Z"
   },
   {
    "duration": 55,
    "start_time": "2022-01-27T01:55:49.707Z"
   },
   {
    "duration": 15,
    "start_time": "2022-01-27T01:55:49.763Z"
   },
   {
    "duration": 26,
    "start_time": "2022-01-27T01:55:49.779Z"
   },
   {
    "duration": 46,
    "start_time": "2022-01-27T01:55:49.807Z"
   },
   {
    "duration": 27,
    "start_time": "2022-01-27T01:55:49.855Z"
   },
   {
    "duration": 50,
    "start_time": "2022-01-27T01:55:49.884Z"
   },
   {
    "duration": 38,
    "start_time": "2022-01-27T01:55:49.936Z"
   },
   {
    "duration": 40,
    "start_time": "2022-01-27T01:55:49.975Z"
   },
   {
    "duration": 68,
    "start_time": "2022-01-27T01:55:50.017Z"
   },
   {
    "duration": 31,
    "start_time": "2022-01-27T01:55:50.087Z"
   },
   {
    "duration": 17,
    "start_time": "2022-01-27T01:56:55.829Z"
   },
   {
    "duration": 67,
    "start_time": "2022-01-27T01:57:09.064Z"
   },
   {
    "duration": 4,
    "start_time": "2022-01-27T01:57:09.133Z"
   },
   {
    "duration": 22,
    "start_time": "2022-01-27T01:57:09.138Z"
   },
   {
    "duration": 25,
    "start_time": "2022-01-27T01:57:09.162Z"
   },
   {
    "duration": 29,
    "start_time": "2022-01-27T01:57:09.189Z"
   },
   {
    "duration": 21,
    "start_time": "2022-01-27T01:57:09.220Z"
   },
   {
    "duration": 18,
    "start_time": "2022-01-27T01:57:09.242Z"
   },
   {
    "duration": 23,
    "start_time": "2022-01-27T01:57:09.262Z"
   },
   {
    "duration": 36,
    "start_time": "2022-01-27T01:57:09.288Z"
   },
   {
    "duration": 32,
    "start_time": "2022-01-27T01:57:09.327Z"
   },
   {
    "duration": 85,
    "start_time": "2022-01-27T01:57:09.361Z"
   },
   {
    "duration": 2,
    "start_time": "2022-01-27T01:57:09.448Z"
   },
   {
    "duration": 14,
    "start_time": "2022-01-27T01:57:09.452Z"
   },
   {
    "duration": 37,
    "start_time": "2022-01-27T01:57:09.468Z"
   },
   {
    "duration": 42,
    "start_time": "2022-01-27T01:57:09.507Z"
   },
   {
    "duration": 37,
    "start_time": "2022-01-27T01:57:09.551Z"
   },
   {
    "duration": 19,
    "start_time": "2022-01-27T01:57:09.590Z"
   },
   {
    "duration": 34,
    "start_time": "2022-01-27T01:57:09.611Z"
   },
   {
    "duration": 25,
    "start_time": "2022-01-27T01:57:09.646Z"
   },
   {
    "duration": 12,
    "start_time": "2022-01-27T01:57:09.673Z"
   },
   {
    "duration": 21,
    "start_time": "2022-01-27T01:57:09.686Z"
   },
   {
    "duration": 27,
    "start_time": "2022-01-27T01:57:09.709Z"
   },
   {
    "duration": 19,
    "start_time": "2022-01-27T01:57:09.738Z"
   },
   {
    "duration": 63,
    "start_time": "2022-01-27T01:57:09.759Z"
   },
   {
    "duration": 7,
    "start_time": "2022-01-27T01:57:09.824Z"
   },
   {
    "duration": 11,
    "start_time": "2022-01-27T01:57:09.832Z"
   },
   {
    "duration": 25,
    "start_time": "2022-01-27T01:57:09.846Z"
   },
   {
    "duration": 24,
    "start_time": "2022-01-27T01:57:09.873Z"
   },
   {
    "duration": 24,
    "start_time": "2022-01-27T01:57:09.899Z"
   },
   {
    "duration": 29,
    "start_time": "2022-01-27T01:57:09.924Z"
   },
   {
    "duration": 31,
    "start_time": "2022-01-27T01:57:09.955Z"
   },
   {
    "duration": 20,
    "start_time": "2022-01-27T01:57:09.988Z"
   },
   {
    "duration": 19,
    "start_time": "2022-01-27T01:57:10.010Z"
   },
   {
    "duration": 32,
    "start_time": "2022-01-27T01:57:10.031Z"
   },
   {
    "duration": 43,
    "start_time": "2022-01-27T01:57:10.064Z"
   },
   {
    "duration": 14,
    "start_time": "2022-01-27T01:57:10.109Z"
   },
   {
    "duration": 28,
    "start_time": "2022-01-27T01:57:10.124Z"
   },
   {
    "duration": 14,
    "start_time": "2022-01-27T01:57:10.154Z"
   },
   {
    "duration": 8689,
    "start_time": "2022-01-27T01:57:10.170Z"
   },
   {
    "duration": 3,
    "start_time": "2022-01-27T01:57:18.861Z"
   },
   {
    "duration": 9,
    "start_time": "2022-01-27T01:57:18.865Z"
   },
   {
    "duration": 10,
    "start_time": "2022-01-27T01:57:18.875Z"
   },
   {
    "duration": 7,
    "start_time": "2022-01-27T01:57:18.886Z"
   },
   {
    "duration": 21,
    "start_time": "2022-01-27T01:57:18.895Z"
   },
   {
    "duration": 47,
    "start_time": "2022-01-27T01:57:18.917Z"
   },
   {
    "duration": 22,
    "start_time": "2022-01-27T01:57:18.965Z"
   },
   {
    "duration": 3,
    "start_time": "2022-01-27T01:57:18.988Z"
   },
   {
    "duration": 35,
    "start_time": "2022-01-27T01:57:18.993Z"
   },
   {
    "duration": 20,
    "start_time": "2022-01-27T01:57:19.030Z"
   },
   {
    "duration": 12,
    "start_time": "2022-01-27T01:57:19.052Z"
   },
   {
    "duration": 31,
    "start_time": "2022-01-27T01:57:19.066Z"
   },
   {
    "duration": 27,
    "start_time": "2022-01-27T01:57:19.099Z"
   },
   {
    "duration": 30,
    "start_time": "2022-01-27T01:57:19.128Z"
   },
   {
    "duration": 20,
    "start_time": "2022-01-27T01:57:19.160Z"
   },
   {
    "duration": 3,
    "start_time": "2022-01-27T01:57:19.182Z"
   },
   {
    "duration": 27,
    "start_time": "2022-01-27T01:57:19.187Z"
   },
   {
    "duration": 11,
    "start_time": "2022-01-27T01:57:48.578Z"
   },
   {
    "duration": 9,
    "start_time": "2022-01-27T01:57:52.505Z"
   },
   {
    "duration": 11,
    "start_time": "2022-01-27T01:59:35.286Z"
   },
   {
    "duration": 12,
    "start_time": "2022-01-27T01:59:45.922Z"
   },
   {
    "duration": 18,
    "start_time": "2022-01-27T02:00:20.983Z"
   },
   {
    "duration": 32,
    "start_time": "2022-01-27T02:13:01.292Z"
   },
   {
    "duration": 28,
    "start_time": "2022-01-27T02:13:49.388Z"
   },
   {
    "duration": 20,
    "start_time": "2022-01-27T02:16:03.380Z"
   },
   {
    "duration": 85,
    "start_time": "2022-01-27T02:16:33.535Z"
   },
   {
    "duration": 21,
    "start_time": "2022-01-27T02:16:55.984Z"
   },
   {
    "duration": 25,
    "start_time": "2022-01-27T02:17:21.790Z"
   },
   {
    "duration": 33,
    "start_time": "2022-01-27T02:19:15.028Z"
   },
   {
    "duration": 25,
    "start_time": "2022-01-27T02:19:52.601Z"
   },
   {
    "duration": 26,
    "start_time": "2022-01-27T02:20:19.988Z"
   },
   {
    "duration": 288,
    "start_time": "2022-01-27T03:45:53.634Z"
   },
   {
    "duration": 284,
    "start_time": "2022-01-27T03:46:52.862Z"
   },
   {
    "duration": 17,
    "start_time": "2022-01-27T03:55:57.072Z"
   },
   {
    "duration": 20,
    "start_time": "2022-01-27T03:56:21.875Z"
   },
   {
    "duration": 23,
    "start_time": "2022-01-27T03:58:57.819Z"
   },
   {
    "duration": 21,
    "start_time": "2022-01-27T03:59:32.754Z"
   },
   {
    "duration": 18,
    "start_time": "2022-01-27T04:00:24.508Z"
   },
   {
    "duration": 19,
    "start_time": "2022-01-27T04:00:27.044Z"
   },
   {
    "duration": 66,
    "start_time": "2022-01-27T04:01:56.362Z"
   },
   {
    "duration": 4,
    "start_time": "2022-01-27T04:01:56.430Z"
   },
   {
    "duration": 25,
    "start_time": "2022-01-27T04:01:56.436Z"
   },
   {
    "duration": 19,
    "start_time": "2022-01-27T04:01:56.463Z"
   },
   {
    "duration": 12,
    "start_time": "2022-01-27T04:01:56.484Z"
   },
   {
    "duration": 12,
    "start_time": "2022-01-27T04:01:56.497Z"
   },
   {
    "duration": 15,
    "start_time": "2022-01-27T04:01:56.511Z"
   },
   {
    "duration": 12,
    "start_time": "2022-01-27T04:01:56.529Z"
   },
   {
    "duration": 28,
    "start_time": "2022-01-27T04:01:56.543Z"
   },
   {
    "duration": 23,
    "start_time": "2022-01-27T04:01:56.573Z"
   },
   {
    "duration": 77,
    "start_time": "2022-01-27T04:01:56.598Z"
   },
   {
    "duration": 2,
    "start_time": "2022-01-27T04:01:56.677Z"
   },
   {
    "duration": 29,
    "start_time": "2022-01-27T04:01:56.680Z"
   },
   {
    "duration": 26,
    "start_time": "2022-01-27T04:01:56.711Z"
   },
   {
    "duration": 27,
    "start_time": "2022-01-27T04:01:56.738Z"
   },
   {
    "duration": 31,
    "start_time": "2022-01-27T04:01:56.766Z"
   },
   {
    "duration": 8,
    "start_time": "2022-01-27T04:01:56.800Z"
   },
   {
    "duration": 10,
    "start_time": "2022-01-27T04:01:56.810Z"
   },
   {
    "duration": 5,
    "start_time": "2022-01-27T04:01:56.822Z"
   },
   {
    "duration": 7,
    "start_time": "2022-01-27T04:01:56.829Z"
   },
   {
    "duration": 28,
    "start_time": "2022-01-27T04:01:56.837Z"
   },
   {
    "duration": 4,
    "start_time": "2022-01-27T04:01:56.867Z"
   },
   {
    "duration": 7,
    "start_time": "2022-01-27T04:01:56.875Z"
   },
   {
    "duration": 36,
    "start_time": "2022-01-27T04:01:56.885Z"
   },
   {
    "duration": 7,
    "start_time": "2022-01-27T04:01:56.923Z"
   },
   {
    "duration": 7,
    "start_time": "2022-01-27T04:01:56.961Z"
   },
   {
    "duration": 6,
    "start_time": "2022-01-27T04:01:56.969Z"
   },
   {
    "duration": 8,
    "start_time": "2022-01-27T04:01:56.977Z"
   },
   {
    "duration": 14,
    "start_time": "2022-01-27T04:01:56.986Z"
   },
   {
    "duration": 9,
    "start_time": "2022-01-27T04:01:57.002Z"
   },
   {
    "duration": 7,
    "start_time": "2022-01-27T04:01:57.013Z"
   },
   {
    "duration": 9,
    "start_time": "2022-01-27T04:01:57.021Z"
   },
   {
    "duration": 30,
    "start_time": "2022-01-27T04:01:57.032Z"
   },
   {
    "duration": 6,
    "start_time": "2022-01-27T04:01:57.064Z"
   },
   {
    "duration": 32,
    "start_time": "2022-01-27T04:01:57.072Z"
   },
   {
    "duration": 16,
    "start_time": "2022-01-27T04:01:57.106Z"
   },
   {
    "duration": 14,
    "start_time": "2022-01-27T04:01:57.124Z"
   },
   {
    "duration": 18,
    "start_time": "2022-01-27T04:01:57.161Z"
   },
   {
    "duration": 2,
    "start_time": "2022-01-27T04:01:57.181Z"
   },
   {
    "duration": 6,
    "start_time": "2022-01-27T04:01:57.185Z"
   },
   {
    "duration": 8,
    "start_time": "2022-01-27T04:01:57.192Z"
   },
   {
    "duration": 9,
    "start_time": "2022-01-27T04:01:57.201Z"
   },
   {
    "duration": 7,
    "start_time": "2022-01-27T04:01:57.212Z"
   },
   {
    "duration": 50,
    "start_time": "2022-01-27T04:01:57.220Z"
   },
   {
    "duration": 21,
    "start_time": "2022-01-27T04:01:57.271Z"
   },
   {
    "duration": 22,
    "start_time": "2022-01-27T04:01:57.294Z"
   },
   {
    "duration": 2,
    "start_time": "2022-01-27T04:01:57.318Z"
   },
   {
    "duration": 44,
    "start_time": "2022-01-27T04:01:57.322Z"
   },
   {
    "duration": 11,
    "start_time": "2022-01-27T04:01:57.368Z"
   },
   {
    "duration": 9,
    "start_time": "2022-01-27T04:01:57.381Z"
   },
   {
    "duration": 27,
    "start_time": "2022-01-27T04:01:57.392Z"
   },
   {
    "duration": 24,
    "start_time": "2022-01-27T04:01:57.421Z"
   },
   {
    "duration": 26,
    "start_time": "2022-01-27T04:01:57.447Z"
   },
   {
    "duration": 15,
    "start_time": "2022-01-27T04:01:57.475Z"
   },
   {
    "duration": 10,
    "start_time": "2022-01-27T04:01:57.492Z"
   },
   {
    "duration": 32,
    "start_time": "2022-01-27T04:01:57.503Z"
   },
   {
    "duration": 12,
    "start_time": "2022-01-27T04:01:57.537Z"
   },
   {
    "duration": 12,
    "start_time": "2022-01-27T04:02:01.332Z"
   },
   {
    "duration": 9,
    "start_time": "2022-01-27T04:02:04.100Z"
   },
   {
    "duration": 11,
    "start_time": "2022-01-27T04:02:25.699Z"
   },
   {
    "duration": 12,
    "start_time": "2022-01-27T04:02:29.313Z"
   },
   {
    "duration": 11,
    "start_time": "2022-01-27T04:03:47.468Z"
   },
   {
    "duration": 9,
    "start_time": "2022-01-27T04:03:48.373Z"
   },
   {
    "duration": 13,
    "start_time": "2022-01-27T04:03:53.994Z"
   },
   {
    "duration": 12,
    "start_time": "2022-01-27T04:03:56.698Z"
   },
   {
    "duration": 72,
    "start_time": "2022-01-27T04:04:16.618Z"
   },
   {
    "duration": 4,
    "start_time": "2022-01-27T04:04:16.692Z"
   },
   {
    "duration": 10,
    "start_time": "2022-01-27T04:04:16.699Z"
   },
   {
    "duration": 13,
    "start_time": "2022-01-27T04:04:16.711Z"
   },
   {
    "duration": 37,
    "start_time": "2022-01-27T04:04:16.726Z"
   },
   {
    "duration": 9,
    "start_time": "2022-01-27T04:04:16.765Z"
   },
   {
    "duration": 6,
    "start_time": "2022-01-27T04:04:16.776Z"
   },
   {
    "duration": 9,
    "start_time": "2022-01-27T04:04:16.784Z"
   },
   {
    "duration": 18,
    "start_time": "2022-01-27T04:04:16.796Z"
   },
   {
    "duration": 56,
    "start_time": "2022-01-27T04:04:16.816Z"
   },
   {
    "duration": 92,
    "start_time": "2022-01-27T04:04:16.874Z"
   },
   {
    "duration": 2,
    "start_time": "2022-01-27T04:04:16.968Z"
   },
   {
    "duration": 5,
    "start_time": "2022-01-27T04:04:16.971Z"
   },
   {
    "duration": 22,
    "start_time": "2022-01-27T04:04:16.977Z"
   },
   {
    "duration": 12,
    "start_time": "2022-01-27T04:04:17.000Z"
   },
   {
    "duration": 25,
    "start_time": "2022-01-27T04:04:17.013Z"
   },
   {
    "duration": 21,
    "start_time": "2022-01-27T04:04:17.040Z"
   },
   {
    "duration": 8,
    "start_time": "2022-01-27T04:04:17.062Z"
   },
   {
    "duration": 4,
    "start_time": "2022-01-27T04:04:17.072Z"
   },
   {
    "duration": 7,
    "start_time": "2022-01-27T04:04:17.078Z"
   },
   {
    "duration": 8,
    "start_time": "2022-01-27T04:04:17.086Z"
   },
   {
    "duration": 5,
    "start_time": "2022-01-27T04:04:17.096Z"
   },
   {
    "duration": 10,
    "start_time": "2022-01-27T04:04:17.102Z"
   },
   {
    "duration": 73,
    "start_time": "2022-01-27T04:04:17.114Z"
   },
   {
    "duration": 8,
    "start_time": "2022-01-27T04:04:17.189Z"
   },
   {
    "duration": 8,
    "start_time": "2022-01-27T04:04:17.198Z"
   },
   {
    "duration": 11,
    "start_time": "2022-01-27T04:04:17.209Z"
   },
   {
    "duration": 8,
    "start_time": "2022-01-27T04:04:17.222Z"
   },
   {
    "duration": 31,
    "start_time": "2022-01-27T04:04:17.232Z"
   },
   {
    "duration": 7,
    "start_time": "2022-01-27T04:04:17.265Z"
   },
   {
    "duration": 9,
    "start_time": "2022-01-27T04:04:17.273Z"
   },
   {
    "duration": 8,
    "start_time": "2022-01-27T04:04:17.283Z"
   },
   {
    "duration": 5,
    "start_time": "2022-01-27T04:04:17.292Z"
   },
   {
    "duration": 10,
    "start_time": "2022-01-27T04:04:17.298Z"
   },
   {
    "duration": 29,
    "start_time": "2022-01-27T04:04:17.310Z"
   },
   {
    "duration": 32,
    "start_time": "2022-01-27T04:04:17.341Z"
   },
   {
    "duration": 13,
    "start_time": "2022-01-27T04:04:17.375Z"
   },
   {
    "duration": 16,
    "start_time": "2022-01-27T04:04:17.390Z"
   },
   {
    "duration": 3,
    "start_time": "2022-01-27T04:04:17.408Z"
   },
   {
    "duration": 5,
    "start_time": "2022-01-27T04:04:17.413Z"
   },
   {
    "duration": 6,
    "start_time": "2022-01-27T04:04:17.419Z"
   },
   {
    "duration": 10,
    "start_time": "2022-01-27T04:04:17.461Z"
   },
   {
    "duration": 10,
    "start_time": "2022-01-27T04:04:17.473Z"
   },
   {
    "duration": 19,
    "start_time": "2022-01-27T04:04:17.484Z"
   },
   {
    "duration": 22,
    "start_time": "2022-01-27T04:04:17.505Z"
   },
   {
    "duration": 54,
    "start_time": "2022-01-27T04:04:17.529Z"
   },
   {
    "duration": 4,
    "start_time": "2022-01-27T04:04:17.585Z"
   },
   {
    "duration": 19,
    "start_time": "2022-01-27T04:04:17.591Z"
   },
   {
    "duration": 12,
    "start_time": "2022-01-27T04:04:17.612Z"
   },
   {
    "duration": 36,
    "start_time": "2022-01-27T04:04:17.625Z"
   },
   {
    "duration": 14,
    "start_time": "2022-01-27T04:04:17.663Z"
   },
   {
    "duration": 12,
    "start_time": "2022-01-27T04:04:25.424Z"
   },
   {
    "duration": 9,
    "start_time": "2022-01-27T04:06:01.366Z"
   },
   {
    "duration": 13,
    "start_time": "2022-01-27T04:06:02.834Z"
   },
   {
    "duration": 85,
    "start_time": "2022-01-27T04:07:01.806Z"
   },
   {
    "duration": 86,
    "start_time": "2022-01-27T04:07:18.259Z"
   },
   {
    "duration": 21,
    "start_time": "2022-01-27T04:07:54.238Z"
   },
   {
    "duration": 248,
    "start_time": "2022-01-27T04:09:03.264Z"
   },
   {
    "duration": 18,
    "start_time": "2022-01-27T04:09:17.772Z"
   },
   {
    "duration": 18,
    "start_time": "2022-01-27T04:09:26.404Z"
   },
   {
    "duration": 3,
    "start_time": "2022-01-27T04:09:48.622Z"
   },
   {
    "duration": 17,
    "start_time": "2022-01-27T04:09:51.204Z"
   },
   {
    "duration": 11,
    "start_time": "2022-01-27T04:09:54.092Z"
   },
   {
    "duration": 9,
    "start_time": "2022-01-27T04:09:55.617Z"
   },
   {
    "duration": 11,
    "start_time": "2022-01-27T04:15:52.285Z"
   },
   {
    "duration": 8,
    "start_time": "2022-01-27T04:15:55.447Z"
   },
   {
    "duration": 67,
    "start_time": "2022-01-27T04:16:03.957Z"
   },
   {
    "duration": 3,
    "start_time": "2022-01-27T04:16:04.027Z"
   },
   {
    "duration": 29,
    "start_time": "2022-01-27T04:16:04.033Z"
   },
   {
    "duration": 12,
    "start_time": "2022-01-27T04:16:04.064Z"
   },
   {
    "duration": 6,
    "start_time": "2022-01-27T04:16:04.078Z"
   },
   {
    "duration": 8,
    "start_time": "2022-01-27T04:16:04.086Z"
   },
   {
    "duration": 6,
    "start_time": "2022-01-27T04:16:04.095Z"
   },
   {
    "duration": 7,
    "start_time": "2022-01-27T04:16:04.104Z"
   },
   {
    "duration": 55,
    "start_time": "2022-01-27T04:16:04.114Z"
   },
   {
    "duration": 13,
    "start_time": "2022-01-27T04:16:04.171Z"
   },
   {
    "duration": 97,
    "start_time": "2022-01-27T04:16:04.186Z"
   },
   {
    "duration": 3,
    "start_time": "2022-01-27T04:16:04.285Z"
   },
   {
    "duration": 5,
    "start_time": "2022-01-27T04:16:04.290Z"
   },
   {
    "duration": 17,
    "start_time": "2022-01-27T04:16:04.297Z"
   },
   {
    "duration": 12,
    "start_time": "2022-01-27T04:16:04.316Z"
   },
   {
    "duration": 49,
    "start_time": "2022-01-27T04:16:04.329Z"
   },
   {
    "duration": 7,
    "start_time": "2022-01-27T04:16:04.380Z"
   },
   {
    "duration": 14,
    "start_time": "2022-01-27T04:16:04.388Z"
   },
   {
    "duration": 6,
    "start_time": "2022-01-27T04:16:04.404Z"
   },
   {
    "duration": 8,
    "start_time": "2022-01-27T04:16:04.412Z"
   },
   {
    "duration": 39,
    "start_time": "2022-01-27T04:16:04.422Z"
   },
   {
    "duration": 7,
    "start_time": "2022-01-27T04:16:04.463Z"
   },
   {
    "duration": 10,
    "start_time": "2022-01-27T04:16:04.475Z"
   },
   {
    "duration": 35,
    "start_time": "2022-01-27T04:16:04.487Z"
   },
   {
    "duration": 7,
    "start_time": "2022-01-27T04:16:04.524Z"
   },
   {
    "duration": 31,
    "start_time": "2022-01-27T04:16:04.532Z"
   },
   {
    "duration": 6,
    "start_time": "2022-01-27T04:16:04.565Z"
   },
   {
    "duration": 10,
    "start_time": "2022-01-27T04:16:04.573Z"
   },
   {
    "duration": 8,
    "start_time": "2022-01-27T04:16:04.584Z"
   },
   {
    "duration": 8,
    "start_time": "2022-01-27T04:16:04.594Z"
   },
   {
    "duration": 10,
    "start_time": "2022-01-27T04:16:04.604Z"
   },
   {
    "duration": 9,
    "start_time": "2022-01-27T04:16:04.616Z"
   },
   {
    "duration": 5,
    "start_time": "2022-01-27T04:16:04.627Z"
   },
   {
    "duration": 32,
    "start_time": "2022-01-27T04:16:04.634Z"
   },
   {
    "duration": 26,
    "start_time": "2022-01-27T04:16:04.668Z"
   },
   {
    "duration": 15,
    "start_time": "2022-01-27T04:16:04.696Z"
   },
   {
    "duration": 14,
    "start_time": "2022-01-27T04:16:04.713Z"
   },
   {
    "duration": 46,
    "start_time": "2022-01-27T04:16:04.729Z"
   },
   {
    "duration": 2,
    "start_time": "2022-01-27T04:16:04.777Z"
   },
   {
    "duration": 4,
    "start_time": "2022-01-27T04:16:04.781Z"
   },
   {
    "duration": 10,
    "start_time": "2022-01-27T04:16:04.787Z"
   },
   {
    "duration": 16,
    "start_time": "2022-01-27T04:16:04.799Z"
   },
   {
    "duration": 22,
    "start_time": "2022-01-27T04:16:04.816Z"
   },
   {
    "duration": 24,
    "start_time": "2022-01-27T04:16:04.839Z"
   },
   {
    "duration": 23,
    "start_time": "2022-01-27T04:16:04.864Z"
   },
   {
    "duration": 22,
    "start_time": "2022-01-27T04:16:04.889Z"
   },
   {
    "duration": 3,
    "start_time": "2022-01-27T04:16:04.912Z"
   },
   {
    "duration": 45,
    "start_time": "2022-01-27T04:16:04.917Z"
   },
   {
    "duration": 11,
    "start_time": "2022-01-27T04:16:04.964Z"
   },
   {
    "duration": 12,
    "start_time": "2022-01-27T04:16:04.976Z"
   },
   {
    "duration": 9,
    "start_time": "2022-01-27T04:16:04.990Z"
   },
   {
    "duration": 12,
    "start_time": "2022-01-27T04:16:05.001Z"
   },
   {
    "duration": 47,
    "start_time": "2022-01-27T04:16:05.014Z"
   },
   {
    "duration": 19,
    "start_time": "2022-01-27T04:16:05.063Z"
   },
   {
    "duration": 2,
    "start_time": "2022-01-27T04:16:05.084Z"
   },
   {
    "duration": 30,
    "start_time": "2022-01-27T04:16:05.088Z"
   },
   {
    "duration": 17,
    "start_time": "2022-01-27T04:16:15.971Z"
   },
   {
    "duration": 14,
    "start_time": "2022-01-27T04:16:19.444Z"
   },
   {
    "duration": 8,
    "start_time": "2022-01-27T04:16:22.217Z"
   },
   {
    "duration": 12,
    "start_time": "2022-01-27T04:16:28.670Z"
   },
   {
    "duration": 12,
    "start_time": "2022-01-27T04:16:30.427Z"
   },
   {
    "duration": 10,
    "start_time": "2022-01-27T04:19:33.118Z"
   },
   {
    "duration": 11,
    "start_time": "2022-01-27T04:19:34.721Z"
   },
   {
    "duration": 66,
    "start_time": "2022-01-27T04:20:18.806Z"
   },
   {
    "duration": 3,
    "start_time": "2022-01-27T04:20:18.874Z"
   },
   {
    "duration": 10,
    "start_time": "2022-01-27T04:20:18.879Z"
   },
   {
    "duration": 12,
    "start_time": "2022-01-27T04:20:18.891Z"
   },
   {
    "duration": 5,
    "start_time": "2022-01-27T04:20:18.905Z"
   },
   {
    "duration": 6,
    "start_time": "2022-01-27T04:20:18.912Z"
   },
   {
    "duration": 5,
    "start_time": "2022-01-27T04:20:18.920Z"
   },
   {
    "duration": 8,
    "start_time": "2022-01-27T04:20:18.960Z"
   },
   {
    "duration": 17,
    "start_time": "2022-01-27T04:20:18.971Z"
   },
   {
    "duration": 14,
    "start_time": "2022-01-27T04:20:18.991Z"
   },
   {
    "duration": 117,
    "start_time": "2022-01-27T04:20:19.007Z"
   },
   {
    "duration": 3,
    "start_time": "2022-01-27T04:20:19.126Z"
   },
   {
    "duration": 4,
    "start_time": "2022-01-27T04:20:19.131Z"
   },
   {
    "duration": 17,
    "start_time": "2022-01-27T04:20:19.161Z"
   },
   {
    "duration": 11,
    "start_time": "2022-01-27T04:20:19.180Z"
   },
   {
    "duration": 22,
    "start_time": "2022-01-27T04:20:19.193Z"
   },
   {
    "duration": 6,
    "start_time": "2022-01-27T04:20:19.218Z"
   },
   {
    "duration": 42,
    "start_time": "2022-01-27T04:20:19.226Z"
   },
   {
    "duration": 17,
    "start_time": "2022-01-27T04:20:19.270Z"
   },
   {
    "duration": 31,
    "start_time": "2022-01-27T04:20:19.289Z"
   },
   {
    "duration": 11,
    "start_time": "2022-01-27T04:20:19.323Z"
   },
   {
    "duration": 7,
    "start_time": "2022-01-27T04:20:19.335Z"
   },
   {
    "duration": 18,
    "start_time": "2022-01-27T04:20:19.347Z"
   },
   {
    "duration": 47,
    "start_time": "2022-01-27T04:20:19.367Z"
   },
   {
    "duration": 11,
    "start_time": "2022-01-27T04:20:19.416Z"
   },
   {
    "duration": 32,
    "start_time": "2022-01-27T04:20:19.429Z"
   },
   {
    "duration": 10,
    "start_time": "2022-01-27T04:20:19.463Z"
   },
   {
    "duration": 14,
    "start_time": "2022-01-27T04:20:19.475Z"
   },
   {
    "duration": 12,
    "start_time": "2022-01-27T04:20:19.491Z"
   },
   {
    "duration": 11,
    "start_time": "2022-01-27T04:20:19.505Z"
   },
   {
    "duration": 15,
    "start_time": "2022-01-27T04:20:19.517Z"
   },
   {
    "duration": 14,
    "start_time": "2022-01-27T04:20:19.534Z"
   },
   {
    "duration": 10,
    "start_time": "2022-01-27T04:20:19.550Z"
   },
   {
    "duration": 11,
    "start_time": "2022-01-27T04:20:19.562Z"
   },
   {
    "duration": 30,
    "start_time": "2022-01-27T04:20:19.575Z"
   },
   {
    "duration": 14,
    "start_time": "2022-01-27T04:20:19.607Z"
   },
   {
    "duration": 15,
    "start_time": "2022-01-27T04:20:19.623Z"
   },
   {
    "duration": 18,
    "start_time": "2022-01-27T04:20:19.660Z"
   },
   {
    "duration": 2,
    "start_time": "2022-01-27T04:20:19.680Z"
   },
   {
    "duration": 6,
    "start_time": "2022-01-27T04:20:19.684Z"
   },
   {
    "duration": 6,
    "start_time": "2022-01-27T04:20:19.691Z"
   },
   {
    "duration": 10,
    "start_time": "2022-01-27T04:20:19.699Z"
   },
   {
    "duration": 12,
    "start_time": "2022-01-27T04:20:19.710Z"
   },
   {
    "duration": 49,
    "start_time": "2022-01-27T04:20:19.724Z"
   },
   {
    "duration": 22,
    "start_time": "2022-01-27T04:20:19.775Z"
   },
   {
    "duration": 24,
    "start_time": "2022-01-27T04:20:19.799Z"
   },
   {
    "duration": 2,
    "start_time": "2022-01-27T04:20:19.825Z"
   },
   {
    "duration": 44,
    "start_time": "2022-01-27T04:20:19.829Z"
   },
   {
    "duration": 11,
    "start_time": "2022-01-27T04:20:19.875Z"
   },
   {
    "duration": 9,
    "start_time": "2022-01-27T04:20:19.887Z"
   },
   {
    "duration": 11,
    "start_time": "2022-01-27T04:20:19.898Z"
   },
   {
    "duration": 12,
    "start_time": "2022-01-27T04:20:19.910Z"
   },
   {
    "duration": 51,
    "start_time": "2022-01-27T04:20:19.924Z"
   },
   {
    "duration": 19,
    "start_time": "2022-01-27T04:20:19.977Z"
   },
   {
    "duration": 3,
    "start_time": "2022-01-27T04:20:19.998Z"
   },
   {
    "duration": 24,
    "start_time": "2022-01-27T04:20:20.003Z"
   },
   {
    "duration": 36,
    "start_time": "2022-01-27T04:20:20.029Z"
   },
   {
    "duration": 11,
    "start_time": "2022-01-27T04:20:24.120Z"
   },
   {
    "duration": 9,
    "start_time": "2022-01-27T04:20:25.421Z"
   },
   {
    "duration": 10,
    "start_time": "2022-01-27T04:20:28.870Z"
   },
   {
    "duration": 12,
    "start_time": "2022-01-27T04:20:31.525Z"
   },
   {
    "duration": 18,
    "start_time": "2022-01-27T04:30:00.041Z"
   },
   {
    "duration": 16,
    "start_time": "2022-01-27T04:30:31.818Z"
   },
   {
    "duration": 8,
    "start_time": "2022-01-27T04:40:45.190Z"
   },
   {
    "duration": 66,
    "start_time": "2022-01-27T04:40:59.226Z"
   },
   {
    "duration": 3,
    "start_time": "2022-01-27T04:40:59.294Z"
   },
   {
    "duration": 10,
    "start_time": "2022-01-27T04:40:59.299Z"
   },
   {
    "duration": 12,
    "start_time": "2022-01-27T04:40:59.310Z"
   },
   {
    "duration": 7,
    "start_time": "2022-01-27T04:40:59.323Z"
   },
   {
    "duration": 31,
    "start_time": "2022-01-27T04:40:59.332Z"
   },
   {
    "duration": 8,
    "start_time": "2022-01-27T04:40:59.365Z"
   },
   {
    "duration": 11,
    "start_time": "2022-01-27T04:40:59.374Z"
   },
   {
    "duration": 20,
    "start_time": "2022-01-27T04:40:59.387Z"
   },
   {
    "duration": 11,
    "start_time": "2022-01-27T04:40:59.409Z"
   },
   {
    "duration": 97,
    "start_time": "2022-01-27T04:40:59.422Z"
   },
   {
    "duration": 2,
    "start_time": "2022-01-27T04:40:59.521Z"
   },
   {
    "duration": 5,
    "start_time": "2022-01-27T04:40:59.525Z"
   },
   {
    "duration": 40,
    "start_time": "2022-01-27T04:40:59.533Z"
   },
   {
    "duration": 11,
    "start_time": "2022-01-27T04:40:59.575Z"
   },
   {
    "duration": 23,
    "start_time": "2022-01-27T04:40:59.587Z"
   },
   {
    "duration": 6,
    "start_time": "2022-01-27T04:40:59.612Z"
   },
   {
    "duration": 10,
    "start_time": "2022-01-27T04:40:59.619Z"
   },
   {
    "duration": 5,
    "start_time": "2022-01-27T04:40:59.661Z"
   },
   {
    "duration": 9,
    "start_time": "2022-01-27T04:40:59.668Z"
   },
   {
    "duration": 7,
    "start_time": "2022-01-27T04:40:59.679Z"
   },
   {
    "duration": 5,
    "start_time": "2022-01-27T04:40:59.688Z"
   },
   {
    "duration": 8,
    "start_time": "2022-01-27T04:40:59.695Z"
   },
   {
    "duration": 67,
    "start_time": "2022-01-27T04:40:59.705Z"
   },
   {
    "duration": 7,
    "start_time": "2022-01-27T04:40:59.774Z"
   },
   {
    "duration": 7,
    "start_time": "2022-01-27T04:40:59.783Z"
   },
   {
    "duration": 5,
    "start_time": "2022-01-27T04:40:59.792Z"
   },
   {
    "duration": 8,
    "start_time": "2022-01-27T04:40:59.799Z"
   },
   {
    "duration": 9,
    "start_time": "2022-01-27T04:40:59.809Z"
   },
   {
    "duration": 8,
    "start_time": "2022-01-27T04:40:59.820Z"
   },
   {
    "duration": 7,
    "start_time": "2022-01-27T04:40:59.861Z"
   },
   {
    "duration": 8,
    "start_time": "2022-01-27T04:40:59.871Z"
   },
   {
    "duration": 5,
    "start_time": "2022-01-27T04:40:59.881Z"
   },
   {
    "duration": 7,
    "start_time": "2022-01-27T04:40:59.888Z"
   },
   {
    "duration": 30,
    "start_time": "2022-01-27T04:40:59.897Z"
   },
   {
    "duration": 40,
    "start_time": "2022-01-27T04:40:59.929Z"
   },
   {
    "duration": 15,
    "start_time": "2022-01-27T04:40:59.970Z"
   },
   {
    "duration": 18,
    "start_time": "2022-01-27T04:40:59.987Z"
   },
   {
    "duration": 2,
    "start_time": "2022-01-27T04:41:00.007Z"
   },
   {
    "duration": 11,
    "start_time": "2022-01-27T04:41:00.013Z"
   },
   {
    "duration": 38,
    "start_time": "2022-01-27T04:41:00.026Z"
   },
   {
    "duration": 16,
    "start_time": "2022-01-27T04:41:00.066Z"
   },
   {
    "duration": 10,
    "start_time": "2022-01-27T04:41:00.084Z"
   },
   {
    "duration": 21,
    "start_time": "2022-01-27T04:41:00.096Z"
   },
   {
    "duration": 44,
    "start_time": "2022-01-27T04:41:00.118Z"
   },
   {
    "duration": 24,
    "start_time": "2022-01-27T04:41:00.163Z"
   },
   {
    "duration": 3,
    "start_time": "2022-01-27T04:41:00.190Z"
   },
   {
    "duration": 23,
    "start_time": "2022-01-27T04:41:00.195Z"
   },
   {
    "duration": 45,
    "start_time": "2022-01-27T04:41:00.220Z"
   },
   {
    "duration": 9,
    "start_time": "2022-01-27T04:41:00.266Z"
   },
   {
    "duration": 16,
    "start_time": "2022-01-27T04:41:00.277Z"
   },
   {
    "duration": 12,
    "start_time": "2022-01-27T04:41:00.295Z"
   },
   {
    "duration": 19,
    "start_time": "2022-01-27T04:41:00.308Z"
   },
   {
    "duration": 44,
    "start_time": "2022-01-27T04:41:00.328Z"
   },
   {
    "duration": 3,
    "start_time": "2022-01-27T04:41:00.374Z"
   },
   {
    "duration": 25,
    "start_time": "2022-01-27T04:41:00.378Z"
   },
   {
    "duration": 12,
    "start_time": "2022-01-27T04:41:00.405Z"
   },
   {
    "duration": 11,
    "start_time": "2022-01-27T04:41:09.765Z"
   },
   {
    "duration": 12,
    "start_time": "2022-01-27T04:41:10.830Z"
   },
   {
    "duration": 18,
    "start_time": "2022-01-27T04:45:16.236Z"
   },
   {
    "duration": 4,
    "start_time": "2022-01-27T04:47:40.032Z"
   },
   {
    "duration": 510,
    "start_time": "2022-01-27T04:47:41.327Z"
   },
   {
    "duration": 15,
    "start_time": "2022-01-27T04:49:20.378Z"
   },
   {
    "duration": 505,
    "start_time": "2022-01-27T04:49:26.402Z"
   },
   {
    "duration": 8,
    "start_time": "2022-01-27T04:49:27.557Z"
   },
   {
    "duration": 11,
    "start_time": "2022-01-27T04:49:38.817Z"
   },
   {
    "duration": 9,
    "start_time": "2022-01-27T04:49:41.596Z"
   },
   {
    "duration": 71,
    "start_time": "2022-01-27T04:49:50.752Z"
   },
   {
    "duration": 4,
    "start_time": "2022-01-27T04:49:50.826Z"
   },
   {
    "duration": 10,
    "start_time": "2022-01-27T04:49:50.832Z"
   },
   {
    "duration": 13,
    "start_time": "2022-01-27T04:49:50.862Z"
   },
   {
    "duration": 9,
    "start_time": "2022-01-27T04:49:50.877Z"
   },
   {
    "duration": 10,
    "start_time": "2022-01-27T04:49:50.888Z"
   },
   {
    "duration": 8,
    "start_time": "2022-01-27T04:49:50.900Z"
   },
   {
    "duration": 12,
    "start_time": "2022-01-27T04:49:50.911Z"
   },
   {
    "duration": 49,
    "start_time": "2022-01-27T04:49:50.926Z"
   },
   {
    "duration": 12,
    "start_time": "2022-01-27T04:49:50.977Z"
   },
   {
    "duration": 111,
    "start_time": "2022-01-27T04:49:50.991Z"
   },
   {
    "duration": 2,
    "start_time": "2022-01-27T04:49:51.104Z"
   },
   {
    "duration": 16,
    "start_time": "2022-01-27T04:49:51.108Z"
   },
   {
    "duration": 27,
    "start_time": "2022-01-27T04:49:51.126Z"
   },
   {
    "duration": 11,
    "start_time": "2022-01-27T04:49:51.160Z"
   },
   {
    "duration": 40,
    "start_time": "2022-01-27T04:49:51.173Z"
   },
   {
    "duration": 6,
    "start_time": "2022-01-27T04:49:51.215Z"
   },
   {
    "duration": 13,
    "start_time": "2022-01-27T04:49:51.223Z"
   },
   {
    "duration": 29,
    "start_time": "2022-01-27T04:49:51.237Z"
   },
   {
    "duration": 12,
    "start_time": "2022-01-27T04:49:51.269Z"
   },
   {
    "duration": 15,
    "start_time": "2022-01-27T04:49:51.283Z"
   },
   {
    "duration": 8,
    "start_time": "2022-01-27T04:49:51.300Z"
   },
   {
    "duration": 12,
    "start_time": "2022-01-27T04:49:51.310Z"
   },
   {
    "duration": 57,
    "start_time": "2022-01-27T04:49:51.324Z"
   },
   {
    "duration": 9,
    "start_time": "2022-01-27T04:49:51.382Z"
   },
   {
    "duration": 11,
    "start_time": "2022-01-27T04:49:51.393Z"
   },
   {
    "duration": 7,
    "start_time": "2022-01-27T04:49:51.406Z"
   },
   {
    "duration": 8,
    "start_time": "2022-01-27T04:49:51.416Z"
   },
   {
    "duration": 9,
    "start_time": "2022-01-27T04:49:51.426Z"
   },
   {
    "duration": 29,
    "start_time": "2022-01-27T04:49:51.437Z"
   },
   {
    "duration": 24,
    "start_time": "2022-01-27T04:49:51.468Z"
   },
   {
    "duration": 20,
    "start_time": "2022-01-27T04:49:51.493Z"
   },
   {
    "duration": 32,
    "start_time": "2022-01-27T04:49:51.515Z"
   },
   {
    "duration": 29,
    "start_time": "2022-01-27T04:49:51.549Z"
   },
   {
    "duration": 37,
    "start_time": "2022-01-27T04:49:51.580Z"
   },
   {
    "duration": 16,
    "start_time": "2022-01-27T04:49:51.619Z"
   },
   {
    "duration": 20,
    "start_time": "2022-01-27T04:49:51.637Z"
   },
   {
    "duration": 20,
    "start_time": "2022-01-27T04:49:51.659Z"
   },
   {
    "duration": 14,
    "start_time": "2022-01-27T04:49:51.681Z"
   },
   {
    "duration": 5,
    "start_time": "2022-01-27T04:49:51.709Z"
   },
   {
    "duration": 9,
    "start_time": "2022-01-27T04:49:51.732Z"
   },
   {
    "duration": 35,
    "start_time": "2022-01-27T04:49:51.743Z"
   },
   {
    "duration": 33,
    "start_time": "2022-01-27T04:49:51.781Z"
   },
   {
    "duration": 29,
    "start_time": "2022-01-27T04:49:51.817Z"
   },
   {
    "duration": 26,
    "start_time": "2022-01-27T04:49:51.848Z"
   },
   {
    "duration": 25,
    "start_time": "2022-01-27T04:49:51.877Z"
   },
   {
    "duration": 3,
    "start_time": "2022-01-27T04:49:51.904Z"
   },
   {
    "duration": 22,
    "start_time": "2022-01-27T04:49:51.909Z"
   },
   {
    "duration": 12,
    "start_time": "2022-01-27T04:49:51.960Z"
   },
   {
    "duration": 9,
    "start_time": "2022-01-27T04:49:51.974Z"
   },
   {
    "duration": 12,
    "start_time": "2022-01-27T04:49:51.985Z"
   },
   {
    "duration": 12,
    "start_time": "2022-01-27T04:49:51.998Z"
   },
   {
    "duration": 62,
    "start_time": "2022-01-27T04:49:52.012Z"
   },
   {
    "duration": 16,
    "start_time": "2022-01-27T04:49:52.076Z"
   },
   {
    "duration": 3,
    "start_time": "2022-01-27T04:49:52.094Z"
   },
   {
    "duration": 19,
    "start_time": "2022-01-27T04:49:52.099Z"
   },
   {
    "duration": 28,
    "start_time": "2022-01-27T04:49:52.132Z"
   },
   {
    "duration": 10,
    "start_time": "2022-01-27T04:49:59.368Z"
   },
   {
    "duration": 8,
    "start_time": "2022-01-27T04:50:00.467Z"
   },
   {
    "duration": 11,
    "start_time": "2022-01-27T04:50:06.612Z"
   },
   {
    "duration": 12,
    "start_time": "2022-01-27T04:50:08.082Z"
   },
   {
    "duration": 70,
    "start_time": "2022-01-27T05:02:48.706Z"
   },
   {
    "duration": 3,
    "start_time": "2022-01-27T05:02:48.778Z"
   },
   {
    "duration": 26,
    "start_time": "2022-01-27T05:02:48.782Z"
   },
   {
    "duration": 28,
    "start_time": "2022-01-27T05:02:48.810Z"
   },
   {
    "duration": 20,
    "start_time": "2022-01-27T05:02:48.840Z"
   },
   {
    "duration": 28,
    "start_time": "2022-01-27T05:02:48.862Z"
   },
   {
    "duration": 19,
    "start_time": "2022-01-27T05:02:48.892Z"
   },
   {
    "duration": 21,
    "start_time": "2022-01-27T05:02:48.913Z"
   },
   {
    "duration": 27,
    "start_time": "2022-01-27T05:02:48.937Z"
   },
   {
    "duration": 21,
    "start_time": "2022-01-27T05:02:48.966Z"
   },
   {
    "duration": 92,
    "start_time": "2022-01-27T05:02:48.989Z"
   },
   {
    "duration": 2,
    "start_time": "2022-01-27T05:02:49.084Z"
   },
   {
    "duration": 20,
    "start_time": "2022-01-27T05:02:49.088Z"
   },
   {
    "duration": 20,
    "start_time": "2022-01-27T05:02:49.109Z"
   },
   {
    "duration": 13,
    "start_time": "2022-01-27T05:02:49.132Z"
   },
   {
    "duration": 30,
    "start_time": "2022-01-27T05:02:49.147Z"
   },
   {
    "duration": 14,
    "start_time": "2022-01-27T05:02:49.179Z"
   },
   {
    "duration": 18,
    "start_time": "2022-01-27T05:02:49.195Z"
   },
   {
    "duration": 7,
    "start_time": "2022-01-27T05:02:49.215Z"
   },
   {
    "duration": 6,
    "start_time": "2022-01-27T05:02:49.225Z"
   },
   {
    "duration": 17,
    "start_time": "2022-01-27T05:02:49.233Z"
   },
   {
    "duration": 7,
    "start_time": "2022-01-27T05:02:49.251Z"
   },
   {
    "duration": 10,
    "start_time": "2022-01-27T05:02:49.262Z"
   },
   {
    "duration": 36,
    "start_time": "2022-01-27T05:02:49.274Z"
   },
   {
    "duration": 9,
    "start_time": "2022-01-27T05:02:49.311Z"
   },
   {
    "duration": 15,
    "start_time": "2022-01-27T05:02:49.321Z"
   },
   {
    "duration": 25,
    "start_time": "2022-01-27T05:02:49.338Z"
   },
   {
    "duration": 22,
    "start_time": "2022-01-27T05:02:49.365Z"
   },
   {
    "duration": 17,
    "start_time": "2022-01-27T05:02:49.389Z"
   },
   {
    "duration": 19,
    "start_time": "2022-01-27T05:02:49.408Z"
   },
   {
    "duration": 17,
    "start_time": "2022-01-27T05:02:49.428Z"
   },
   {
    "duration": 15,
    "start_time": "2022-01-27T05:02:49.447Z"
   },
   {
    "duration": 14,
    "start_time": "2022-01-27T05:02:49.463Z"
   },
   {
    "duration": 14,
    "start_time": "2022-01-27T05:02:49.478Z"
   },
   {
    "duration": 39,
    "start_time": "2022-01-27T05:02:49.493Z"
   },
   {
    "duration": 15,
    "start_time": "2022-01-27T05:02:49.533Z"
   },
   {
    "duration": 15,
    "start_time": "2022-01-27T05:02:49.550Z"
   },
   {
    "duration": 18,
    "start_time": "2022-01-27T05:02:49.566Z"
   },
   {
    "duration": 2,
    "start_time": "2022-01-27T05:02:49.585Z"
   },
   {
    "duration": 6,
    "start_time": "2022-01-27T05:02:49.589Z"
   },
   {
    "duration": 12,
    "start_time": "2022-01-27T05:02:49.596Z"
   },
   {
    "duration": 19,
    "start_time": "2022-01-27T05:02:49.610Z"
   },
   {
    "duration": 20,
    "start_time": "2022-01-27T05:02:49.631Z"
   },
   {
    "duration": 29,
    "start_time": "2022-01-27T05:02:49.653Z"
   },
   {
    "duration": 23,
    "start_time": "2022-01-27T05:02:49.683Z"
   },
   {
    "duration": 21,
    "start_time": "2022-01-27T05:02:49.707Z"
   },
   {
    "duration": 3,
    "start_time": "2022-01-27T05:02:49.730Z"
   },
   {
    "duration": 603,
    "start_time": "2022-01-27T05:02:49.734Z"
   },
   {
    "duration": 14,
    "start_time": "2022-01-27T05:03:13.733Z"
   },
   {
    "duration": 66,
    "start_time": "2022-01-27T05:03:40.434Z"
   },
   {
    "duration": 3,
    "start_time": "2022-01-27T05:03:40.502Z"
   },
   {
    "duration": 9,
    "start_time": "2022-01-27T05:03:40.507Z"
   },
   {
    "duration": 13,
    "start_time": "2022-01-27T05:03:40.518Z"
   },
   {
    "duration": 6,
    "start_time": "2022-01-27T05:03:40.532Z"
   },
   {
    "duration": 7,
    "start_time": "2022-01-27T05:03:40.560Z"
   },
   {
    "duration": 5,
    "start_time": "2022-01-27T05:03:40.569Z"
   },
   {
    "duration": 8,
    "start_time": "2022-01-27T05:03:40.575Z"
   },
   {
    "duration": 18,
    "start_time": "2022-01-27T05:03:40.585Z"
   },
   {
    "duration": 11,
    "start_time": "2022-01-27T05:03:40.605Z"
   },
   {
    "duration": 103,
    "start_time": "2022-01-27T05:03:40.617Z"
   },
   {
    "duration": 2,
    "start_time": "2022-01-27T05:03:40.722Z"
   },
   {
    "duration": 12,
    "start_time": "2022-01-27T05:03:40.725Z"
   },
   {
    "duration": 29,
    "start_time": "2022-01-27T05:03:40.739Z"
   },
   {
    "duration": 29,
    "start_time": "2022-01-27T05:03:40.770Z"
   },
   {
    "duration": 21,
    "start_time": "2022-01-27T05:03:40.801Z"
   },
   {
    "duration": 25,
    "start_time": "2022-01-27T05:03:40.824Z"
   },
   {
    "duration": 28,
    "start_time": "2022-01-27T05:03:40.851Z"
   },
   {
    "duration": 10,
    "start_time": "2022-01-27T05:03:40.881Z"
   },
   {
    "duration": 24,
    "start_time": "2022-01-27T05:03:40.892Z"
   },
   {
    "duration": 23,
    "start_time": "2022-01-27T05:03:40.917Z"
   },
   {
    "duration": 8,
    "start_time": "2022-01-27T05:03:40.941Z"
   },
   {
    "duration": 22,
    "start_time": "2022-01-27T05:03:40.951Z"
   },
   {
    "duration": 52,
    "start_time": "2022-01-27T05:03:40.974Z"
   },
   {
    "duration": 7,
    "start_time": "2022-01-27T05:03:41.028Z"
   },
   {
    "duration": 23,
    "start_time": "2022-01-27T05:03:41.037Z"
   },
   {
    "duration": 25,
    "start_time": "2022-01-27T05:03:41.064Z"
   },
   {
    "duration": 23,
    "start_time": "2022-01-27T05:03:41.092Z"
   },
   {
    "duration": 21,
    "start_time": "2022-01-27T05:03:41.117Z"
   },
   {
    "duration": 29,
    "start_time": "2022-01-27T05:03:41.140Z"
   },
   {
    "duration": 30,
    "start_time": "2022-01-27T05:03:41.171Z"
   },
   {
    "duration": 47,
    "start_time": "2022-01-27T05:03:41.203Z"
   },
   {
    "duration": 27,
    "start_time": "2022-01-27T05:03:41.251Z"
   },
   {
    "duration": 17,
    "start_time": "2022-01-27T05:03:41.280Z"
   },
   {
    "duration": 36,
    "start_time": "2022-01-27T05:03:41.299Z"
   },
   {
    "duration": 15,
    "start_time": "2022-01-27T05:03:41.337Z"
   },
   {
    "duration": 23,
    "start_time": "2022-01-27T05:03:41.354Z"
   },
   {
    "duration": 27,
    "start_time": "2022-01-27T05:03:41.379Z"
   },
   {
    "duration": 2,
    "start_time": "2022-01-27T05:03:41.408Z"
   },
   {
    "duration": 26,
    "start_time": "2022-01-27T05:03:41.412Z"
   },
   {
    "duration": 23,
    "start_time": "2022-01-27T05:03:41.440Z"
   },
   {
    "duration": 14,
    "start_time": "2022-01-27T05:03:41.465Z"
   },
   {
    "duration": 31,
    "start_time": "2022-01-27T05:03:41.480Z"
   },
   {
    "duration": 36,
    "start_time": "2022-01-27T05:03:41.512Z"
   },
   {
    "duration": 23,
    "start_time": "2022-01-27T05:03:41.550Z"
   },
   {
    "duration": 45,
    "start_time": "2022-01-27T05:03:41.574Z"
   },
   {
    "duration": 3,
    "start_time": "2022-01-27T05:03:41.621Z"
   },
   {
    "duration": 35,
    "start_time": "2022-01-27T05:03:41.626Z"
   },
   {
    "duration": 15,
    "start_time": "2022-01-27T05:03:47.843Z"
   },
   {
    "duration": 12,
    "start_time": "2022-01-27T05:03:49.404Z"
   },
   {
    "duration": 9,
    "start_time": "2022-01-27T05:03:51.088Z"
   },
   {
    "duration": 10,
    "start_time": "2022-01-27T05:03:56.087Z"
   },
   {
    "duration": 12,
    "start_time": "2022-01-27T05:03:58.350Z"
   },
   {
    "duration": 21,
    "start_time": "2022-01-27T05:04:05.793Z"
   },
   {
    "duration": 17,
    "start_time": "2022-01-27T05:04:26.063Z"
   },
   {
    "duration": 19,
    "start_time": "2022-01-27T05:04:36.317Z"
   },
   {
    "duration": 6440,
    "start_time": "2022-01-27T05:05:55.082Z"
   },
   {
    "duration": 8,
    "start_time": "2022-01-27T05:06:22.178Z"
   },
   {
    "duration": 20,
    "start_time": "2022-01-27T05:06:45.849Z"
   },
   {
    "duration": 75,
    "start_time": "2022-01-27T05:07:57.647Z"
   },
   {
    "duration": 4,
    "start_time": "2022-01-27T05:07:57.723Z"
   },
   {
    "duration": 21,
    "start_time": "2022-01-27T05:07:57.728Z"
   },
   {
    "duration": 41,
    "start_time": "2022-01-27T05:07:57.760Z"
   },
   {
    "duration": 27,
    "start_time": "2022-01-27T05:07:57.802Z"
   },
   {
    "duration": 25,
    "start_time": "2022-01-27T05:07:57.830Z"
   },
   {
    "duration": 32,
    "start_time": "2022-01-27T05:07:57.856Z"
   },
   {
    "duration": 35,
    "start_time": "2022-01-27T05:07:57.889Z"
   },
   {
    "duration": 47,
    "start_time": "2022-01-27T05:07:57.926Z"
   },
   {
    "duration": 29,
    "start_time": "2022-01-27T05:07:57.976Z"
   },
   {
    "duration": 109,
    "start_time": "2022-01-27T05:07:58.007Z"
   },
   {
    "duration": 3,
    "start_time": "2022-01-27T05:07:58.118Z"
   },
   {
    "duration": 38,
    "start_time": "2022-01-27T05:07:58.122Z"
   },
   {
    "duration": 30,
    "start_time": "2022-01-27T05:07:58.162Z"
   },
   {
    "duration": 23,
    "start_time": "2022-01-27T05:07:58.194Z"
   },
   {
    "duration": 46,
    "start_time": "2022-01-27T05:07:58.219Z"
   },
   {
    "duration": 26,
    "start_time": "2022-01-27T05:07:58.267Z"
   },
   {
    "duration": 28,
    "start_time": "2022-01-27T05:07:58.295Z"
   },
   {
    "duration": 27,
    "start_time": "2022-01-27T05:07:58.325Z"
   },
   {
    "duration": 20,
    "start_time": "2022-01-27T05:07:58.354Z"
   },
   {
    "duration": 31,
    "start_time": "2022-01-27T05:07:58.376Z"
   },
   {
    "duration": 27,
    "start_time": "2022-01-27T05:07:58.409Z"
   },
   {
    "duration": 21,
    "start_time": "2022-01-27T05:07:58.438Z"
   },
   {
    "duration": 46,
    "start_time": "2022-01-27T05:07:58.461Z"
   },
   {
    "duration": 8,
    "start_time": "2022-01-27T05:07:58.509Z"
   },
   {
    "duration": 14,
    "start_time": "2022-01-27T05:07:58.519Z"
   },
   {
    "duration": 23,
    "start_time": "2022-01-27T05:07:58.537Z"
   },
   {
    "duration": 22,
    "start_time": "2022-01-27T05:07:58.562Z"
   },
   {
    "duration": 19,
    "start_time": "2022-01-27T05:07:58.586Z"
   },
   {
    "duration": 19,
    "start_time": "2022-01-27T05:07:58.607Z"
   },
   {
    "duration": 34,
    "start_time": "2022-01-27T05:07:58.628Z"
   },
   {
    "duration": 31,
    "start_time": "2022-01-27T05:07:58.664Z"
   },
   {
    "duration": 33,
    "start_time": "2022-01-27T05:07:58.697Z"
   },
   {
    "duration": 36,
    "start_time": "2022-01-27T05:07:58.732Z"
   },
   {
    "duration": 63,
    "start_time": "2022-01-27T05:07:58.770Z"
   },
   {
    "duration": 31,
    "start_time": "2022-01-27T05:07:58.835Z"
   },
   {
    "duration": 35,
    "start_time": "2022-01-27T05:07:58.868Z"
   },
   {
    "duration": 29,
    "start_time": "2022-01-27T05:07:58.905Z"
   },
   {
    "duration": 14,
    "start_time": "2022-01-27T05:07:58.936Z"
   },
   {
    "duration": 25,
    "start_time": "2022-01-27T05:07:58.951Z"
   },
   {
    "duration": 22,
    "start_time": "2022-01-27T05:07:58.978Z"
   },
   {
    "duration": 26,
    "start_time": "2022-01-27T05:07:59.002Z"
   },
   {
    "duration": 42,
    "start_time": "2022-01-27T05:07:59.030Z"
   },
   {
    "duration": 34,
    "start_time": "2022-01-27T05:07:59.074Z"
   },
   {
    "duration": 29,
    "start_time": "2022-01-27T05:07:59.110Z"
   },
   {
    "duration": 41,
    "start_time": "2022-01-27T05:07:59.140Z"
   },
   {
    "duration": 3,
    "start_time": "2022-01-27T05:07:59.183Z"
   },
   {
    "duration": 24,
    "start_time": "2022-01-27T05:07:59.187Z"
   },
   {
    "duration": 10,
    "start_time": "2022-01-27T05:07:59.212Z"
   },
   {
    "duration": 11,
    "start_time": "2022-01-27T05:07:59.224Z"
   },
   {
    "duration": 36,
    "start_time": "2022-01-27T05:07:59.236Z"
   },
   {
    "duration": 11,
    "start_time": "2022-01-27T05:07:59.273Z"
   },
   {
    "duration": 22,
    "start_time": "2022-01-27T05:07:59.285Z"
   },
   {
    "duration": 16,
    "start_time": "2022-01-27T05:07:59.308Z"
   },
   {
    "duration": 17,
    "start_time": "2022-01-27T05:07:59.325Z"
   },
   {
    "duration": 39,
    "start_time": "2022-01-27T05:07:59.344Z"
   },
   {
    "duration": 10,
    "start_time": "2022-01-27T05:07:59.385Z"
   },
   {
    "duration": 11,
    "start_time": "2022-01-27T05:08:09.974Z"
   },
   {
    "duration": 8,
    "start_time": "2022-01-27T05:08:10.946Z"
   },
   {
    "duration": 13,
    "start_time": "2022-01-27T05:08:37.612Z"
   },
   {
    "duration": 40,
    "start_time": "2022-01-27T05:57:22.919Z"
   },
   {
    "duration": 35,
    "start_time": "2022-01-27T05:59:10.262Z"
   },
   {
    "duration": 34,
    "start_time": "2022-01-27T05:59:35.812Z"
   },
   {
    "duration": 68,
    "start_time": "2022-01-27T06:00:04.082Z"
   },
   {
    "duration": 4,
    "start_time": "2022-01-27T20:34:24.508Z"
   },
   {
    "duration": 4,
    "start_time": "2022-01-27T20:34:38.744Z"
   },
   {
    "duration": 2,
    "start_time": "2022-01-27T20:51:04.297Z"
   },
   {
    "duration": 4,
    "start_time": "2022-01-27T20:51:04.967Z"
   },
   {
    "duration": 279,
    "start_time": "2022-01-27T20:53:11.134Z"
   },
   {
    "duration": 3,
    "start_time": "2022-01-27T21:02:20.453Z"
   },
   {
    "duration": 5,
    "start_time": "2022-01-27T21:02:21.124Z"
   },
   {
    "duration": 10,
    "start_time": "2022-01-27T21:02:22.140Z"
   },
   {
    "duration": 17,
    "start_time": "2022-01-27T21:03:04.455Z"
   },
   {
    "duration": 6,
    "start_time": "2022-01-27T21:26:07.067Z"
   },
   {
    "duration": 34,
    "start_time": "2022-01-27T21:34:13.665Z"
   },
   {
    "duration": 4,
    "start_time": "2022-01-27T21:34:16.903Z"
   },
   {
    "duration": 10,
    "start_time": "2022-01-27T21:34:18.506Z"
   },
   {
    "duration": 34765,
    "start_time": "2022-01-27T21:34:59.044Z"
   },
   {
    "duration": 4,
    "start_time": "2022-01-27T21:35:33.811Z"
   },
   {
    "duration": 2689,
    "start_time": "2022-01-27T23:07:49.608Z"
   },
   {
    "duration": 250,
    "start_time": "2022-01-27T23:07:56.508Z"
   },
   {
    "duration": 1392,
    "start_time": "2022-01-27T23:08:18.550Z"
   },
   {
    "duration": 11,
    "start_time": "2022-01-27T23:09:09.177Z"
   },
   {
    "duration": 69,
    "start_time": "2022-01-27T23:20:04.176Z"
   },
   {
    "duration": 4,
    "start_time": "2022-01-27T23:20:04.246Z"
   },
   {
    "duration": 21,
    "start_time": "2022-01-27T23:20:04.252Z"
   },
   {
    "duration": 10,
    "start_time": "2022-01-27T23:20:04.275Z"
   },
   {
    "duration": 6,
    "start_time": "2022-01-27T23:20:04.287Z"
   },
   {
    "duration": 5,
    "start_time": "2022-01-27T23:20:04.295Z"
   },
   {
    "duration": 5,
    "start_time": "2022-01-27T23:20:04.302Z"
   },
   {
    "duration": 6,
    "start_time": "2022-01-27T23:20:04.309Z"
   },
   {
    "duration": 48,
    "start_time": "2022-01-27T23:20:04.317Z"
   },
   {
    "duration": 13,
    "start_time": "2022-01-27T23:20:04.367Z"
   },
   {
    "duration": 106,
    "start_time": "2022-01-27T23:20:04.382Z"
   },
   {
    "duration": 2,
    "start_time": "2022-01-27T23:20:04.490Z"
   },
   {
    "duration": 4,
    "start_time": "2022-01-27T23:20:04.494Z"
   },
   {
    "duration": 16,
    "start_time": "2022-01-27T23:20:04.500Z"
   },
   {
    "duration": 9,
    "start_time": "2022-01-27T23:20:04.518Z"
   },
   {
    "duration": 46,
    "start_time": "2022-01-27T23:20:04.529Z"
   },
   {
    "duration": 5,
    "start_time": "2022-01-27T23:20:04.577Z"
   },
   {
    "duration": 9,
    "start_time": "2022-01-27T23:20:04.584Z"
   },
   {
    "duration": 4,
    "start_time": "2022-01-27T23:20:04.594Z"
   },
   {
    "duration": 9,
    "start_time": "2022-01-27T23:20:04.600Z"
   },
   {
    "duration": 23,
    "start_time": "2022-01-27T23:20:04.610Z"
   },
   {
    "duration": 22,
    "start_time": "2022-01-27T23:20:04.635Z"
   },
   {
    "duration": 8,
    "start_time": "2022-01-27T23:20:04.662Z"
   },
   {
    "duration": 36,
    "start_time": "2022-01-27T23:20:04.672Z"
   },
   {
    "duration": 7,
    "start_time": "2022-01-27T23:20:04.710Z"
   },
   {
    "duration": 9,
    "start_time": "2022-01-27T23:20:04.719Z"
   },
   {
    "duration": 31,
    "start_time": "2022-01-27T23:20:04.729Z"
   },
   {
    "duration": 6,
    "start_time": "2022-01-27T23:20:04.762Z"
   },
   {
    "duration": 6,
    "start_time": "2022-01-27T23:20:04.770Z"
   },
   {
    "duration": 11,
    "start_time": "2022-01-27T23:20:04.778Z"
   },
   {
    "duration": 10,
    "start_time": "2022-01-27T23:20:04.791Z"
   },
   {
    "duration": 10,
    "start_time": "2022-01-27T23:20:04.803Z"
   },
   {
    "duration": 7,
    "start_time": "2022-01-27T23:20:04.815Z"
   },
   {
    "duration": 11,
    "start_time": "2022-01-27T23:20:04.824Z"
   },
   {
    "duration": 42,
    "start_time": "2022-01-27T23:20:04.837Z"
   },
   {
    "duration": 13,
    "start_time": "2022-01-27T23:20:04.881Z"
   },
   {
    "duration": 13,
    "start_time": "2022-01-27T23:20:04.896Z"
   },
   {
    "duration": 16,
    "start_time": "2022-01-27T23:20:04.911Z"
   },
   {
    "duration": 2,
    "start_time": "2022-01-27T23:20:04.929Z"
   },
   {
    "duration": 29,
    "start_time": "2022-01-27T23:20:04.933Z"
   },
   {
    "duration": 8,
    "start_time": "2022-01-27T23:20:04.963Z"
   },
   {
    "duration": 10,
    "start_time": "2022-01-27T23:20:04.972Z"
   },
   {
    "duration": 9,
    "start_time": "2022-01-27T23:20:04.983Z"
   },
   {
    "duration": 21,
    "start_time": "2022-01-27T23:20:04.994Z"
   },
   {
    "duration": 66,
    "start_time": "2022-01-27T23:20:05.017Z"
   },
   {
    "duration": 28,
    "start_time": "2022-01-27T23:20:05.085Z"
   },
   {
    "duration": 3,
    "start_time": "2022-01-27T23:20:05.114Z"
   },
   {
    "duration": 42,
    "start_time": "2022-01-27T23:20:05.118Z"
   },
   {
    "duration": 11,
    "start_time": "2022-01-27T23:20:05.162Z"
   },
   {
    "duration": 10,
    "start_time": "2022-01-27T23:20:05.175Z"
   },
   {
    "duration": 10,
    "start_time": "2022-01-27T23:20:05.187Z"
   },
   {
    "duration": 11,
    "start_time": "2022-01-27T23:20:05.198Z"
   },
   {
    "duration": 17,
    "start_time": "2022-01-27T23:20:05.211Z"
   },
   {
    "duration": 47,
    "start_time": "2022-01-27T23:20:05.230Z"
   },
   {
    "duration": 9,
    "start_time": "2022-01-27T23:20:05.278Z"
   },
   {
    "duration": 6015,
    "start_time": "2022-01-27T23:20:05.289Z"
   },
   {
    "duration": 79434,
    "start_time": "2022-01-27T23:18:51.872Z"
   },
   {
    "duration": 79420,
    "start_time": "2022-01-27T23:18:51.887Z"
   },
   {
    "duration": 79414,
    "start_time": "2022-01-27T23:18:51.894Z"
   },
   {
    "duration": 79412,
    "start_time": "2022-01-27T23:18:51.897Z"
   },
   {
    "duration": 79409,
    "start_time": "2022-01-27T23:18:51.901Z"
   },
   {
    "duration": 79407,
    "start_time": "2022-01-27T23:18:51.904Z"
   },
   {
    "duration": 79403,
    "start_time": "2022-01-27T23:18:51.909Z"
   },
   {
    "duration": 79399,
    "start_time": "2022-01-27T23:18:51.914Z"
   },
   {
    "duration": 79396,
    "start_time": "2022-01-27T23:18:51.918Z"
   },
   {
    "duration": 79393,
    "start_time": "2022-01-27T23:18:51.922Z"
   },
   {
    "duration": 79388,
    "start_time": "2022-01-27T23:18:51.927Z"
   },
   {
    "duration": 70,
    "start_time": "2022-01-27T23:20:44.072Z"
   },
   {
    "duration": 4,
    "start_time": "2022-01-27T23:20:44.145Z"
   },
   {
    "duration": 23,
    "start_time": "2022-01-27T23:20:44.151Z"
   },
   {
    "duration": 21,
    "start_time": "2022-01-27T23:20:44.176Z"
   },
   {
    "duration": 25,
    "start_time": "2022-01-27T23:20:44.199Z"
   },
   {
    "duration": 24,
    "start_time": "2022-01-27T23:20:44.225Z"
   },
   {
    "duration": 22,
    "start_time": "2022-01-27T23:20:44.252Z"
   },
   {
    "duration": 30,
    "start_time": "2022-01-27T23:20:44.276Z"
   },
   {
    "duration": 28,
    "start_time": "2022-01-27T23:20:44.308Z"
   },
   {
    "duration": 21,
    "start_time": "2022-01-27T23:20:44.337Z"
   },
   {
    "duration": 76,
    "start_time": "2022-01-27T23:20:44.360Z"
   },
   {
    "duration": 2,
    "start_time": "2022-01-27T23:20:44.438Z"
   },
   {
    "duration": 5,
    "start_time": "2022-01-27T23:20:44.441Z"
   },
   {
    "duration": 23,
    "start_time": "2022-01-27T23:20:44.448Z"
   },
   {
    "duration": 9,
    "start_time": "2022-01-27T23:20:44.473Z"
   },
   {
    "duration": 24,
    "start_time": "2022-01-27T23:20:44.484Z"
   },
   {
    "duration": 4,
    "start_time": "2022-01-27T23:20:44.510Z"
   },
   {
    "duration": 11,
    "start_time": "2022-01-27T23:20:44.516Z"
   },
   {
    "duration": 4,
    "start_time": "2022-01-27T23:20:44.528Z"
   },
   {
    "duration": 29,
    "start_time": "2022-01-27T23:20:44.534Z"
   },
   {
    "duration": 8,
    "start_time": "2022-01-27T23:20:44.564Z"
   },
   {
    "duration": 5,
    "start_time": "2022-01-27T23:20:44.573Z"
   },
   {
    "duration": 8,
    "start_time": "2022-01-27T23:20:44.581Z"
   },
   {
    "duration": 37,
    "start_time": "2022-01-27T23:20:44.591Z"
   },
   {
    "duration": 34,
    "start_time": "2022-01-27T23:20:44.630Z"
   },
   {
    "duration": 26,
    "start_time": "2022-01-27T23:20:44.666Z"
   },
   {
    "duration": 25,
    "start_time": "2022-01-27T23:20:44.693Z"
   },
   {
    "duration": 16,
    "start_time": "2022-01-27T23:20:44.720Z"
   },
   {
    "duration": 27,
    "start_time": "2022-01-27T23:20:44.738Z"
   },
   {
    "duration": 30,
    "start_time": "2022-01-27T23:20:44.767Z"
   },
   {
    "duration": 25,
    "start_time": "2022-01-27T23:20:44.799Z"
   },
   {
    "duration": 34,
    "start_time": "2022-01-27T23:20:44.826Z"
   },
   {
    "duration": 23,
    "start_time": "2022-01-27T23:20:44.861Z"
   },
   {
    "duration": 25,
    "start_time": "2022-01-27T23:20:44.886Z"
   },
   {
    "duration": 50,
    "start_time": "2022-01-27T23:20:44.913Z"
   },
   {
    "duration": 14,
    "start_time": "2022-01-27T23:20:44.965Z"
   },
   {
    "duration": 30,
    "start_time": "2022-01-27T23:20:44.981Z"
   },
   {
    "duration": 51,
    "start_time": "2022-01-27T23:20:45.013Z"
   },
   {
    "duration": 7,
    "start_time": "2022-01-27T23:20:45.066Z"
   },
   {
    "duration": 25,
    "start_time": "2022-01-27T23:20:45.075Z"
   },
   {
    "duration": 27,
    "start_time": "2022-01-27T23:20:45.102Z"
   },
   {
    "duration": 25,
    "start_time": "2022-01-27T23:20:45.130Z"
   },
   {
    "duration": 31,
    "start_time": "2022-01-27T23:20:45.157Z"
   },
   {
    "duration": 20,
    "start_time": "2022-01-27T23:20:45.189Z"
   },
   {
    "duration": 28,
    "start_time": "2022-01-27T23:20:45.211Z"
   },
   {
    "duration": 31,
    "start_time": "2022-01-27T23:20:45.241Z"
   },
   {
    "duration": 3,
    "start_time": "2022-01-27T23:20:45.274Z"
   },
   {
    "duration": 29,
    "start_time": "2022-01-27T23:20:45.278Z"
   },
   {
    "duration": 22,
    "start_time": "2022-01-27T23:20:45.309Z"
   },
   {
    "duration": 13,
    "start_time": "2022-01-27T23:20:45.333Z"
   },
   {
    "duration": 24,
    "start_time": "2022-01-27T23:20:45.347Z"
   },
   {
    "duration": 18,
    "start_time": "2022-01-27T23:20:45.373Z"
   },
   {
    "duration": 23,
    "start_time": "2022-01-27T23:20:45.392Z"
   },
   {
    "duration": 17,
    "start_time": "2022-01-27T23:20:45.417Z"
   },
   {
    "duration": 8,
    "start_time": "2022-01-27T23:20:45.436Z"
   },
   {
    "duration": 6441,
    "start_time": "2022-01-27T23:20:49.465Z"
   },
   {
    "duration": 8,
    "start_time": "2022-01-27T23:22:08.422Z"
   },
   {
    "duration": 66,
    "start_time": "2022-01-27T23:22:20.668Z"
   },
   {
    "duration": 4,
    "start_time": "2022-01-27T23:22:20.736Z"
   },
   {
    "duration": 35,
    "start_time": "2022-01-27T23:22:20.742Z"
   },
   {
    "duration": 29,
    "start_time": "2022-01-27T23:22:20.779Z"
   },
   {
    "duration": 10,
    "start_time": "2022-01-27T23:22:20.810Z"
   },
   {
    "duration": 37,
    "start_time": "2022-01-27T23:22:20.822Z"
   },
   {
    "duration": 15,
    "start_time": "2022-01-27T23:22:20.861Z"
   },
   {
    "duration": 36,
    "start_time": "2022-01-27T23:22:20.880Z"
   },
   {
    "duration": 38,
    "start_time": "2022-01-27T23:22:20.919Z"
   },
   {
    "duration": 19,
    "start_time": "2022-01-27T23:22:20.959Z"
   },
   {
    "duration": 88,
    "start_time": "2022-01-27T23:22:20.980Z"
   },
   {
    "duration": 2,
    "start_time": "2022-01-27T23:22:21.070Z"
   },
   {
    "duration": 25,
    "start_time": "2022-01-27T23:22:21.074Z"
   },
   {
    "duration": 40,
    "start_time": "2022-01-27T23:22:21.101Z"
   },
   {
    "duration": 28,
    "start_time": "2022-01-27T23:22:21.143Z"
   },
   {
    "duration": 24,
    "start_time": "2022-01-27T23:22:21.173Z"
   },
   {
    "duration": 17,
    "start_time": "2022-01-27T23:22:21.199Z"
   },
   {
    "duration": 30,
    "start_time": "2022-01-27T23:22:21.217Z"
   },
   {
    "duration": 9,
    "start_time": "2022-01-27T23:22:21.249Z"
   },
   {
    "duration": 26,
    "start_time": "2022-01-27T23:22:21.259Z"
   },
   {
    "duration": 14,
    "start_time": "2022-01-27T23:22:21.287Z"
   },
   {
    "duration": 18,
    "start_time": "2022-01-27T23:22:21.303Z"
   },
   {
    "duration": 35,
    "start_time": "2022-01-27T23:22:21.324Z"
   },
   {
    "duration": 44,
    "start_time": "2022-01-27T23:22:21.361Z"
   },
   {
    "duration": 8,
    "start_time": "2022-01-27T23:22:21.406Z"
   },
   {
    "duration": 36,
    "start_time": "2022-01-27T23:22:21.415Z"
   },
   {
    "duration": 17,
    "start_time": "2022-01-27T23:22:21.453Z"
   },
   {
    "duration": 16,
    "start_time": "2022-01-27T23:22:21.471Z"
   },
   {
    "duration": 29,
    "start_time": "2022-01-27T23:22:21.489Z"
   },
   {
    "duration": 16,
    "start_time": "2022-01-27T23:22:21.520Z"
   },
   {
    "duration": 24,
    "start_time": "2022-01-27T23:22:21.538Z"
   },
   {
    "duration": 16,
    "start_time": "2022-01-27T23:22:21.564Z"
   },
   {
    "duration": 23,
    "start_time": "2022-01-27T23:22:21.582Z"
   },
   {
    "duration": 16,
    "start_time": "2022-01-27T23:22:21.607Z"
   },
   {
    "duration": 45,
    "start_time": "2022-01-27T23:22:21.625Z"
   },
   {
    "duration": 15,
    "start_time": "2022-01-27T23:22:21.672Z"
   },
   {
    "duration": 19,
    "start_time": "2022-01-27T23:22:21.689Z"
   },
   {
    "duration": 34,
    "start_time": "2022-01-27T23:22:21.710Z"
   },
   {
    "duration": 8,
    "start_time": "2022-01-27T23:22:21.746Z"
   },
   {
    "duration": 18,
    "start_time": "2022-01-27T23:22:21.755Z"
   },
   {
    "duration": 36,
    "start_time": "2022-01-27T23:22:21.775Z"
   },
   {
    "duration": 29,
    "start_time": "2022-01-27T23:22:21.813Z"
   },
   {
    "duration": 22,
    "start_time": "2022-01-27T23:22:21.844Z"
   },
   {
    "duration": 30,
    "start_time": "2022-01-27T23:22:21.868Z"
   },
   {
    "duration": 40,
    "start_time": "2022-01-27T23:22:21.900Z"
   },
   {
    "duration": 26,
    "start_time": "2022-01-27T23:22:21.942Z"
   },
   {
    "duration": 5,
    "start_time": "2022-01-27T23:22:21.969Z"
   },
   {
    "duration": 36,
    "start_time": "2022-01-27T23:22:21.975Z"
   },
   {
    "duration": 17,
    "start_time": "2022-01-27T23:22:22.013Z"
   },
   {
    "duration": 38,
    "start_time": "2022-01-27T23:22:22.031Z"
   },
   {
    "duration": 20,
    "start_time": "2022-01-27T23:22:22.071Z"
   },
   {
    "duration": 21,
    "start_time": "2022-01-27T23:22:22.092Z"
   },
   {
    "duration": 20,
    "start_time": "2022-01-27T23:22:22.115Z"
   },
   {
    "duration": 20,
    "start_time": "2022-01-27T23:22:22.136Z"
   },
   {
    "duration": 22,
    "start_time": "2022-01-27T23:22:22.157Z"
   },
   {
    "duration": 66,
    "start_time": "2022-01-27T23:22:37.444Z"
   },
   {
    "duration": 3,
    "start_time": "2022-01-27T23:22:37.512Z"
   },
   {
    "duration": 28,
    "start_time": "2022-01-27T23:22:37.517Z"
   },
   {
    "duration": 23,
    "start_time": "2022-01-27T23:22:37.547Z"
   },
   {
    "duration": 27,
    "start_time": "2022-01-27T23:22:37.572Z"
   },
   {
    "duration": 15,
    "start_time": "2022-01-27T23:22:37.600Z"
   },
   {
    "duration": 31,
    "start_time": "2022-01-27T23:22:37.617Z"
   },
   {
    "duration": 44,
    "start_time": "2022-01-27T23:22:37.650Z"
   },
   {
    "duration": 36,
    "start_time": "2022-01-27T23:22:37.697Z"
   },
   {
    "duration": 25,
    "start_time": "2022-01-27T23:22:37.736Z"
   },
   {
    "duration": 91,
    "start_time": "2022-01-27T23:22:37.763Z"
   },
   {
    "duration": 2,
    "start_time": "2022-01-27T23:22:37.856Z"
   },
   {
    "duration": 20,
    "start_time": "2022-01-27T23:22:37.859Z"
   },
   {
    "duration": 45,
    "start_time": "2022-01-27T23:22:37.881Z"
   },
   {
    "duration": 21,
    "start_time": "2022-01-27T23:22:37.928Z"
   },
   {
    "duration": 46,
    "start_time": "2022-01-27T23:22:37.951Z"
   },
   {
    "duration": 25,
    "start_time": "2022-01-27T23:22:37.999Z"
   },
   {
    "duration": 32,
    "start_time": "2022-01-27T23:22:38.026Z"
   },
   {
    "duration": 24,
    "start_time": "2022-01-27T23:22:38.060Z"
   },
   {
    "duration": 30,
    "start_time": "2022-01-27T23:22:38.086Z"
   },
   {
    "duration": 25,
    "start_time": "2022-01-27T23:22:38.117Z"
   },
   {
    "duration": 25,
    "start_time": "2022-01-27T23:22:38.143Z"
   },
   {
    "duration": 31,
    "start_time": "2022-01-27T23:22:38.170Z"
   },
   {
    "duration": 54,
    "start_time": "2022-01-27T23:22:38.203Z"
   },
   {
    "duration": 6,
    "start_time": "2022-01-27T23:22:38.259Z"
   },
   {
    "duration": 39,
    "start_time": "2022-01-27T23:22:38.267Z"
   },
   {
    "duration": 26,
    "start_time": "2022-01-27T23:22:38.309Z"
   },
   {
    "duration": 35,
    "start_time": "2022-01-27T23:22:38.337Z"
   },
   {
    "duration": 29,
    "start_time": "2022-01-27T23:22:38.373Z"
   },
   {
    "duration": 30,
    "start_time": "2022-01-27T23:22:38.404Z"
   },
   {
    "duration": 32,
    "start_time": "2022-01-27T23:22:38.436Z"
   },
   {
    "duration": 30,
    "start_time": "2022-01-27T23:22:38.470Z"
   },
   {
    "duration": 34,
    "start_time": "2022-01-27T23:22:38.502Z"
   },
   {
    "duration": 24,
    "start_time": "2022-01-27T23:22:38.537Z"
   },
   {
    "duration": 56,
    "start_time": "2022-01-27T23:22:38.563Z"
   },
   {
    "duration": 22,
    "start_time": "2022-01-27T23:22:38.621Z"
   },
   {
    "duration": 26,
    "start_time": "2022-01-27T23:22:38.645Z"
   },
   {
    "duration": 25,
    "start_time": "2022-01-27T23:22:38.673Z"
   },
   {
    "duration": 8,
    "start_time": "2022-01-27T23:22:38.700Z"
   },
   {
    "duration": 24,
    "start_time": "2022-01-27T23:22:38.710Z"
   },
   {
    "duration": 38,
    "start_time": "2022-01-27T23:22:38.736Z"
   },
   {
    "duration": 32,
    "start_time": "2022-01-27T23:22:38.776Z"
   },
   {
    "duration": 41,
    "start_time": "2022-01-27T23:22:38.810Z"
   },
   {
    "duration": 37,
    "start_time": "2022-01-27T23:22:38.852Z"
   },
   {
    "duration": 35,
    "start_time": "2022-01-27T23:22:38.891Z"
   },
   {
    "duration": 35,
    "start_time": "2022-01-27T23:22:38.927Z"
   },
   {
    "duration": 3,
    "start_time": "2022-01-27T23:22:38.963Z"
   },
   {
    "duration": 50,
    "start_time": "2022-01-27T23:22:38.967Z"
   },
   {
    "duration": 38,
    "start_time": "2022-01-27T23:22:39.019Z"
   },
   {
    "duration": 38,
    "start_time": "2022-01-27T23:22:39.059Z"
   },
   {
    "duration": 34,
    "start_time": "2022-01-27T23:22:39.099Z"
   },
   {
    "duration": 38,
    "start_time": "2022-01-27T23:22:39.135Z"
   },
   {
    "duration": 50,
    "start_time": "2022-01-27T23:22:39.175Z"
   },
   {
    "duration": 25,
    "start_time": "2022-01-27T23:22:39.227Z"
   },
   {
    "duration": 30,
    "start_time": "2022-01-27T23:22:39.254Z"
   },
   {
    "duration": 30,
    "start_time": "2022-01-27T23:22:39.285Z"
   },
   {
    "duration": 72,
    "start_time": "2022-01-27T23:22:39.317Z"
   },
   {
    "duration": 4,
    "start_time": "2022-01-27T23:22:39.391Z"
   },
   {
    "duration": 31,
    "start_time": "2022-01-27T23:22:39.397Z"
   },
   {
    "duration": 34,
    "start_time": "2022-01-27T23:22:39.430Z"
   },
   {
    "duration": 53,
    "start_time": "2022-01-27T23:22:39.467Z"
   },
   {
    "duration": 56,
    "start_time": "2022-01-27T23:22:39.522Z"
   },
   {
    "duration": 4,
    "start_time": "2022-01-27T23:22:39.580Z"
   },
   {
    "duration": 39,
    "start_time": "2022-01-27T23:22:39.586Z"
   },
   {
    "duration": 32480,
    "start_time": "2022-01-27T23:22:39.627Z"
   },
   {
    "duration": 4,
    "start_time": "2022-01-27T23:23:12.110Z"
   },
   {
    "duration": 17,
    "start_time": "2022-01-27T23:26:18.092Z"
   },
   {
    "duration": 59,
    "start_time": "2022-01-27T23:26:34.550Z"
   },
   {
    "duration": 10,
    "start_time": "2022-01-27T23:26:39.472Z"
   },
   {
    "duration": 20,
    "start_time": "2022-01-27T23:26:55.795Z"
   },
   {
    "duration": 23,
    "start_time": "2022-01-27T23:27:20.842Z"
   },
   {
    "duration": 22,
    "start_time": "2022-01-27T23:27:49.958Z"
   },
   {
    "duration": 22,
    "start_time": "2022-01-27T23:28:30.056Z"
   },
   {
    "duration": 5,
    "start_time": "2022-01-27T23:33:33.842Z"
   },
   {
    "duration": 3,
    "start_time": "2022-01-27T23:33:37.343Z"
   },
   {
    "duration": 4,
    "start_time": "2022-01-27T23:33:38.759Z"
   },
   {
    "duration": 264,
    "start_time": "2022-01-27T23:36:59.690Z"
   },
   {
    "duration": 254,
    "start_time": "2022-01-27T23:37:08.290Z"
   },
   {
    "duration": 1638,
    "start_time": "2022-01-27T23:37:16.580Z"
   },
   {
    "duration": 4,
    "start_time": "2022-01-27T23:37:50.922Z"
   },
   {
    "duration": 1625,
    "start_time": "2022-01-27T23:37:52.141Z"
   },
   {
    "duration": 64,
    "start_time": "2022-01-28T01:25:15.293Z"
   },
   {
    "duration": 3,
    "start_time": "2022-01-28T01:25:15.359Z"
   },
   {
    "duration": 14,
    "start_time": "2022-01-28T01:25:15.363Z"
   },
   {
    "duration": 13,
    "start_time": "2022-01-28T01:25:15.378Z"
   },
   {
    "duration": 6,
    "start_time": "2022-01-28T01:25:15.393Z"
   },
   {
    "duration": 7,
    "start_time": "2022-01-28T01:25:15.400Z"
   },
   {
    "duration": 5,
    "start_time": "2022-01-28T01:25:15.408Z"
   },
   {
    "duration": 12,
    "start_time": "2022-01-28T01:25:15.415Z"
   },
   {
    "duration": 16,
    "start_time": "2022-01-28T01:25:15.461Z"
   },
   {
    "duration": 11,
    "start_time": "2022-01-28T01:25:15.478Z"
   },
   {
    "duration": 79,
    "start_time": "2022-01-28T01:25:15.490Z"
   },
   {
    "duration": 14,
    "start_time": "2022-01-28T01:25:15.571Z"
   },
   {
    "duration": 9,
    "start_time": "2022-01-28T01:25:15.587Z"
   },
   {
    "duration": 18,
    "start_time": "2022-01-28T01:25:15.599Z"
   },
   {
    "duration": 5,
    "start_time": "2022-01-28T01:25:15.619Z"
   },
   {
    "duration": 39,
    "start_time": "2022-01-28T01:25:15.625Z"
   },
   {
    "duration": 5,
    "start_time": "2022-01-28T01:25:15.665Z"
   },
   {
    "duration": 12,
    "start_time": "2022-01-28T01:25:15.671Z"
   },
   {
    "duration": 22,
    "start_time": "2022-01-28T01:25:15.685Z"
   },
   {
    "duration": 10,
    "start_time": "2022-01-28T01:25:15.708Z"
   },
   {
    "duration": 14,
    "start_time": "2022-01-28T01:25:15.729Z"
   },
   {
    "duration": 36,
    "start_time": "2022-01-28T01:25:15.806Z"
   },
   {
    "duration": 7,
    "start_time": "2022-01-28T01:25:15.844Z"
   },
   {
    "duration": 8,
    "start_time": "2022-01-28T01:25:15.867Z"
   },
   {
    "duration": 21,
    "start_time": "2022-01-28T01:25:15.877Z"
   },
   {
    "duration": 31,
    "start_time": "2022-01-28T01:25:15.900Z"
   },
   {
    "duration": 12,
    "start_time": "2022-01-28T01:25:15.956Z"
   },
   {
    "duration": 25,
    "start_time": "2022-01-28T01:25:15.970Z"
   },
   {
    "duration": 37,
    "start_time": "2022-01-28T01:25:15.997Z"
   },
   {
    "duration": 7,
    "start_time": "2022-01-28T01:25:16.073Z"
   },
   {
    "duration": 18,
    "start_time": "2022-01-28T01:25:16.082Z"
   },
   {
    "duration": 21,
    "start_time": "2022-01-28T01:25:16.102Z"
   },
   {
    "duration": 29,
    "start_time": "2022-01-28T01:25:16.153Z"
   },
   {
    "duration": 13,
    "start_time": "2022-01-28T01:25:16.184Z"
   },
   {
    "duration": 13,
    "start_time": "2022-01-28T01:25:16.199Z"
   },
   {
    "duration": 14,
    "start_time": "2022-01-28T01:25:16.214Z"
   },
   {
    "duration": 3,
    "start_time": "2022-01-28T01:25:16.350Z"
   },
   {
    "duration": 4,
    "start_time": "2022-01-28T01:25:16.481Z"
   },
   {
    "duration": 3,
    "start_time": "2022-01-28T01:25:16.489Z"
   },
   {
    "duration": 8,
    "start_time": "2022-01-28T01:25:16.494Z"
   },
   {
    "duration": 12,
    "start_time": "2022-01-28T01:25:16.504Z"
   },
   {
    "duration": 21,
    "start_time": "2022-01-28T01:25:16.617Z"
   },
   {
    "duration": 28,
    "start_time": "2022-01-28T01:25:16.639Z"
   },
   {
    "duration": 27,
    "start_time": "2022-01-28T01:25:16.668Z"
   },
   {
    "duration": 3,
    "start_time": "2022-01-28T01:25:16.705Z"
   },
   {
    "duration": 23,
    "start_time": "2022-01-28T01:25:16.710Z"
   },
   {
    "duration": 26,
    "start_time": "2022-01-28T01:25:16.734Z"
   },
   {
    "duration": 11,
    "start_time": "2022-01-28T01:25:16.762Z"
   },
   {
    "duration": 9,
    "start_time": "2022-01-28T01:25:16.776Z"
   },
   {
    "duration": 12,
    "start_time": "2022-01-28T01:25:16.841Z"
   },
   {
    "duration": 19,
    "start_time": "2022-01-28T01:25:16.971Z"
   },
   {
    "duration": 17,
    "start_time": "2022-01-28T01:25:16.992Z"
   },
   {
    "duration": 10,
    "start_time": "2022-01-28T01:25:17.039Z"
   },
   {
    "duration": 7,
    "start_time": "2022-01-28T01:25:17.051Z"
   },
   {
    "duration": 14,
    "start_time": "2022-01-28T01:25:17.060Z"
   },
   {
    "duration": 3,
    "start_time": "2022-01-28T01:25:17.112Z"
   },
   {
    "duration": 3,
    "start_time": "2022-01-28T01:25:17.120Z"
   },
   {
    "duration": 5,
    "start_time": "2022-01-28T01:25:17.125Z"
   },
   {
    "duration": 15,
    "start_time": "2022-01-28T01:25:17.132Z"
   },
   {
    "duration": 30,
    "start_time": "2022-01-28T01:25:17.149Z"
   },
   {
    "duration": 3,
    "start_time": "2022-01-28T01:25:17.180Z"
   },
   {
    "duration": 27,
    "start_time": "2022-01-28T01:25:17.184Z"
   },
   {
    "duration": 32957,
    "start_time": "2022-01-28T01:25:17.212Z"
   },
   {
    "duration": 15,
    "start_time": "2022-01-28T01:25:50.171Z"
   },
   {
    "duration": 322,
    "start_time": "2022-01-28T01:25:50.188Z"
   },
   {
    "duration": 22,
    "start_time": "2022-01-28T01:25:50.512Z"
   },
   {
    "duration": 3,
    "start_time": "2022-01-28T01:25:50.536Z"
   },
   {
    "duration": 6,
    "start_time": "2022-01-28T01:25:50.541Z"
   },
   {
    "duration": 1762,
    "start_time": "2022-01-28T01:25:50.561Z"
   },
   {
    "duration": 67,
    "start_time": "2022-01-28T01:37:41.480Z"
   },
   {
    "duration": 4,
    "start_time": "2022-01-28T01:37:41.549Z"
   },
   {
    "duration": 18,
    "start_time": "2022-01-28T01:37:41.556Z"
   },
   {
    "duration": 14,
    "start_time": "2022-01-28T01:37:41.577Z"
   },
   {
    "duration": 18,
    "start_time": "2022-01-28T01:37:41.593Z"
   },
   {
    "duration": 19,
    "start_time": "2022-01-28T01:37:41.613Z"
   },
   {
    "duration": 5,
    "start_time": "2022-01-28T01:37:41.634Z"
   },
   {
    "duration": 24,
    "start_time": "2022-01-28T01:37:41.642Z"
   },
   {
    "duration": 27,
    "start_time": "2022-01-28T01:37:41.668Z"
   },
   {
    "duration": 17,
    "start_time": "2022-01-28T01:37:41.697Z"
   },
   {
    "duration": 80,
    "start_time": "2022-01-28T01:37:41.716Z"
   },
   {
    "duration": 15,
    "start_time": "2022-01-28T01:37:41.798Z"
   },
   {
    "duration": 9,
    "start_time": "2022-01-28T01:37:41.814Z"
   },
   {
    "duration": 46,
    "start_time": "2022-01-28T01:37:41.825Z"
   },
   {
    "duration": 6,
    "start_time": "2022-01-28T01:37:41.873Z"
   },
   {
    "duration": 11,
    "start_time": "2022-01-28T01:37:41.881Z"
   },
   {
    "duration": 5,
    "start_time": "2022-01-28T01:37:41.894Z"
   },
   {
    "duration": 7,
    "start_time": "2022-01-28T01:37:41.901Z"
   },
   {
    "duration": 9,
    "start_time": "2022-01-28T01:37:41.909Z"
   },
   {
    "duration": 44,
    "start_time": "2022-01-28T01:37:41.919Z"
   },
   {
    "duration": 8,
    "start_time": "2022-01-28T01:37:41.965Z"
   },
   {
    "duration": 37,
    "start_time": "2022-01-28T01:37:41.975Z"
   },
   {
    "duration": 7,
    "start_time": "2022-01-28T01:37:42.016Z"
   },
   {
    "duration": 36,
    "start_time": "2022-01-28T01:37:42.026Z"
   },
   {
    "duration": 5,
    "start_time": "2022-01-28T01:37:42.063Z"
   },
   {
    "duration": 7,
    "start_time": "2022-01-28T01:37:42.069Z"
   },
   {
    "duration": 6,
    "start_time": "2022-01-28T01:37:42.078Z"
   },
   {
    "duration": 9,
    "start_time": "2022-01-28T01:37:42.085Z"
   },
   {
    "duration": 7,
    "start_time": "2022-01-28T01:37:42.095Z"
   },
   {
    "duration": 7,
    "start_time": "2022-01-28T01:37:42.104Z"
   },
   {
    "duration": 5,
    "start_time": "2022-01-28T01:37:42.113Z"
   },
   {
    "duration": 7,
    "start_time": "2022-01-28T01:37:42.120Z"
   },
   {
    "duration": 50,
    "start_time": "2022-01-28T01:37:42.129Z"
   },
   {
    "duration": 13,
    "start_time": "2022-01-28T01:37:42.181Z"
   },
   {
    "duration": 13,
    "start_time": "2022-01-28T01:37:42.196Z"
   },
   {
    "duration": 17,
    "start_time": "2022-01-28T01:37:42.210Z"
   },
   {
    "duration": 1,
    "start_time": "2022-01-28T01:37:42.229Z"
   },
   {
    "duration": 31,
    "start_time": "2022-01-28T01:37:42.232Z"
   },
   {
    "duration": 6,
    "start_time": "2022-01-28T01:37:42.265Z"
   },
   {
    "duration": 8,
    "start_time": "2022-01-28T01:37:42.272Z"
   },
   {
    "duration": 11,
    "start_time": "2022-01-28T01:37:42.281Z"
   },
   {
    "duration": 17,
    "start_time": "2022-01-28T01:37:42.294Z"
   },
   {
    "duration": 50,
    "start_time": "2022-01-28T01:37:42.313Z"
   },
   {
    "duration": 27,
    "start_time": "2022-01-28T01:37:42.365Z"
   },
   {
    "duration": 3,
    "start_time": "2022-01-28T01:37:42.393Z"
   },
   {
    "duration": 20,
    "start_time": "2022-01-28T01:37:42.397Z"
   },
   {
    "duration": 10,
    "start_time": "2022-01-28T01:37:42.418Z"
   },
   {
    "duration": 37,
    "start_time": "2022-01-28T01:37:42.429Z"
   },
   {
    "duration": 12,
    "start_time": "2022-01-28T01:37:42.467Z"
   },
   {
    "duration": 10,
    "start_time": "2022-01-28T01:37:42.481Z"
   },
   {
    "duration": 17,
    "start_time": "2022-01-28T01:37:42.492Z"
   },
   {
    "duration": 16,
    "start_time": "2022-01-28T01:37:42.510Z"
   },
   {
    "duration": 37,
    "start_time": "2022-01-28T01:37:42.528Z"
   },
   {
    "duration": 7,
    "start_time": "2022-01-28T01:37:42.567Z"
   },
   {
    "duration": 10,
    "start_time": "2022-01-28T01:37:42.576Z"
   },
   {
    "duration": 2,
    "start_time": "2022-01-28T01:37:42.588Z"
   },
   {
    "duration": 3,
    "start_time": "2022-01-28T01:37:42.592Z"
   },
   {
    "duration": 9,
    "start_time": "2022-01-28T01:37:42.597Z"
   },
   {
    "duration": 23,
    "start_time": "2022-01-28T01:37:42.607Z"
   },
   {
    "duration": 55,
    "start_time": "2022-01-28T01:37:42.631Z"
   },
   {
    "duration": 4,
    "start_time": "2022-01-28T01:37:42.687Z"
   },
   {
    "duration": 12,
    "start_time": "2022-01-28T01:37:42.692Z"
   },
   {
    "duration": 32559,
    "start_time": "2022-01-28T01:37:42.706Z"
   },
   {
    "duration": 15,
    "start_time": "2022-01-28T01:38:15.267Z"
   },
   {
    "duration": 5,
    "start_time": "2022-01-28T01:38:15.284Z"
   },
   {
    "duration": 21,
    "start_time": "2022-01-28T01:38:15.290Z"
   },
   {
    "duration": 3,
    "start_time": "2022-01-28T01:38:15.313Z"
   },
   {
    "duration": 4,
    "start_time": "2022-01-28T01:38:15.320Z"
   },
   {
    "duration": 1669,
    "start_time": "2022-01-28T01:38:15.325Z"
   },
   {
    "duration": 253,
    "start_time": "2022-01-28T01:38:25.682Z"
   },
   {
    "duration": 273,
    "start_time": "2022-01-28T01:39:06.795Z"
   },
   {
    "duration": 270,
    "start_time": "2022-01-28T01:40:20.514Z"
   },
   {
    "duration": 27,
    "start_time": "2022-01-28T01:40:40.473Z"
   },
   {
    "duration": 254,
    "start_time": "2022-01-28T01:41:15.865Z"
   },
   {
    "duration": 85,
    "start_time": "2022-01-28T01:41:42.371Z"
   },
   {
    "duration": 77,
    "start_time": "2022-01-28T01:41:54.088Z"
   },
   {
    "duration": 42,
    "start_time": "2022-01-28T01:43:42.150Z"
   },
   {
    "duration": 31,
    "start_time": "2022-01-28T01:44:01.479Z"
   },
   {
    "duration": 271,
    "start_time": "2022-01-28T01:48:36.150Z"
   },
   {
    "duration": 32,
    "start_time": "2022-01-28T01:49:06.462Z"
   },
   {
    "duration": 19,
    "start_time": "2022-01-28T02:11:15.431Z"
   },
   {
    "duration": 264,
    "start_time": "2022-01-28T02:11:56.373Z"
   },
   {
    "duration": 21,
    "start_time": "2022-01-28T02:12:15.538Z"
   },
   {
    "duration": 21,
    "start_time": "2022-01-28T02:12:59.223Z"
   },
   {
    "duration": 23,
    "start_time": "2022-01-28T02:13:28.147Z"
   },
   {
    "duration": 25,
    "start_time": "2022-01-28T02:13:36.583Z"
   },
   {
    "duration": 30,
    "start_time": "2022-01-28T02:15:53.820Z"
   },
   {
    "duration": 29,
    "start_time": "2022-01-28T02:16:24.551Z"
   },
   {
    "duration": 31,
    "start_time": "2022-01-28T02:18:22.283Z"
   },
   {
    "duration": 33,
    "start_time": "2022-01-28T02:18:54.235Z"
   },
   {
    "duration": 36,
    "start_time": "2022-01-28T02:20:27.209Z"
   },
   {
    "duration": 40,
    "start_time": "2022-01-28T02:20:40.660Z"
   },
   {
    "duration": 45,
    "start_time": "2022-01-28T02:21:35.198Z"
   },
   {
    "duration": 22,
    "start_time": "2022-01-28T02:23:37.910Z"
   },
   {
    "duration": 20,
    "start_time": "2022-01-28T02:24:11.547Z"
   },
   {
    "duration": 21,
    "start_time": "2022-01-28T02:27:05.839Z"
   },
   {
    "duration": 263,
    "start_time": "2022-01-28T02:29:20.969Z"
   },
   {
    "duration": 23,
    "start_time": "2022-01-28T02:29:40.050Z"
   },
   {
    "duration": 16,
    "start_time": "2022-01-28T02:30:00.808Z"
   },
   {
    "duration": 276,
    "start_time": "2022-01-28T02:31:22.926Z"
   },
   {
    "duration": 16,
    "start_time": "2022-01-28T02:31:45.779Z"
   },
   {
    "duration": 21,
    "start_time": "2022-01-28T02:35:30.798Z"
   },
   {
    "duration": 16,
    "start_time": "2022-01-28T02:37:31.625Z"
   },
   {
    "duration": 19,
    "start_time": "2022-01-28T02:39:02.833Z"
   },
   {
    "duration": 16,
    "start_time": "2022-01-28T02:39:19.187Z"
   },
   {
    "duration": 17,
    "start_time": "2022-01-28T02:47:43.860Z"
   },
   {
    "duration": 92,
    "start_time": "2022-01-28T02:53:20.273Z"
   },
   {
    "duration": 261,
    "start_time": "2022-01-28T02:53:28.857Z"
   },
   {
    "duration": 17,
    "start_time": "2022-01-28T02:53:58.900Z"
   },
   {
    "duration": 16,
    "start_time": "2022-01-28T02:55:46.260Z"
   },
   {
    "duration": 11,
    "start_time": "2022-01-28T03:00:14.643Z"
   },
   {
    "duration": 15,
    "start_time": "2022-01-28T03:01:59.502Z"
   },
   {
    "duration": 17,
    "start_time": "2022-01-28T03:03:03.985Z"
   },
   {
    "duration": 16,
    "start_time": "2022-01-28T03:03:20.975Z"
   },
   {
    "duration": 67,
    "start_time": "2022-01-28T03:05:43.395Z"
   },
   {
    "duration": 3,
    "start_time": "2022-01-28T03:05:43.464Z"
   },
   {
    "duration": 14,
    "start_time": "2022-01-28T03:05:43.469Z"
   },
   {
    "duration": 10,
    "start_time": "2022-01-28T03:05:43.485Z"
   },
   {
    "duration": 6,
    "start_time": "2022-01-28T03:05:43.497Z"
   },
   {
    "duration": 6,
    "start_time": "2022-01-28T03:05:43.505Z"
   },
   {
    "duration": 6,
    "start_time": "2022-01-28T03:05:43.512Z"
   },
   {
    "duration": 8,
    "start_time": "2022-01-28T03:05:43.561Z"
   },
   {
    "duration": 16,
    "start_time": "2022-01-28T03:05:43.571Z"
   },
   {
    "duration": 11,
    "start_time": "2022-01-28T03:05:43.589Z"
   },
   {
    "duration": 104,
    "start_time": "2022-01-28T03:05:43.602Z"
   },
   {
    "duration": 17,
    "start_time": "2022-01-28T03:05:43.709Z"
   },
   {
    "duration": 40,
    "start_time": "2022-01-28T03:05:43.728Z"
   },
   {
    "duration": 19,
    "start_time": "2022-01-28T03:05:43.770Z"
   },
   {
    "duration": 5,
    "start_time": "2022-01-28T03:05:43.791Z"
   },
   {
    "duration": 9,
    "start_time": "2022-01-28T03:05:43.798Z"
   },
   {
    "duration": 6,
    "start_time": "2022-01-28T03:05:43.809Z"
   },
   {
    "duration": 7,
    "start_time": "2022-01-28T03:05:43.816Z"
   },
   {
    "duration": 8,
    "start_time": "2022-01-28T03:05:43.860Z"
   },
   {
    "duration": 10,
    "start_time": "2022-01-28T03:05:43.870Z"
   },
   {
    "duration": 7,
    "start_time": "2022-01-28T03:05:43.882Z"
   },
   {
    "duration": 35,
    "start_time": "2022-01-28T03:05:43.893Z"
   },
   {
    "duration": 7,
    "start_time": "2022-01-28T03:05:43.930Z"
   },
   {
    "duration": 6,
    "start_time": "2022-01-28T03:05:43.960Z"
   },
   {
    "duration": 6,
    "start_time": "2022-01-28T03:05:43.968Z"
   },
   {
    "duration": 8,
    "start_time": "2022-01-28T03:05:43.975Z"
   },
   {
    "duration": 8,
    "start_time": "2022-01-28T03:05:43.984Z"
   },
   {
    "duration": 7,
    "start_time": "2022-01-28T03:05:43.994Z"
   },
   {
    "duration": 7,
    "start_time": "2022-01-28T03:05:44.003Z"
   },
   {
    "duration": 9,
    "start_time": "2022-01-28T03:05:44.011Z"
   },
   {
    "duration": 6,
    "start_time": "2022-01-28T03:05:44.021Z"
   },
   {
    "duration": 35,
    "start_time": "2022-01-28T03:05:44.029Z"
   },
   {
    "duration": 33,
    "start_time": "2022-01-28T03:05:44.067Z"
   },
   {
    "duration": 16,
    "start_time": "2022-01-28T03:05:44.102Z"
   },
   {
    "duration": 15,
    "start_time": "2022-01-28T03:05:44.120Z"
   },
   {
    "duration": 20,
    "start_time": "2022-01-28T03:05:44.161Z"
   },
   {
    "duration": 2,
    "start_time": "2022-01-28T03:05:44.184Z"
   },
   {
    "duration": 7,
    "start_time": "2022-01-28T03:05:44.188Z"
   },
   {
    "duration": 6,
    "start_time": "2022-01-28T03:05:44.197Z"
   },
   {
    "duration": 8,
    "start_time": "2022-01-28T03:05:44.205Z"
   },
   {
    "duration": 12,
    "start_time": "2022-01-28T03:05:44.215Z"
   },
   {
    "duration": 49,
    "start_time": "2022-01-28T03:05:44.229Z"
   },
   {
    "duration": 37,
    "start_time": "2022-01-28T03:05:44.279Z"
   },
   {
    "duration": 28,
    "start_time": "2022-01-28T03:05:44.318Z"
   },
   {
    "duration": 13,
    "start_time": "2022-01-28T03:05:44.348Z"
   },
   {
    "duration": 34,
    "start_time": "2022-01-28T03:05:44.362Z"
   },
   {
    "duration": 13,
    "start_time": "2022-01-28T03:05:44.397Z"
   },
   {
    "duration": 18,
    "start_time": "2022-01-28T03:05:44.412Z"
   },
   {
    "duration": 32,
    "start_time": "2022-01-28T03:05:44.432Z"
   },
   {
    "duration": 12,
    "start_time": "2022-01-28T03:05:44.466Z"
   },
   {
    "duration": 30,
    "start_time": "2022-01-28T03:05:44.480Z"
   },
   {
    "duration": 16,
    "start_time": "2022-01-28T03:05:44.512Z"
   },
   {
    "duration": 30,
    "start_time": "2022-01-28T03:05:44.530Z"
   },
   {
    "duration": 21,
    "start_time": "2022-01-28T03:05:44.562Z"
   },
   {
    "duration": 22,
    "start_time": "2022-01-28T03:05:44.585Z"
   },
   {
    "duration": 15,
    "start_time": "2022-01-28T03:05:44.609Z"
   },
   {
    "duration": 17,
    "start_time": "2022-01-28T03:05:44.625Z"
   },
   {
    "duration": 18,
    "start_time": "2022-01-28T03:05:44.643Z"
   },
   {
    "duration": 30,
    "start_time": "2022-01-28T03:05:44.663Z"
   },
   {
    "duration": 29,
    "start_time": "2022-01-28T03:05:44.694Z"
   },
   {
    "duration": 3,
    "start_time": "2022-01-28T03:05:44.724Z"
   },
   {
    "duration": 11,
    "start_time": "2022-01-28T03:05:44.729Z"
   },
   {
    "duration": 34502,
    "start_time": "2022-01-28T03:05:44.745Z"
   },
   {
    "duration": 25,
    "start_time": "2022-01-28T03:06:19.249Z"
   },
   {
    "duration": 320,
    "start_time": "2022-01-28T03:06:19.276Z"
   },
   {
    "duration": 21,
    "start_time": "2022-01-28T03:06:19.598Z"
   },
   {
    "duration": 4,
    "start_time": "2022-01-28T03:06:19.621Z"
   },
   {
    "duration": 23,
    "start_time": "2022-01-28T03:06:19.627Z"
   },
   {
    "duration": 1656,
    "start_time": "2022-01-28T03:06:19.651Z"
   },
   {
    "duration": 19,
    "start_time": "2022-01-28T03:06:21.309Z"
   },
   {
    "duration": 31,
    "start_time": "2022-01-28T03:06:21.329Z"
   },
   {
    "duration": 29,
    "start_time": "2022-01-28T03:06:21.362Z"
   },
   {
    "duration": 15,
    "start_time": "2022-01-28T03:06:54.060Z"
   },
   {
    "duration": 13,
    "start_time": "2022-01-28T03:08:02.494Z"
   },
   {
    "duration": 16,
    "start_time": "2022-01-28T03:10:40.223Z"
   },
   {
    "duration": 86,
    "start_time": "2022-01-28T03:20:16.370Z"
   },
   {
    "duration": 14,
    "start_time": "2022-01-28T03:20:38.070Z"
   },
   {
    "duration": 14,
    "start_time": "2022-01-28T03:21:00.988Z"
   },
   {
    "duration": 283,
    "start_time": "2022-01-28T03:21:27.927Z"
   },
   {
    "duration": 13,
    "start_time": "2022-01-28T03:21:43.644Z"
   },
   {
    "duration": 13,
    "start_time": "2022-01-28T03:22:16.525Z"
   },
   {
    "duration": 13,
    "start_time": "2022-01-28T03:22:31.120Z"
   },
   {
    "duration": 13,
    "start_time": "2022-01-28T03:22:46.590Z"
   },
   {
    "duration": 278,
    "start_time": "2022-01-28T03:22:56.279Z"
   },
   {
    "duration": 14,
    "start_time": "2022-01-28T03:24:08.149Z"
   },
   {
    "duration": 12,
    "start_time": "2022-01-28T03:24:24.462Z"
   },
   {
    "duration": 14,
    "start_time": "2022-01-28T03:25:32.643Z"
   },
   {
    "duration": 13,
    "start_time": "2022-01-28T03:25:59.469Z"
   },
   {
    "duration": 13,
    "start_time": "2022-01-28T03:26:04.227Z"
   },
   {
    "duration": 12,
    "start_time": "2022-01-28T03:26:08.381Z"
   },
   {
    "duration": 13,
    "start_time": "2022-01-28T03:26:24.622Z"
   },
   {
    "duration": 65,
    "start_time": "2022-01-28T03:28:16.417Z"
   },
   {
    "duration": 3,
    "start_time": "2022-01-28T03:28:16.484Z"
   },
   {
    "duration": 27,
    "start_time": "2022-01-28T03:28:16.489Z"
   },
   {
    "duration": 34,
    "start_time": "2022-01-28T03:28:16.518Z"
   },
   {
    "duration": 11,
    "start_time": "2022-01-28T03:28:16.553Z"
   },
   {
    "duration": 24,
    "start_time": "2022-01-28T03:28:16.565Z"
   },
   {
    "duration": 13,
    "start_time": "2022-01-28T03:28:16.590Z"
   },
   {
    "duration": 15,
    "start_time": "2022-01-28T03:28:16.606Z"
   },
   {
    "duration": 31,
    "start_time": "2022-01-28T03:28:16.623Z"
   },
   {
    "duration": 21,
    "start_time": "2022-01-28T03:28:16.655Z"
   },
   {
    "duration": 80,
    "start_time": "2022-01-28T03:28:16.678Z"
   },
   {
    "duration": 16,
    "start_time": "2022-01-28T03:28:16.761Z"
   },
   {
    "duration": 25,
    "start_time": "2022-01-28T03:28:16.779Z"
   },
   {
    "duration": 38,
    "start_time": "2022-01-28T03:28:16.805Z"
   },
   {
    "duration": 23,
    "start_time": "2022-01-28T03:28:16.845Z"
   },
   {
    "duration": 41,
    "start_time": "2022-01-28T03:28:16.870Z"
   },
   {
    "duration": 22,
    "start_time": "2022-01-28T03:28:16.913Z"
   },
   {
    "duration": 38,
    "start_time": "2022-01-28T03:28:16.937Z"
   },
   {
    "duration": 27,
    "start_time": "2022-01-28T03:28:16.976Z"
   },
   {
    "duration": 21,
    "start_time": "2022-01-28T03:28:17.005Z"
   },
   {
    "duration": 7,
    "start_time": "2022-01-28T03:28:17.028Z"
   },
   {
    "duration": 34,
    "start_time": "2022-01-28T03:28:17.036Z"
   },
   {
    "duration": 7,
    "start_time": "2022-01-28T03:28:17.074Z"
   },
   {
    "duration": 6,
    "start_time": "2022-01-28T03:28:17.084Z"
   },
   {
    "duration": 5,
    "start_time": "2022-01-28T03:28:17.091Z"
   },
   {
    "duration": 8,
    "start_time": "2022-01-28T03:28:17.098Z"
   },
   {
    "duration": 7,
    "start_time": "2022-01-28T03:28:17.108Z"
   },
   {
    "duration": 8,
    "start_time": "2022-01-28T03:28:17.116Z"
   },
   {
    "duration": 5,
    "start_time": "2022-01-28T03:28:17.126Z"
   },
   {
    "duration": 29,
    "start_time": "2022-01-28T03:28:17.133Z"
   },
   {
    "duration": 6,
    "start_time": "2022-01-28T03:28:17.164Z"
   },
   {
    "duration": 7,
    "start_time": "2022-01-28T03:28:17.171Z"
   },
   {
    "duration": 26,
    "start_time": "2022-01-28T03:28:17.179Z"
   },
   {
    "duration": 12,
    "start_time": "2022-01-28T03:28:17.207Z"
   },
   {
    "duration": 12,
    "start_time": "2022-01-28T03:28:17.221Z"
   },
   {
    "duration": 16,
    "start_time": "2022-01-28T03:28:17.260Z"
   },
   {
    "duration": 2,
    "start_time": "2022-01-28T03:28:17.277Z"
   },
   {
    "duration": 5,
    "start_time": "2022-01-28T03:28:17.281Z"
   },
   {
    "duration": 7,
    "start_time": "2022-01-28T03:28:17.287Z"
   },
   {
    "duration": 8,
    "start_time": "2022-01-28T03:28:17.295Z"
   },
   {
    "duration": 9,
    "start_time": "2022-01-28T03:28:17.304Z"
   },
   {
    "duration": 18,
    "start_time": "2022-01-28T03:28:17.314Z"
   },
   {
    "duration": 26,
    "start_time": "2022-01-28T03:28:17.361Z"
   },
   {
    "duration": 25,
    "start_time": "2022-01-28T03:28:17.389Z"
   },
   {
    "duration": 3,
    "start_time": "2022-01-28T03:28:17.416Z"
   },
   {
    "duration": 41,
    "start_time": "2022-01-28T03:28:17.420Z"
   },
   {
    "duration": 10,
    "start_time": "2022-01-28T03:28:17.463Z"
   },
   {
    "duration": 11,
    "start_time": "2022-01-28T03:28:17.475Z"
   },
   {
    "duration": 9,
    "start_time": "2022-01-28T03:28:17.488Z"
   },
   {
    "duration": 9,
    "start_time": "2022-01-28T03:28:17.499Z"
   },
   {
    "duration": 17,
    "start_time": "2022-01-28T03:28:17.510Z"
   },
   {
    "duration": 18,
    "start_time": "2022-01-28T03:28:17.561Z"
   },
   {
    "duration": 8,
    "start_time": "2022-01-28T03:28:17.580Z"
   },
   {
    "duration": 7,
    "start_time": "2022-01-28T03:28:17.590Z"
   },
   {
    "duration": 13,
    "start_time": "2022-01-28T03:28:17.599Z"
   },
   {
    "duration": 3,
    "start_time": "2022-01-28T03:28:17.613Z"
   },
   {
    "duration": 5,
    "start_time": "2022-01-28T03:28:17.618Z"
   },
   {
    "duration": 36,
    "start_time": "2022-01-28T03:28:17.625Z"
   },
   {
    "duration": 14,
    "start_time": "2022-01-28T03:28:17.662Z"
   },
   {
    "duration": 28,
    "start_time": "2022-01-28T03:28:17.677Z"
   },
   {
    "duration": 4,
    "start_time": "2022-01-28T03:28:17.706Z"
   },
   {
    "duration": 12,
    "start_time": "2022-01-28T03:28:17.711Z"
   },
   {
    "duration": 32008,
    "start_time": "2022-01-28T03:28:17.724Z"
   },
   {
    "duration": 15,
    "start_time": "2022-01-28T03:28:49.734Z"
   },
   {
    "duration": 16,
    "start_time": "2022-01-28T03:28:49.751Z"
   },
   {
    "duration": 22,
    "start_time": "2022-01-28T03:28:49.769Z"
   },
   {
    "duration": 3,
    "start_time": "2022-01-28T03:28:49.792Z"
   },
   {
    "duration": 4,
    "start_time": "2022-01-28T03:28:49.806Z"
   },
   {
    "duration": 1652,
    "start_time": "2022-01-28T03:28:49.812Z"
   },
   {
    "duration": 69,
    "start_time": "2022-01-28T03:42:32.810Z"
   },
   {
    "duration": 3,
    "start_time": "2022-01-28T03:42:32.881Z"
   },
   {
    "duration": 29,
    "start_time": "2022-01-28T03:42:32.886Z"
   },
   {
    "duration": 36,
    "start_time": "2022-01-28T03:42:32.917Z"
   },
   {
    "duration": 6,
    "start_time": "2022-01-28T03:42:32.955Z"
   },
   {
    "duration": 19,
    "start_time": "2022-01-28T03:42:32.963Z"
   },
   {
    "duration": 21,
    "start_time": "2022-01-28T03:42:32.984Z"
   },
   {
    "duration": 23,
    "start_time": "2022-01-28T03:42:33.008Z"
   },
   {
    "duration": 40,
    "start_time": "2022-01-28T03:42:33.034Z"
   },
   {
    "duration": 33,
    "start_time": "2022-01-28T03:42:33.076Z"
   },
   {
    "duration": 103,
    "start_time": "2022-01-28T03:42:33.111Z"
   },
   {
    "duration": 14,
    "start_time": "2022-01-28T03:42:33.215Z"
   },
   {
    "duration": 33,
    "start_time": "2022-01-28T03:42:33.231Z"
   },
   {
    "duration": 50,
    "start_time": "2022-01-28T03:42:33.266Z"
   },
   {
    "duration": 41,
    "start_time": "2022-01-28T03:42:33.318Z"
   },
   {
    "duration": 27,
    "start_time": "2022-01-28T03:42:33.361Z"
   },
   {
    "duration": 37,
    "start_time": "2022-01-28T03:42:33.389Z"
   },
   {
    "duration": 20,
    "start_time": "2022-01-28T03:42:33.428Z"
   },
   {
    "duration": 28,
    "start_time": "2022-01-28T03:42:33.450Z"
   },
   {
    "duration": 24,
    "start_time": "2022-01-28T03:42:33.480Z"
   },
   {
    "duration": 19,
    "start_time": "2022-01-28T03:42:33.506Z"
   },
   {
    "duration": 64,
    "start_time": "2022-01-28T03:42:33.527Z"
   },
   {
    "duration": 9,
    "start_time": "2022-01-28T03:42:33.595Z"
   },
   {
    "duration": 29,
    "start_time": "2022-01-28T03:42:33.606Z"
   },
   {
    "duration": 26,
    "start_time": "2022-01-28T03:42:33.637Z"
   },
   {
    "duration": 23,
    "start_time": "2022-01-28T03:42:33.665Z"
   },
   {
    "duration": 28,
    "start_time": "2022-01-28T03:42:33.689Z"
   },
   {
    "duration": 33,
    "start_time": "2022-01-28T03:42:33.719Z"
   },
   {
    "duration": 25,
    "start_time": "2022-01-28T03:42:33.753Z"
   },
   {
    "duration": 39,
    "start_time": "2022-01-28T03:42:33.780Z"
   },
   {
    "duration": 30,
    "start_time": "2022-01-28T03:42:33.820Z"
   },
   {
    "duration": 22,
    "start_time": "2022-01-28T03:42:33.851Z"
   },
   {
    "duration": 54,
    "start_time": "2022-01-28T03:42:33.874Z"
   },
   {
    "duration": 25,
    "start_time": "2022-01-28T03:42:33.930Z"
   },
   {
    "duration": 25,
    "start_time": "2022-01-28T03:42:33.957Z"
   },
   {
    "duration": 33,
    "start_time": "2022-01-28T03:42:33.984Z"
   },
   {
    "duration": 13,
    "start_time": "2022-01-28T03:42:34.018Z"
   },
   {
    "duration": 37,
    "start_time": "2022-01-28T03:42:34.033Z"
   },
   {
    "duration": 27,
    "start_time": "2022-01-28T03:42:34.072Z"
   },
   {
    "duration": 31,
    "start_time": "2022-01-28T03:42:34.100Z"
   },
   {
    "duration": 54,
    "start_time": "2022-01-28T03:42:34.133Z"
   },
   {
    "duration": 35,
    "start_time": "2022-01-28T03:42:34.188Z"
   },
   {
    "duration": 34,
    "start_time": "2022-01-28T03:42:34.225Z"
   },
   {
    "duration": 27,
    "start_time": "2022-01-28T03:42:34.261Z"
   },
   {
    "duration": 3,
    "start_time": "2022-01-28T03:42:34.290Z"
   },
   {
    "duration": 37,
    "start_time": "2022-01-28T03:42:34.294Z"
   },
   {
    "duration": 13,
    "start_time": "2022-01-28T03:42:34.333Z"
   },
   {
    "duration": 18,
    "start_time": "2022-01-28T03:42:34.348Z"
   },
   {
    "duration": 39,
    "start_time": "2022-01-28T03:42:34.368Z"
   },
   {
    "duration": 36,
    "start_time": "2022-01-28T03:42:34.409Z"
   },
   {
    "duration": 19,
    "start_time": "2022-01-28T03:42:34.447Z"
   },
   {
    "duration": 34,
    "start_time": "2022-01-28T03:42:34.467Z"
   },
   {
    "duration": 33,
    "start_time": "2022-01-28T03:42:34.503Z"
   },
   {
    "duration": 29,
    "start_time": "2022-01-28T03:42:34.537Z"
   },
   {
    "duration": 40,
    "start_time": "2022-01-28T03:42:34.567Z"
   },
   {
    "duration": 32,
    "start_time": "2022-01-28T03:42:34.609Z"
   },
   {
    "duration": 27,
    "start_time": "2022-01-28T03:42:34.643Z"
   },
   {
    "duration": 36,
    "start_time": "2022-01-28T03:42:34.672Z"
   },
   {
    "duration": 283,
    "start_time": "2022-01-28T03:42:34.710Z"
   },
   {
    "duration": 79663,
    "start_time": "2022-01-28T03:41:15.332Z"
   },
   {
    "duration": 79661,
    "start_time": "2022-01-28T03:41:15.335Z"
   },
   {
    "duration": 79659,
    "start_time": "2022-01-28T03:41:15.338Z"
   },
   {
    "duration": 79654,
    "start_time": "2022-01-28T03:41:15.344Z"
   },
   {
    "duration": 79653,
    "start_time": "2022-01-28T03:41:15.347Z"
   },
   {
    "duration": 79642,
    "start_time": "2022-01-28T03:41:15.359Z"
   },
   {
    "duration": 79639,
    "start_time": "2022-01-28T03:41:15.363Z"
   },
   {
    "duration": 11,
    "start_time": "2022-01-28T03:43:01.278Z"
   },
   {
    "duration": 267,
    "start_time": "2022-01-28T03:43:31.296Z"
   },
   {
    "duration": 6025,
    "start_time": "2022-01-28T03:44:08.461Z"
   },
   {
    "duration": 11,
    "start_time": "2022-01-28T03:44:24.872Z"
   },
   {
    "duration": 65,
    "start_time": "2022-01-28T03:45:04.725Z"
   },
   {
    "duration": 3,
    "start_time": "2022-01-28T03:45:04.792Z"
   },
   {
    "duration": 16,
    "start_time": "2022-01-28T03:45:04.797Z"
   },
   {
    "duration": 12,
    "start_time": "2022-01-28T03:45:04.815Z"
   },
   {
    "duration": 6,
    "start_time": "2022-01-28T03:45:04.828Z"
   },
   {
    "duration": 6,
    "start_time": "2022-01-28T03:45:04.860Z"
   },
   {
    "duration": 4,
    "start_time": "2022-01-28T03:45:04.868Z"
   },
   {
    "duration": 7,
    "start_time": "2022-01-28T03:45:04.874Z"
   },
   {
    "duration": 14,
    "start_time": "2022-01-28T03:45:04.883Z"
   },
   {
    "duration": 10,
    "start_time": "2022-01-28T03:45:04.899Z"
   },
   {
    "duration": 102,
    "start_time": "2022-01-28T03:45:04.911Z"
   },
   {
    "duration": 14,
    "start_time": "2022-01-28T03:45:05.015Z"
   },
   {
    "duration": 45,
    "start_time": "2022-01-28T03:45:05.031Z"
   },
   {
    "duration": 38,
    "start_time": "2022-01-28T03:45:05.077Z"
   },
   {
    "duration": 25,
    "start_time": "2022-01-28T03:45:05.117Z"
   },
   {
    "duration": 36,
    "start_time": "2022-01-28T03:45:05.143Z"
   },
   {
    "duration": 29,
    "start_time": "2022-01-28T03:45:05.181Z"
   },
   {
    "duration": 25,
    "start_time": "2022-01-28T03:45:05.212Z"
   },
   {
    "duration": 33,
    "start_time": "2022-01-28T03:45:05.239Z"
   },
   {
    "duration": 28,
    "start_time": "2022-01-28T03:45:05.274Z"
   },
   {
    "duration": 34,
    "start_time": "2022-01-28T03:45:05.304Z"
   },
   {
    "duration": 54,
    "start_time": "2022-01-28T03:45:05.340Z"
   },
   {
    "duration": 22,
    "start_time": "2022-01-28T03:45:05.396Z"
   },
   {
    "duration": 33,
    "start_time": "2022-01-28T03:45:05.420Z"
   },
   {
    "duration": 29,
    "start_time": "2022-01-28T03:45:05.455Z"
   },
   {
    "duration": 16,
    "start_time": "2022-01-28T03:45:05.485Z"
   },
   {
    "duration": 23,
    "start_time": "2022-01-28T03:45:05.506Z"
   },
   {
    "duration": 22,
    "start_time": "2022-01-28T03:45:05.532Z"
   },
   {
    "duration": 20,
    "start_time": "2022-01-28T03:45:05.556Z"
   },
   {
    "duration": 27,
    "start_time": "2022-01-28T03:45:05.578Z"
   },
   {
    "duration": 12,
    "start_time": "2022-01-28T03:45:05.607Z"
   },
   {
    "duration": 34,
    "start_time": "2022-01-28T03:45:05.621Z"
   },
   {
    "duration": 45,
    "start_time": "2022-01-28T03:45:05.657Z"
   },
   {
    "duration": 17,
    "start_time": "2022-01-28T03:45:05.704Z"
   },
   {
    "duration": 24,
    "start_time": "2022-01-28T03:45:05.723Z"
   },
   {
    "duration": 27,
    "start_time": "2022-01-28T03:45:05.749Z"
   },
   {
    "duration": 10,
    "start_time": "2022-01-28T03:45:05.778Z"
   },
   {
    "duration": 17,
    "start_time": "2022-01-28T03:45:05.789Z"
   },
   {
    "duration": 21,
    "start_time": "2022-01-28T03:45:05.807Z"
   },
   {
    "duration": 34,
    "start_time": "2022-01-28T03:45:05.829Z"
   },
   {
    "duration": 19,
    "start_time": "2022-01-28T03:45:05.864Z"
   },
   {
    "duration": 37,
    "start_time": "2022-01-28T03:45:05.885Z"
   },
   {
    "duration": 51,
    "start_time": "2022-01-28T03:45:05.923Z"
   },
   {
    "duration": 24,
    "start_time": "2022-01-28T03:45:05.976Z"
   },
   {
    "duration": 3,
    "start_time": "2022-01-28T03:45:06.002Z"
   },
   {
    "duration": 57,
    "start_time": "2022-01-28T03:45:06.007Z"
   },
   {
    "duration": 9,
    "start_time": "2022-01-28T03:45:06.066Z"
   },
   {
    "duration": 28,
    "start_time": "2022-01-28T03:45:06.076Z"
   },
   {
    "duration": 25,
    "start_time": "2022-01-28T03:45:06.106Z"
   },
   {
    "duration": 33,
    "start_time": "2022-01-28T03:45:06.133Z"
   },
   {
    "duration": 37,
    "start_time": "2022-01-28T03:45:06.168Z"
   },
   {
    "duration": 27,
    "start_time": "2022-01-28T03:45:06.207Z"
   },
   {
    "duration": 33,
    "start_time": "2022-01-28T03:45:06.236Z"
   },
   {
    "duration": 33,
    "start_time": "2022-01-28T03:45:06.270Z"
   },
   {
    "duration": 27,
    "start_time": "2022-01-28T03:45:06.305Z"
   },
   {
    "duration": 21,
    "start_time": "2022-01-28T03:45:06.333Z"
   },
   {
    "duration": 24,
    "start_time": "2022-01-28T03:45:06.356Z"
   },
   {
    "duration": 22,
    "start_time": "2022-01-28T03:45:06.381Z"
   },
   {
    "duration": 61,
    "start_time": "2022-01-28T03:45:06.404Z"
   },
   {
    "duration": 46,
    "start_time": "2022-01-28T03:45:06.467Z"
   },
   {
    "duration": 14,
    "start_time": "2022-01-28T03:45:06.514Z"
   },
   {
    "duration": 37,
    "start_time": "2022-01-28T03:45:06.530Z"
   },
   {
    "duration": 32556,
    "start_time": "2022-01-28T03:45:06.568Z"
   },
   {
    "duration": 15,
    "start_time": "2022-01-28T03:45:39.125Z"
   },
   {
    "duration": 14,
    "start_time": "2022-01-28T03:45:39.142Z"
   },
   {
    "duration": 18,
    "start_time": "2022-01-28T03:45:39.161Z"
   },
   {
    "duration": 573,
    "start_time": "2022-01-28T03:45:39.180Z"
   },
   {
    "duration": 21,
    "start_time": "2022-01-28T03:45:39.754Z"
   },
   {
    "duration": 11,
    "start_time": "2022-01-28T03:45:39.777Z"
   },
   {
    "duration": 14,
    "start_time": "2022-01-28T03:45:39.789Z"
   },
   {
    "duration": 11,
    "start_time": "2022-01-28T03:45:39.805Z"
   },
   {
    "duration": 1143,
    "start_time": "2022-01-28T03:51:08.861Z"
   },
   {
    "duration": 1121,
    "start_time": "2022-01-28T03:51:37.508Z"
   },
   {
    "duration": 14,
    "start_time": "2022-01-28T03:52:19.673Z"
   },
   {
    "duration": 15,
    "start_time": "2022-01-28T03:57:26.703Z"
   },
   {
    "duration": 14,
    "start_time": "2022-01-28T03:57:42.528Z"
   },
   {
    "duration": 15,
    "start_time": "2022-01-28T03:57:49.753Z"
   },
   {
    "duration": 779,
    "start_time": "2022-01-28T04:01:05.965Z"
   },
   {
    "duration": 14,
    "start_time": "2022-01-28T04:02:01.305Z"
   },
   {
    "duration": 94,
    "start_time": "2022-01-28T04:20:13.036Z"
   },
   {
    "duration": 16,
    "start_time": "2022-01-28T04:20:21.403Z"
   },
   {
    "duration": 17,
    "start_time": "2022-01-28T04:33:04.874Z"
   },
   {
    "duration": 13,
    "start_time": "2022-01-28T05:02:31.825Z"
   },
   {
    "duration": 13,
    "start_time": "2022-01-28T05:23:10.412Z"
   },
   {
    "duration": 4,
    "start_time": "2022-01-28T05:23:47.340Z"
   },
   {
    "duration": 595,
    "start_time": "2022-01-28T05:23:48.135Z"
   },
   {
    "duration": 68,
    "start_time": "2022-01-28T05:24:10.915Z"
   },
   {
    "duration": 4,
    "start_time": "2022-01-28T05:24:10.986Z"
   },
   {
    "duration": 24,
    "start_time": "2022-01-28T05:24:10.993Z"
   },
   {
    "duration": 42,
    "start_time": "2022-01-28T05:24:11.019Z"
   },
   {
    "duration": 9,
    "start_time": "2022-01-28T05:24:11.064Z"
   },
   {
    "duration": 8,
    "start_time": "2022-01-28T05:24:11.076Z"
   },
   {
    "duration": 6,
    "start_time": "2022-01-28T05:24:11.087Z"
   },
   {
    "duration": 10,
    "start_time": "2022-01-28T05:24:11.097Z"
   },
   {
    "duration": 64,
    "start_time": "2022-01-28T05:24:11.110Z"
   },
   {
    "duration": 18,
    "start_time": "2022-01-28T05:24:11.177Z"
   },
   {
    "duration": 124,
    "start_time": "2022-01-28T05:24:11.197Z"
   },
   {
    "duration": 16,
    "start_time": "2022-01-28T05:24:11.323Z"
   },
   {
    "duration": 10,
    "start_time": "2022-01-28T05:24:11.361Z"
   },
   {
    "duration": 22,
    "start_time": "2022-01-28T05:24:11.373Z"
   },
   {
    "duration": 5,
    "start_time": "2022-01-28T05:24:11.397Z"
   },
   {
    "duration": 9,
    "start_time": "2022-01-28T05:24:11.403Z"
   },
   {
    "duration": 5,
    "start_time": "2022-01-28T05:24:11.414Z"
   },
   {
    "duration": 10,
    "start_time": "2022-01-28T05:24:11.420Z"
   },
   {
    "duration": 34,
    "start_time": "2022-01-28T05:24:11.432Z"
   },
   {
    "duration": 7,
    "start_time": "2022-01-28T05:24:11.468Z"
   },
   {
    "duration": 11,
    "start_time": "2022-01-28T05:24:11.477Z"
   },
   {
    "duration": 37,
    "start_time": "2022-01-28T05:24:11.490Z"
   },
   {
    "duration": 30,
    "start_time": "2022-01-28T05:24:11.531Z"
   },
   {
    "duration": 10,
    "start_time": "2022-01-28T05:24:11.563Z"
   },
   {
    "duration": 7,
    "start_time": "2022-01-28T05:24:11.575Z"
   },
   {
    "duration": 8,
    "start_time": "2022-01-28T05:24:11.584Z"
   },
   {
    "duration": 10,
    "start_time": "2022-01-28T05:24:11.594Z"
   },
   {
    "duration": 15,
    "start_time": "2022-01-28T05:24:11.605Z"
   },
   {
    "duration": 13,
    "start_time": "2022-01-28T05:24:11.622Z"
   },
   {
    "duration": 26,
    "start_time": "2022-01-28T05:24:11.637Z"
   },
   {
    "duration": 16,
    "start_time": "2022-01-28T05:24:11.665Z"
   },
   {
    "duration": 11,
    "start_time": "2022-01-28T05:24:11.683Z"
   },
   {
    "duration": 29,
    "start_time": "2022-01-28T05:24:11.696Z"
   },
   {
    "duration": 16,
    "start_time": "2022-01-28T05:24:11.727Z"
   },
   {
    "duration": 16,
    "start_time": "2022-01-28T05:24:11.761Z"
   },
   {
    "duration": 18,
    "start_time": "2022-01-28T05:24:11.779Z"
   },
   {
    "duration": 2,
    "start_time": "2022-01-28T05:24:11.799Z"
   },
   {
    "duration": 6,
    "start_time": "2022-01-28T05:24:11.803Z"
   },
   {
    "duration": 8,
    "start_time": "2022-01-28T05:24:11.811Z"
   },
   {
    "duration": 41,
    "start_time": "2022-01-28T05:24:11.820Z"
   },
   {
    "duration": 10,
    "start_time": "2022-01-28T05:24:11.863Z"
   },
   {
    "duration": 22,
    "start_time": "2022-01-28T05:24:11.875Z"
   },
   {
    "duration": 31,
    "start_time": "2022-01-28T05:24:11.899Z"
   },
   {
    "duration": 57,
    "start_time": "2022-01-28T05:24:11.932Z"
   },
   {
    "duration": 3,
    "start_time": "2022-01-28T05:24:11.991Z"
   },
   {
    "duration": 27,
    "start_time": "2022-01-28T05:24:11.996Z"
   },
   {
    "duration": 12,
    "start_time": "2022-01-28T05:24:12.025Z"
   },
   {
    "duration": 13,
    "start_time": "2022-01-28T05:24:12.061Z"
   },
   {
    "duration": 13,
    "start_time": "2022-01-28T05:24:12.075Z"
   },
   {
    "duration": 10,
    "start_time": "2022-01-28T05:24:12.090Z"
   },
   {
    "duration": 17,
    "start_time": "2022-01-28T05:24:12.102Z"
   },
   {
    "duration": 53,
    "start_time": "2022-01-28T05:24:12.121Z"
   },
   {
    "duration": 10,
    "start_time": "2022-01-28T05:24:12.176Z"
   },
   {
    "duration": 9,
    "start_time": "2022-01-28T05:24:12.188Z"
   },
   {
    "duration": 13,
    "start_time": "2022-01-28T05:24:12.198Z"
   },
   {
    "duration": 4,
    "start_time": "2022-01-28T05:24:12.213Z"
   },
   {
    "duration": 43,
    "start_time": "2022-01-28T05:24:12.219Z"
   },
   {
    "duration": 6,
    "start_time": "2022-01-28T05:24:12.265Z"
   },
   {
    "duration": 15,
    "start_time": "2022-01-28T05:24:12.272Z"
   },
   {
    "duration": 31,
    "start_time": "2022-01-28T05:24:12.289Z"
   },
   {
    "duration": 4,
    "start_time": "2022-01-28T05:24:12.322Z"
   },
   {
    "duration": 40,
    "start_time": "2022-01-28T05:24:12.328Z"
   },
   {
    "duration": 33656,
    "start_time": "2022-01-28T05:24:12.370Z"
   },
   {
    "duration": 15,
    "start_time": "2022-01-28T05:24:46.028Z"
   },
   {
    "duration": 21,
    "start_time": "2022-01-28T05:24:46.045Z"
   },
   {
    "duration": 3,
    "start_time": "2022-01-28T05:25:55.775Z"
   },
   {
    "duration": 18,
    "start_time": "2022-01-28T05:25:58.101Z"
   },
   {
    "duration": 79339,
    "start_time": "2022-01-28T05:25:51.139Z"
   },
   {
    "duration": 79338,
    "start_time": "2022-01-28T05:25:51.142Z"
   },
   {
    "duration": 79334,
    "start_time": "2022-01-28T05:25:51.146Z"
   },
   {
    "duration": 79333,
    "start_time": "2022-01-28T05:25:51.148Z"
   },
   {
    "duration": 79330,
    "start_time": "2022-01-28T05:25:51.152Z"
   },
   {
    "duration": 79327,
    "start_time": "2022-01-28T05:25:51.156Z"
   },
   {
    "duration": 79325,
    "start_time": "2022-01-28T05:25:51.159Z"
   },
   {
    "duration": 79322,
    "start_time": "2022-01-28T05:25:51.163Z"
   },
   {
    "duration": 79320,
    "start_time": "2022-01-28T05:25:51.166Z"
   },
   {
    "duration": 79317,
    "start_time": "2022-01-28T05:25:51.170Z"
   },
   {
    "duration": 79315,
    "start_time": "2022-01-28T05:25:51.173Z"
   },
   {
    "duration": 79312,
    "start_time": "2022-01-28T05:25:51.177Z"
   },
   {
    "duration": 79309,
    "start_time": "2022-01-28T05:25:51.180Z"
   },
   {
    "duration": 79305,
    "start_time": "2022-01-28T05:25:51.185Z"
   },
   {
    "duration": 79302,
    "start_time": "2022-01-28T05:25:51.189Z"
   },
   {
    "duration": 79300,
    "start_time": "2022-01-28T05:25:51.192Z"
   },
   {
    "duration": 79298,
    "start_time": "2022-01-28T05:25:51.195Z"
   },
   {
    "duration": 79297,
    "start_time": "2022-01-28T05:25:51.197Z"
   },
   {
    "duration": 79294,
    "start_time": "2022-01-28T05:25:51.201Z"
   },
   {
    "duration": 79291,
    "start_time": "2022-01-28T05:25:51.205Z"
   },
   {
    "duration": 79289,
    "start_time": "2022-01-28T05:25:51.208Z"
   },
   {
    "duration": 79287,
    "start_time": "2022-01-28T05:25:51.211Z"
   },
   {
    "duration": 79286,
    "start_time": "2022-01-28T05:25:51.213Z"
   },
   {
    "duration": 79343,
    "start_time": "2022-01-28T05:25:51.217Z"
   },
   {
    "duration": 79340,
    "start_time": "2022-01-28T05:25:51.221Z"
   },
   {
    "duration": 79337,
    "start_time": "2022-01-28T05:25:51.225Z"
   },
   {
    "duration": 79335,
    "start_time": "2022-01-28T05:25:51.228Z"
   },
   {
    "duration": 79334,
    "start_time": "2022-01-28T05:25:51.230Z"
   },
   {
    "duration": 79331,
    "start_time": "2022-01-28T05:25:51.234Z"
   },
   {
    "duration": 79321,
    "start_time": "2022-01-28T05:25:51.245Z"
   },
   {
    "duration": 79319,
    "start_time": "2022-01-28T05:25:51.248Z"
   },
   {
    "duration": 79316,
    "start_time": "2022-01-28T05:25:51.252Z"
   },
   {
    "duration": 79314,
    "start_time": "2022-01-28T05:25:51.255Z"
   },
   {
    "duration": 79309,
    "start_time": "2022-01-28T05:25:51.260Z"
   },
   {
    "duration": 79307,
    "start_time": "2022-01-28T05:25:51.263Z"
   },
   {
    "duration": 79304,
    "start_time": "2022-01-28T05:25:51.267Z"
   },
   {
    "duration": 79300,
    "start_time": "2022-01-28T05:25:51.272Z"
   },
   {
    "duration": 79298,
    "start_time": "2022-01-28T05:25:51.275Z"
   },
   {
    "duration": 79296,
    "start_time": "2022-01-28T05:25:51.278Z"
   },
   {
    "duration": 79294,
    "start_time": "2022-01-28T05:25:51.281Z"
   },
   {
    "duration": 79290,
    "start_time": "2022-01-28T05:25:51.285Z"
   },
   {
    "duration": 79287,
    "start_time": "2022-01-28T05:25:51.289Z"
   },
   {
    "duration": 79286,
    "start_time": "2022-01-28T05:25:51.291Z"
   },
   {
    "duration": 79283,
    "start_time": "2022-01-28T05:25:51.295Z"
   },
   {
    "duration": 79280,
    "start_time": "2022-01-28T05:25:51.298Z"
   },
   {
    "duration": 79277,
    "start_time": "2022-01-28T05:25:51.302Z"
   },
   {
    "duration": 79275,
    "start_time": "2022-01-28T05:25:51.305Z"
   },
   {
    "duration": 79272,
    "start_time": "2022-01-28T05:25:51.309Z"
   },
   {
    "duration": 79271,
    "start_time": "2022-01-28T05:25:51.312Z"
   },
   {
    "duration": 79268,
    "start_time": "2022-01-28T05:25:51.315Z"
   },
   {
    "duration": 79265,
    "start_time": "2022-01-28T05:25:51.319Z"
   },
   {
    "duration": 79263,
    "start_time": "2022-01-28T05:25:51.322Z"
   },
   {
    "duration": 79261,
    "start_time": "2022-01-28T05:25:51.325Z"
   },
   {
    "duration": 79258,
    "start_time": "2022-01-28T05:25:51.329Z"
   },
   {
    "duration": 79255,
    "start_time": "2022-01-28T05:25:51.332Z"
   },
   {
    "duration": 79253,
    "start_time": "2022-01-28T05:25:51.335Z"
   },
   {
    "duration": 79251,
    "start_time": "2022-01-28T05:25:51.338Z"
   },
   {
    "duration": 79248,
    "start_time": "2022-01-28T05:25:51.342Z"
   },
   {
    "duration": 79236,
    "start_time": "2022-01-28T05:25:51.355Z"
   },
   {
    "duration": 79231,
    "start_time": "2022-01-28T05:25:51.361Z"
   },
   {
    "duration": 79229,
    "start_time": "2022-01-28T05:25:51.364Z"
   },
   {
    "duration": 79224,
    "start_time": "2022-01-28T05:25:51.369Z"
   },
   {
    "duration": 79221,
    "start_time": "2022-01-28T05:25:51.373Z"
   },
   {
    "duration": 79219,
    "start_time": "2022-01-28T05:25:51.376Z"
   },
   {
    "duration": 79217,
    "start_time": "2022-01-28T05:25:51.379Z"
   },
   {
    "duration": 79215,
    "start_time": "2022-01-28T05:25:51.382Z"
   },
   {
    "duration": 79212,
    "start_time": "2022-01-28T05:25:51.386Z"
   },
   {
    "duration": 67,
    "start_time": "2022-01-28T05:27:17.026Z"
   },
   {
    "duration": 3,
    "start_time": "2022-01-28T05:27:17.095Z"
   },
   {
    "duration": 43,
    "start_time": "2022-01-28T05:27:17.100Z"
   },
   {
    "duration": 41,
    "start_time": "2022-01-28T05:27:17.146Z"
   },
   {
    "duration": 44,
    "start_time": "2022-01-28T05:27:17.189Z"
   },
   {
    "duration": 49,
    "start_time": "2022-01-28T05:27:17.235Z"
   },
   {
    "duration": 30,
    "start_time": "2022-01-28T05:27:17.286Z"
   },
   {
    "duration": 53,
    "start_time": "2022-01-28T05:27:17.319Z"
   },
   {
    "duration": 50,
    "start_time": "2022-01-28T05:27:17.374Z"
   },
   {
    "duration": 43,
    "start_time": "2022-01-28T05:27:17.426Z"
   },
   {
    "duration": 104,
    "start_time": "2022-01-28T05:27:17.472Z"
   },
   {
    "duration": 16,
    "start_time": "2022-01-28T05:27:17.578Z"
   },
   {
    "duration": 33,
    "start_time": "2022-01-28T05:27:17.596Z"
   },
   {
    "duration": 50,
    "start_time": "2022-01-28T05:27:17.631Z"
   },
   {
    "duration": 27,
    "start_time": "2022-01-28T05:27:17.683Z"
   },
   {
    "duration": 49,
    "start_time": "2022-01-28T05:27:17.712Z"
   },
   {
    "duration": 25,
    "start_time": "2022-01-28T05:27:17.763Z"
   },
   {
    "duration": 36,
    "start_time": "2022-01-28T05:27:17.790Z"
   },
   {
    "duration": 32,
    "start_time": "2022-01-28T05:27:17.828Z"
   },
   {
    "duration": 28,
    "start_time": "2022-01-28T05:27:17.862Z"
   },
   {
    "duration": 31,
    "start_time": "2022-01-28T05:27:17.891Z"
   },
   {
    "duration": 56,
    "start_time": "2022-01-28T05:27:17.924Z"
   },
   {
    "duration": 20,
    "start_time": "2022-01-28T05:27:17.984Z"
   },
   {
    "duration": 37,
    "start_time": "2022-01-28T05:27:18.007Z"
   },
   {
    "duration": 31,
    "start_time": "2022-01-28T05:27:18.046Z"
   },
   {
    "duration": 32,
    "start_time": "2022-01-28T05:27:18.079Z"
   },
   {
    "duration": 47,
    "start_time": "2022-01-28T05:27:18.113Z"
   },
   {
    "duration": 56,
    "start_time": "2022-01-28T05:27:18.162Z"
   },
   {
    "duration": 64,
    "start_time": "2022-01-28T05:27:18.219Z"
   },
   {
    "duration": 44,
    "start_time": "2022-01-28T05:27:18.285Z"
   },
   {
    "duration": 34,
    "start_time": "2022-01-28T05:27:18.331Z"
   },
   {
    "duration": 29,
    "start_time": "2022-01-28T05:27:18.367Z"
   },
   {
    "duration": 59,
    "start_time": "2022-01-28T05:27:18.398Z"
   },
   {
    "duration": 27,
    "start_time": "2022-01-28T05:27:18.460Z"
   },
   {
    "duration": 28,
    "start_time": "2022-01-28T05:27:18.489Z"
   },
   {
    "duration": 34,
    "start_time": "2022-01-28T05:27:18.519Z"
   },
   {
    "duration": 28,
    "start_time": "2022-01-28T05:27:18.555Z"
   },
   {
    "duration": 36,
    "start_time": "2022-01-28T05:27:18.585Z"
   },
   {
    "duration": 46,
    "start_time": "2022-01-28T05:27:18.623Z"
   },
   {
    "duration": 36,
    "start_time": "2022-01-28T05:27:18.671Z"
   },
   {
    "duration": 41,
    "start_time": "2022-01-28T05:27:18.708Z"
   },
   {
    "duration": 46,
    "start_time": "2022-01-28T05:27:18.750Z"
   },
   {
    "duration": 51,
    "start_time": "2022-01-28T05:27:18.798Z"
   },
   {
    "duration": 38,
    "start_time": "2022-01-28T05:27:18.850Z"
   },
   {
    "duration": 4,
    "start_time": "2022-01-28T05:27:18.890Z"
   },
   {
    "duration": 47,
    "start_time": "2022-01-28T05:27:18.895Z"
   },
   {
    "duration": 23,
    "start_time": "2022-01-28T05:27:18.944Z"
   },
   {
    "duration": 29,
    "start_time": "2022-01-28T05:27:18.968Z"
   },
   {
    "duration": 22,
    "start_time": "2022-01-28T05:27:18.998Z"
   },
   {
    "duration": 33,
    "start_time": "2022-01-28T05:27:19.021Z"
   },
   {
    "duration": 43,
    "start_time": "2022-01-28T05:27:19.056Z"
   },
   {
    "duration": 38,
    "start_time": "2022-01-28T05:27:19.100Z"
   },
   {
    "duration": 38,
    "start_time": "2022-01-28T05:27:19.140Z"
   },
   {
    "duration": 38,
    "start_time": "2022-01-28T05:27:19.180Z"
   },
   {
    "duration": 43,
    "start_time": "2022-01-28T05:27:19.219Z"
   },
   {
    "duration": 42,
    "start_time": "2022-01-28T05:27:19.264Z"
   },
   {
    "duration": 36,
    "start_time": "2022-01-28T05:27:19.308Z"
   },
   {
    "duration": 45,
    "start_time": "2022-01-28T05:27:19.346Z"
   },
   {
    "duration": 39,
    "start_time": "2022-01-28T05:27:19.393Z"
   },
   {
    "duration": 70,
    "start_time": "2022-01-28T05:27:19.434Z"
   },
   {
    "duration": 3,
    "start_time": "2022-01-28T05:27:19.506Z"
   },
   {
    "duration": 47,
    "start_time": "2022-01-28T05:27:19.510Z"
   },
   {
    "duration": 33016,
    "start_time": "2022-01-28T05:27:19.559Z"
   },
   {
    "duration": 15,
    "start_time": "2022-01-28T05:27:52.577Z"
   },
   {
    "duration": 17,
    "start_time": "2022-01-28T05:27:52.594Z"
   },
   {
    "duration": 5,
    "start_time": "2022-01-28T05:27:52.612Z"
   },
   {
    "duration": 585,
    "start_time": "2022-01-28T05:27:52.618Z"
   },
   {
    "duration": 18,
    "start_time": "2022-01-28T05:27:53.207Z"
   },
   {
    "duration": 13,
    "start_time": "2022-01-28T05:27:53.226Z"
   },
   {
    "duration": 30,
    "start_time": "2022-01-28T05:27:53.240Z"
   },
   {
    "duration": 11,
    "start_time": "2022-01-28T05:27:53.272Z"
   },
   {
    "duration": 4,
    "start_time": "2022-01-28T05:29:32.823Z"
   },
   {
    "duration": 266,
    "start_time": "2022-01-28T05:29:33.482Z"
   },
   {
    "duration": 66,
    "start_time": "2022-01-28T05:35:17.728Z"
   },
   {
    "duration": 4,
    "start_time": "2022-01-28T05:35:17.796Z"
   },
   {
    "duration": 16,
    "start_time": "2022-01-28T05:35:17.802Z"
   },
   {
    "duration": 11,
    "start_time": "2022-01-28T05:35:17.819Z"
   },
   {
    "duration": 30,
    "start_time": "2022-01-28T05:35:17.832Z"
   },
   {
    "duration": 6,
    "start_time": "2022-01-28T05:35:17.864Z"
   },
   {
    "duration": 6,
    "start_time": "2022-01-28T05:35:17.871Z"
   },
   {
    "duration": 9,
    "start_time": "2022-01-28T05:35:17.879Z"
   },
   {
    "duration": 14,
    "start_time": "2022-01-28T05:35:17.890Z"
   },
   {
    "duration": 11,
    "start_time": "2022-01-28T05:35:17.906Z"
   },
   {
    "duration": 107,
    "start_time": "2022-01-28T05:35:17.919Z"
   },
   {
    "duration": 35,
    "start_time": "2022-01-28T05:35:18.028Z"
   },
   {
    "duration": 9,
    "start_time": "2022-01-28T05:35:18.064Z"
   },
   {
    "duration": 21,
    "start_time": "2022-01-28T05:35:18.075Z"
   },
   {
    "duration": 5,
    "start_time": "2022-01-28T05:35:18.098Z"
   },
   {
    "duration": 12,
    "start_time": "2022-01-28T05:35:18.105Z"
   },
   {
    "duration": 5,
    "start_time": "2022-01-28T05:35:18.118Z"
   },
   {
    "duration": 7,
    "start_time": "2022-01-28T05:35:18.124Z"
   },
   {
    "duration": 34,
    "start_time": "2022-01-28T05:35:18.132Z"
   },
   {
    "duration": 5,
    "start_time": "2022-01-28T05:35:18.168Z"
   },
   {
    "duration": 16,
    "start_time": "2022-01-28T05:35:18.174Z"
   },
   {
    "duration": 42,
    "start_time": "2022-01-28T05:35:18.192Z"
   },
   {
    "duration": 7,
    "start_time": "2022-01-28T05:35:18.238Z"
   },
   {
    "duration": 8,
    "start_time": "2022-01-28T05:35:18.262Z"
   },
   {
    "duration": 8,
    "start_time": "2022-01-28T05:35:18.271Z"
   },
   {
    "duration": 8,
    "start_time": "2022-01-28T05:35:18.280Z"
   },
   {
    "duration": 13,
    "start_time": "2022-01-28T05:35:18.290Z"
   },
   {
    "duration": 9,
    "start_time": "2022-01-28T05:35:18.304Z"
   },
   {
    "duration": 7,
    "start_time": "2022-01-28T05:35:18.314Z"
   },
   {
    "duration": 7,
    "start_time": "2022-01-28T05:35:18.322Z"
   },
   {
    "duration": 30,
    "start_time": "2022-01-28T05:35:18.331Z"
   },
   {
    "duration": 7,
    "start_time": "2022-01-28T05:35:18.363Z"
   },
   {
    "duration": 28,
    "start_time": "2022-01-28T05:35:18.372Z"
   },
   {
    "duration": 13,
    "start_time": "2022-01-28T05:35:18.401Z"
   },
   {
    "duration": 13,
    "start_time": "2022-01-28T05:35:18.416Z"
   },
   {
    "duration": 36,
    "start_time": "2022-01-28T05:35:18.431Z"
   },
   {
    "duration": 2,
    "start_time": "2022-01-28T05:35:18.469Z"
   },
   {
    "duration": 8,
    "start_time": "2022-01-28T05:35:18.472Z"
   },
   {
    "duration": 6,
    "start_time": "2022-01-28T05:35:18.481Z"
   },
   {
    "duration": 8,
    "start_time": "2022-01-28T05:35:18.488Z"
   },
   {
    "duration": 9,
    "start_time": "2022-01-28T05:35:18.498Z"
   },
   {
    "duration": 28,
    "start_time": "2022-01-28T05:35:18.508Z"
   },
   {
    "duration": 29,
    "start_time": "2022-01-28T05:35:18.561Z"
   },
   {
    "duration": 27,
    "start_time": "2022-01-28T05:35:18.592Z"
   },
   {
    "duration": 3,
    "start_time": "2022-01-28T05:35:18.620Z"
   },
   {
    "duration": 45,
    "start_time": "2022-01-28T05:35:18.625Z"
   },
   {
    "duration": 9,
    "start_time": "2022-01-28T05:35:18.672Z"
   },
   {
    "duration": 14,
    "start_time": "2022-01-28T05:35:18.683Z"
   },
   {
    "duration": 11,
    "start_time": "2022-01-28T05:35:18.698Z"
   },
   {
    "duration": 10,
    "start_time": "2022-01-28T05:35:18.710Z"
   },
   {
    "duration": 50,
    "start_time": "2022-01-28T05:35:18.722Z"
   },
   {
    "duration": 17,
    "start_time": "2022-01-28T05:35:18.773Z"
   },
   {
    "duration": 8,
    "start_time": "2022-01-28T05:35:18.791Z"
   },
   {
    "duration": 8,
    "start_time": "2022-01-28T05:35:18.801Z"
   },
   {
    "duration": 15,
    "start_time": "2022-01-28T05:35:18.810Z"
   },
   {
    "duration": 3,
    "start_time": "2022-01-28T05:35:18.827Z"
   },
   {
    "duration": 3,
    "start_time": "2022-01-28T05:35:18.860Z"
   },
   {
    "duration": 6,
    "start_time": "2022-01-28T05:35:18.864Z"
   },
   {
    "duration": 12,
    "start_time": "2022-01-28T05:35:18.871Z"
   },
   {
    "duration": 30,
    "start_time": "2022-01-28T05:35:18.885Z"
   },
   {
    "duration": 3,
    "start_time": "2022-01-28T05:35:18.916Z"
   },
   {
    "duration": 11,
    "start_time": "2022-01-28T05:35:18.921Z"
   },
   {
    "duration": 33719,
    "start_time": "2022-01-28T05:35:18.934Z"
   },
   {
    "duration": 19,
    "start_time": "2022-01-28T05:35:52.654Z"
   },
   {
    "duration": 303,
    "start_time": "2022-01-28T05:35:52.674Z"
   },
   {
    "duration": 264,
    "start_time": "2022-01-28T05:35:52.979Z"
   },
   {
    "duration": 12,
    "start_time": "2022-01-28T05:36:27.682Z"
   },
   {
    "duration": 70,
    "start_time": "2022-01-28T05:42:41.601Z"
   },
   {
    "duration": 4,
    "start_time": "2022-01-28T05:42:41.673Z"
   },
   {
    "duration": 15,
    "start_time": "2022-01-28T05:42:41.680Z"
   },
   {
    "duration": 11,
    "start_time": "2022-01-28T05:42:41.698Z"
   },
   {
    "duration": 7,
    "start_time": "2022-01-28T05:42:41.712Z"
   },
   {
    "duration": 48,
    "start_time": "2022-01-28T05:42:41.721Z"
   },
   {
    "duration": 7,
    "start_time": "2022-01-28T05:42:41.772Z"
   },
   {
    "duration": 8,
    "start_time": "2022-01-28T05:42:41.782Z"
   },
   {
    "duration": 15,
    "start_time": "2022-01-28T05:42:41.792Z"
   },
   {
    "duration": 56,
    "start_time": "2022-01-28T05:42:41.809Z"
   },
   {
    "duration": 69,
    "start_time": "2022-01-28T05:42:41.867Z"
   },
   {
    "duration": 16,
    "start_time": "2022-01-28T05:42:41.960Z"
   },
   {
    "duration": 12,
    "start_time": "2022-01-28T05:42:41.977Z"
   },
   {
    "duration": 21,
    "start_time": "2022-01-28T05:42:41.991Z"
   },
   {
    "duration": 5,
    "start_time": "2022-01-28T05:42:42.013Z"
   },
   {
    "duration": 10,
    "start_time": "2022-01-28T05:42:42.020Z"
   },
   {
    "duration": 29,
    "start_time": "2022-01-28T05:42:42.031Z"
   },
   {
    "duration": 6,
    "start_time": "2022-01-28T05:42:42.062Z"
   },
   {
    "duration": 9,
    "start_time": "2022-01-28T05:42:42.069Z"
   },
   {
    "duration": 6,
    "start_time": "2022-01-28T05:42:42.080Z"
   },
   {
    "duration": 10,
    "start_time": "2022-01-28T05:42:42.088Z"
   },
   {
    "duration": 43,
    "start_time": "2022-01-28T05:42:42.100Z"
   },
   {
    "duration": 21,
    "start_time": "2022-01-28T05:42:42.147Z"
   },
   {
    "duration": 23,
    "start_time": "2022-01-28T05:42:42.170Z"
   },
   {
    "duration": 23,
    "start_time": "2022-01-28T05:42:42.195Z"
   },
   {
    "duration": 13,
    "start_time": "2022-01-28T05:42:42.220Z"
   },
   {
    "duration": 30,
    "start_time": "2022-01-28T05:42:42.234Z"
   },
   {
    "duration": 34,
    "start_time": "2022-01-28T05:42:42.266Z"
   },
   {
    "duration": 23,
    "start_time": "2022-01-28T05:42:42.301Z"
   },
   {
    "duration": 53,
    "start_time": "2022-01-28T05:42:42.325Z"
   },
   {
    "duration": 23,
    "start_time": "2022-01-28T05:42:42.380Z"
   },
   {
    "duration": 19,
    "start_time": "2022-01-28T05:42:42.405Z"
   },
   {
    "duration": 42,
    "start_time": "2022-01-28T05:42:42.426Z"
   },
   {
    "duration": 14,
    "start_time": "2022-01-28T05:42:42.469Z"
   },
   {
    "duration": 12,
    "start_time": "2022-01-28T05:42:42.484Z"
   },
   {
    "duration": 36,
    "start_time": "2022-01-28T05:42:42.498Z"
   },
   {
    "duration": 21,
    "start_time": "2022-01-28T05:42:42.536Z"
   },
   {
    "duration": 37,
    "start_time": "2022-01-28T05:42:42.559Z"
   },
   {
    "duration": 43,
    "start_time": "2022-01-28T05:42:42.597Z"
   },
   {
    "duration": 40,
    "start_time": "2022-01-28T05:42:42.642Z"
   },
   {
    "duration": 33,
    "start_time": "2022-01-28T05:42:42.684Z"
   },
   {
    "duration": 40,
    "start_time": "2022-01-28T05:42:42.719Z"
   },
   {
    "duration": 49,
    "start_time": "2022-01-28T05:42:42.760Z"
   },
   {
    "duration": 32,
    "start_time": "2022-01-28T05:42:42.811Z"
   },
   {
    "duration": 27,
    "start_time": "2022-01-28T05:42:42.845Z"
   },
   {
    "duration": 57,
    "start_time": "2022-01-28T05:42:42.874Z"
   },
   {
    "duration": 42,
    "start_time": "2022-01-28T05:42:42.933Z"
   },
   {
    "duration": 31,
    "start_time": "2022-01-28T05:42:42.977Z"
   },
   {
    "duration": 38,
    "start_time": "2022-01-28T05:42:43.010Z"
   },
   {
    "duration": 30,
    "start_time": "2022-01-28T05:42:43.050Z"
   },
   {
    "duration": 37,
    "start_time": "2022-01-28T05:42:43.082Z"
   },
   {
    "duration": 22,
    "start_time": "2022-01-28T05:42:43.121Z"
   },
   {
    "duration": 23,
    "start_time": "2022-01-28T05:42:43.145Z"
   },
   {
    "duration": 18,
    "start_time": "2022-01-28T05:42:43.170Z"
   },
   {
    "duration": 32,
    "start_time": "2022-01-28T05:42:43.189Z"
   },
   {
    "duration": 22,
    "start_time": "2022-01-28T05:42:43.223Z"
   },
   {
    "duration": 19,
    "start_time": "2022-01-28T05:42:43.247Z"
   },
   {
    "duration": 37,
    "start_time": "2022-01-28T05:42:43.267Z"
   },
   {
    "duration": 31,
    "start_time": "2022-01-28T05:42:43.306Z"
   },
   {
    "duration": 67,
    "start_time": "2022-01-28T05:42:43.339Z"
   },
   {
    "duration": 3,
    "start_time": "2022-01-28T05:42:43.407Z"
   },
   {
    "duration": 27,
    "start_time": "2022-01-28T05:42:43.412Z"
   },
   {
    "duration": 33138,
    "start_time": "2022-01-28T05:42:43.440Z"
   },
   {
    "duration": 16,
    "start_time": "2022-01-28T05:43:16.580Z"
   },
   {
    "duration": 8,
    "start_time": "2022-01-28T05:43:16.598Z"
   },
   {
    "duration": 13,
    "start_time": "2022-01-28T05:43:16.608Z"
   },
   {
    "duration": 3,
    "start_time": "2022-01-28T05:43:16.623Z"
   },
   {
    "duration": 5,
    "start_time": "2022-01-28T05:43:16.660Z"
   },
   {
    "duration": 1680,
    "start_time": "2022-01-28T05:43:16.667Z"
   },
   {
    "duration": 27,
    "start_time": "2022-01-28T05:43:18.349Z"
   },
   {
    "duration": 13,
    "start_time": "2022-01-28T05:43:18.377Z"
   },
   {
    "duration": 13,
    "start_time": "2022-01-28T05:43:18.392Z"
   },
   {
    "duration": 15,
    "start_time": "2022-01-28T05:43:29.931Z"
   },
   {
    "duration": 67,
    "start_time": "2022-01-28T07:26:30.792Z"
   },
   {
    "duration": 3,
    "start_time": "2022-01-28T07:26:30.861Z"
   },
   {
    "duration": 25,
    "start_time": "2022-01-28T07:26:30.866Z"
   },
   {
    "duration": 33,
    "start_time": "2022-01-28T07:26:30.894Z"
   },
   {
    "duration": 13,
    "start_time": "2022-01-28T07:26:30.929Z"
   },
   {
    "duration": 23,
    "start_time": "2022-01-28T07:26:30.945Z"
   },
   {
    "duration": 12,
    "start_time": "2022-01-28T07:26:30.969Z"
   },
   {
    "duration": 11,
    "start_time": "2022-01-28T07:26:30.983Z"
   },
   {
    "duration": 27,
    "start_time": "2022-01-28T07:26:30.996Z"
   },
   {
    "duration": 40,
    "start_time": "2022-01-28T07:26:31.025Z"
   },
   {
    "duration": 112,
    "start_time": "2022-01-28T07:26:31.066Z"
   },
   {
    "duration": 16,
    "start_time": "2022-01-28T07:26:31.180Z"
   },
   {
    "duration": 37,
    "start_time": "2022-01-28T07:26:31.198Z"
   },
   {
    "duration": 39,
    "start_time": "2022-01-28T07:26:31.237Z"
   },
   {
    "duration": 22,
    "start_time": "2022-01-28T07:26:31.278Z"
   },
   {
    "duration": 21,
    "start_time": "2022-01-28T07:26:31.302Z"
   },
   {
    "duration": 23,
    "start_time": "2022-01-28T07:26:31.325Z"
   },
   {
    "duration": 41,
    "start_time": "2022-01-28T07:26:31.350Z"
   },
   {
    "duration": 24,
    "start_time": "2022-01-28T07:26:31.393Z"
   },
   {
    "duration": 23,
    "start_time": "2022-01-28T07:26:31.419Z"
   },
   {
    "duration": 29,
    "start_time": "2022-01-28T07:26:31.444Z"
   },
   {
    "duration": 70,
    "start_time": "2022-01-28T07:26:31.474Z"
   },
   {
    "duration": 7,
    "start_time": "2022-01-28T07:26:31.549Z"
   },
   {
    "duration": 25,
    "start_time": "2022-01-28T07:26:31.559Z"
   },
   {
    "duration": 39,
    "start_time": "2022-01-28T07:26:31.586Z"
   },
   {
    "duration": 43,
    "start_time": "2022-01-28T07:26:31.628Z"
   },
   {
    "duration": 27,
    "start_time": "2022-01-28T07:26:31.674Z"
   },
   {
    "duration": 24,
    "start_time": "2022-01-28T07:26:31.703Z"
   },
   {
    "duration": 30,
    "start_time": "2022-01-28T07:26:31.729Z"
   },
   {
    "duration": 32,
    "start_time": "2022-01-28T07:26:31.762Z"
   },
   {
    "duration": 47,
    "start_time": "2022-01-28T07:26:31.796Z"
   },
   {
    "duration": 16,
    "start_time": "2022-01-28T07:26:31.845Z"
   },
   {
    "duration": 51,
    "start_time": "2022-01-28T07:26:31.863Z"
   },
   {
    "duration": 13,
    "start_time": "2022-01-28T07:26:31.916Z"
   },
   {
    "duration": 31,
    "start_time": "2022-01-28T07:26:31.931Z"
   },
   {
    "duration": 40,
    "start_time": "2022-01-28T07:26:31.964Z"
   },
   {
    "duration": 8,
    "start_time": "2022-01-28T07:26:32.005Z"
   },
   {
    "duration": 40,
    "start_time": "2022-01-28T07:26:32.014Z"
   },
   {
    "duration": 34,
    "start_time": "2022-01-28T07:26:32.055Z"
   },
   {
    "duration": 52,
    "start_time": "2022-01-28T07:26:32.091Z"
   },
   {
    "duration": 43,
    "start_time": "2022-01-28T07:26:32.145Z"
   },
   {
    "duration": 36,
    "start_time": "2022-01-28T07:26:32.190Z"
   },
   {
    "duration": 50,
    "start_time": "2022-01-28T07:26:32.228Z"
   },
   {
    "duration": 51,
    "start_time": "2022-01-28T07:26:32.279Z"
   },
   {
    "duration": 2,
    "start_time": "2022-01-28T07:26:32.332Z"
   },
   {
    "duration": 55,
    "start_time": "2022-01-28T07:26:32.336Z"
   },
   {
    "duration": 10,
    "start_time": "2022-01-28T07:26:32.393Z"
   },
   {
    "duration": 41,
    "start_time": "2022-01-28T07:26:32.405Z"
   },
   {
    "duration": 34,
    "start_time": "2022-01-28T07:26:32.448Z"
   },
   {
    "duration": 27,
    "start_time": "2022-01-28T07:26:32.484Z"
   },
   {
    "duration": 28,
    "start_time": "2022-01-28T07:26:32.513Z"
   },
   {
    "duration": 18,
    "start_time": "2022-01-28T07:26:32.542Z"
   },
   {
    "duration": 35,
    "start_time": "2022-01-28T07:26:32.561Z"
   },
   {
    "duration": 26,
    "start_time": "2022-01-28T07:26:32.598Z"
   },
   {
    "duration": 23,
    "start_time": "2022-01-28T07:26:32.626Z"
   },
   {
    "duration": 21,
    "start_time": "2022-01-28T07:26:32.651Z"
   },
   {
    "duration": 27,
    "start_time": "2022-01-28T07:26:32.674Z"
   },
   {
    "duration": 19,
    "start_time": "2022-01-28T07:26:32.703Z"
   },
   {
    "duration": 34,
    "start_time": "2022-01-28T07:26:32.724Z"
   },
   {
    "duration": 54,
    "start_time": "2022-01-28T07:26:32.760Z"
   },
   {
    "duration": 4,
    "start_time": "2022-01-28T07:26:32.816Z"
   },
   {
    "duration": 33,
    "start_time": "2022-01-28T07:26:32.821Z"
   },
   {
    "duration": 36045,
    "start_time": "2022-01-28T07:26:32.856Z"
   },
   {
    "duration": 16,
    "start_time": "2022-01-28T07:27:08.903Z"
   },
   {
    "duration": 222,
    "start_time": "2022-01-28T07:27:08.921Z"
   },
   {
    "duration": 19,
    "start_time": "2022-01-28T07:27:09.144Z"
   },
   {
    "duration": 13,
    "start_time": "2022-01-28T07:27:09.165Z"
   },
   {
    "duration": 23,
    "start_time": "2022-01-28T07:27:09.183Z"
   },
   {
    "duration": 1709,
    "start_time": "2022-01-28T07:27:09.208Z"
   },
   {
    "duration": 19,
    "start_time": "2022-01-28T07:27:10.919Z"
   },
   {
    "duration": 38,
    "start_time": "2022-01-28T07:27:10.941Z"
   },
   {
    "duration": 27,
    "start_time": "2022-01-28T07:27:10.981Z"
   },
   {
    "duration": 28,
    "start_time": "2022-01-28T07:27:11.010Z"
   },
   {
    "duration": 70,
    "start_time": "2022-01-28T08:35:07.505Z"
   },
   {
    "duration": 4,
    "start_time": "2022-01-28T08:35:07.577Z"
   },
   {
    "duration": 24,
    "start_time": "2022-01-28T08:35:07.583Z"
   },
   {
    "duration": 22,
    "start_time": "2022-01-28T08:35:07.609Z"
   },
   {
    "duration": 33,
    "start_time": "2022-01-28T08:35:07.633Z"
   },
   {
    "duration": 36,
    "start_time": "2022-01-28T08:35:07.668Z"
   },
   {
    "duration": 31,
    "start_time": "2022-01-28T08:35:07.706Z"
   },
   {
    "duration": 13,
    "start_time": "2022-01-28T08:35:07.739Z"
   },
   {
    "duration": 21,
    "start_time": "2022-01-28T08:35:07.754Z"
   },
   {
    "duration": 12,
    "start_time": "2022-01-28T08:35:07.776Z"
   },
   {
    "duration": 81,
    "start_time": "2022-01-28T08:35:07.790Z"
   },
   {
    "duration": 14,
    "start_time": "2022-01-28T08:35:07.873Z"
   },
   {
    "duration": 11,
    "start_time": "2022-01-28T08:35:07.889Z"
   },
   {
    "duration": 20,
    "start_time": "2022-01-28T08:35:07.902Z"
   },
   {
    "duration": 8,
    "start_time": "2022-01-28T08:35:07.923Z"
   },
   {
    "duration": 32,
    "start_time": "2022-01-28T08:35:07.932Z"
   },
   {
    "duration": 6,
    "start_time": "2022-01-28T08:35:07.966Z"
   },
   {
    "duration": 7,
    "start_time": "2022-01-28T08:35:07.973Z"
   },
   {
    "duration": 14,
    "start_time": "2022-01-28T08:35:07.982Z"
   },
   {
    "duration": 11,
    "start_time": "2022-01-28T08:35:07.997Z"
   },
   {
    "duration": 10,
    "start_time": "2022-01-28T08:35:08.010Z"
   },
   {
    "duration": 61,
    "start_time": "2022-01-28T08:35:08.022Z"
   },
   {
    "duration": 8,
    "start_time": "2022-01-28T08:35:08.088Z"
   },
   {
    "duration": 7,
    "start_time": "2022-01-28T08:35:08.100Z"
   },
   {
    "duration": 6,
    "start_time": "2022-01-28T08:35:08.109Z"
   },
   {
    "duration": 9,
    "start_time": "2022-01-28T08:35:08.117Z"
   },
   {
    "duration": 36,
    "start_time": "2022-01-28T08:35:08.128Z"
   },
   {
    "duration": 9,
    "start_time": "2022-01-28T08:35:08.166Z"
   },
   {
    "duration": 7,
    "start_time": "2022-01-28T08:35:08.177Z"
   },
   {
    "duration": 11,
    "start_time": "2022-01-28T08:35:08.186Z"
   },
   {
    "duration": 8,
    "start_time": "2022-01-28T08:35:08.198Z"
   },
   {
    "duration": 6,
    "start_time": "2022-01-28T08:35:08.208Z"
   },
   {
    "duration": 5,
    "start_time": "2022-01-28T08:35:08.216Z"
   },
   {
    "duration": 6,
    "start_time": "2022-01-28T08:35:08.222Z"
   },
   {
    "duration": 5,
    "start_time": "2022-01-28T08:35:08.230Z"
   },
   {
    "duration": 10,
    "start_time": "2022-01-28T08:35:08.260Z"
   },
   {
    "duration": 10,
    "start_time": "2022-01-28T08:35:08.272Z"
   },
   {
    "duration": 20,
    "start_time": "2022-01-28T08:35:08.284Z"
   },
   {
    "duration": 28,
    "start_time": "2022-01-28T08:35:08.306Z"
   },
   {
    "duration": 28,
    "start_time": "2022-01-28T08:35:08.360Z"
   },
   {
    "duration": 3,
    "start_time": "2022-01-28T08:35:08.390Z"
   },
   {
    "duration": 23,
    "start_time": "2022-01-28T08:35:08.394Z"
   },
   {
    "duration": 10,
    "start_time": "2022-01-28T08:35:08.418Z"
   },
   {
    "duration": 36,
    "start_time": "2022-01-28T08:35:08.429Z"
   },
   {
    "duration": 11,
    "start_time": "2022-01-28T08:35:08.467Z"
   },
   {
    "duration": 11,
    "start_time": "2022-01-28T08:35:08.479Z"
   },
   {
    "duration": 23,
    "start_time": "2022-01-28T08:35:08.492Z"
   },
   {
    "duration": 18,
    "start_time": "2022-01-28T08:35:08.517Z"
   },
   {
    "duration": 9,
    "start_time": "2022-01-28T08:35:08.561Z"
   },
   {
    "duration": 9,
    "start_time": "2022-01-28T08:35:08.572Z"
   },
   {
    "duration": 13,
    "start_time": "2022-01-28T08:35:08.582Z"
   },
   {
    "duration": 27,
    "start_time": "2022-01-28T08:35:08.597Z"
   },
   {
    "duration": 43,
    "start_time": "2022-01-28T08:35:08.626Z"
   },
   {
    "duration": 16,
    "start_time": "2022-01-28T08:35:08.671Z"
   },
   {
    "duration": 19,
    "start_time": "2022-01-28T08:35:08.689Z"
   },
   {
    "duration": 6,
    "start_time": "2022-01-28T08:35:08.709Z"
   },
   {
    "duration": 5,
    "start_time": "2022-01-28T08:35:08.716Z"
   },
   {
    "duration": 9,
    "start_time": "2022-01-28T08:35:08.723Z"
   },
   {
    "duration": 13,
    "start_time": "2022-01-28T08:35:08.761Z"
   },
   {
    "duration": 33,
    "start_time": "2022-01-28T08:35:08.776Z"
   },
   {
    "duration": 3,
    "start_time": "2022-01-28T08:35:08.811Z"
   },
   {
    "duration": 14,
    "start_time": "2022-01-28T08:35:08.816Z"
   },
   {
    "duration": 35178,
    "start_time": "2022-01-28T08:35:08.832Z"
   },
   {
    "duration": 17,
    "start_time": "2022-01-28T08:35:44.012Z"
   },
   {
    "duration": 262,
    "start_time": "2022-01-28T08:35:44.031Z"
   },
   {
    "duration": 1328,
    "start_time": "2022-01-28T08:35:44.295Z"
   },
   {
    "duration": 2,
    "start_time": "2022-01-28T08:35:45.625Z"
   },
   {
    "duration": 14,
    "start_time": "2022-01-28T08:35:45.631Z"
   },
   {
    "duration": 1729,
    "start_time": "2022-01-28T08:35:45.647Z"
   },
   {
    "duration": 19,
    "start_time": "2022-01-28T08:35:47.378Z"
   },
   {
    "duration": 43,
    "start_time": "2022-01-28T08:35:47.398Z"
   },
   {
    "duration": 20,
    "start_time": "2022-01-28T08:35:47.443Z"
   },
   {
    "duration": 41,
    "start_time": "2022-01-28T08:35:47.465Z"
   },
   {
    "duration": 79,
    "start_time": "2022-01-28T11:26:41.322Z"
   },
   {
    "duration": 3,
    "start_time": "2022-01-28T11:26:41.403Z"
   },
   {
    "duration": 44,
    "start_time": "2022-01-28T11:26:41.408Z"
   },
   {
    "duration": 26,
    "start_time": "2022-01-28T11:26:41.454Z"
   },
   {
    "duration": 12,
    "start_time": "2022-01-28T11:26:41.482Z"
   },
   {
    "duration": 31,
    "start_time": "2022-01-28T11:26:41.496Z"
   },
   {
    "duration": 20,
    "start_time": "2022-01-28T11:26:41.529Z"
   },
   {
    "duration": 35,
    "start_time": "2022-01-28T11:26:41.552Z"
   },
   {
    "duration": 29,
    "start_time": "2022-01-28T11:26:41.589Z"
   },
   {
    "duration": 15,
    "start_time": "2022-01-28T11:26:41.620Z"
   },
   {
    "duration": 101,
    "start_time": "2022-01-28T11:26:41.637Z"
   },
   {
    "duration": 32,
    "start_time": "2022-01-28T11:26:41.740Z"
   },
   {
    "duration": 36,
    "start_time": "2022-01-28T11:26:41.774Z"
   },
   {
    "duration": 45,
    "start_time": "2022-01-28T11:26:41.812Z"
   },
   {
    "duration": 21,
    "start_time": "2022-01-28T11:26:41.859Z"
   },
   {
    "duration": 39,
    "start_time": "2022-01-28T11:26:41.883Z"
   },
   {
    "duration": 14,
    "start_time": "2022-01-28T11:26:41.924Z"
   },
   {
    "duration": 14,
    "start_time": "2022-01-28T11:26:41.940Z"
   },
   {
    "duration": 26,
    "start_time": "2022-01-28T11:26:41.956Z"
   },
   {
    "duration": 23,
    "start_time": "2022-01-28T11:26:41.984Z"
   },
   {
    "duration": 20,
    "start_time": "2022-01-28T11:26:42.009Z"
   },
   {
    "duration": 63,
    "start_time": "2022-01-28T11:26:42.031Z"
   },
   {
    "duration": 21,
    "start_time": "2022-01-28T11:26:42.097Z"
   },
   {
    "duration": 27,
    "start_time": "2022-01-28T11:26:42.121Z"
   },
   {
    "duration": 28,
    "start_time": "2022-01-28T11:26:42.150Z"
   },
   {
    "duration": 29,
    "start_time": "2022-01-28T11:26:42.180Z"
   },
   {
    "duration": 41,
    "start_time": "2022-01-28T11:26:42.211Z"
   },
   {
    "duration": 13,
    "start_time": "2022-01-28T11:26:42.254Z"
   },
   {
    "duration": 9,
    "start_time": "2022-01-28T11:26:42.268Z"
   },
   {
    "duration": 9,
    "start_time": "2022-01-28T11:26:42.278Z"
   },
   {
    "duration": 22,
    "start_time": "2022-01-28T11:26:42.289Z"
   },
   {
    "duration": 27,
    "start_time": "2022-01-28T11:26:42.313Z"
   },
   {
    "duration": 20,
    "start_time": "2022-01-28T11:26:42.343Z"
   },
   {
    "duration": 27,
    "start_time": "2022-01-28T11:26:42.365Z"
   },
   {
    "duration": 18,
    "start_time": "2022-01-28T11:26:42.394Z"
   },
   {
    "duration": 28,
    "start_time": "2022-01-28T11:26:42.415Z"
   },
   {
    "duration": 29,
    "start_time": "2022-01-28T11:26:42.445Z"
   },
   {
    "duration": 24,
    "start_time": "2022-01-28T11:26:42.476Z"
   },
   {
    "duration": 30,
    "start_time": "2022-01-28T11:26:42.502Z"
   },
   {
    "duration": 60,
    "start_time": "2022-01-28T11:26:42.534Z"
   },
   {
    "duration": 4,
    "start_time": "2022-01-28T11:26:42.596Z"
   },
   {
    "duration": 60,
    "start_time": "2022-01-28T11:26:42.602Z"
   },
   {
    "duration": 21,
    "start_time": "2022-01-28T11:26:42.664Z"
   },
   {
    "duration": 34,
    "start_time": "2022-01-28T11:26:42.687Z"
   },
   {
    "duration": 20,
    "start_time": "2022-01-28T11:26:42.723Z"
   },
   {
    "duration": 11,
    "start_time": "2022-01-28T11:26:42.745Z"
   },
   {
    "duration": 18,
    "start_time": "2022-01-28T11:26:42.758Z"
   },
   {
    "duration": 17,
    "start_time": "2022-01-28T11:26:42.777Z"
   },
   {
    "duration": 8,
    "start_time": "2022-01-28T11:26:42.796Z"
   },
   {
    "duration": 8,
    "start_time": "2022-01-28T11:26:42.806Z"
   },
   {
    "duration": 54,
    "start_time": "2022-01-28T11:26:42.815Z"
   },
   {
    "duration": 28,
    "start_time": "2022-01-28T11:26:42.871Z"
   },
   {
    "duration": 168,
    "start_time": "2022-01-28T11:26:42.901Z"
   },
   {
    "duration": 19,
    "start_time": "2022-01-28T11:26:43.071Z"
   },
   {
    "duration": 18,
    "start_time": "2022-01-28T11:26:43.092Z"
   },
   {
    "duration": 3,
    "start_time": "2022-01-28T11:26:43.112Z"
   },
   {
    "duration": 5,
    "start_time": "2022-01-28T11:26:43.117Z"
   },
   {
    "duration": 42,
    "start_time": "2022-01-28T11:26:43.123Z"
   },
   {
    "duration": 13,
    "start_time": "2022-01-28T11:26:43.167Z"
   },
   {
    "duration": 34,
    "start_time": "2022-01-28T11:26:43.181Z"
   },
   {
    "duration": 4,
    "start_time": "2022-01-28T11:26:43.217Z"
   },
   {
    "duration": 48,
    "start_time": "2022-01-28T11:26:43.223Z"
   }
  ],
  "kernelspec": {
   "display_name": "Python 3",
   "language": "python",
   "name": "python3"
  },
  "language_info": {
   "codemirror_mode": {
    "name": "ipython",
    "version": 3
   },
   "file_extension": ".py",
   "mimetype": "text/x-python",
   "name": "python",
   "nbconvert_exporter": "python",
   "pygments_lexer": "ipython3",
   "version": "3.7.8"
  },
  "toc": {
   "base_numbering": 1,
   "nav_menu": {},
   "number_sections": true,
   "sideBar": true,
   "skip_h1_title": true,
   "title_cell": "Table of Contents",
   "title_sidebar": "Contents",
   "toc_cell": false,
   "toc_position": {
    "height": "calc(100% - 180px)",
    "left": "10px",
    "top": "150px",
    "width": "384px"
   },
   "toc_section_display": true,
   "toc_window_display": false
  }
 },
 "nbformat": 4,
 "nbformat_minor": 2
}
